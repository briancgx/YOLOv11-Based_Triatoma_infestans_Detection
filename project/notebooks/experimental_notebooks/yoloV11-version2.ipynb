{
  "cells": [
    {
      "cell_type": "code",
      "execution_count": null,
      "metadata": {
        "colab": {
          "base_uri": "https://localhost:8080/"
        },
        "id": "G4rNQuHLGhB9",
        "outputId": "88b40aaf-c2da-457a-a42f-68eb60d4c147"
      },
      "outputs": [
        {
          "output_type": "stream",
          "name": "stdout",
          "text": [
            "Archivo extraído correctamente en: /content/extracted_files\n",
            "extracted_files/\n",
            "    README.dataset.txt\n",
            "    data.yaml\n",
            "    README.roboflow.txt\n",
            "    valid/\n",
            "        imagen_193_jpg.rf.fdfd74aff2f7480debe3782e96ad30c2.jpg\n",
            "        Assassin_bug_-15628843486-_jpg.rf.5b84a2031a361c75c5be753e28a54065.jpg\n",
            "        cimex-lectularius-chagas_jpg.rf.95c8c1c75353c75adceb9afb574fb3fa.jpg\n",
            "        images-10-_jpg.rf.0ebe6d3152fa0de96027ad6febd00c7d.jpg\n",
            "        15_jpg.rf.de8776f03a0c18d2a189c648440341a3.jpg\n",
            "        imagen_29_jpg.rf.b94a681512496c9210a6bec700af88c7.jpg\n",
            "        7_jpg.rf.81d15a8fd8aaeeec9801a1968815255a.jpg\n",
            "        imagen_234_jpg.rf.e34441cb8a5b6c097e454359c6c9157a.jpg\n",
            "        Spiny_Assassin_Bug_-31710440961-_jpg.rf.7be913a3f137b1a271d9868fd36e72c6.jpg\n",
            "        aranaaa_webp.rf.d259d9da966df774346262764671435e.jpg\n",
            "        garrapatas_blandas_26694_5_600_jpg.rf.b99249e2354a0e2743c0e42a5e5e0bf2.jpg\n",
            "        imagen_15_jpg.rf.c3b43bf85cd0ca7f0b7eb4305ed16a01.jpg\n",
            "        29_jpg.rf.1db68b941e9467df527d76f66fa2279b.jpg\n",
            "        imagen_2_jpg.rf.39fdf2e5e2c5da4c3ce5127983602517.jpg\n",
            "        63aad350421e9_webp.rf.4508e070b7e5c02a68b99f93127e5ee4.jpg\n",
            "        imagen_131_jpg.rf.4aeecb1c5b6ea90e42903586518c5082.jpg\n",
            "        imagen_216_jpg.rf.2916260c92e124319666537980e0acdc.jpg\n",
            "        imagen_22_jpg.rf.03554bb84725ec8274d2d8bb165ed037.jpg\n",
            "        chinche4_jpg.rf.955e147b65c45c5ad5cf0aa12752651d.jpg\n",
            "        Leptoglossus_brevirostris-1-_Michael_Merchant-thumb_jpg.rf.3ce70c4411d81b9bece9f27f37379db8.jpg\n",
            "        escarabajo-4-uno_webp.rf.9db5a5a432f98e5b3a475ffd926f6279.jpg\n",
            "        garrapata6_jpg.rf.b9a406a30c50cd01ed58a3228adae28b.jpg\n",
            "        chinche3_jpg.rf.ddac11ab28b50211e2da841e75f0ed45.jpg\n",
            "        imagen_194_jpg.rf.904ef55a3cec23b2b9bd10f40fa550ee.jpg\n",
            "        imagen_14_jpg.rf.74dc089e701024412edc3066f477bfe7.jpg\n",
            "        images-4-_jpg.rf.230596c33a2c693c8c8589d4d769272f.jpg\n",
            "        imagen_222_jpg.rf.2f436a2ced780d19de6a4268273e767e.jpg\n",
            "        chinche_jpg.rf.edeb443d23e30f895770056d90a03cd2.jpg\n",
            "        images-9-_jpg.rf.3a686492c70145a75316b41b1b96bd2f.jpg\n",
            "        chinche15_png.rf.ccd93d76a84056a05af5701f9b46d980.jpg\n",
            "        640px-Orange_Assassin_Bug_in_Cotton_jpg.rf.66187df12816a223b4ca00a1f9f3ff5f.jpg\n",
            "        imagen_124_jpg.rf.d6c8ee5397b01fc82a6233f4a5f606a4.jpg\n",
            "        imagen_213_jpg.rf.d893adf58204552d576309590d5fe629.jpg\n",
            "        cuca_800X500_jpg.rf.caddf9a6880895efbd776adeca08dcd7.jpg\n",
            "        imagen_59_jpg.rf.1c468b4234f44f6856302da7b102e820.jpg\n",
            "        Assassin_bug-_genus_Zelus_at_Spring_Garden_natural_area_in_Windsor-_Ontario_-30103731584-_jpg.rf.d327e8036a4838b40d98a2f05e4e0192.jpg\n",
            "        CockroachPestSolutions_edited1_avif.rf.70de75dca59aea805f0e1a0703e6e4f4.jpg\n",
            "        imagen_202_jpg.rf.dfcfc7da5b5b1157e801936a853e2adb.jpg\n",
            "        imagen_167_jpg.rf.9e8e081f44239db33bd6cd10e8efff48.jpg\n",
            "        24_jpg.rf.e5a7dbc37a84eee064740a3abbc1ea25.jpg\n",
            "        imagen_161_jpg.rf.c427f4035dfe62b965e820902d125ad3.jpg\n",
            "        chinche1_jpg.rf.836089bbdaf2d2c493885b18d9012259.jpg\n",
            "        chinche9_jpg.rf.b8d034b64d9f0f5f8c3753e266dceb5c.jpg\n",
            "        33_jpg.rf.561a2e21ff74308fe71566bb4dd1be36.jpg\n",
            "        garrapata12_jpg.rf.cf1fe01e96c3c5ab23cf5414848fbea1.jpg\n",
            "        lll_jpg.rf.8dcc2e765fcab97713d95eeb67b656ea.jpg\n",
            "        Red_Assassin_Bug_Antilochus_coquebertii_-7913464824-_jpg.rf.cff9bd0d8ee0941b3da27d625403fab9.jpg\n",
            "        imagen_27_jpg.rf.44775b1c6a5e91cd55d5f5e57a3f42b8.jpg\n",
            "        cucarachas-voladoras-mexico_jpg.rf.0bc73644f54bbc061c6d57562871ff72.jpg\n",
            "        imagen_332_jpg.rf.288886aa34f4c2aa4ee5de1157a7f4de.jpg\n",
            "        imagen_98_jpg.rf.0a1c36dede6bdde638c8c09e15cc2ab1.jpg\n",
            "        images-5-_jpg.rf.cc26db00b58de7ea65e614b48cbc7b2a.jpg\n",
            "        34_jpg.rf.ddf24f0f394234178880dc2e9125f659.jpg\n",
            "        White-Eyed_Assassin_Bug_with_prey_jpg.rf.0afd2234e363eb338a1b9c741fc6e634.jpg\n",
            "        descarga-15_jpg.rf.9d93ef2e3a57f8b11f5b1ad549b5e378.jpg\n",
            "        WhatsApp-Image-2024-07-11-at-2-26-14-PM_webp.rf.dc51c8207987959cb27f232d1ce7bb4e.jpg\n",
            "        14_png.rf.ec7f4c97198503b2838aed375befb47f.jpg\n",
            "        898956-nota-cucarachas-foto-4-2-_jpg.rf.fe3812815fb4bbc62b88bee33eb351a7.jpg\n",
            "        11_jpg.rf.bd38c788900f2bbd331a53eb97d16a87.jpg\n",
            "        imagen_153_jpg.rf.008099cd454bf9618685b06955d38e0e.jpg\n",
            "        si-a-mi-hijo-le-pico-una-arana-sintomas-como-saber-1-scaled_jpg.rf.fbc7a7aba1cec5eb1db8f05c6f02e274.jpg\n",
            "        imagen_66_jpg.rf.1c8d3d9e5bb8e2fa99f11d5e01567de3.jpg\n",
            "        imagen_181_jpg.rf.3c72c7b9d9b2eae497cc9140fa4aa93b.jpg\n",
            "        imagen_239_jpg.rf.ae39726ff98c5ec28503ff997b1cd079.jpg\n",
            "        imagen_223_jpg.rf.fb3799d3139879ff8dbe7ac6bf22c9ae.jpg\n",
            "        imagen_224_jpg.rf.7bff1192818ce55169a15bf7699b71af.jpg\n",
            "        chinche23_jpg.rf.ff8cfa1446591ceffe622785c280199e.jpg\n",
            "        garrapata14_png.rf.e039299577a0d47558e02f1999b63509.jpg\n",
            "        imagen_176_jpg.rf.3f630985fd44a4c7aaedc8affd89accc.jpg\n",
            "        30_jpg.rf.f46c99d88d41d0970277abd911941f35.jpg\n",
            "        36_jpg.rf.86a17b13d868113acd0a8b7974683731.jpg\n",
            "        16_jpg.rf.3dcfbc61a8aa4db03fda49718f02f40e.jpg\n",
            "        40_jpg.rf.6a0f16564da98958e17e3f23dd073207.jpg\n",
            "        imagen_268_jpg.rf.efa9a4ec6a11fb965d4b239bb31b7b50.jpg\n",
            "        garrapata11_jpg.rf.e900be0edef6546e494e5df9082b683a.jpg\n",
            "        imagen_165_jpg.rf.171ec69f56ca4d85455966a86e470dab.jpg\n",
            "        arana5_jpg.rf.6fc71629fd08073ad34ec556ca1b1371.jpg\n",
            "        imagen_174_jpg.rf.dcf4e0d1c9c717e7a5cf0c1e17b879f4.jpg\n",
            "        Arana_de_la_cruz_Araneus_quadratus_webp.rf.292344c3dbfea11714b4c18fe2ebaa5b.jpg\n",
            "        21_jpg.rf.c5ba3886a7875a8a74a3f863b3fb1a28.jpg\n",
            "        imagen_11_jpg.rf.3cbde5a39f93302eceb0538b00786d3f.jpg\n",
            "        small-1-_jpg.rf.b99b2871267d37e55695c65afd6d9b22.jpg\n",
            "        chinche-asiatica-plaga-1_jpg.rf.0059c4920ce995c01d89af935ed9e57f.jpg\n",
            "        garrapata8_jpg.rf.ab220e128be9982dd9fa29fea0391957.jpg\n",
            "        640px-Assassin_Bug_Nymph-_-_Wheel_or_Monkey_Bug-_Arilus_cristatus_-37381220834-_jpg.rf.e15d8dacfd10ae6851df91aea4b563b7.jpg\n",
            "        Elm-Bark-Beetle_png.rf.081e6ef23d34f22cf34867f76a392d3a.jpg\n",
            "        escarabajo-de-longhorn-rojo-hembra-leptura-rubra-sobre-corteza-pino-en-foto-macro-182103069_webp.rf.3f4285b9583a28fc4063fda54cd97695.jpg\n",
            "        imagen_210_jpg.rf.26d98a1d96f99c802da6a8b75105d065.jpg\n",
            "        Ponometia_erastrioides_P1070846a_jpg.rf.1c7a8a31de9f81077d35c9b90538e8f3.jpg\n",
            "        chinche14_jpg.rf.75e591d692cf3602f947780201c8bde4.jpg\n",
            "        imagen_89_jpg.rf.0ca74e2ad872860a9a51b89092a6055b.jpg\n",
            "        6_png.rf.5b6a049f94cdfa62b08b650ad2379ccb.jpg\n",
            "        small_jpg.rf.da49efe3783c895b1380ee1b43c34e42.jpg\n",
            "        images/\n",
            "            imagen_193_jpg.rf.fdfd74aff2f7480debe3782e96ad30c2.jpg\n",
            "            Assassin_bug_-15628843486-_jpg.rf.5b84a2031a361c75c5be753e28a54065.jpg\n",
            "            cimex-lectularius-chagas_jpg.rf.95c8c1c75353c75adceb9afb574fb3fa.jpg\n",
            "            images-10-_jpg.rf.0ebe6d3152fa0de96027ad6febd00c7d.jpg\n",
            "            15_jpg.rf.de8776f03a0c18d2a189c648440341a3.jpg\n",
            "            imagen_29_jpg.rf.b94a681512496c9210a6bec700af88c7.jpg\n",
            "            7_jpg.rf.81d15a8fd8aaeeec9801a1968815255a.jpg\n",
            "            imagen_234_jpg.rf.e34441cb8a5b6c097e454359c6c9157a.jpg\n",
            "            Spiny_Assassin_Bug_-31710440961-_jpg.rf.7be913a3f137b1a271d9868fd36e72c6.jpg\n",
            "            aranaaa_webp.rf.d259d9da966df774346262764671435e.jpg\n",
            "            garrapatas_blandas_26694_5_600_jpg.rf.b99249e2354a0e2743c0e42a5e5e0bf2.jpg\n",
            "            imagen_15_jpg.rf.c3b43bf85cd0ca7f0b7eb4305ed16a01.jpg\n",
            "            29_jpg.rf.1db68b941e9467df527d76f66fa2279b.jpg\n",
            "            imagen_2_jpg.rf.39fdf2e5e2c5da4c3ce5127983602517.jpg\n",
            "            63aad350421e9_webp.rf.4508e070b7e5c02a68b99f93127e5ee4.jpg\n",
            "            imagen_131_jpg.rf.4aeecb1c5b6ea90e42903586518c5082.jpg\n",
            "            imagen_216_jpg.rf.2916260c92e124319666537980e0acdc.jpg\n",
            "            imagen_22_jpg.rf.03554bb84725ec8274d2d8bb165ed037.jpg\n",
            "            chinche4_jpg.rf.955e147b65c45c5ad5cf0aa12752651d.jpg\n",
            "            Leptoglossus_brevirostris-1-_Michael_Merchant-thumb_jpg.rf.3ce70c4411d81b9bece9f27f37379db8.jpg\n",
            "            escarabajo-4-uno_webp.rf.9db5a5a432f98e5b3a475ffd926f6279.jpg\n",
            "            garrapata6_jpg.rf.b9a406a30c50cd01ed58a3228adae28b.jpg\n",
            "            chinche3_jpg.rf.ddac11ab28b50211e2da841e75f0ed45.jpg\n",
            "            imagen_194_jpg.rf.904ef55a3cec23b2b9bd10f40fa550ee.jpg\n",
            "            imagen_14_jpg.rf.74dc089e701024412edc3066f477bfe7.jpg\n",
            "            images-4-_jpg.rf.230596c33a2c693c8c8589d4d769272f.jpg\n",
            "            imagen_222_jpg.rf.2f436a2ced780d19de6a4268273e767e.jpg\n",
            "            chinche_jpg.rf.edeb443d23e30f895770056d90a03cd2.jpg\n",
            "            images-9-_jpg.rf.3a686492c70145a75316b41b1b96bd2f.jpg\n",
            "            chinche15_png.rf.ccd93d76a84056a05af5701f9b46d980.jpg\n",
            "            640px-Orange_Assassin_Bug_in_Cotton_jpg.rf.66187df12816a223b4ca00a1f9f3ff5f.jpg\n",
            "            imagen_124_jpg.rf.d6c8ee5397b01fc82a6233f4a5f606a4.jpg\n",
            "            imagen_213_jpg.rf.d893adf58204552d576309590d5fe629.jpg\n",
            "            cuca_800X500_jpg.rf.caddf9a6880895efbd776adeca08dcd7.jpg\n",
            "            imagen_59_jpg.rf.1c468b4234f44f6856302da7b102e820.jpg\n",
            "            Assassin_bug-_genus_Zelus_at_Spring_Garden_natural_area_in_Windsor-_Ontario_-30103731584-_jpg.rf.d327e8036a4838b40d98a2f05e4e0192.jpg\n",
            "            CockroachPestSolutions_edited1_avif.rf.70de75dca59aea805f0e1a0703e6e4f4.jpg\n",
            "            imagen_202_jpg.rf.dfcfc7da5b5b1157e801936a853e2adb.jpg\n",
            "            imagen_167_jpg.rf.9e8e081f44239db33bd6cd10e8efff48.jpg\n",
            "            24_jpg.rf.e5a7dbc37a84eee064740a3abbc1ea25.jpg\n",
            "            imagen_161_jpg.rf.c427f4035dfe62b965e820902d125ad3.jpg\n",
            "            chinche1_jpg.rf.836089bbdaf2d2c493885b18d9012259.jpg\n",
            "            chinche9_jpg.rf.b8d034b64d9f0f5f8c3753e266dceb5c.jpg\n",
            "            33_jpg.rf.561a2e21ff74308fe71566bb4dd1be36.jpg\n",
            "            garrapata12_jpg.rf.cf1fe01e96c3c5ab23cf5414848fbea1.jpg\n",
            "            lll_jpg.rf.8dcc2e765fcab97713d95eeb67b656ea.jpg\n",
            "            Red_Assassin_Bug_Antilochus_coquebertii_-7913464824-_jpg.rf.cff9bd0d8ee0941b3da27d625403fab9.jpg\n",
            "            imagen_27_jpg.rf.44775b1c6a5e91cd55d5f5e57a3f42b8.jpg\n",
            "            cucarachas-voladoras-mexico_jpg.rf.0bc73644f54bbc061c6d57562871ff72.jpg\n",
            "            imagen_332_jpg.rf.288886aa34f4c2aa4ee5de1157a7f4de.jpg\n",
            "            imagen_98_jpg.rf.0a1c36dede6bdde638c8c09e15cc2ab1.jpg\n",
            "            images-5-_jpg.rf.cc26db00b58de7ea65e614b48cbc7b2a.jpg\n",
            "            34_jpg.rf.ddf24f0f394234178880dc2e9125f659.jpg\n",
            "            White-Eyed_Assassin_Bug_with_prey_jpg.rf.0afd2234e363eb338a1b9c741fc6e634.jpg\n",
            "            descarga-15_jpg.rf.9d93ef2e3a57f8b11f5b1ad549b5e378.jpg\n",
            "            WhatsApp-Image-2024-07-11-at-2-26-14-PM_webp.rf.dc51c8207987959cb27f232d1ce7bb4e.jpg\n",
            "            14_png.rf.ec7f4c97198503b2838aed375befb47f.jpg\n",
            "            898956-nota-cucarachas-foto-4-2-_jpg.rf.fe3812815fb4bbc62b88bee33eb351a7.jpg\n",
            "            11_jpg.rf.bd38c788900f2bbd331a53eb97d16a87.jpg\n",
            "            imagen_153_jpg.rf.008099cd454bf9618685b06955d38e0e.jpg\n",
            "            si-a-mi-hijo-le-pico-una-arana-sintomas-como-saber-1-scaled_jpg.rf.fbc7a7aba1cec5eb1db8f05c6f02e274.jpg\n",
            "            imagen_66_jpg.rf.1c8d3d9e5bb8e2fa99f11d5e01567de3.jpg\n",
            "            imagen_181_jpg.rf.3c72c7b9d9b2eae497cc9140fa4aa93b.jpg\n",
            "            imagen_239_jpg.rf.ae39726ff98c5ec28503ff997b1cd079.jpg\n",
            "            imagen_223_jpg.rf.fb3799d3139879ff8dbe7ac6bf22c9ae.jpg\n",
            "            imagen_224_jpg.rf.7bff1192818ce55169a15bf7699b71af.jpg\n",
            "            chinche23_jpg.rf.ff8cfa1446591ceffe622785c280199e.jpg\n",
            "            garrapata14_png.rf.e039299577a0d47558e02f1999b63509.jpg\n",
            "            imagen_176_jpg.rf.3f630985fd44a4c7aaedc8affd89accc.jpg\n",
            "            30_jpg.rf.f46c99d88d41d0970277abd911941f35.jpg\n",
            "            36_jpg.rf.86a17b13d868113acd0a8b7974683731.jpg\n",
            "            16_jpg.rf.3dcfbc61a8aa4db03fda49718f02f40e.jpg\n",
            "            40_jpg.rf.6a0f16564da98958e17e3f23dd073207.jpg\n",
            "            imagen_268_jpg.rf.efa9a4ec6a11fb965d4b239bb31b7b50.jpg\n",
            "            garrapata11_jpg.rf.e900be0edef6546e494e5df9082b683a.jpg\n",
            "            imagen_165_jpg.rf.171ec69f56ca4d85455966a86e470dab.jpg\n",
            "            arana5_jpg.rf.6fc71629fd08073ad34ec556ca1b1371.jpg\n",
            "            imagen_174_jpg.rf.dcf4e0d1c9c717e7a5cf0c1e17b879f4.jpg\n",
            "            Arana_de_la_cruz_Araneus_quadratus_webp.rf.292344c3dbfea11714b4c18fe2ebaa5b.jpg\n",
            "            21_jpg.rf.c5ba3886a7875a8a74a3f863b3fb1a28.jpg\n",
            "            imagen_11_jpg.rf.3cbde5a39f93302eceb0538b00786d3f.jpg\n",
            "            small-1-_jpg.rf.b99b2871267d37e55695c65afd6d9b22.jpg\n",
            "            chinche-asiatica-plaga-1_jpg.rf.0059c4920ce995c01d89af935ed9e57f.jpg\n",
            "            garrapata8_jpg.rf.ab220e128be9982dd9fa29fea0391957.jpg\n",
            "            640px-Assassin_Bug_Nymph-_-_Wheel_or_Monkey_Bug-_Arilus_cristatus_-37381220834-_jpg.rf.e15d8dacfd10ae6851df91aea4b563b7.jpg\n",
            "            Elm-Bark-Beetle_png.rf.081e6ef23d34f22cf34867f76a392d3a.jpg\n",
            "            escarabajo-de-longhorn-rojo-hembra-leptura-rubra-sobre-corteza-pino-en-foto-macro-182103069_webp.rf.3f4285b9583a28fc4063fda54cd97695.jpg\n",
            "            imagen_210_jpg.rf.26d98a1d96f99c802da6a8b75105d065.jpg\n",
            "            Ponometia_erastrioides_P1070846a_jpg.rf.1c7a8a31de9f81077d35c9b90538e8f3.jpg\n",
            "            chinche14_jpg.rf.75e591d692cf3602f947780201c8bde4.jpg\n",
            "            imagen_89_jpg.rf.0ca74e2ad872860a9a51b89092a6055b.jpg\n",
            "            6_png.rf.5b6a049f94cdfa62b08b650ad2379ccb.jpg\n",
            "            small_jpg.rf.da49efe3783c895b1380ee1b43c34e42.jpg\n",
            "        labels/\n",
            "            Spiny_Assassin_Bug_-31710440961-_jpg.rf.7be913a3f137b1a271d9868fd36e72c6.txt\n",
            "            33_jpg.rf.561a2e21ff74308fe71566bb4dd1be36.txt\n",
            "            898956-nota-cucarachas-foto-4-2-_jpg.rf.fe3812815fb4bbc62b88bee33eb351a7.txt\n",
            "            chinche4_jpg.rf.955e147b65c45c5ad5cf0aa12752651d.txt\n",
            "            36_jpg.rf.86a17b13d868113acd0a8b7974683731.txt\n",
            "            cucarachas-voladoras-mexico_jpg.rf.0bc73644f54bbc061c6d57562871ff72.txt\n",
            "            imagen_2_jpg.rf.39fdf2e5e2c5da4c3ce5127983602517.txt\n",
            "            imagen_234_jpg.rf.e34441cb8a5b6c097e454359c6c9157a.txt\n",
            "            descarga-15_jpg.rf.9d93ef2e3a57f8b11f5b1ad549b5e378.txt\n",
            "            si-a-mi-hijo-le-pico-una-arana-sintomas-como-saber-1-scaled_jpg.rf.fbc7a7aba1cec5eb1db8f05c6f02e274.txt\n",
            "            cimex-lectularius-chagas_jpg.rf.95c8c1c75353c75adceb9afb574fb3fa.txt\n",
            "            imagen_222_jpg.rf.2f436a2ced780d19de6a4268273e767e.txt\n",
            "            imagen_59_jpg.rf.1c468b4234f44f6856302da7b102e820.txt\n",
            "            7_jpg.rf.81d15a8fd8aaeeec9801a1968815255a.txt\n",
            "            garrapata11_jpg.rf.e900be0edef6546e494e5df9082b683a.txt\n",
            "            WhatsApp-Image-2024-07-11-at-2-26-14-PM_webp.rf.dc51c8207987959cb27f232d1ce7bb4e.txt\n",
            "            imagen_89_jpg.rf.0ca74e2ad872860a9a51b89092a6055b.txt\n",
            "            CockroachPestSolutions_edited1_avif.rf.70de75dca59aea805f0e1a0703e6e4f4.txt\n",
            "            imagen_239_jpg.rf.ae39726ff98c5ec28503ff997b1cd079.txt\n",
            "            imagen_223_jpg.rf.fb3799d3139879ff8dbe7ac6bf22c9ae.txt\n",
            "            imagen_27_jpg.rf.44775b1c6a5e91cd55d5f5e57a3f42b8.txt\n",
            "            White-Eyed_Assassin_Bug_with_prey_jpg.rf.0afd2234e363eb338a1b9c741fc6e634.txt\n",
            "            Assassin_bug_-15628843486-_jpg.rf.5b84a2031a361c75c5be753e28a54065.txt\n",
            "            imagen_332_jpg.rf.288886aa34f4c2aa4ee5de1157a7f4de.txt\n",
            "            imagen_22_jpg.rf.03554bb84725ec8274d2d8bb165ed037.txt\n",
            "            chinche-asiatica-plaga-1_jpg.rf.0059c4920ce995c01d89af935ed9e57f.txt\n",
            "            images-9-_jpg.rf.3a686492c70145a75316b41b1b96bd2f.txt\n",
            "            arana5_jpg.rf.6fc71629fd08073ad34ec556ca1b1371.txt\n",
            "            15_jpg.rf.de8776f03a0c18d2a189c648440341a3.txt\n",
            "            escarabajo-de-longhorn-rojo-hembra-leptura-rubra-sobre-corteza-pino-en-foto-macro-182103069_webp.rf.3f4285b9583a28fc4063fda54cd97695.txt\n",
            "            imagen_167_jpg.rf.9e8e081f44239db33bd6cd10e8efff48.txt\n",
            "            imagen_181_jpg.rf.3c72c7b9d9b2eae497cc9140fa4aa93b.txt\n",
            "            images-10-_jpg.rf.0ebe6d3152fa0de96027ad6febd00c7d.txt\n",
            "            Elm-Bark-Beetle_png.rf.081e6ef23d34f22cf34867f76a392d3a.txt\n",
            "            16_jpg.rf.3dcfbc61a8aa4db03fda49718f02f40e.txt\n",
            "            imagen_15_jpg.rf.c3b43bf85cd0ca7f0b7eb4305ed16a01.txt\n",
            "            21_jpg.rf.c5ba3886a7875a8a74a3f863b3fb1a28.txt\n",
            "            Leptoglossus_brevirostris-1-_Michael_Merchant-thumb_jpg.rf.3ce70c4411d81b9bece9f27f37379db8.txt\n",
            "            imagen_202_jpg.rf.dfcfc7da5b5b1157e801936a853e2adb.txt\n",
            "            imagen_176_jpg.rf.3f630985fd44a4c7aaedc8affd89accc.txt\n",
            "            escarabajo-4-uno_webp.rf.9db5a5a432f98e5b3a475ffd926f6279.txt\n",
            "            40_jpg.rf.6a0f16564da98958e17e3f23dd073207.txt\n",
            "            imagen_213_jpg.rf.d893adf58204552d576309590d5fe629.txt\n",
            "            63aad350421e9_webp.rf.4508e070b7e5c02a68b99f93127e5ee4.txt\n",
            "            imagen_14_jpg.rf.74dc089e701024412edc3066f477bfe7.txt\n",
            "            cuca_800X500_jpg.rf.caddf9a6880895efbd776adeca08dcd7.txt\n",
            "            Ponometia_erastrioides_P1070846a_jpg.rf.1c7a8a31de9f81077d35c9b90538e8f3.txt\n",
            "            imagen_224_jpg.rf.7bff1192818ce55169a15bf7699b71af.txt\n",
            "            imagen_11_jpg.rf.3cbde5a39f93302eceb0538b00786d3f.txt\n",
            "            Red_Assassin_Bug_Antilochus_coquebertii_-7913464824-_jpg.rf.cff9bd0d8ee0941b3da27d625403fab9.txt\n",
            "            imagen_210_jpg.rf.26d98a1d96f99c802da6a8b75105d065.txt\n",
            "            lll_jpg.rf.8dcc2e765fcab97713d95eeb67b656ea.txt\n",
            "            chinche1_jpg.rf.836089bbdaf2d2c493885b18d9012259.txt\n",
            "            small-1-_jpg.rf.b99b2871267d37e55695c65afd6d9b22.txt\n",
            "            imagen_165_jpg.rf.171ec69f56ca4d85455966a86e470dab.txt\n",
            "            14_png.rf.ec7f4c97198503b2838aed375befb47f.txt\n",
            "            34_jpg.rf.ddf24f0f394234178880dc2e9125f659.txt\n",
            "            11_jpg.rf.bd38c788900f2bbd331a53eb97d16a87.txt\n",
            "            chinche3_jpg.rf.ddac11ab28b50211e2da841e75f0ed45.txt\n",
            "            chinche14_jpg.rf.75e591d692cf3602f947780201c8bde4.txt\n",
            "            24_jpg.rf.e5a7dbc37a84eee064740a3abbc1ea25.txt\n",
            "            29_jpg.rf.1db68b941e9467df527d76f66fa2279b.txt\n",
            "            images-5-_jpg.rf.cc26db00b58de7ea65e614b48cbc7b2a.txt\n",
            "            chinche9_jpg.rf.b8d034b64d9f0f5f8c3753e266dceb5c.txt\n",
            "            Assassin_bug-_genus_Zelus_at_Spring_Garden_natural_area_in_Windsor-_Ontario_-30103731584-_jpg.rf.d327e8036a4838b40d98a2f05e4e0192.txt\n",
            "            chinche_jpg.rf.edeb443d23e30f895770056d90a03cd2.txt\n",
            "            640px-Assassin_Bug_Nymph-_-_Wheel_or_Monkey_Bug-_Arilus_cristatus_-37381220834-_jpg.rf.e15d8dacfd10ae6851df91aea4b563b7.txt\n",
            "            640px-Orange_Assassin_Bug_in_Cotton_jpg.rf.66187df12816a223b4ca00a1f9f3ff5f.txt\n",
            "            30_jpg.rf.f46c99d88d41d0970277abd911941f35.txt\n",
            "            imagen_174_jpg.rf.dcf4e0d1c9c717e7a5cf0c1e17b879f4.txt\n",
            "            chinche23_jpg.rf.ff8cfa1446591ceffe622785c280199e.txt\n",
            "            garrapata12_jpg.rf.cf1fe01e96c3c5ab23cf5414848fbea1.txt\n",
            "            imagen_124_jpg.rf.d6c8ee5397b01fc82a6233f4a5f606a4.txt\n",
            "            aranaaa_webp.rf.d259d9da966df774346262764671435e.txt\n",
            "            small_jpg.rf.da49efe3783c895b1380ee1b43c34e42.txt\n",
            "            6_png.rf.5b6a049f94cdfa62b08b650ad2379ccb.txt\n",
            "            imagen_98_jpg.rf.0a1c36dede6bdde638c8c09e15cc2ab1.txt\n",
            "            chinche15_png.rf.ccd93d76a84056a05af5701f9b46d980.txt\n",
            "            garrapata8_jpg.rf.ab220e128be9982dd9fa29fea0391957.txt\n",
            "            imagen_66_jpg.rf.1c8d3d9e5bb8e2fa99f11d5e01567de3.txt\n",
            "            imagen_131_jpg.rf.4aeecb1c5b6ea90e42903586518c5082.txt\n",
            "            imagen_29_jpg.rf.b94a681512496c9210a6bec700af88c7.txt\n",
            "            imagen_193_jpg.rf.fdfd74aff2f7480debe3782e96ad30c2.txt\n",
            "            Arana_de_la_cruz_Araneus_quadratus_webp.rf.292344c3dbfea11714b4c18fe2ebaa5b.txt\n",
            "            images-4-_jpg.rf.230596c33a2c693c8c8589d4d769272f.txt\n",
            "            imagen_161_jpg.rf.c427f4035dfe62b965e820902d125ad3.txt\n",
            "            imagen_153_jpg.rf.008099cd454bf9618685b06955d38e0e.txt\n",
            "            imagen_194_jpg.rf.904ef55a3cec23b2b9bd10f40fa550ee.txt\n",
            "            imagen_216_jpg.rf.2916260c92e124319666537980e0acdc.txt\n",
            "            imagen_268_jpg.rf.efa9a4ec6a11fb965d4b239bb31b7b50.txt\n",
            "            garrapata6_jpg.rf.b9a406a30c50cd01ed58a3228adae28b.txt\n",
            "            garrapata14_png.rf.e039299577a0d47558e02f1999b63509.txt\n",
            "            garrapatas_blandas_26694_5_600_jpg.rf.b99249e2354a0e2743c0e42a5e5e0bf2.txt\n",
            "    chinche_segmentado.v3i.yolov12 (1)/\n",
            "        README.dataset.txt\n",
            "        data.yaml\n",
            "        README.roboflow.txt\n",
            "        valid/\n",
            "            imagen_193_jpg.rf.fdfd74aff2f7480debe3782e96ad30c2.jpg\n",
            "            Assassin_bug_-15628843486-_jpg.rf.5b84a2031a361c75c5be753e28a54065.jpg\n",
            "            cimex-lectularius-chagas_jpg.rf.95c8c1c75353c75adceb9afb574fb3fa.jpg\n",
            "            images-10-_jpg.rf.0ebe6d3152fa0de96027ad6febd00c7d.jpg\n",
            "            15_jpg.rf.de8776f03a0c18d2a189c648440341a3.jpg\n",
            "            imagen_29_jpg.rf.b94a681512496c9210a6bec700af88c7.jpg\n",
            "            7_jpg.rf.81d15a8fd8aaeeec9801a1968815255a.jpg\n",
            "            imagen_234_jpg.rf.e34441cb8a5b6c097e454359c6c9157a.jpg\n",
            "            Spiny_Assassin_Bug_-31710440961-_jpg.rf.7be913a3f137b1a271d9868fd36e72c6.jpg\n",
            "            aranaaa_webp.rf.d259d9da966df774346262764671435e.jpg\n",
            "            garrapatas_blandas_26694_5_600_jpg.rf.b99249e2354a0e2743c0e42a5e5e0bf2.jpg\n",
            "            imagen_15_jpg.rf.c3b43bf85cd0ca7f0b7eb4305ed16a01.jpg\n",
            "            29_jpg.rf.1db68b941e9467df527d76f66fa2279b.jpg\n",
            "            imagen_2_jpg.rf.39fdf2e5e2c5da4c3ce5127983602517.jpg\n",
            "            63aad350421e9_webp.rf.4508e070b7e5c02a68b99f93127e5ee4.jpg\n",
            "            imagen_131_jpg.rf.4aeecb1c5b6ea90e42903586518c5082.jpg\n",
            "            imagen_216_jpg.rf.2916260c92e124319666537980e0acdc.jpg\n",
            "            imagen_22_jpg.rf.03554bb84725ec8274d2d8bb165ed037.jpg\n",
            "            chinche4_jpg.rf.955e147b65c45c5ad5cf0aa12752651d.jpg\n",
            "            Leptoglossus_brevirostris-1-_Michael_Merchant-thumb_jpg.rf.3ce70c4411d81b9bece9f27f37379db8.jpg\n",
            "            escarabajo-4-uno_webp.rf.9db5a5a432f98e5b3a475ffd926f6279.jpg\n",
            "            garrapata6_jpg.rf.b9a406a30c50cd01ed58a3228adae28b.jpg\n",
            "            chinche3_jpg.rf.ddac11ab28b50211e2da841e75f0ed45.jpg\n",
            "            imagen_194_jpg.rf.904ef55a3cec23b2b9bd10f40fa550ee.jpg\n",
            "            imagen_14_jpg.rf.74dc089e701024412edc3066f477bfe7.jpg\n",
            "            images-4-_jpg.rf.230596c33a2c693c8c8589d4d769272f.jpg\n",
            "            imagen_222_jpg.rf.2f436a2ced780d19de6a4268273e767e.jpg\n",
            "            chinche_jpg.rf.edeb443d23e30f895770056d90a03cd2.jpg\n",
            "            images-9-_jpg.rf.3a686492c70145a75316b41b1b96bd2f.jpg\n",
            "            chinche15_png.rf.ccd93d76a84056a05af5701f9b46d980.jpg\n",
            "            640px-Orange_Assassin_Bug_in_Cotton_jpg.rf.66187df12816a223b4ca00a1f9f3ff5f.jpg\n",
            "            imagen_124_jpg.rf.d6c8ee5397b01fc82a6233f4a5f606a4.jpg\n",
            "            imagen_213_jpg.rf.d893adf58204552d576309590d5fe629.jpg\n",
            "            cuca_800X500_jpg.rf.caddf9a6880895efbd776adeca08dcd7.jpg\n",
            "            imagen_59_jpg.rf.1c468b4234f44f6856302da7b102e820.jpg\n",
            "            Assassin_bug-_genus_Zelus_at_Spring_Garden_natural_area_in_Windsor-_Ontario_-30103731584-_jpg.rf.d327e8036a4838b40d98a2f05e4e0192.jpg\n",
            "            CockroachPestSolutions_edited1_avif.rf.70de75dca59aea805f0e1a0703e6e4f4.jpg\n",
            "            imagen_202_jpg.rf.dfcfc7da5b5b1157e801936a853e2adb.jpg\n",
            "            imagen_167_jpg.rf.9e8e081f44239db33bd6cd10e8efff48.jpg\n",
            "            24_jpg.rf.e5a7dbc37a84eee064740a3abbc1ea25.jpg\n",
            "            imagen_161_jpg.rf.c427f4035dfe62b965e820902d125ad3.jpg\n",
            "            chinche1_jpg.rf.836089bbdaf2d2c493885b18d9012259.jpg\n",
            "            chinche9_jpg.rf.b8d034b64d9f0f5f8c3753e266dceb5c.jpg\n",
            "            33_jpg.rf.561a2e21ff74308fe71566bb4dd1be36.jpg\n",
            "            garrapata12_jpg.rf.cf1fe01e96c3c5ab23cf5414848fbea1.jpg\n",
            "            lll_jpg.rf.8dcc2e765fcab97713d95eeb67b656ea.jpg\n",
            "            Red_Assassin_Bug_Antilochus_coquebertii_-7913464824-_jpg.rf.cff9bd0d8ee0941b3da27d625403fab9.jpg\n",
            "            imagen_27_jpg.rf.44775b1c6a5e91cd55d5f5e57a3f42b8.jpg\n",
            "            cucarachas-voladoras-mexico_jpg.rf.0bc73644f54bbc061c6d57562871ff72.jpg\n",
            "            imagen_332_jpg.rf.288886aa34f4c2aa4ee5de1157a7f4de.jpg\n",
            "            imagen_98_jpg.rf.0a1c36dede6bdde638c8c09e15cc2ab1.jpg\n",
            "            images-5-_jpg.rf.cc26db00b58de7ea65e614b48cbc7b2a.jpg\n",
            "            34_jpg.rf.ddf24f0f394234178880dc2e9125f659.jpg\n",
            "            White-Eyed_Assassin_Bug_with_prey_jpg.rf.0afd2234e363eb338a1b9c741fc6e634.jpg\n",
            "            descarga-15_jpg.rf.9d93ef2e3a57f8b11f5b1ad549b5e378.jpg\n",
            "            WhatsApp-Image-2024-07-11-at-2-26-14-PM_webp.rf.dc51c8207987959cb27f232d1ce7bb4e.jpg\n",
            "            14_png.rf.ec7f4c97198503b2838aed375befb47f.jpg\n",
            "            898956-nota-cucarachas-foto-4-2-_jpg.rf.fe3812815fb4bbc62b88bee33eb351a7.jpg\n",
            "            11_jpg.rf.bd38c788900f2bbd331a53eb97d16a87.jpg\n",
            "            imagen_153_jpg.rf.008099cd454bf9618685b06955d38e0e.jpg\n",
            "            si-a-mi-hijo-le-pico-una-arana-sintomas-como-saber-1-scaled_jpg.rf.fbc7a7aba1cec5eb1db8f05c6f02e274.jpg\n",
            "            imagen_66_jpg.rf.1c8d3d9e5bb8e2fa99f11d5e01567de3.jpg\n",
            "            imagen_181_jpg.rf.3c72c7b9d9b2eae497cc9140fa4aa93b.jpg\n",
            "            imagen_239_jpg.rf.ae39726ff98c5ec28503ff997b1cd079.jpg\n",
            "            imagen_223_jpg.rf.fb3799d3139879ff8dbe7ac6bf22c9ae.jpg\n",
            "            imagen_224_jpg.rf.7bff1192818ce55169a15bf7699b71af.jpg\n",
            "            chinche23_jpg.rf.ff8cfa1446591ceffe622785c280199e.jpg\n",
            "            garrapata14_png.rf.e039299577a0d47558e02f1999b63509.jpg\n",
            "            imagen_176_jpg.rf.3f630985fd44a4c7aaedc8affd89accc.jpg\n",
            "            30_jpg.rf.f46c99d88d41d0970277abd911941f35.jpg\n",
            "            36_jpg.rf.86a17b13d868113acd0a8b7974683731.jpg\n",
            "            16_jpg.rf.3dcfbc61a8aa4db03fda49718f02f40e.jpg\n",
            "            40_jpg.rf.6a0f16564da98958e17e3f23dd073207.jpg\n",
            "            imagen_268_jpg.rf.efa9a4ec6a11fb965d4b239bb31b7b50.jpg\n",
            "            garrapata11_jpg.rf.e900be0edef6546e494e5df9082b683a.jpg\n",
            "            imagen_165_jpg.rf.171ec69f56ca4d85455966a86e470dab.jpg\n",
            "            arana5_jpg.rf.6fc71629fd08073ad34ec556ca1b1371.jpg\n",
            "            imagen_174_jpg.rf.dcf4e0d1c9c717e7a5cf0c1e17b879f4.jpg\n",
            "            Arana_de_la_cruz_Araneus_quadratus_webp.rf.292344c3dbfea11714b4c18fe2ebaa5b.jpg\n",
            "            21_jpg.rf.c5ba3886a7875a8a74a3f863b3fb1a28.jpg\n",
            "            imagen_11_jpg.rf.3cbde5a39f93302eceb0538b00786d3f.jpg\n",
            "            small-1-_jpg.rf.b99b2871267d37e55695c65afd6d9b22.jpg\n",
            "            chinche-asiatica-plaga-1_jpg.rf.0059c4920ce995c01d89af935ed9e57f.jpg\n",
            "            garrapata8_jpg.rf.ab220e128be9982dd9fa29fea0391957.jpg\n",
            "            640px-Assassin_Bug_Nymph-_-_Wheel_or_Monkey_Bug-_Arilus_cristatus_-37381220834-_jpg.rf.e15d8dacfd10ae6851df91aea4b563b7.jpg\n",
            "            Elm-Bark-Beetle_png.rf.081e6ef23d34f22cf34867f76a392d3a.jpg\n",
            "            escarabajo-de-longhorn-rojo-hembra-leptura-rubra-sobre-corteza-pino-en-foto-macro-182103069_webp.rf.3f4285b9583a28fc4063fda54cd97695.jpg\n",
            "            imagen_210_jpg.rf.26d98a1d96f99c802da6a8b75105d065.jpg\n",
            "            Ponometia_erastrioides_P1070846a_jpg.rf.1c7a8a31de9f81077d35c9b90538e8f3.jpg\n",
            "            chinche14_jpg.rf.75e591d692cf3602f947780201c8bde4.jpg\n",
            "            imagen_89_jpg.rf.0ca74e2ad872860a9a51b89092a6055b.jpg\n",
            "            6_png.rf.5b6a049f94cdfa62b08b650ad2379ccb.jpg\n",
            "            small_jpg.rf.da49efe3783c895b1380ee1b43c34e42.jpg\n",
            "        train/\n",
            "            chinche19_png.rf.dc38da360251f1a905a8a4d65dd2f99a.jpg\n",
            "            imagen_90_jpg.rf.ea52d32627e35ef802a37229fa0acad1.jpg\n",
            "            imagen_190_jpg.rf.84e2752c70b7836c33493df7958153cb.jpg\n",
            "            imagen_64_jpg.rf.9f530e95ffc37b228018b00cb8d90a22.jpg\n",
            "            imagen_146_jpg.rf.48623305ac84cd2bbd924ec82ee401f1.jpg\n",
            "            chinche19_jpg.rf.73bbb02678ab19afc81a1ddf8179e312.jpg\n",
            "            images-1-_jpg.rf.a3600c7a28e2ff92154ea0174fb0330f.jpg\n",
            "            2016-09-10_21-50-04_IMG_7928_-_Flickr_-_andrey_zharkikh_jpg.rf.efcc80b2640c6326b97d7e3dbd32e1b0.jpg\n",
            "            Spotted-Cucumber-Beetle-feeding_jpg.rf.19daaa307fc13618776c1d6d532e6168.jpg\n",
            "            Pselliopus_-_Assassin_Bug_02_jpg.rf.3a85ab039ea1cbae20423e176f1328ec.jpg\n",
            "            images-3-_jpg.rf.c60e5519a6f6d4a7a835c3fdf12cf79c.jpg\n",
            "            Pristhesancus_plagipennis_371345611_jpg.rf.b9e8b8d515202571d789f4a0022e239a.jpg\n",
            "            imagen_250_jpg.rf.80786bc01da78bd74691541d4de3e64c.jpg\n",
            "            imagen_72_jpg.rf.90e7403d559b1e370037a6b6b2d67843.jpg\n",
            "            imagen_172_jpg.rf.54171de9a999a0928493ad5dd726fc80.jpg\n",
            "            imagen_203_jpg.rf.a96e9c2adb60da69306bec74883abce7.jpg\n",
            "            28_jpg.rf.002913cab86893c3714ac6dbc735ecaa.jpg\n",
            "            31_jpg.rf.35d505a6573eee203d470da60c3de5bb.jpg\n",
            "            7J7JA2UGI5ETRLYLS53CMBK3IQ_png.rf.00c4ab7a3b8fa71a22f908ca11f75aa1.jpg\n",
            "            20_jpg.rf.bb4872425b81b7e2dffce4480a11f41d.jpg\n",
            "            chinche11_jpg.rf.0849e67375fb8b6623de5f7f2d0a55ba.jpg\n",
            "            imagen_54_jpg.rf.166ed55f6a176dd00b0fcb3895c2b2fb.jpg\n",
            "            escarabajos-de-madera_webp.rf.ddabc2a52144fab9a8c50e8e8344bea9.jpg\n",
            "            imagen_155_jpg.rf.f8b13d26d221501fdb2a3f4f45c37bb3.jpg\n",
            "            garrapata19_png.rf.81ae368c0967542b93bb3a2258e9b9fa.jpg\n",
            "            imagen_190_jpg.rf.78f2bc93f20ac5d35d48049456a20c2b.jpg\n",
            "            imagen_62_jpg.rf.21e2d6f433227512aaa21caf5c27ac51.jpg\n",
            "            38_png.rf.9f04fbdc2f061e842e8aec2cc4f99d45.jpg\n",
            "            curso-ilustracion-insectos-grafito_jpg.rf.b9fb73a042e46c52d1218a42fef2c978.jpg\n",
            "            12_png.rf.0a773ed9c55dc15d25234cc7fff5e008.jpg\n",
            "            chinche19_png.rf.4214d455925778120d550c528e3d9180.jpg\n",
            "            chinche13_jpg.rf.22f319e08af7556a9ad73acf717811da.jpg\n",
            "            640px-Assassin_bug_of_some_kind_-43869093162-_jpg.rf.b82b009ce96356c646a29b74c2534ff2.jpg\n",
            "            22_jpg.rf.2db574b19c237d82c53e817ba85ce062.jpg\n",
            "            23_jpg.rf.d4b23041880f10fb1118648f1591900b.jpg\n",
            "            nacerdes-melanura-03_jpg.rf.5c7fcba84fa3b9976fe567d6d33c4969.jpg\n",
            "            640px-Zelurus_sp-_-12911326493-_jpg.rf.aee810cc5d87db3f60f41fcce5f10b16.jpg\n",
            "            8_jpg.rf.af05f067cb4989b7b3bec6ff7184656c.jpg\n",
            "            descarga_webp.rf.d73b2a77b1bd6c0d871d32369892ccb1.jpg\n",
            "            cucarachas-humedades_jpg.rf.ec8abe2a86547ec1841901b8e55ffedb.jpg\n",
            "            imagen_62_jpg.rf.a0d5658e9a5af24a9c0ed7a241d3afd5.jpg\n",
            "            aran-a-rincon_jpg.rf.6f2605ff560fdb09cf3b474d7199a1d7.jpg\n",
            "            imagen_204_jpg.rf.0ee2986fe784abc54893ac30c9bbd8f0.jpg\n",
            "            1_png.rf.eb345a8e3304d722d82051987555369c.jpg\n",
            "            31_jpg.rf.2204af1578a58a0c055fa8e994163284.jpg\n",
            "            Waterkever-Coleoptera-waterinsecten-1024x419_webp.rf.6abc0a98feb39f7519e19a86b178c231.jpg\n",
            "            8_jpg.rf.5379ea4d2620cbcccf6fe4e1330b6f0b.jpg\n",
            "            Firebug_jpg.rf.48c2fa83d593081ede999d1d30488729.jpg\n",
            "            Zelus_renardii_-Reduviidae-_II_jpg.rf.bf2eb0bc2d129372ce47e3353829642d.jpg\n",
            "            Zelus_renardii_-Reduviidae-_II_jpg.rf.f7b4a98172308e37c32af02300192231.jpg\n",
            "            imagen_126_jpg.rf.d9fb79d6bfa4387b80f635e97e2f5d61.jpg\n",
            "            escarabajo-e1583723107229_jpg.rf.5794810e79f9efc75e58c84745d11f95.jpg\n",
            "            garrapata5_jpg.rf.fd9bb4d385f0029034a275e8eaadfa1a.jpg\n",
            "            cantharidaejtann-1_webp.rf.02f6c86636c0f5b876cab057826729ef.jpg\n",
            "            arana_png.rf.4f77b5c13d36b2d2f5464e5558d27254.jpg\n",
            "            chinche16_png.rf.03db3f9ef11b91d5d350b41baced4a3b.jpg\n",
            "            imagen_323_jpg.rf.d1e0009a9d777751fe879b8e5e9b046b.jpg\n",
            "            leptura-sobre-una-hoja-wikipedia-commons-by-guido-gerding_jpg.rf.1fde93b86b7e0c493e216424df9eb8e3.jpg\n",
            "            imagen_21_jpg.rf.4ff78eb3ea6bce29de8ea96adc815180.jpg\n",
            "            4_png.rf.d4350ee56e469758d24a31100df57dd4.jpg\n",
            "            imagen_133_jpg.rf.bf265e5bcd247c87e39837c25e12f114.jpg\n",
            "            pulga2_jpg.rf.24d34c13066bd2854bd910563bd83c40.jpg\n",
            "            imagen_253_jpg.rf.0c5dbe095ff06513ac70b2d7aa689354.jpg\n",
            "            Tegea_atropicta_45315973_jpg.rf.ff0fa239df069d00827de91f702b292b.jpg\n",
            "            imagen_271_jpg.rf.5d8c9beff68a2904dcfed587d6cfa71d.jpg\n",
            "            imagen_180_jpg.rf.f5ce00964d808209a52f90ff260d1f38.jpg\n",
            "            arana31_webp.rf.1c5be1c870033728847864e453675602.jpg\n",
            "            imagen_249_jpg.rf.334b2a0d42559ed7acc7bd6654f060dc.jpg\n",
            "            2016-09-10_21-50-04_IMG_7928_-_Flickr_-_andrey_zharkikh_jpg.rf.e7c2fe271fb6d5b95361e8fe01ae52a7.jpg\n",
            "            Assassin_Bug_-Reduviidae-_-15315406737-_jpg.rf.75d1319c25dbaa8616e33e542d116d0c.jpg\n",
            "            640px-Black_Corsair_Assassin_Bug_-_Melanolestes_picipes-_Meadowood_Farm_SRMA-_Mason_Neck-_Virginia_-40486058372-_jpg.rf.392d8bd47aed598096de65dcb0d4d13b.jpg\n",
            "            images-13-_jpg.rf.7878889bbc3f07e1b99958ed1b05aac6.jpg\n",
            "            chinche27_jpg.rf.76393a2e2ae1f11770cf18b5543d55e0.jpg\n",
            "            Reduvid_May_2014-1_jpg.rf.e3323f33b38ac15f7d191a7e89987e3e.jpg\n",
            "            insectos-eleconomista_jpg.rf.1117b963c951cd72babfed29d00e956e.jpg\n",
            "            1200x675_cmsv2_514767dc-8344-56c0-9880-a3f296f852bd-8379100_webp.rf.06ae5559e83c4296e4bd7661e138a44f.jpg\n",
            "            imagen_179_jpg.rf.fc7980f41f4578685cfd9eccf8f2c8d2.jpg\n",
            "            Ground-Beetle_jpg.rf.fd17b9b4f59fa34f182ad66fac69fb84.jpg\n",
            "            28_jpg.rf.de992cc4c0a1d2a24cdf8cde24a9a587.jpg\n",
            "            imagen_179_jpg.rf.75075ccf21e10a1cf188c629898ecc2b.jpg\n",
            "            chinche29_jpg.rf.cd5cc1ed22f1b229834ddd7a6c43e3b9.jpg\n",
            "            Assassin_Bug_Nymph_-_Flickr_-_treegrow_-10-_jpg.rf.30d02d13b7de4605bc6d46af7d8e71a1.jpg\n",
            "            imagen_25_jpg.rf.1b2de9f108a35b3949ef9bb10780fd9f.jpg\n",
            "            32_jpg.rf.b16aebfd96e4732d3b3d268effa39167.jpg\n",
            "            imagen_228_jpg.rf.f39c4d3a80a99d8ef96b3d8497c4d01c.jpg\n",
            "            imagen_258_jpg.rf.ebd9d757049a8a98636cd688ffa99c6a.jpg\n",
            "            imagen_142_jpg.rf.b36d48bbc5f39688ef2845fc01527f57.jpg\n",
            "            garrapata10_jpg.rf.dcc64c5b5486c11ebac88da156b536d1.jpg\n",
            "            Milkweed_Assassin_Bug_jpg.rf.245783162ca094d7c7159cbfdf1053b6.jpg\n",
            "            images-6-_jpg.rf.9bf5e495ba276a6759d88f5659ead6f7.jpg\n",
            "            imagen_190_jpg.rf.50ff3bea7b44090b534462b7281e2eb6.jpg\n",
            "            crw67680_jpg.rf.6e46a610de4a51b378e051d4f20e6e2e.jpg\n",
            "            chinche20_png.rf.b79b172b7fd149a17e6af92c7a7c1cb6.jpg\n",
            "            Little_Assassin_Bug_-_Flickr_-_pinemikey_jpg.rf.a961368be9daee8d03041fbf2fe43dc5.jpg\n",
            "            Pristhesancus_plagipennis_243709472_jpg.rf.ab89ca457af262e222ea0ebc1920a28f.jpg\n",
            "            chinche8_jpg.rf.e77d490d6b20dd7cc8b9ce480214c1ef.jpg\n",
            "            imagen_240_jpg.rf.caef979a2754177ff2ae5cc3fc67169f.jpg\n",
            "            images-1-_jpg.rf.e3d1304c2fa9b64fa7f1e7a0b5d171c9.jpg\n",
            "            chinche20_png.rf.99d63ff8fcc13d3d3ba03a2c08ab68c3.jpg\n",
            "            Spider_assassin_-18396334843-_jpg.rf.8980c48d6aeee6474374999f47f11ab8.jpg\n",
            "            imagen_121_jpg.rf.0485b069257a4081a6e92f8e4eac3008.jpg\n",
            "            imagen_208_jpg.rf.fc27f68aff5c8fe279b9b2d84f5ce985.jpg\n",
            "            Ground-Beetle_jpg.rf.8b3678a36dca5add2816be6b729c77dd.jpg\n",
            "            imagen_7_jpg.rf.d2d692431a5125424754e572a292635e.jpg\n",
            "            imagen_218_jpg.rf.24d2681d7c8be67bbddf839ba2c5a0f2.jpg\n",
            "            6143JTBn3JL_jpg.rf.5fccd71e8e2e363d36be28d5d1dccd53.jpg\n",
            "            imagen_19_jpg.rf.99e46182247adebf689778b97ffbe714.jpg\n",
            "            Melanolestes_picipes_-_Black_Corsair_-_assassin_bug_-ID_thanks_to_Ashley_Bradford-_-42934548600-_jpg.rf.5ebba3de26a718ebd5c72610a8872cbc.jpg\n",
            "            escarabajo_c_webp.rf.8b077de67080e9d1dcf6d9e0e37f1ed7.jpg\n",
            "            insectos-eleconomista_jpg.rf.431d0ecc9c4f19574e4712161ca23744.jpg\n",
            "            imagen_140_jpg.rf.62669b4215f2799f2cc241bcc88a19bb.jpg\n",
            "            22_jpg.rf.c1a642ec49c3faf934f5292dc234ae9a.jpg\n",
            "            imagen_54_jpg.rf.8903af637e7f7ee6460ec4f102c283cd.jpg\n",
            "            -asda_webp.rf.77a6a326ef8b8d834ed7728c5b1f091a.jpg\n",
            "            insectos-eleconomista_jpg.rf.ac444f075f34bb238e3b9a0ea2e1f126.jpg\n",
            "            leptura-sobre-una-hoja-wikipedia-commons-by-guido-gerding_jpg.rf.6a2e10aad17620023df30a215e2a9fbc.jpg\n",
            "            chinche25_jpg.rf.3599111d622b3b2a8f4715a4171bc3aa.jpg\n",
            "            chinche19_jpg.rf.f4fa293ac8f911dbd1fbfa87cba23776.jpg\n",
            "            images-6-_jpg.rf.d0034369e8249446f110da8bd4c991e7.jpg\n",
            "            chinche13_jpg.rf.dba6ce664e441ac03e088d4912ddff60.jpg\n",
            "            10_jpg.rf.102df5319293195d49be66edb598a660.jpg\n",
            "            18_png.rf.91a16687f6148e1257e2a5426bd4c6c0.jpg\n",
            "            7J7JA2UGI5ETRLYLS53CMBK3IQ_png.rf.0aa7bd0f650db44cc2360c6101ad7306.jpg\n",
            "            Exophthalmus_pulverulentus_01_jpg.rf.a1f08da29809adfb65eb130f91c926b9.jpg\n",
            "            Assassin_Bug_-Reduviidae-_-7079902129-_jpg.rf.30bce0b85d5c74b6547821cbfbcbe86b.jpg\n",
            "            chinche20_png.rf.5708391196dc7c3d364068b3f26fa3d3.jpg\n",
            "            Pselliopus_-_Assassin_Bug_02_jpg.rf.460a15d0145194b4a2ddf63006c219ea.jpg\n",
            "            20902451-dos-de-jardin-escarabajo-de-tierra-de-carabus-hortensis-negro-sobre-fondo-blanco_jpg.rf.cfbfb8b67e214ca56c6bc09b449398d8.jpg\n",
            "            images-13-_jpg.rf.a9b2bec823cb2298c6aed39a008397c5.jpg\n",
            "            imagen_147_jpg.rf.ec20353341c91b1ff23a8a0d553997f9.jpg\n",
            "            imagen_133_jpg.rf.d91f4b3ecd4eaddc283c514de67cc672.jpg\n",
            "            imagen_142_jpg.rf.425e8cef5344804cccc683611569f487.jpg\n",
            "            chinche25_jpg.rf.3554d0bb0de213894448e4ea5a51cd07.jpg\n",
            "            imagen_254_jpg.rf.e8f8a12752288f5944434629c13ed01a.jpg\n",
            "            arana30_png.rf.222719576ad434f5d5798d672750ebf0.jpg\n",
            "            imagen_205_jpg.rf.5bf5e46a5bcb946cb8312519304a9522.jpg\n",
            "            imagen_206_jpg.rf.61898affa59cf08cd373751bdd7b9c1e.jpg\n",
            "            garrapata13_jpg.rf.03175ea856c5a4efa98dea9d8efc8e9a.jpg\n",
            "            Ant-eating_assassin_bug_nymph_-15031835754-_jpg.rf.3b45fd59cbdcca559cdaf94667047e1c.jpg\n",
            "            hqdefault_jpg.rf.ff56cb25baa622c467625bc8d1bf2535.jpg\n",
            "            26_png.rf.a32cf4fb03962a5b2715ea123cf9a70d.jpg\n",
            "            images-6-_jpg.rf.6add7d3b62da8dc41c9fa4aa4e99418b.jpg\n",
            "            imagen_121_jpg.rf.12628fa175b5d28d3f91e6053e7704c3.jpg\n",
            "            Assassin_Bug_-Reduviidae-_-13966021573-_jpg.rf.ed80984593f06be35261be93a499e230.jpg\n",
            "            imagen_146_jpg.rf.27e48d2c217d8c8f3a36814cd2ef0900.jpg\n",
            "            pulga4_jpg.rf.0ce940a0565600554f74ea9996ddaf43.jpg\n",
            "            garrapata5_jpg.rf.3e8b141690f037e466946347c2ecb4f3.jpg\n",
            "            medium_jpg.rf.70c89b0c3d296750ce5272d4d755346c.jpg\n",
            "            imagen_90_jpg.rf.7e8d9c56d8a9f3b0875eb2b71ca4dde7.jpg\n",
            "            imagen_20_jpg.rf.bfb1188d95ac208d3107b30b1d7ab6be.jpg\n",
            "            pulga1_jpg.rf.e57617d907061660de2251051c393800.jpg\n",
            "            imagen_219_jpg.rf.6e94a4dfe8a503f9d9f485e450748021.jpg\n",
            "            Firebug_jpg.rf.75572ad50882ca9a05622ee4eabb7e83.jpg\n",
            "            1200x675_cmsv2_514767dc-8344-56c0-9880-a3f296f852bd-8379100_webp.rf.f44a05785e0213c3a9948d127c706ca7.jpg\n",
            "            Assassin_bug_front_2-tif_jpg.rf.020b06732742def6751072cc36a0a1a1.jpg\n",
            "            imagen_20_jpg.rf.94bbe18f3116ac8d9f8ed1782c51f58f.jpg\n",
            "            images-7-_jpg.rf.879c676235881fed08c98a92c52a2cb1.jpg\n",
            "            imagen_264_jpg.rf.713a19291b3418bc315cc7f2f81ae70e.jpg\n",
            "            images-12-_jpg.rf.bb495b2c007b3df3378c53f8e627aeeb.jpg\n",
            "            escrabajo-20160909_jpg.rf.baeefb7d5fc5a7344b6d0bc832c2cbd1.jpg\n",
            "            chinche19_jpg.rf.8361275bb4bda47094bc4161ddfcc827.jpg\n",
            "            chinche12_jpg.rf.d80baf6f43edbb5686d7c33cbd138840.jpg\n",
            "            640px-Red_Assassin_bug_03978_jpg.rf.948e0adb28c51ed132c1a2e9c5c79658.jpg\n",
            "            imagen_298_jpg.rf.05514328bd46ca3c24b0e082016d7e62.jpg\n",
            "            images-2-_jpg.rf.5f565beb442c19bf6ccc7f84d9168270.jpg\n",
            "            imagen_235_jpg.rf.0b8ba43c570aa7dc3a688a09bc3b90d2.jpg\n",
            "            imagen_264_jpg.rf.fad7cc3bff056b1a2ff84b824a63d1e1.jpg\n",
            "            20_jpg.rf.074f92010912d7cb6e8e25ecf8b8a338.jpg\n",
            "            imagen_228_jpg.rf.6c3ea2926e137a8cbeb329555d75c26e.jpg\n",
            "            imagen_18_jpg.rf.93d1dcff5900e38ed000aee46886f96a.jpg\n",
            "            imagen_298_jpg.rf.5da6eb436b3728dd42bffa6627964711.jpg\n",
            "            chinche17_PNG.rf.0a79ccec79560cd22ff6154fd6fd6670.jpg\n",
            "            imagen_172_jpg.rf.f8e548ab4735d1cf053b03ca91540827.jpg\n",
            "            imagen_180_jpg.rf.45f8a83e80badad21e9ab7a38bfd2759.jpg\n",
            "            arana30_png.rf.2ced1b65ffbf6d472aa92d04fd537bdc.jpg\n",
            "            640px-Assassin_Bug-_Salyavatinae-_-_Lisarda_erecta_-_-_-_Flickr_-_gailhampshire_jpg.rf.1b6906760c7c77b45bee126f1bb981f2.jpg\n",
            "            imagen_134_jpg.rf.c1971c9c345fa7c5c23ebb061d3e9dfb.jpg\n",
            "            Melanolestes_picipes_-_Black_Corsair_-_assassin_bug_-ID_thanks_to_Ashley_Bradford-_-42934548600-_jpg.rf.0fdbab82c86166c5800157a375c26b92.jpg\n",
            "            7J7JA2UGI5ETRLYLS53CMBK3IQ_png.rf.a3186a376ae3b35a398b3e0045f1d7ca.jpg\n",
            "            imagen_241_jpg.rf.20e1a170ae2c0c0d042aaafe093eb05d.jpg\n",
            "            4_png.rf.d1b0a2193ad1b92631ab84b56af63e2a.jpg\n",
            "            chinche7_jpg.rf.600a2ab99d99cad7296d15105c1ef9b2.jpg\n",
            "            640px-Black_Corsair_Assassin_Bug_-_Melanolestes_picipes-_Meadowood_Farm_SRMA-_Mason_Neck-_Virginia_-40486058372-_jpg.rf.ef6e7d37bd201198f390de235db3c111.jpg\n",
            "            imagen_240_jpg.rf.aa49f380178ebe51aedd4113012989a6.jpg\n",
            "            imagen_143_jpg.rf.e64a2864d66e763a1fa05112dc469de3.jpg\n",
            "            Pristhesancus_plagipennis_nymph_jpg.rf.9e66e0e93714c63c8f5123c9e4b56368.jpg\n",
            "            imagen_258_jpg.rf.fafedaaefc75a67554e02817e2beaa70.jpg\n",
            "            imagen_155_jpg.rf.5c87740030b7d1af29a8fe754194ceb9.jpg\n",
            "            imagen_221_jpg.rf.7fba1122d0fc353c7e2307872f0d399a.jpg\n",
            "            Pygolampis_striata_-10-3897-BDJ-9-e63695-_Figure_3_b_jpg.rf.15d26dca811a17937f7242fd00c7a6c0.jpg\n",
            "            imagen_121_jpg.rf.384bc059bc8310cf08fe80d0d0e92246.jpg\n",
            "            chinche16_png.rf.f0c687717c9ffded73890c33aefe3b9f.jpg\n",
            "            imagen_295_jpg.rf.d6edc6d5fc27f6148cba5d2c3f7348b7.jpg\n",
            "            18_png.rf.d58323a887150c531c9b2e3df360a1d5.jpg\n",
            "            imagen_249_jpg.rf.af047ad84f6b01fd8fcadd6905d9772d.jpg\n",
            "            imagen_207_jpg.rf.4b8757efd58f243ac588480fa20709df.jpg\n",
            "            Arilus_cristatus_-_Wheel_Bug_-_Assassin_Bug_-42674125980-_jpg.rf.b68ce77507a5bc31285420f4645f062f.jpg\n",
            "            Assassin_Bug_-Reduviidae-_-13966021573-_jpg.rf.c663e835c626ceb5ded98ea5fd0273df.jpg\n",
            "            imagen_90_jpg.rf.18c0c923d65b218d1e693f9080bacd94.jpg\n",
            "            Exophthalmus_pulverulentus_01_jpg.rf.526663cafa83cd6269c11d8ae78fb9fa.jpg\n",
            "            imagen_276_jpg.rf.ee9b7cfa1fadd5acc4683065d2c1c66b.jpg\n",
            "            pulga3_jpg.rf.5e173e245d7661aa4ddac16b8391665c.jpg\n",
            "            Spotted-Cucumber-Beetle-feeding_jpg.rf.323392b054b9599378125859e69d0694.jpg\n",
            "            9_jpg.rf.ede3da33adaefebfcb42634686b23974.jpg\n",
            "            imagen_276_jpg.rf.dd43aac9fef44fcb101abefc71a583f6.jpg\n",
            "            Triatoma_infestans_jpg.rf.373038499846874905d3bb60d204c10b.jpg\n",
            "            chinche27_jpg.rf.1fca3d4b2de3231ca0cfd23a954fe27b.jpg\n",
            "            imagen_221_jpg.rf.6884da42fc012134139669923fc09640.jpg\n",
            "            imagen_237_jpg.rf.14019e1b4472969499cf10789c46f8b3.jpg\n",
            "            imagen_203_jpg.rf.450b845a8bbe303a0576772a55df73b0.jpg\n",
            "            pulga3_jpg.rf.728c66f259cda06475581d5fe576e8f7.jpg\n",
            "            imagen_7_jpg.rf.ace63a4d62e1ccb0b88c62c3d95cf5a9.jpg\n",
            "            imagen_136_jpg.rf.a791b98a5878ef815d05e19c47b19879.jpg\n",
            "            26_png.rf.3069dc7d6eab67aff1fdb47c2128e0c8.jpg\n",
            "            images-12-_jpg.rf.2a5c97ace969006e9a2758eeb707e519.jpg\n",
            "            pulga3_jpg.rf.afc4fc5bd6a033dfb6016a7ae7d64148.jpg\n",
            "            imagen_180_jpg.rf.6fa436abb471cd31323a75f268ccbde9.jpg\n",
            "            imagen_108_jpg.rf.a3bf38310e0b1142bf02dbf8a592b778.jpg\n",
            "            chinche7_jpg.rf.26cfc1e63427171679ca2fb23fc9f21d.jpg\n",
            "            pulga2_jpg.rf.e2d559a20a997f5ee7861cc03111e076.jpg\n",
            "            imagen_133_jpg.rf.c5daafdb2047196e308c3f10b6f0d839.jpg\n",
            "            Assassin_Bug_Nymph_-_Flickr_-_treegrow_-10-_jpg.rf.d376491173791a0d65eebdcff0bab5db.jpg\n",
            "            imagen_204_jpg.rf.86b12a5e16eff7c6163c07836ba95927.jpg\n",
            "            garrapata15_jpg.rf.5416f9f74d9f3f1405fb3b1c3601db4c.jpg\n",
            "            arana_jpg.rf.31d4e6642161446133bf95b4272443e4.jpg\n",
            "            imagen_179_jpg.rf.fc8f1b8cbafae14a376853b2ba40a371.jpg\n",
            "            garrapata16_jpg.rf.4782737b9d5943eecc7565e2f725542e.jpg\n",
            "            imagen_142_jpg.rf.5f2d2edfce2bc5c85dc296cb9143b2fe.jpg\n",
            "            garrapata5_jpg.rf.94ab50d7e15ecf4f34114eced250248a.jpg\n",
            "            arana_png.rf.ae2b0a761098ae0615e6e62bf5c3f67a.jpg\n",
            "            imagen_143_jpg.rf.a84ffe7dd4cecedfa837ba4a9f7ab64f.jpg\n",
            "            imagen_295_jpg.rf.b28c430c47fb59a7fbe05aee5ff6b2bb.jpg\n",
            "            17_png.rf.a837e13cc3d8dc439d85a38f49164c01.jpg\n",
            "            imagen_212_jpg.rf.ff8c774a2b71206bd17c539e215bdff4.jpg\n",
            "            6143JTBn3JL_jpg.rf.b039cf27b34225b5f7570a0328dc5359.jpg\n",
            "            17_png.rf.1fcd27336569c6bbedc5964b9829ceb9.jpg\n",
            "            mordedura-arana_jpg.rf.af996460dae162bca2f4bd6747d8cb76.jpg\n",
            "            images-11-_jpg.rf.9338bd7a6c87ed42d43b21265b2c28dd.jpg\n",
            "            curso-ilustracion-insectos-grafito_jpg.rf.de2df700e1a3913ec6b53a66d0b7c587.jpg\n",
            "            imagen_134_jpg.rf.522f3fc850f33a477c4b3a260cace0d8.jpg\n",
            "            imagen_201_jpg.rf.b347560db6d6239203d281c4ec33e844.jpg\n",
            "            Spider_assassin_-18396334843-_jpg.rf.2c228332aa6db910bd371178e3a4665e.jpg\n",
            "            Zelus_renardii_-Reduviidae-_II_jpg.rf.b849584c67383611aae219b0b9563d0c.jpg\n",
            "            Pristhesancus_plagipennis_371345611_jpg.rf.262cc7ff7edc160b96096f9175507747.jpg\n",
            "            imagen_72_jpg.rf.54563103cc0b76c62919a1612f626384.jpg\n",
            "            imagen_64_jpg.rf.7a19bd0103e52cb2928aa5e52b50e73c.jpg\n",
            "            chinche29_jpg.rf.1ba74c1dfe3ff55c39864e224a400add.jpg\n",
            "            images_jpg.rf.a7cc31508d7a222bd2e5011221b5f629.jpg\n",
            "            escarabajo_arana_subfamilia_ptininae_4667_5_600_jpg.rf.b69011ffdb42f1c6718868baa0c988ba.jpg\n",
            "            imagen_208_jpg.rf.f520c20c9ee2de287d3d666295c5d398.jpg\n",
            "            imagen_295_jpg.rf.aa8a003e8bcbd82782d1262a23bfdeaf.jpg\n",
            "            Assassin_Bug_-Reduviidae-_-7079902129-_jpg.rf.498da11eab808141ea1bc3fa64c5523c.jpg\n",
            "            imagen_74_jpg.rf.3279690baa24e088c6facc6867e9760e.jpg\n",
            "            chinche7_jpg.rf.d4f64b32c0fee542e12231a633f1a9e1.jpg\n",
            "            escarabajo_c_webp.rf.da44e2a632e3ad072d603dcc0f2e5153.jpg\n",
            "            Reduvid_May_2014-1_jpg.rf.60dedd08d436f303d98d854a605d8623.jpg\n",
            "            hqdefault_jpg.rf.1f0c0d4ba6b6356dfb8d49353be4029d.jpg\n",
            "            chinche18_png.rf.d9c044e28fd2707717833d7c2c44ade5.jpg\n",
            "            imagen_235_jpg.rf.b2433362f3ca731674bbd63729af1a3b.jpg\n",
            "            garrapata16_jpg.rf.1af7d7aa5446fbdef959cb7ca6b312a6.jpg\n",
            "            imagen_159_jpg.rf.4151d15829735beffdabea3e3f4cd2e6.jpg\n",
            "            25_png.rf.6a68797aa996f9e5d1bb41c8ac065993.jpg\n",
            "            2_png.rf.b9890c0683dc6c2f0d2c55e71a19a812.jpg\n",
            "            1200x675_cmsv2_514767dc-8344-56c0-9880-a3f296f852bd-8379100_webp.rf.b9404a74d5f3b785997696bf2701130d.jpg\n",
            "            imagen_237_jpg.rf.60c5c083ce389de023b2fd1350298c88.jpg\n",
            "            imagen_209_jpg.rf.0d077e655fd31b9e66a22d53ad8aad38.jpg\n",
            "            Assassin_Bug_-Reduviidae-_-7079902129-_jpg.rf.59eda7f9a87f073d56a075f07e6c7b22.jpg\n",
            "            640px-Black_Corsair_Assassin_Bug_-_Melanolestes_picipes-_Meadowood_Farm_SRMA-_Mason_Neck-_Virginia_-40486058372-_jpg.rf.fd1dd4a1a08a75533827a961bd41d96d.jpg\n",
            "            22_jpg.rf.e4f9f92cd010ca76747e3f347f138f08.jpg\n",
            "            19_jpg.rf.bb251e991edbc07ed885bcaa7d4262fe.jpg\n",
            "            descarga_webp.rf.c2373ea23f681ff681385100308353a0.jpg\n",
            "            imagen_62_jpg.rf.e234e603e865642469104f302b8ccdc9.jpg\n",
            "            13_png.rf.eb036c003e171f60074b28c48d7fbdf7.jpg\n",
            "            pulgas_26694_0_600_jpg.rf.d3ce5eecf35437cc2c68e56e63cea4ad.jpg\n",
            "            imagen_7_jpg.rf.43e88a4e1842cc2fc1beb9d1cd8a8a1e.jpg\n",
            "            chinche22_jpg.rf.02895c332c8529134e4818deb21ef029.jpg\n",
            "            chinche28_jpg.rf.30ddc92a8a19aafb4cd9433a28f3df94.jpg\n",
            "            imagen_21_jpg.rf.b6dfd0804d5d539585394a1092b9a3b9.jpg\n",
            "            -asda_webp.rf.12f8a7c6e3a0d77f7ca85712cbed3715.jpg\n",
            "            garrapata17_jpg.rf.c93080b7f17d3a2b6414a6358a92b2c6.jpg\n",
            "            aran-a-rincon_jpg.rf.e10b6519fdb89537dd4c6bfada9fdd1a.jpg\n",
            "            Leptoglossus_phyllopus_Pat_Porter_jpg.rf.e64fde7bb89e5f641009cf27d8cb73a2.jpg\n",
            "            chinche29_jpg.rf.64ee6763d0c83fc7df9fef67ab4bea57.jpg\n",
            "            imagen_206_jpg.rf.852132123845b14ac05dca868d4bee41.jpg\n",
            "            Assassin_Bug_-_Zelus_luridis-_SERC-_Edgewater-_Maryland_jpg.rf.7b6987dbd116b3981bab64c2aa77d004.jpg\n",
            "            Little_Assassin_Bug_-_Flickr_-_pinemikey_jpg.rf.a8c25dae6574f0c345106b46f4f6189e.jpg\n",
            "            imagen_108_jpg.rf.8854c604642a65638455406bee7092e9.jpg\n",
            "            imagen_212_jpg.rf.5c73601f9ef3eafdac1a60944e121cac.jpg\n",
            "            Arana-lobo_webp.rf.833cbb3c517466f63d3b6bd3b0cb94a8.jpg\n",
            "            garrapata13_jpg.rf.27452bfc5ad027bb03c2692f69693cdc.jpg\n",
            "            escarabajo_arana_subfamilia_ptininae_4667_5_600_jpg.rf.f8579f1334751fcba73abad567c7117c.jpg\n",
            "            3_png.rf.ea58893d5ca73087c0dbd923897ba453.jpg\n",
            "            ih90t7Yt-_2000x1500__1_jpg.rf.94f5ad634a4f91d5b24c2481da36803c.jpg\n",
            "            imagen_241_jpg.rf.2d00d324201956205e0c31064ce8b4fc.jpg\n",
            "            imagen_148_jpg.rf.b849a1f8c79a3aeb6fb577f54d56e15d.jpg\n",
            "            arana_jpg.rf.c80a378c53f6f743676825793014b562.jpg\n",
            "            Assassin_Bug_-Reduviidae-_-13966021573-_jpg.rf.d3e8d8a22f385e6bbb8e5dfa622f197c.jpg\n",
            "            9_jpg.rf.f5ab73709f7852d3d2d183a9d5fa88bc.jpg\n",
            "            imagen_20_jpg.rf.91d53d09f867e66419c8a62024120eee.jpg\n",
            "            leptura-sobre-una-hoja-wikipedia-commons-by-guido-gerding_jpg.rf.f804e527be70bcded1febc0ae39354b4.jpg\n",
            "            640px-Assassin_Bug-_Salyavatinae-_-_Lisarda_erecta_-_-_-_Flickr_-_gailhampshire_jpg.rf.dc4f04343ad103ac58fdc50dbe62fb85.jpg\n",
            "            Pselliopus_-_Assassin_Bug_02_jpg.rf.7a2abe8c8e9e1704b0c2bb3e109650d1.jpg\n",
            "            pulgas_26694_0_600_jpg.rf.0d6ddcdfbcfd5b4c7f1cf7fcc289d442.jpg\n",
            "            arana-roja-caracteristicas_webp.rf.d722e6cfe8dea98185b344d9946a0a49.jpg\n",
            "            imagen_147_jpg.rf.774c27fb37e8dc1e12e5b366376d20a5.jpg\n",
            "            25_png.rf.9d201d2ef273d8ab676d11acf32a9403.jpg\n",
            "            cantharidaejtann-1_webp.rf.eca023ec5b8af57195b8b6650b3d800f.jpg\n",
            "            37_jpg.rf.a20087d261befca276015e6b9e8f1c59.jpg\n",
            "            Assassin_Bug_Nymph_-_Flickr_-_treegrow_-8-_jpg.rf.960386bbc786bd5f75b9c7b7ad2a356e.jpg\n",
            "            27_png.rf.0c566242999482f6584e4c36269e3f6c.jpg\n",
            "            garrapata7_jpg.rf.ab6287f09981f7cad648ca7cb88c7c5c.jpg\n",
            "            imagen_323_jpg.rf.cfb0a48bac067c0ffcce60fe8cc75920.jpg\n",
            "            imagen_204_jpg.rf.ea643a0317c52e4476bc177d06182928.jpg\n",
            "            32_jpg.rf.bceef276acfdeba5c65ef82167556a1c.jpg\n",
            "            mordedura-arana_jpg.rf.a1467cefc59e24c642e9f3831e92d23c.jpg\n",
            "            Exophthalmus_pulverulentus_01_jpg.rf.b51d4c298aac0b1758e708243c8358c6.jpg\n",
            "            chinche_asiatica_o_hedionda_53979_4_600_jpg.rf.17d7015567e458f8b2d4070bcfe5efa6.jpg\n",
            "            imagen_147_jpg.rf.092e316b232e673b01e977676546dd90.jpg\n",
            "            arana44_jpg.rf.947097b2429f531616a75f584b7d23cd.jpg\n",
            "            imagen_21_jpg.rf.564eacb1c11e4514ab9e77d898feb3d6.jpg\n",
            "            pulga1_jpg.rf.0d32ef567f84d8236bd2a11309d75976.jpg\n",
            "            images-8-_jpg.rf.e5eec7257729b3a460897be7ead4a593.jpg\n",
            "            redflourbeetle_webp.rf.02bc22bb32ca73251c8f8ed5684b1663.jpg\n",
            "            imagen_18_jpg.rf.f21401443fb6363fec449ec7e86df742.jpg\n",
            "            chinche20_jpg.rf.8b9d2c78a161e99d06b10483ff7f0002.jpg\n",
            "            imagen_237_jpg.rf.e294f50484d8438102ef5aed365a4f6a.jpg\n",
            "            chinche5_jpg.rf.aac4de079b0628e6daf0254a4b5bbfa7.jpg\n",
            "            imagen_228_jpg.rf.de7e5e778b357a81d19b26c335390580.jpg\n",
            "            imagen_74_jpg.rf.f792a423b7b295ae122fa36e9fdc35ef.jpg\n",
            "            Pristhesancus_plagipennis_nymph_jpg.rf.6624db5d013876dc8f066a3dec345ea5.jpg\n",
            "            imagen_207_jpg.rf.eb9ed5640bec053a098230c90a7c9513.jpg\n",
            "            garrapata9_jpg.rf.0c4bbc1ab01148c12fd269989fda8c99.jpg\n",
            "            chinche24_jpg.rf.498a7b8e919b44a1f2e0fd7905f4b757.jpg\n",
            "            Firebug_jpg.rf.d1c879ea24596a2740e224019aa29cb2.jpg\n",
            "            imagen_146_jpg.rf.220394a696b4bbfb2c449928b94d1dd6.jpg\n",
            "            Waterkever-Coleoptera-waterinsecten-1024x419_webp.rf.fb6b1013c2265c44a379903311cab3e3.jpg\n",
            "            imagen_19_jpg.rf.14be6f31196889524df4abd1dbc70e6f.jpg\n",
            "            640px-Assassin_bug_of_some_kind_-43869093162-_jpg.rf.bd50c62013c71dfb5fee94a81d2207ed.jpg\n",
            "            27_png.rf.b7f1927fb404eaf319574bd5ef00d1cb.jpg\n",
            "            20902451-dos-de-jardin-escarabajo-de-tierra-de-carabus-hortensis-negro-sobre-fondo-blanco_jpg.rf.089ad8630133c1ee3024470aab887fa6.jpg\n",
            "            imagen_220_jpg.rf.0b7902d0b7d9a9f2753f20be64e81255.jpg\n",
            "            imagen_74_jpg.rf.1c57958a1336c7c5964db330ea819627.jpg\n",
            "            arana44_jpg.rf.e414bd5185457279f178342b7fcc2e4a.jpg\n",
            "            imagen_209_jpg.rf.7b6b5e55ea6b35d556767cac60a7bdff.jpg\n",
            "            imagen_250_jpg.rf.3cb4392d8d163095210e329ddf3363cf.jpg\n",
            "            Assassin_Bug_-Oncocephalus_annulipes-_-12885347564-_jpg.rf.a45ca7e5b628b96f048a8ab4ee659781.jpg\n",
            "            13_png.rf.6f7552ec920ac7b147654c8055a48544.jpg\n",
            "            images-11-_jpg.rf.559dcb526bedd55e33070f5d2492ae2e.jpg\n",
            "            Red_Assassin_Bug_-Antilochus_coquebertii-_-8678432802-_jpg.rf.82a96a0b07f008eeea25c5e12ab7528d.jpg\n",
            "            imagen_135_jpg.rf.ae1f2002ed6d972f2a27204b740e8de1.jpg\n",
            "            2_png.rf.373861fd107cae5481bebbd796b7112d.jpg\n",
            "            imagen_201_jpg.rf.ca7ce98a292e60b02ca74bb80020076e.jpg\n",
            "            DirkvdM_Assassin_Bug-1-_jpg.rf.6b6d7bf89fc24cf207be38312cdb2c64.jpg\n",
            "            images-2-_jpg.rf.044c478b88e5522d8b5acd08306e4611.jpg\n",
            "            imagen_25_jpg.rf.7c79d6652b991ab930c622e59961939b.jpg\n",
            "            imagen_103_jpg.rf.2841dbe5c04261bba2e6c3e55d37ae9a.jpg\n",
            "            nacerdes-melanura-03_jpg.rf.1735db5c35eae9e901647d982b206180.jpg\n",
            "            escarabajos-de-madera_webp.rf.77e6024f7df9efdced2e520327ddfe6c.jpg\n",
            "            imagen_219_jpg.rf.8132d354ef336e1ab8f16854b050cea7.jpg\n",
            "            arana31_webp.rf.aaea8c988dc3f83fa78c86961bc20f78.jpg\n",
            "            153407409992237093_webp.rf.c3c0f70bc2b233662915175c6319c3ad.jpg\n",
            "            38_png.rf.06f5544edbc1d31f1dfe669addb6b262.jpg\n",
            "            Assassin_Bug_-Oncocephalus_annulipes-_-12885347564-_jpg.rf.fd13c95193d9c0b15af760aa8b547186.jpg\n",
            "            chinche11_jpg.rf.f6df43dd4bdebc704a06bf624b782256.jpg\n",
            "            imagen_220_jpg.rf.39d2976f63966a49bd674dd020847fb4.jpg\n",
            "            redflourbeetle_webp.rf.7a1f7b9514afbf5f773e627ee6b37a4b.jpg\n",
            "            Assassin_Bug_-Reduviidae-_-13965741853-_jpg.rf.bc8f2567fe9fbaf0fd3c0f6991cd6ac5.jpg\n",
            "            chinche6_jpg.rf.fd0b8beca02e842b6cae5c8799b53c34.jpg\n",
            "            37_jpg.rf.8aec5df87ebe55ec703f50bdc65a190d.jpg\n",
            "            chinche_asiatica_o_hedionda_53979_4_600_jpg.rf.fd2f958df6fa7a68ee44879134f21812.jpg\n",
            "            imagen_140_jpg.rf.2b224e7863fdf9ea55d275847a1ee03e.jpg\n",
            "            5_png.rf.5e1bd352966cb4722788a60e5fd5c71b.jpg\n",
            "            imagen_195_jpg.rf.39287d36a663ba29b0d002120c58a511.jpg\n",
            "            Leptoglossus_phyllopus_Pat_Porter_jpg.rf.600a0701ffcf6aeaeb7174c7883d0182.jpg\n",
            "            images-12-_jpg.rf.475116436a1e2ba043d34a12b002004f.jpg\n",
            "            38_png.rf.76e3b22d255d30884a21d64cac0a270b.jpg\n",
            "            images-1-_jpg.rf.ce75e2f23cd42fd189ae26853d1db3bc.jpg\n",
            "            medium_jpg.rf.613ec069bf9c6041092f162d738e5b4c.jpg\n",
            "            DirkvdM_Assassin_Bug-1-_jpg.rf.3ffc9f5841aa89781f8f12ed18625e9e.jpg\n",
            "            imagen_155_jpg.rf.e6f4dc6ada138e25d182550c1a1f6bef.jpg\n",
            "            1_png.rf.3d510d5a4411683a69e3f67c7f95e89d.jpg\n",
            "            39_png.rf.5158536b6b020941071b5e4e7bbea7a0.jpg\n",
            "            Assassin_Bug_Nymph_-_Flickr_-_treegrow_-10-_jpg.rf.deca2cf7c3fa988b6a8087299eebf0cb.jpg\n",
            "            images-11-_jpg.rf.3b793b928fb0549bdf5e86a1fb700241.jpg\n",
            "            35_jpg.rf.764911a7cd22e9d34aafe35479d9a6de.jpg\n",
            "            chinche21_jpg.rf.ee9ff6bff394b4fe79c9d02a562cdf6d.jpg\n",
            "            hqdefault_jpg.rf.79c4353ee119912b362a01777e955eb9.jpg\n",
            "            23_jpg.rf.bdc8bf1623812adc7a2da4755a9b3dda.jpg\n",
            "            imagen_230_jpg.rf.5c943f221e3c80c7fd8d26340006bbf8.jpg\n",
            "            imagen_276_jpg.rf.a1b45c06ae0b30050e8d4a874bd4e6c5.jpg\n",
            "            Triatoma_infestans_jpg.rf.e9ff6db82b81e86116a18846557cefd7.jpg\n",
            "            garrapata13_jpg.rf.441c444a2024eb70a77c33e5a85a1ff7.jpg\n",
            "            imagen_315_jpg.rf.5b2cb6401cf546eed57281870b2262b9.jpg\n",
            "            imagen_135_jpg.rf.e87dcf8568e0452c0d7ee1331187661e.jpg\n",
            "            imagen_271_jpg.rf.fb709e88882f66da0aa07fca82011e03.jpg\n",
            "            chinche11_jpg.rf.600bb8be50c5f957fb5482cf2683c468.jpg\n",
            "            Red_Assassin_Bug_-Antilochus_coquebertii-_-8678432802-_jpg.rf.004aaf32f2ec70bf3e9d6017256e0875.jpg\n",
            "            descarga_webp.rf.91c5cf7753cdfd0e761de66f09383831.jpg\n",
            "            garrapata9_jpg.rf.45da5ee9ff618918614dccc46e62bd7e.jpg\n",
            "            images-3-_jpg.rf.a1511e74b7ae8a422b18875eb488a85c.jpg\n",
            "            imagen_230_jpg.rf.53904277277ea351034a286ac574c354.jpg\n",
            "            2016-09-10_21-50-04_IMG_7928_-_Flickr_-_andrey_zharkikh_jpg.rf.5afa124011d25d0f401cd0d68bb68c4d.jpg\n",
            "            1_png.rf.ffd566b1603d5593aa950662388fdba7.jpg\n",
            "            nacerdes-melanura-03_jpg.rf.917599ce3feb9ed73f3da425087bbbb3.jpg\n",
            "            imagen_159_jpg.rf.aff265f25c50fce0e1e62ecedc2795fc.jpg\n",
            "            escrabajo-20160909_jpg.rf.540b8459668e8602fa6d5238b79d442b.jpg\n",
            "            f960x540-111240_185315_5050_webp.rf.468e7f24d2ec4129385fd073186c3574.jpg\n",
            "            imagen_219_jpg.rf.644972773ea722568eac6a87314596e2.jpg\n",
            "            imagen_159_jpg.rf.8a37cadb6aa441674e05c56287da4756.jpg\n",
            "            39_png.rf.7a587a512bb8ff8b803cfa58b6a8bd95.jpg\n",
            "            imagen_148_jpg.rf.7c9426151f9b7aac55ed3907ffa8f87a.jpg\n",
            "            4_png.rf.b8f3e175cc63a50cd9f2da9a3f46dd57.jpg\n",
            "            imagen_215_jpg.rf.8c3b31045bf63211e87afaf925080ffd.jpg\n",
            "            pulga1_jpg.rf.6ae5637befb7bf87a322b30ae3c85466.jpg\n",
            "            images_jpg.rf.6b8b4cb79359b2940ddb7a8923aa20d3.jpg\n",
            "            pulgas_26694_0_600_jpg.rf.8212fd68a9950d2a9f368e66767577cd.jpg\n",
            "            garrapata19_png.rf.a350485596c3c08864aea717d59c7cb8.jpg\n",
            "            imagen_232_jpg.rf.f30f7680ac313435622c5e0c6d298112.jpg\n",
            "            arana44_jpg.rf.4e886f09dd16d8c4adf7ae90c29eb946.jpg\n",
            "            imagen_24_jpg.rf.6e5bae56b8da2774a00eeb1eda791a17.jpg\n",
            "            imagen_258_jpg.rf.67ef0aeebf921b89b5dd0e665f3d79c5.jpg\n",
            "            Assassin_Bug_-_Zelus_luridis-_SERC-_Edgewater-_Maryland_jpg.rf.86d3ca2fc331cad35db876b7f3b3e764.jpg\n",
            "            images-13-_jpg.rf.96e7aca13e38011050403321e17a3153.jpg\n",
            "            imagen_240_jpg.rf.e28a4b50817d92a1cf118180ebed1dd9.jpg\n",
            "            chinche28_jpg.rf.44f0ed7fc4df413d68f6c712437518b4.jpg\n",
            "            Red_Assassin_Bug_-Antilochus_coquebertii-_-8678432802-_jpg.rf.32867a7b19491ca2ff0c7d44d3b6a938.jpg\n",
            "            imagen_215_jpg.rf.f10a68d8170aba00d46b911f3777e969.jpg\n",
            "            curso-ilustracion-insectos-grafito_jpg.rf.b1ad56c4f85dde4fc869da772c2ff31e.jpg\n",
            "            chinche5_jpg.rf.2a754400fd8b53ab15969e309aabe87c.jpg\n",
            "            39_png.rf.9b006ccc2e9754dc30081f40b12524b3.jpg\n",
            "            garrapata7_jpg.rf.214035fcf3ddace1ce3830956eb2a23d.jpg\n",
            "            chinche25_jpg.rf.eba486b94f4eea6752b1710224bd1310.jpg\n",
            "            chinche24_jpg.rf.ad850571bd3b1ee730756b7868736674.jpg\n",
            "            arana_png.rf.abd87e757afbb3a7bd0e6c25a4e2ed98.jpg\n",
            "            imagen_212_jpg.rf.70ca5ea849fdd20a98c024989017ee14.jpg\n",
            "            arana31_webp.rf.0c11a9d1bdb6baeca05739af6acedf14.jpg\n",
            "            chinche20_jpg.rf.1235e64d3c652f12cf8f49085e8324f8.jpg\n",
            "            chinche8_jpg.rf.30e16f95deb467b900be550ee11fb9d1.jpg\n",
            "            640px-Assassin_bug_of_some_kind_-43869093162-_jpg.rf.2459212494d38f243e9601efffff4afb.jpg\n",
            "            imagen_18_jpg.rf.c7a3a4a5c2fa13df115491d5521d00dc.jpg\n",
            "            imagen_220_jpg.rf.8649a54be4e7c513d741649a13c10e08.jpg\n",
            "            Pygolampis_striata_-10-3897-BDJ-9-e63695-_Figure_3_b_jpg.rf.9b94b372936b4ae0e99044e683087c11.jpg\n",
            "            images-8-_jpg.rf.bf44fb8ee644efceb5f279843a0f5591.jpg\n",
            "            garrapata9_jpg.rf.9cb08a05355223d30e99bb9e9cd899c3.jpg\n",
            "            imagen_203_jpg.rf.ed8929d8aac298e44e488e3603b8e6c0.jpg\n",
            "            imagen_195_jpg.rf.0f15ea41ea8f2064cbe8ad875a3d7b39.jpg\n",
            "            chinche10_jpg.rf.0e3bd1fe006b48dc0b92d0cfe11bf9f7.jpg\n",
            "            Milkweed_Assassin_Bug_jpg.rf.ad04f8386b1768277564a969c4d4bd97.jpg\n",
            "            chinche21_jpg.rf.e448abef7f66c70248f981cf8f1afdb8.jpg\n",
            "            Assassin_Bug_Nymph_-_Flickr_-_treegrow_-8-_jpg.rf.4e503bb481f36f74a81f0779c042a3dc.jpg\n",
            "            arana30_png.rf.49b18d1cd2d14ca65c93ecb499359710.jpg\n",
            "            imagen_64_jpg.rf.6c8bbb5ff93205554415d9562c484c54.jpg\n",
            "            images-2-_jpg.rf.8c271978d618b4b9a10442a0f8404cba.jpg\n",
            "            garrapata17_jpg.rf.86cfdd3923122c6902e930e20c413903.jpg\n",
            "            Little_Assassin_Bug_-_Flickr_-_pinemikey_jpg.rf.ea0e6ec69fd744b45b553b8d25354895.jpg\n",
            "            imagen_264_jpg.rf.dee16657f105e1bc5bbded07a1af7d10.jpg\n",
            "            imagen_51_jpg.rf.811a3a1b42fff8e813533166926d002f.jpg\n",
            "            ih90t7Yt-_2000x1500__1_jpg.rf.75cf0cde8e5ea4390566a00b5c163ea8.jpg\n",
            "            imagen_221_jpg.rf.8bc55b12380c0a874e29ac19b4594bc3.jpg\n",
            "            Assassin_bug_front_2-tif_jpg.rf.de885b9a3fe0db913db3b56ccce9b872.jpg\n",
            "            Reduvid_May_2014-1_jpg.rf.94e93a45fbf4d0e15f5aac0377716f5a.jpg\n",
            "            garrapata15_jpg.rf.6e3b7c931842a6bce4b3c45eeb8ec3f8.jpg\n",
            "            3_png.rf.87592faa76c791014c0f702912164128.jpg\n",
            "            arana_jpg.rf.3526e327795207ef9e06f2ffd6c2c11b.jpg\n",
            "            cantharidaejtann-1_webp.rf.ee2e93980d16f4e0931b91f3faccc368.jpg\n",
            "            chinche27_jpg.rf.b58a0d24e08d22b7d23ca16c60d265f0.jpg\n",
            "            3_png.rf.0a926d81b1a21ca28a4241cc9a896a00.jpg\n",
            "            garrapata17_jpg.rf.30e1f9b778596e65ec353b3bf1280609.jpg\n",
            "            35_jpg.rf.ebb62581201e73f198fee55cb0bf6958.jpg\n",
            "            imagen_135_jpg.rf.a090282565d5f4a9598bf22a6b1419e7.jpg\n",
            "            Assassin_Bug_-Reduviidae-_-15315406737-_jpg.rf.d529b726610461008037e7a88da226a5.jpg\n",
            "            Assassin_Bug_-Reduviidae-_-13965741853-_jpg.rf.ac57f680d9f25a87ede103bfe89e5bf6.jpg\n",
            "            imagen_24_jpg.rf.eab0d6837f8f0555a027c09a39dd2023.jpg\n",
            "            8_jpg.rf.0dbc692c2e674cbd02a75b6e958a7606.jpg\n",
            "            imagen_136_jpg.rf.985977cc8df837025ed6db976e717c4e.jpg\n",
            "            chinche13_jpg.rf.73f2953f02a64182ca7d1ff5d4e735bb.jpg\n",
            "            imagen_271_jpg.rf.5ce6801de236cda8d6a014b409344fef.jpg\n",
            "            imagen_143_jpg.rf.d7912c0e3ee924b28be718ab8078cd9c.jpg\n",
            "            crw67680_jpg.rf.e2dc87fd12c17b99e7561ec502cfcae1.jpg\n",
            "            640px-Zelurus_sp-_-12911326493-_jpg.rf.8761e3ed85e0455140102f608e3c9530.jpg\n",
            "            imagen_51_jpg.rf.bdedfbcf5cf1a2cc32d7adbdedeefa2a.jpg\n",
            "            chinche6_jpg.rf.2787fe28a0c33ef6b92e7281d4d0b918.jpg\n",
            "            Leptoglossus_phyllopus_Pat_Porter_jpg.rf.b17b79830929ab99dfcac0f9e67eb94d.jpg\n",
            "            imagen_136_jpg.rf.353dae1ea54bb03bf299dd6ffbf49c34.jpg\n",
            "            Arilus_cristatus_-_Wheel_Bug_-_Assassin_Bug_-42674125980-_jpg.rf.6f5fe4677a8127ea20f317858624c006.jpg\n",
            "            chinche2_jpg.rf.ae6262aaf2d8d439836f46341be31747.jpg\n",
            "            Tegea_atropicta_45315973_jpg.rf.7374404f2e2ba3f3290d72ebfea93d2b.jpg\n",
            "            640px-Zelurus_sp-_-12911326493-_jpg.rf.6416062d27a18ec6f16271011a07cae1.jpg\n",
            "            Ground-Beetle_jpg.rf.e9c3d73857338784a323ffe47b0d7091.jpg\n",
            "            imagen_145_jpg.rf.7f5c9f3cf784f82f049492772acde254.jpg\n",
            "            chinche16_png.rf.22c155892922c1bf855ccf108374ef76.jpg\n",
            "            imagen_298_jpg.rf.8539e6150ab36dfe0f35bb8c8be11d80.jpg\n",
            "            escarabajo-e1583723107229_jpg.rf.d0ddd14f70038f5968379b99e19e6272.jpg\n",
            "            imagen_72_jpg.rf.b613f8aa6dd55b5760dfc0604bf8b270.jpg\n",
            "            crw67680_jpg.rf.c69a83ebfbe2e42d538d8ad166f6fdbd.jpg\n",
            "            pulga4_jpg.rf.6a366bd6a540afa5d94f2df2d256ecf0.jpg\n",
            "            chinche8_jpg.rf.b3cb0d18bfab02bb0926fafd083b0ff0.jpg\n",
            "            6143JTBn3JL_jpg.rf.f3142f6e0924aa17ff4f971281073052.jpg\n",
            "            DirkvdM_Assassin_Bug-1-_jpg.rf.d16ff1d8312315b374551733908972f3.jpg\n",
            "            arana-roja-caracteristicas_webp.rf.6026d00f51094989d33ecf1d4c7db520.jpg\n",
            "            imagen_315_jpg.rf.0531d059ef1f354bfb08b7214e6fba8e.jpg\n",
            "            Assassin_bug_front_2-tif_jpg.rf.d710418ed409ccaa1b7707c55dedfd9f.jpg\n",
            "            imagen_232_jpg.rf.6b5c07667e8bdf1f3ac63aa375b15061.jpg\n",
            "            imagen_232_jpg.rf.84050dc4e50eeb9401ae1191d409cb07.jpg\n",
            "            17_png.rf.5d6514c66e257de8f324bfe1a7d0cd96.jpg\n",
            "            imagen_108_jpg.rf.fc7e55731458ec443afda5939e1182a9.jpg\n",
            "            escarabajo-e1583723107229_jpg.rf.466b7804ad84f9c14834d025aa79d159.jpg\n",
            "            32_jpg.rf.198075dbd4f1817779c4c042b0f5c3a8.jpg\n",
            "            imagen_208_jpg.rf.cd1dfae48d19a61494fb54a7125fa028.jpg\n",
            "            imagen_315_jpg.rf.e89a1f5c7652f0e44259a043ac887690.jpg\n",
            "            Assassin_Bug_-Oncocephalus_annulipes-_-12885347564-_jpg.rf.61d879364a143fa6e545fe219a614b74.jpg\n",
            "            -asda_webp.rf.3c4f6977b58cbe48372bf4ff8d5d37ea.jpg\n",
            "            imagen_323_jpg.rf.634a4d7c852c7cba2f558bcf41a58f4c.jpg\n",
            "            imagen_134_jpg.rf.0a99a6f476bb35e222fccf8074863494.jpg\n",
            "            153407409992237093_webp.rf.c354708adf80dbfce832f0626cd49f58.jpg\n",
            "            Pygolampis_striata_-10-3897-BDJ-9-e63695-_Figure_3_b_jpg.rf.7a2fbcb3dc9680f5aaa8d238bae7044b.jpg\n",
            "            imagen_205_jpg.rf.daa369976f45e1389fd0e2c7fb100fef.jpg\n",
            "            garrapata10_jpg.rf.26dbfec33d770852217b009b68f7d894.jpg\n",
            "            chinche2_jpg.rf.399d474550303d14560bd6d072c10622.jpg\n",
            "            2015-06-05_13-30-57_IMG_2590a_-_Flickr_-_andrey_zharkikh_jpg.rf.107ac2e9bdb371e9d3dc4bf004400921.jpg\n",
            "            19_jpg.rf.cd63c5f8e9eafd6c427db20a5424f7ff.jpg\n",
            "            garrapata15_jpg.rf.8c0aaac04d772f0ba8f58488d7f68e9b.jpg\n",
            "            2_png.rf.fcce04759033ca3e87a7e5c00841e5b4.jpg\n",
            "            garrapata10_jpg.rf.4d7e5e13a7ec378eeb14381fc2c71812.jpg\n",
            "            chinche17_PNG.rf.981ff0f186a0401a31aab8a8285216a0.jpg\n",
            "            mordedura-arana_jpg.rf.341fdf445eaf279ec8839f73ca212fb8.jpg\n",
            "            chinche19_png.rf.8e0eaf27ce1332c9424abf426fdbcc95.jpg\n",
            "            Ant-eating_assassin_bug_nymph_-15031835754-_jpg.rf.6f2a0c18f11e65a349cf22b3bb9ec187.jpg\n",
            "            5_png.rf.39447bd50642fc9a55eb9052648cd9de.jpg\n",
            "            imagen_51_jpg.rf.c6a4574c45add1aa9ed3009ac9ee9c57.jpg\n",
            "            2015-06-05_13-30-57_IMG_2590a_-_Flickr_-_andrey_zharkikh_jpg.rf.06ae6b7c4eac715820a721bd6a5f1e39.jpg\n",
            "            redflourbeetle_webp.rf.f1a5cbe607be51b8527063f0e790b838.jpg\n",
            "            escarabajos-de-madera_webp.rf.2232eefc618c2db6dadbabab9f88d792.jpg\n",
            "            imagen_253_jpg.rf.cff43ad03bcec1956c322def2e26e5aa.jpg\n",
            "            19_jpg.rf.a95648e943af9896d9db00251d196d90.jpg\n",
            "            escrabajo-20160909_jpg.rf.75bea5db9ab57b79670d47706f8da390.jpg\n",
            "            Arana-lobo_webp.rf.c16936cbba499976170245ee7909b566.jpg\n",
            "            Assassin_Bug_Nymph_-_Flickr_-_treegrow_-8-_jpg.rf.b0af4ef72ee850a593d9dbf44fc7c2de.jpg\n",
            "            pulga4_jpg.rf.655cdc046fa106aa20df41718619f5c2.jpg\n",
            "            37_jpg.rf.ab963891c0d4ea219773527dd83e3b3d.jpg\n",
            "            garrapata19_png.rf.5dc3b8dec6b59cdf34a27a3c82c27c9f.jpg\n",
            "            imagen_249_jpg.rf.e98127d2b33b4fda2e082ebb0bc01337.jpg\n",
            "            imagen_145_jpg.rf.d680d88b03f73d58a3fef0fd2c0f253a.jpg\n",
            "            imagen_253_jpg.rf.0f59aac69bb41ac3ad76d02907e0e850.jpg\n",
            "            imagen_250_jpg.rf.e7a88d1bdb79539c2eb684a358a2881f.jpg\n",
            "            13_png.rf.1ffd1a0ea551757e91bf06415b198221.jpg\n",
            "            imagen_201_jpg.rf.1dbeb49ae8aba336d01576c4bdfafae5.jpg\n",
            "            Assassin_Bug_-_Zelus_luridis-_SERC-_Edgewater-_Maryland_jpg.rf.1a07425734b4f146d895679d745407e5.jpg\n",
            "            5_png.rf.fb645e547ac9f317e02bf6eaead827f5.jpg\n",
            "            Arana-lobo_webp.rf.cc063f743c8a45b9885c41b84cbe16d3.jpg\n",
            "            Milkweed_Assassin_Bug_jpg.rf.9739b52f0499a96680208e8db4d969f7.jpg\n",
            "            imagen_24_jpg.rf.6e2060dc56902a18213c0c389813277c.jpg\n",
            "            Pristhesancus_plagipennis_243709472_jpg.rf.10885a0f78bb9b233cb0a606fe27a22f.jpg\n",
            "            garrapata16_jpg.rf.671381d5776bdf4f97df2efa80ca44af.jpg\n",
            "            Melanolestes_picipes_-_Black_Corsair_-_assassin_bug_-ID_thanks_to_Ashley_Bradford-_-42934548600-_jpg.rf.9e82a66b86cb88a5897397be3e0781bc.jpg\n",
            "            imagen_148_jpg.rf.19586714f6d045357d3669b06ecff5fc.jpg\n",
            "            imagen_140_jpg.rf.ae8b7e7b97c6fdffbc81cc5d1d210bb1.jpg\n",
            "            images-7-_jpg.rf.b96a26ee8a19c3f3710fa2d11476531b.jpg\n",
            "            imagen_218_jpg.rf.31e100339a4a81d30cfc624c081b1acb.jpg\n",
            "            imagen_218_jpg.rf.af11cb8ae9689da45ff446d0358b4987.jpg\n",
            "            640px-Assassin_Bug-_Salyavatinae-_-_Lisarda_erecta_-_-_-_Flickr_-_gailhampshire_jpg.rf.0b98e326ee632b9926b42c249a0906c2.jpg\n",
            "            28_jpg.rf.8c37104519cd41d3647af110d6180365.jpg\n",
            "            10_jpg.rf.857e1bdbbb9fe1df8e213851975abc85.jpg\n",
            "            imagen_103_jpg.rf.4a5beb048327f70c139c0097c25f1a3e.jpg\n",
            "            20902451-dos-de-jardin-escarabajo-de-tierra-de-carabus-hortensis-negro-sobre-fondo-blanco_jpg.rf.d0a1ee9e8efcb125b91d165fd6a8fb2b.jpg\n",
            "            garrapata7_jpg.rf.c29ad329fa6cef0093c1168d27ab8599.jpg\n",
            "            153407409992237093_webp.rf.e0ba034007b1767904963009989d0633.jpg\n",
            "            imagen_230_jpg.rf.920f73b9a907e2ff0901a6b499786307.jpg\n",
            "            chinche18_png.rf.22aa8ab5167385996371c93102f68cb2.jpg\n",
            "            18_png.rf.09b43a779884b6d73a072883a0493642.jpg\n",
            "            10_jpg.rf.3232ae2c42d0d33e31a9b1201b953da9.jpg\n",
            "            imagen_172_jpg.rf.a915fd9cb2de2fdd7274970a16d309c6.jpg\n",
            "            imagen_195_jpg.rf.f41102460c528af68b4da19c61f15328.jpg\n",
            "            f960x540-111240_185315_5050_webp.rf.0282e881406316f591fb282ea61ad054.jpg\n",
            "            imagen_254_jpg.rf.7a1ee2f6de398ed113fcb6a1ccfac4c6.jpg\n",
            "            imagen_54_jpg.rf.0e2864549cfc51d4c21b4da7f74e71a1.jpg\n",
            "            Pristhesancus_plagipennis_nymph_jpg.rf.c4a3093533663da7438454c32896eae1.jpg\n",
            "            images-7-_jpg.rf.40de04d720c93fbe561beb119ae2f465.jpg\n",
            "            imagen_103_jpg.rf.db98d80fa002472f1a973c4694dc541b.jpg\n",
            "            imagen_254_jpg.rf.f8f55ca396a323ed37fdcca502ef149a.jpg\n",
            "            640px-Red_Assassin_bug_03978_jpg.rf.de77cf073b82c379c69e240e3b7e2e11.jpg\n",
            "            2015-06-05_13-30-57_IMG_2590a_-_Flickr_-_andrey_zharkikh_jpg.rf.5f9902f45d68da7105e4c06d2a2dcc22.jpg\n",
            "            640px-Orange_Assassin_Bug_-_Flickr_-_treegrow_jpg.rf.6dcdd43ecc2429c2c23fdd60295376d3.jpg\n",
            "            chinche12_jpg.rf.95b9e5a6f5233ca9fb4ed9c175c17958.jpg\n",
            "            chinche10_jpg.rf.1b077bc6f7c47a4e9e1084e341f37cc7.jpg\n",
            "            Arilus_cristatus_-_Wheel_Bug_-_Assassin_Bug_-42674125980-_jpg.rf.ef7e3439bf1244b76d4e77aa91169b55.jpg\n",
            "            Spider_assassin_-18396334843-_jpg.rf.f0a4239659a5ff4cec5bc6544434eb8e.jpg\n",
            "            640px-Orange_Assassin_Bug_-_Flickr_-_treegrow_jpg.rf.ba6c5e0886ed32edf9e75d6d7180b0ea.jpg\n",
            "            cucarachas-humedades_jpg.rf.37eb213770f70c3517459bce1a703e17.jpg\n",
            "            f960x540-111240_185315_5050_webp.rf.3ab995ad707fa3998ddb3dbd30fdd987.jpg\n",
            "            640px-Red_Assassin_bug_03978_jpg.rf.f3d4b6bc2b6cde432f6c6b56905c78d4.jpg\n",
            "            escarabajo_c_webp.rf.3b91113fb608a9fd6c2d4e5be09d44de.jpg\n",
            "            20_jpg.rf.c72e2a165f1c312e3c2bbd84af10573c.jpg\n",
            "            35_jpg.rf.2cf3c9197bc5cb38f5fe666902e104b6.jpg\n",
            "            23_jpg.rf.5dcf814dc781d403c7d4dbb244c98a83.jpg\n",
            "            cucarachas-humedades_jpg.rf.8961b97c693a6f84d48f476a2a872d8c.jpg\n",
            "            26_png.rf.b4863aa8ea0292eaebf62154325ab6a7.jpg\n",
            "            imagen_19_jpg.rf.2718a896bc0fde40ba319ea24f8cb4e1.jpg\n",
            "            27_png.rf.4928804c5ba4660fab4d40bd9a957204.jpg\n",
            "            12_png.rf.baceebd42eb0fd7d6067553f79d0054e.jpg\n",
            "            pulga2_jpg.rf.89a9e87c33388b9fc2752a5a88b36528.jpg\n",
            "            12_png.rf.d591ae30e1d423a50014750909619863.jpg\n",
            "            chinche10_jpg.rf.f183ef70b7c399e20446f14b5b7246df.jpg\n",
            "            Spotted-Cucumber-Beetle-feeding_jpg.rf.311587df31b81a5382cfcfa6c27aa084.jpg\n",
            "            aran-a-rincon_jpg.rf.5912eed008d89421a2dd03d63f15c7e1.jpg\n",
            "            chinche20_jpg.rf.3d9b37519fa1edc32e6da1e0eb80437e.jpg\n",
            "            imagen_25_jpg.rf.e6feb0ad29d03b2d79cb9626917e823b.jpg\n",
            "            Waterkever-Coleoptera-waterinsecten-1024x419_webp.rf.ecb7629f97b594752f2ed848c9e0f45d.jpg\n",
            "            medium_jpg.rf.15dc64a355d782020aef87ef343a04bf.jpg\n",
            "            imagen_206_jpg.rf.2d71ac4cf0d250ac16b12ee54e50c94f.jpg\n",
            "            imagen_241_jpg.rf.c7f8d20337f6a31a04428db24e4ddd2c.jpg\n",
            "            chinche5_jpg.rf.09c473b936d5f6c24c65ae8cdef87161.jpg\n",
            "            images-8-_jpg.rf.75b799c0c820a998ff963f37c149ea8b.jpg\n",
            "            chinche28_jpg.rf.d5894e6f738f59e4db0bc37bb394e13e.jpg\n",
            "            Pristhesancus_plagipennis_371345611_jpg.rf.110d1b98082e5741531ec5ce8e9334a9.jpg\n",
            "            31_jpg.rf.3a78911752a497ea03b08f8254d194b3.jpg\n",
            "            chinche17_PNG.rf.49fb37909ab492ded63a35511d042a72.jpg\n",
            "            25_png.rf.8b6f75ac1f110bd4659bad1a201f5ebe.jpg\n",
            "            imagen_145_jpg.rf.7a8c611f6ad8b19149e5c8fe2fdb8d8c.jpg\n",
            "            Assassin_Bug_-Reduviidae-_-13965741853-_jpg.rf.43fac6df65944dbafcefb2adec0760e2.jpg\n",
            "            imagen_235_jpg.rf.31d6349f87e628221ad191642197f5dc.jpg\n",
            "            escarabajo_arana_subfamilia_ptininae_4667_5_600_jpg.rf.0ec4d6a540aca21e356209ef5b5073ed.jpg\n",
            "            640px-Orange_Assassin_Bug_-_Flickr_-_treegrow_jpg.rf.94da719036173236bccf30c0248f2116.jpg\n",
            "            chinche18_png.rf.ae7ae7ec770e99baa8bcdd495bfb120a.jpg\n",
            "            chinche22_jpg.rf.5a15d218be5fec0129fb56f7654171fe.jpg\n",
            "            chinche21_jpg.rf.0196eeab7d604cd8a0bd831f17141c67.jpg\n",
            "            imagen_126_jpg.rf.e0660b5b58526eb53ee907be42957832.jpg\n",
            "            chinche12_jpg.rf.0f75a7fe2ac7a404c2f29bdaac74ba0c.jpg\n",
            "            chinche22_jpg.rf.425b221776667ebff6a2452365a74834.jpg\n",
            "            images-3-_jpg.rf.a40a445124ca5fa39c756800e378fded.jpg\n",
            "            ih90t7Yt-_2000x1500__1_jpg.rf.a1d7a90005973c8a8545249077a05f4c.jpg\n",
            "            Tegea_atropicta_45315973_jpg.rf.98f9ea4f52ab7d40385f66f71613c35b.jpg\n",
            "            imagen_126_jpg.rf.17967914a17d4dad875d55942a5a41e4.jpg\n",
            "            imagen_205_jpg.rf.9a43b83a86a774ee1b578a3bfc204f78.jpg\n",
            "            imagen_207_jpg.rf.ffa6bb3749247f93c077fc40f973091f.jpg\n",
            "            imagen_209_jpg.rf.1576ee6b6d7bce16ab0cd2a5fbd03415.jpg\n",
            "            9_jpg.rf.be322894b6a5d81ff625ae08e214acda.jpg\n",
            "            Triatoma_infestans_jpg.rf.50d51b5d498e76c70667290956d63617.jpg\n",
            "            chinche24_jpg.rf.b9a64978c50a8821e5acbb186c266f61.jpg\n",
            "            chinche2_jpg.rf.c118bedccd35d0ce45693f0bac29cc57.jpg\n",
            "            Ant-eating_assassin_bug_nymph_-15031835754-_jpg.rf.ad6602512ea8ed2eb7ddfcb3e8225a9d.jpg\n",
            "            arana-roja-caracteristicas_webp.rf.e3543bb9e94e868b4cab485cdab26d86.jpg\n",
            "            imagen_215_jpg.rf.bb0b8d4a54e07d3ee249915c26ccef6c.jpg\n",
            "            chinche_asiatica_o_hedionda_53979_4_600_jpg.rf.98d651323acb0fe4229ca6eadb4c8e49.jpg\n",
            "            Pristhesancus_plagipennis_243709472_jpg.rf.480c85e0c93653b1d78f713827241e33.jpg\n",
            "            images_jpg.rf.d4594f9d140410a655ce0b372ddf92ad.jpg\n",
            "            Assassin_Bug_-Reduviidae-_-15315406737-_jpg.rf.9efe9c21fa4f707591b95106c54ade16.jpg\n",
            "            chinche6_jpg.rf.1b7f8cb07affb9f0b34c62345c5394a2.jpg\n",
            "    train/\n",
            "        chinche19_png.rf.dc38da360251f1a905a8a4d65dd2f99a.jpg\n",
            "        imagen_90_jpg.rf.ea52d32627e35ef802a37229fa0acad1.jpg\n",
            "        imagen_190_jpg.rf.84e2752c70b7836c33493df7958153cb.jpg\n",
            "        imagen_64_jpg.rf.9f530e95ffc37b228018b00cb8d90a22.jpg\n",
            "        imagen_146_jpg.rf.48623305ac84cd2bbd924ec82ee401f1.jpg\n",
            "        chinche19_jpg.rf.73bbb02678ab19afc81a1ddf8179e312.jpg\n",
            "        images-1-_jpg.rf.a3600c7a28e2ff92154ea0174fb0330f.jpg\n",
            "        2016-09-10_21-50-04_IMG_7928_-_Flickr_-_andrey_zharkikh_jpg.rf.efcc80b2640c6326b97d7e3dbd32e1b0.jpg\n",
            "        Spotted-Cucumber-Beetle-feeding_jpg.rf.19daaa307fc13618776c1d6d532e6168.jpg\n",
            "        Pselliopus_-_Assassin_Bug_02_jpg.rf.3a85ab039ea1cbae20423e176f1328ec.jpg\n",
            "        images-3-_jpg.rf.c60e5519a6f6d4a7a835c3fdf12cf79c.jpg\n",
            "        Pristhesancus_plagipennis_371345611_jpg.rf.b9e8b8d515202571d789f4a0022e239a.jpg\n",
            "        imagen_250_jpg.rf.80786bc01da78bd74691541d4de3e64c.jpg\n",
            "        imagen_72_jpg.rf.90e7403d559b1e370037a6b6b2d67843.jpg\n",
            "        imagen_172_jpg.rf.54171de9a999a0928493ad5dd726fc80.jpg\n",
            "        imagen_203_jpg.rf.a96e9c2adb60da69306bec74883abce7.jpg\n",
            "        28_jpg.rf.002913cab86893c3714ac6dbc735ecaa.jpg\n",
            "        31_jpg.rf.35d505a6573eee203d470da60c3de5bb.jpg\n",
            "        7J7JA2UGI5ETRLYLS53CMBK3IQ_png.rf.00c4ab7a3b8fa71a22f908ca11f75aa1.jpg\n",
            "        20_jpg.rf.bb4872425b81b7e2dffce4480a11f41d.jpg\n",
            "        chinche11_jpg.rf.0849e67375fb8b6623de5f7f2d0a55ba.jpg\n",
            "        imagen_54_jpg.rf.166ed55f6a176dd00b0fcb3895c2b2fb.jpg\n",
            "        escarabajos-de-madera_webp.rf.ddabc2a52144fab9a8c50e8e8344bea9.jpg\n",
            "        imagen_155_jpg.rf.f8b13d26d221501fdb2a3f4f45c37bb3.jpg\n",
            "        garrapata19_png.rf.81ae368c0967542b93bb3a2258e9b9fa.jpg\n",
            "        imagen_190_jpg.rf.78f2bc93f20ac5d35d48049456a20c2b.jpg\n",
            "        imagen_62_jpg.rf.21e2d6f433227512aaa21caf5c27ac51.jpg\n",
            "        38_png.rf.9f04fbdc2f061e842e8aec2cc4f99d45.jpg\n",
            "        curso-ilustracion-insectos-grafito_jpg.rf.b9fb73a042e46c52d1218a42fef2c978.jpg\n",
            "        12_png.rf.0a773ed9c55dc15d25234cc7fff5e008.jpg\n",
            "        chinche19_png.rf.4214d455925778120d550c528e3d9180.jpg\n",
            "        chinche13_jpg.rf.22f319e08af7556a9ad73acf717811da.jpg\n",
            "        640px-Assassin_bug_of_some_kind_-43869093162-_jpg.rf.b82b009ce96356c646a29b74c2534ff2.jpg\n",
            "        22_jpg.rf.2db574b19c237d82c53e817ba85ce062.jpg\n",
            "        23_jpg.rf.d4b23041880f10fb1118648f1591900b.jpg\n",
            "        nacerdes-melanura-03_jpg.rf.5c7fcba84fa3b9976fe567d6d33c4969.jpg\n",
            "        640px-Zelurus_sp-_-12911326493-_jpg.rf.aee810cc5d87db3f60f41fcce5f10b16.jpg\n",
            "        8_jpg.rf.af05f067cb4989b7b3bec6ff7184656c.jpg\n",
            "        descarga_webp.rf.d73b2a77b1bd6c0d871d32369892ccb1.jpg\n",
            "        cucarachas-humedades_jpg.rf.ec8abe2a86547ec1841901b8e55ffedb.jpg\n",
            "        imagen_62_jpg.rf.a0d5658e9a5af24a9c0ed7a241d3afd5.jpg\n",
            "        aran-a-rincon_jpg.rf.6f2605ff560fdb09cf3b474d7199a1d7.jpg\n",
            "        imagen_204_jpg.rf.0ee2986fe784abc54893ac30c9bbd8f0.jpg\n",
            "        1_png.rf.eb345a8e3304d722d82051987555369c.jpg\n",
            "        31_jpg.rf.2204af1578a58a0c055fa8e994163284.jpg\n",
            "        Waterkever-Coleoptera-waterinsecten-1024x419_webp.rf.6abc0a98feb39f7519e19a86b178c231.jpg\n",
            "        8_jpg.rf.5379ea4d2620cbcccf6fe4e1330b6f0b.jpg\n",
            "        Firebug_jpg.rf.48c2fa83d593081ede999d1d30488729.jpg\n",
            "        Zelus_renardii_-Reduviidae-_II_jpg.rf.bf2eb0bc2d129372ce47e3353829642d.jpg\n",
            "        Zelus_renardii_-Reduviidae-_II_jpg.rf.f7b4a98172308e37c32af02300192231.jpg\n",
            "        imagen_126_jpg.rf.d9fb79d6bfa4387b80f635e97e2f5d61.jpg\n",
            "        escarabajo-e1583723107229_jpg.rf.5794810e79f9efc75e58c84745d11f95.jpg\n",
            "        garrapata5_jpg.rf.fd9bb4d385f0029034a275e8eaadfa1a.jpg\n",
            "        cantharidaejtann-1_webp.rf.02f6c86636c0f5b876cab057826729ef.jpg\n",
            "        arana_png.rf.4f77b5c13d36b2d2f5464e5558d27254.jpg\n",
            "        chinche16_png.rf.03db3f9ef11b91d5d350b41baced4a3b.jpg\n",
            "        imagen_323_jpg.rf.d1e0009a9d777751fe879b8e5e9b046b.jpg\n",
            "        leptura-sobre-una-hoja-wikipedia-commons-by-guido-gerding_jpg.rf.1fde93b86b7e0c493e216424df9eb8e3.jpg\n",
            "        imagen_21_jpg.rf.4ff78eb3ea6bce29de8ea96adc815180.jpg\n",
            "        4_png.rf.d4350ee56e469758d24a31100df57dd4.jpg\n",
            "        imagen_133_jpg.rf.bf265e5bcd247c87e39837c25e12f114.jpg\n",
            "        pulga2_jpg.rf.24d34c13066bd2854bd910563bd83c40.jpg\n",
            "        imagen_253_jpg.rf.0c5dbe095ff06513ac70b2d7aa689354.jpg\n",
            "        Tegea_atropicta_45315973_jpg.rf.ff0fa239df069d00827de91f702b292b.jpg\n",
            "        imagen_271_jpg.rf.5d8c9beff68a2904dcfed587d6cfa71d.jpg\n",
            "        imagen_180_jpg.rf.f5ce00964d808209a52f90ff260d1f38.jpg\n",
            "        arana31_webp.rf.1c5be1c870033728847864e453675602.jpg\n",
            "        imagen_249_jpg.rf.334b2a0d42559ed7acc7bd6654f060dc.jpg\n",
            "        2016-09-10_21-50-04_IMG_7928_-_Flickr_-_andrey_zharkikh_jpg.rf.e7c2fe271fb6d5b95361e8fe01ae52a7.jpg\n",
            "        Assassin_Bug_-Reduviidae-_-15315406737-_jpg.rf.75d1319c25dbaa8616e33e542d116d0c.jpg\n",
            "        640px-Black_Corsair_Assassin_Bug_-_Melanolestes_picipes-_Meadowood_Farm_SRMA-_Mason_Neck-_Virginia_-40486058372-_jpg.rf.392d8bd47aed598096de65dcb0d4d13b.jpg\n",
            "        images-13-_jpg.rf.7878889bbc3f07e1b99958ed1b05aac6.jpg\n",
            "        chinche27_jpg.rf.76393a2e2ae1f11770cf18b5543d55e0.jpg\n",
            "        Reduvid_May_2014-1_jpg.rf.e3323f33b38ac15f7d191a7e89987e3e.jpg\n",
            "        insectos-eleconomista_jpg.rf.1117b963c951cd72babfed29d00e956e.jpg\n",
            "        1200x675_cmsv2_514767dc-8344-56c0-9880-a3f296f852bd-8379100_webp.rf.06ae5559e83c4296e4bd7661e138a44f.jpg\n",
            "        imagen_179_jpg.rf.fc7980f41f4578685cfd9eccf8f2c8d2.jpg\n",
            "        Ground-Beetle_jpg.rf.fd17b9b4f59fa34f182ad66fac69fb84.jpg\n",
            "        28_jpg.rf.de992cc4c0a1d2a24cdf8cde24a9a587.jpg\n",
            "        imagen_179_jpg.rf.75075ccf21e10a1cf188c629898ecc2b.jpg\n",
            "        chinche29_jpg.rf.cd5cc1ed22f1b229834ddd7a6c43e3b9.jpg\n",
            "        Assassin_Bug_Nymph_-_Flickr_-_treegrow_-10-_jpg.rf.30d02d13b7de4605bc6d46af7d8e71a1.jpg\n",
            "        imagen_25_jpg.rf.1b2de9f108a35b3949ef9bb10780fd9f.jpg\n",
            "        32_jpg.rf.b16aebfd96e4732d3b3d268effa39167.jpg\n",
            "        imagen_228_jpg.rf.f39c4d3a80a99d8ef96b3d8497c4d01c.jpg\n",
            "        imagen_258_jpg.rf.ebd9d757049a8a98636cd688ffa99c6a.jpg\n",
            "        imagen_142_jpg.rf.b36d48bbc5f39688ef2845fc01527f57.jpg\n",
            "        garrapata10_jpg.rf.dcc64c5b5486c11ebac88da156b536d1.jpg\n",
            "        Milkweed_Assassin_Bug_jpg.rf.245783162ca094d7c7159cbfdf1053b6.jpg\n",
            "        images-6-_jpg.rf.9bf5e495ba276a6759d88f5659ead6f7.jpg\n",
            "        imagen_190_jpg.rf.50ff3bea7b44090b534462b7281e2eb6.jpg\n",
            "        crw67680_jpg.rf.6e46a610de4a51b378e051d4f20e6e2e.jpg\n",
            "        chinche20_png.rf.b79b172b7fd149a17e6af92c7a7c1cb6.jpg\n",
            "        Little_Assassin_Bug_-_Flickr_-_pinemikey_jpg.rf.a961368be9daee8d03041fbf2fe43dc5.jpg\n",
            "        Pristhesancus_plagipennis_243709472_jpg.rf.ab89ca457af262e222ea0ebc1920a28f.jpg\n",
            "        chinche8_jpg.rf.e77d490d6b20dd7cc8b9ce480214c1ef.jpg\n",
            "        imagen_240_jpg.rf.caef979a2754177ff2ae5cc3fc67169f.jpg\n",
            "        images-1-_jpg.rf.e3d1304c2fa9b64fa7f1e7a0b5d171c9.jpg\n",
            "        chinche20_png.rf.99d63ff8fcc13d3d3ba03a2c08ab68c3.jpg\n",
            "        Spider_assassin_-18396334843-_jpg.rf.8980c48d6aeee6474374999f47f11ab8.jpg\n",
            "        imagen_121_jpg.rf.0485b069257a4081a6e92f8e4eac3008.jpg\n",
            "        imagen_208_jpg.rf.fc27f68aff5c8fe279b9b2d84f5ce985.jpg\n",
            "        Ground-Beetle_jpg.rf.8b3678a36dca5add2816be6b729c77dd.jpg\n",
            "        imagen_7_jpg.rf.d2d692431a5125424754e572a292635e.jpg\n",
            "        imagen_218_jpg.rf.24d2681d7c8be67bbddf839ba2c5a0f2.jpg\n",
            "        6143JTBn3JL_jpg.rf.5fccd71e8e2e363d36be28d5d1dccd53.jpg\n",
            "        imagen_19_jpg.rf.99e46182247adebf689778b97ffbe714.jpg\n",
            "        Melanolestes_picipes_-_Black_Corsair_-_assassin_bug_-ID_thanks_to_Ashley_Bradford-_-42934548600-_jpg.rf.5ebba3de26a718ebd5c72610a8872cbc.jpg\n",
            "        escarabajo_c_webp.rf.8b077de67080e9d1dcf6d9e0e37f1ed7.jpg\n",
            "        insectos-eleconomista_jpg.rf.431d0ecc9c4f19574e4712161ca23744.jpg\n",
            "        imagen_140_jpg.rf.62669b4215f2799f2cc241bcc88a19bb.jpg\n",
            "        22_jpg.rf.c1a642ec49c3faf934f5292dc234ae9a.jpg\n",
            "        imagen_54_jpg.rf.8903af637e7f7ee6460ec4f102c283cd.jpg\n",
            "        -asda_webp.rf.77a6a326ef8b8d834ed7728c5b1f091a.jpg\n",
            "        insectos-eleconomista_jpg.rf.ac444f075f34bb238e3b9a0ea2e1f126.jpg\n",
            "        leptura-sobre-una-hoja-wikipedia-commons-by-guido-gerding_jpg.rf.6a2e10aad17620023df30a215e2a9fbc.jpg\n",
            "        chinche25_jpg.rf.3599111d622b3b2a8f4715a4171bc3aa.jpg\n",
            "        chinche19_jpg.rf.f4fa293ac8f911dbd1fbfa87cba23776.jpg\n",
            "        images-6-_jpg.rf.d0034369e8249446f110da8bd4c991e7.jpg\n",
            "        chinche13_jpg.rf.dba6ce664e441ac03e088d4912ddff60.jpg\n",
            "        10_jpg.rf.102df5319293195d49be66edb598a660.jpg\n",
            "        18_png.rf.91a16687f6148e1257e2a5426bd4c6c0.jpg\n",
            "        7J7JA2UGI5ETRLYLS53CMBK3IQ_png.rf.0aa7bd0f650db44cc2360c6101ad7306.jpg\n",
            "        Exophthalmus_pulverulentus_01_jpg.rf.a1f08da29809adfb65eb130f91c926b9.jpg\n",
            "        Assassin_Bug_-Reduviidae-_-7079902129-_jpg.rf.30bce0b85d5c74b6547821cbfbcbe86b.jpg\n",
            "        chinche20_png.rf.5708391196dc7c3d364068b3f26fa3d3.jpg\n",
            "        Pselliopus_-_Assassin_Bug_02_jpg.rf.460a15d0145194b4a2ddf63006c219ea.jpg\n",
            "        20902451-dos-de-jardin-escarabajo-de-tierra-de-carabus-hortensis-negro-sobre-fondo-blanco_jpg.rf.cfbfb8b67e214ca56c6bc09b449398d8.jpg\n",
            "        images-13-_jpg.rf.a9b2bec823cb2298c6aed39a008397c5.jpg\n",
            "        imagen_147_jpg.rf.ec20353341c91b1ff23a8a0d553997f9.jpg\n",
            "        imagen_133_jpg.rf.d91f4b3ecd4eaddc283c514de67cc672.jpg\n",
            "        imagen_142_jpg.rf.425e8cef5344804cccc683611569f487.jpg\n",
            "        chinche25_jpg.rf.3554d0bb0de213894448e4ea5a51cd07.jpg\n",
            "        imagen_254_jpg.rf.e8f8a12752288f5944434629c13ed01a.jpg\n",
            "        arana30_png.rf.222719576ad434f5d5798d672750ebf0.jpg\n",
            "        imagen_205_jpg.rf.5bf5e46a5bcb946cb8312519304a9522.jpg\n",
            "        imagen_206_jpg.rf.61898affa59cf08cd373751bdd7b9c1e.jpg\n",
            "        garrapata13_jpg.rf.03175ea856c5a4efa98dea9d8efc8e9a.jpg\n",
            "        Ant-eating_assassin_bug_nymph_-15031835754-_jpg.rf.3b45fd59cbdcca559cdaf94667047e1c.jpg\n",
            "        hqdefault_jpg.rf.ff56cb25baa622c467625bc8d1bf2535.jpg\n",
            "        26_png.rf.a32cf4fb03962a5b2715ea123cf9a70d.jpg\n",
            "        images-6-_jpg.rf.6add7d3b62da8dc41c9fa4aa4e99418b.jpg\n",
            "        imagen_121_jpg.rf.12628fa175b5d28d3f91e6053e7704c3.jpg\n",
            "        Assassin_Bug_-Reduviidae-_-13966021573-_jpg.rf.ed80984593f06be35261be93a499e230.jpg\n",
            "        imagen_146_jpg.rf.27e48d2c217d8c8f3a36814cd2ef0900.jpg\n",
            "        pulga4_jpg.rf.0ce940a0565600554f74ea9996ddaf43.jpg\n",
            "        garrapata5_jpg.rf.3e8b141690f037e466946347c2ecb4f3.jpg\n",
            "        medium_jpg.rf.70c89b0c3d296750ce5272d4d755346c.jpg\n",
            "        imagen_90_jpg.rf.7e8d9c56d8a9f3b0875eb2b71ca4dde7.jpg\n",
            "        imagen_20_jpg.rf.bfb1188d95ac208d3107b30b1d7ab6be.jpg\n",
            "        pulga1_jpg.rf.e57617d907061660de2251051c393800.jpg\n",
            "        imagen_219_jpg.rf.6e94a4dfe8a503f9d9f485e450748021.jpg\n",
            "        Firebug_jpg.rf.75572ad50882ca9a05622ee4eabb7e83.jpg\n",
            "        1200x675_cmsv2_514767dc-8344-56c0-9880-a3f296f852bd-8379100_webp.rf.f44a05785e0213c3a9948d127c706ca7.jpg\n",
            "        Assassin_bug_front_2-tif_jpg.rf.020b06732742def6751072cc36a0a1a1.jpg\n",
            "        imagen_20_jpg.rf.94bbe18f3116ac8d9f8ed1782c51f58f.jpg\n",
            "        images-7-_jpg.rf.879c676235881fed08c98a92c52a2cb1.jpg\n",
            "        imagen_264_jpg.rf.713a19291b3418bc315cc7f2f81ae70e.jpg\n",
            "        images-12-_jpg.rf.bb495b2c007b3df3378c53f8e627aeeb.jpg\n",
            "        escrabajo-20160909_jpg.rf.baeefb7d5fc5a7344b6d0bc832c2cbd1.jpg\n",
            "        chinche19_jpg.rf.8361275bb4bda47094bc4161ddfcc827.jpg\n",
            "        chinche12_jpg.rf.d80baf6f43edbb5686d7c33cbd138840.jpg\n",
            "        640px-Red_Assassin_bug_03978_jpg.rf.948e0adb28c51ed132c1a2e9c5c79658.jpg\n",
            "        imagen_298_jpg.rf.05514328bd46ca3c24b0e082016d7e62.jpg\n",
            "        images-2-_jpg.rf.5f565beb442c19bf6ccc7f84d9168270.jpg\n",
            "        imagen_235_jpg.rf.0b8ba43c570aa7dc3a688a09bc3b90d2.jpg\n",
            "        imagen_264_jpg.rf.fad7cc3bff056b1a2ff84b824a63d1e1.jpg\n",
            "        20_jpg.rf.074f92010912d7cb6e8e25ecf8b8a338.jpg\n",
            "        imagen_228_jpg.rf.6c3ea2926e137a8cbeb329555d75c26e.jpg\n",
            "        imagen_18_jpg.rf.93d1dcff5900e38ed000aee46886f96a.jpg\n",
            "        imagen_298_jpg.rf.5da6eb436b3728dd42bffa6627964711.jpg\n",
            "        chinche17_PNG.rf.0a79ccec79560cd22ff6154fd6fd6670.jpg\n",
            "        imagen_172_jpg.rf.f8e548ab4735d1cf053b03ca91540827.jpg\n",
            "        imagen_180_jpg.rf.45f8a83e80badad21e9ab7a38bfd2759.jpg\n",
            "        arana30_png.rf.2ced1b65ffbf6d472aa92d04fd537bdc.jpg\n",
            "        640px-Assassin_Bug-_Salyavatinae-_-_Lisarda_erecta_-_-_-_Flickr_-_gailhampshire_jpg.rf.1b6906760c7c77b45bee126f1bb981f2.jpg\n",
            "        imagen_134_jpg.rf.c1971c9c345fa7c5c23ebb061d3e9dfb.jpg\n",
            "        Melanolestes_picipes_-_Black_Corsair_-_assassin_bug_-ID_thanks_to_Ashley_Bradford-_-42934548600-_jpg.rf.0fdbab82c86166c5800157a375c26b92.jpg\n",
            "        7J7JA2UGI5ETRLYLS53CMBK3IQ_png.rf.a3186a376ae3b35a398b3e0045f1d7ca.jpg\n",
            "        imagen_241_jpg.rf.20e1a170ae2c0c0d042aaafe093eb05d.jpg\n",
            "        4_png.rf.d1b0a2193ad1b92631ab84b56af63e2a.jpg\n",
            "        chinche7_jpg.rf.600a2ab99d99cad7296d15105c1ef9b2.jpg\n",
            "        640px-Black_Corsair_Assassin_Bug_-_Melanolestes_picipes-_Meadowood_Farm_SRMA-_Mason_Neck-_Virginia_-40486058372-_jpg.rf.ef6e7d37bd201198f390de235db3c111.jpg\n",
            "        imagen_240_jpg.rf.aa49f380178ebe51aedd4113012989a6.jpg\n",
            "        imagen_143_jpg.rf.e64a2864d66e763a1fa05112dc469de3.jpg\n",
            "        Pristhesancus_plagipennis_nymph_jpg.rf.9e66e0e93714c63c8f5123c9e4b56368.jpg\n",
            "        imagen_258_jpg.rf.fafedaaefc75a67554e02817e2beaa70.jpg\n",
            "        imagen_155_jpg.rf.5c87740030b7d1af29a8fe754194ceb9.jpg\n",
            "        imagen_221_jpg.rf.7fba1122d0fc353c7e2307872f0d399a.jpg\n",
            "        Pygolampis_striata_-10-3897-BDJ-9-e63695-_Figure_3_b_jpg.rf.15d26dca811a17937f7242fd00c7a6c0.jpg\n",
            "        imagen_121_jpg.rf.384bc059bc8310cf08fe80d0d0e92246.jpg\n",
            "        chinche16_png.rf.f0c687717c9ffded73890c33aefe3b9f.jpg\n",
            "        imagen_295_jpg.rf.d6edc6d5fc27f6148cba5d2c3f7348b7.jpg\n",
            "        18_png.rf.d58323a887150c531c9b2e3df360a1d5.jpg\n",
            "        imagen_249_jpg.rf.af047ad84f6b01fd8fcadd6905d9772d.jpg\n",
            "        imagen_207_jpg.rf.4b8757efd58f243ac588480fa20709df.jpg\n",
            "        Arilus_cristatus_-_Wheel_Bug_-_Assassin_Bug_-42674125980-_jpg.rf.b68ce77507a5bc31285420f4645f062f.jpg\n",
            "        Assassin_Bug_-Reduviidae-_-13966021573-_jpg.rf.c663e835c626ceb5ded98ea5fd0273df.jpg\n",
            "        imagen_90_jpg.rf.18c0c923d65b218d1e693f9080bacd94.jpg\n",
            "        Exophthalmus_pulverulentus_01_jpg.rf.526663cafa83cd6269c11d8ae78fb9fa.jpg\n",
            "        imagen_276_jpg.rf.ee9b7cfa1fadd5acc4683065d2c1c66b.jpg\n",
            "        pulga3_jpg.rf.5e173e245d7661aa4ddac16b8391665c.jpg\n",
            "        Spotted-Cucumber-Beetle-feeding_jpg.rf.323392b054b9599378125859e69d0694.jpg\n",
            "        9_jpg.rf.ede3da33adaefebfcb42634686b23974.jpg\n",
            "        imagen_276_jpg.rf.dd43aac9fef44fcb101abefc71a583f6.jpg\n",
            "        Triatoma_infestans_jpg.rf.373038499846874905d3bb60d204c10b.jpg\n",
            "        chinche27_jpg.rf.1fca3d4b2de3231ca0cfd23a954fe27b.jpg\n",
            "        imagen_221_jpg.rf.6884da42fc012134139669923fc09640.jpg\n",
            "        imagen_237_jpg.rf.14019e1b4472969499cf10789c46f8b3.jpg\n",
            "        imagen_203_jpg.rf.450b845a8bbe303a0576772a55df73b0.jpg\n",
            "        pulga3_jpg.rf.728c66f259cda06475581d5fe576e8f7.jpg\n",
            "        imagen_7_jpg.rf.ace63a4d62e1ccb0b88c62c3d95cf5a9.jpg\n",
            "        imagen_136_jpg.rf.a791b98a5878ef815d05e19c47b19879.jpg\n",
            "        26_png.rf.3069dc7d6eab67aff1fdb47c2128e0c8.jpg\n",
            "        images-12-_jpg.rf.2a5c97ace969006e9a2758eeb707e519.jpg\n",
            "        pulga3_jpg.rf.afc4fc5bd6a033dfb6016a7ae7d64148.jpg\n",
            "        imagen_180_jpg.rf.6fa436abb471cd31323a75f268ccbde9.jpg\n",
            "        imagen_108_jpg.rf.a3bf38310e0b1142bf02dbf8a592b778.jpg\n",
            "        chinche7_jpg.rf.26cfc1e63427171679ca2fb23fc9f21d.jpg\n",
            "        pulga2_jpg.rf.e2d559a20a997f5ee7861cc03111e076.jpg\n",
            "        imagen_133_jpg.rf.c5daafdb2047196e308c3f10b6f0d839.jpg\n",
            "        Assassin_Bug_Nymph_-_Flickr_-_treegrow_-10-_jpg.rf.d376491173791a0d65eebdcff0bab5db.jpg\n",
            "        imagen_204_jpg.rf.86b12a5e16eff7c6163c07836ba95927.jpg\n",
            "        garrapata15_jpg.rf.5416f9f74d9f3f1405fb3b1c3601db4c.jpg\n",
            "        arana_jpg.rf.31d4e6642161446133bf95b4272443e4.jpg\n",
            "        imagen_179_jpg.rf.fc8f1b8cbafae14a376853b2ba40a371.jpg\n",
            "        garrapata16_jpg.rf.4782737b9d5943eecc7565e2f725542e.jpg\n",
            "        imagen_142_jpg.rf.5f2d2edfce2bc5c85dc296cb9143b2fe.jpg\n",
            "        garrapata5_jpg.rf.94ab50d7e15ecf4f34114eced250248a.jpg\n",
            "        arana_png.rf.ae2b0a761098ae0615e6e62bf5c3f67a.jpg\n",
            "        imagen_143_jpg.rf.a84ffe7dd4cecedfa837ba4a9f7ab64f.jpg\n",
            "        imagen_295_jpg.rf.b28c430c47fb59a7fbe05aee5ff6b2bb.jpg\n",
            "        17_png.rf.a837e13cc3d8dc439d85a38f49164c01.jpg\n",
            "        imagen_212_jpg.rf.ff8c774a2b71206bd17c539e215bdff4.jpg\n",
            "        6143JTBn3JL_jpg.rf.b039cf27b34225b5f7570a0328dc5359.jpg\n",
            "        17_png.rf.1fcd27336569c6bbedc5964b9829ceb9.jpg\n",
            "        mordedura-arana_jpg.rf.af996460dae162bca2f4bd6747d8cb76.jpg\n",
            "        images-11-_jpg.rf.9338bd7a6c87ed42d43b21265b2c28dd.jpg\n",
            "        curso-ilustracion-insectos-grafito_jpg.rf.de2df700e1a3913ec6b53a66d0b7c587.jpg\n",
            "        imagen_134_jpg.rf.522f3fc850f33a477c4b3a260cace0d8.jpg\n",
            "        imagen_201_jpg.rf.b347560db6d6239203d281c4ec33e844.jpg\n",
            "        Spider_assassin_-18396334843-_jpg.rf.2c228332aa6db910bd371178e3a4665e.jpg\n",
            "        Zelus_renardii_-Reduviidae-_II_jpg.rf.b849584c67383611aae219b0b9563d0c.jpg\n",
            "        Pristhesancus_plagipennis_371345611_jpg.rf.262cc7ff7edc160b96096f9175507747.jpg\n",
            "        imagen_72_jpg.rf.54563103cc0b76c62919a1612f626384.jpg\n",
            "        imagen_64_jpg.rf.7a19bd0103e52cb2928aa5e52b50e73c.jpg\n",
            "        chinche29_jpg.rf.1ba74c1dfe3ff55c39864e224a400add.jpg\n",
            "        images_jpg.rf.a7cc31508d7a222bd2e5011221b5f629.jpg\n",
            "        escarabajo_arana_subfamilia_ptininae_4667_5_600_jpg.rf.b69011ffdb42f1c6718868baa0c988ba.jpg\n",
            "        imagen_208_jpg.rf.f520c20c9ee2de287d3d666295c5d398.jpg\n",
            "        imagen_295_jpg.rf.aa8a003e8bcbd82782d1262a23bfdeaf.jpg\n",
            "        Assassin_Bug_-Reduviidae-_-7079902129-_jpg.rf.498da11eab808141ea1bc3fa64c5523c.jpg\n",
            "        imagen_74_jpg.rf.3279690baa24e088c6facc6867e9760e.jpg\n",
            "        chinche7_jpg.rf.d4f64b32c0fee542e12231a633f1a9e1.jpg\n",
            "        escarabajo_c_webp.rf.da44e2a632e3ad072d603dcc0f2e5153.jpg\n",
            "        Reduvid_May_2014-1_jpg.rf.60dedd08d436f303d98d854a605d8623.jpg\n",
            "        hqdefault_jpg.rf.1f0c0d4ba6b6356dfb8d49353be4029d.jpg\n",
            "        chinche18_png.rf.d9c044e28fd2707717833d7c2c44ade5.jpg\n",
            "        imagen_235_jpg.rf.b2433362f3ca731674bbd63729af1a3b.jpg\n",
            "        garrapata16_jpg.rf.1af7d7aa5446fbdef959cb7ca6b312a6.jpg\n",
            "        imagen_159_jpg.rf.4151d15829735beffdabea3e3f4cd2e6.jpg\n",
            "        25_png.rf.6a68797aa996f9e5d1bb41c8ac065993.jpg\n",
            "        2_png.rf.b9890c0683dc6c2f0d2c55e71a19a812.jpg\n",
            "        1200x675_cmsv2_514767dc-8344-56c0-9880-a3f296f852bd-8379100_webp.rf.b9404a74d5f3b785997696bf2701130d.jpg\n",
            "        imagen_237_jpg.rf.60c5c083ce389de023b2fd1350298c88.jpg\n",
            "        imagen_209_jpg.rf.0d077e655fd31b9e66a22d53ad8aad38.jpg\n",
            "        Assassin_Bug_-Reduviidae-_-7079902129-_jpg.rf.59eda7f9a87f073d56a075f07e6c7b22.jpg\n",
            "        640px-Black_Corsair_Assassin_Bug_-_Melanolestes_picipes-_Meadowood_Farm_SRMA-_Mason_Neck-_Virginia_-40486058372-_jpg.rf.fd1dd4a1a08a75533827a961bd41d96d.jpg\n",
            "        22_jpg.rf.e4f9f92cd010ca76747e3f347f138f08.jpg\n",
            "        19_jpg.rf.bb251e991edbc07ed885bcaa7d4262fe.jpg\n",
            "        descarga_webp.rf.c2373ea23f681ff681385100308353a0.jpg\n",
            "        imagen_62_jpg.rf.e234e603e865642469104f302b8ccdc9.jpg\n",
            "        13_png.rf.eb036c003e171f60074b28c48d7fbdf7.jpg\n",
            "        pulgas_26694_0_600_jpg.rf.d3ce5eecf35437cc2c68e56e63cea4ad.jpg\n",
            "        imagen_7_jpg.rf.43e88a4e1842cc2fc1beb9d1cd8a8a1e.jpg\n",
            "        chinche22_jpg.rf.02895c332c8529134e4818deb21ef029.jpg\n",
            "        chinche28_jpg.rf.30ddc92a8a19aafb4cd9433a28f3df94.jpg\n",
            "        imagen_21_jpg.rf.b6dfd0804d5d539585394a1092b9a3b9.jpg\n",
            "        -asda_webp.rf.12f8a7c6e3a0d77f7ca85712cbed3715.jpg\n",
            "        garrapata17_jpg.rf.c93080b7f17d3a2b6414a6358a92b2c6.jpg\n",
            "        aran-a-rincon_jpg.rf.e10b6519fdb89537dd4c6bfada9fdd1a.jpg\n",
            "        Leptoglossus_phyllopus_Pat_Porter_jpg.rf.e64fde7bb89e5f641009cf27d8cb73a2.jpg\n",
            "        chinche29_jpg.rf.64ee6763d0c83fc7df9fef67ab4bea57.jpg\n",
            "        imagen_206_jpg.rf.852132123845b14ac05dca868d4bee41.jpg\n",
            "        Assassin_Bug_-_Zelus_luridis-_SERC-_Edgewater-_Maryland_jpg.rf.7b6987dbd116b3981bab64c2aa77d004.jpg\n",
            "        Little_Assassin_Bug_-_Flickr_-_pinemikey_jpg.rf.a8c25dae6574f0c345106b46f4f6189e.jpg\n",
            "        imagen_108_jpg.rf.8854c604642a65638455406bee7092e9.jpg\n",
            "        imagen_212_jpg.rf.5c73601f9ef3eafdac1a60944e121cac.jpg\n",
            "        Arana-lobo_webp.rf.833cbb3c517466f63d3b6bd3b0cb94a8.jpg\n",
            "        garrapata13_jpg.rf.27452bfc5ad027bb03c2692f69693cdc.jpg\n",
            "        escarabajo_arana_subfamilia_ptininae_4667_5_600_jpg.rf.f8579f1334751fcba73abad567c7117c.jpg\n",
            "        3_png.rf.ea58893d5ca73087c0dbd923897ba453.jpg\n",
            "        ih90t7Yt-_2000x1500__1_jpg.rf.94f5ad634a4f91d5b24c2481da36803c.jpg\n",
            "        imagen_241_jpg.rf.2d00d324201956205e0c31064ce8b4fc.jpg\n",
            "        imagen_148_jpg.rf.b849a1f8c79a3aeb6fb577f54d56e15d.jpg\n",
            "        arana_jpg.rf.c80a378c53f6f743676825793014b562.jpg\n",
            "        Assassin_Bug_-Reduviidae-_-13966021573-_jpg.rf.d3e8d8a22f385e6bbb8e5dfa622f197c.jpg\n",
            "        9_jpg.rf.f5ab73709f7852d3d2d183a9d5fa88bc.jpg\n",
            "        imagen_20_jpg.rf.91d53d09f867e66419c8a62024120eee.jpg\n",
            "        leptura-sobre-una-hoja-wikipedia-commons-by-guido-gerding_jpg.rf.f804e527be70bcded1febc0ae39354b4.jpg\n",
            "        640px-Assassin_Bug-_Salyavatinae-_-_Lisarda_erecta_-_-_-_Flickr_-_gailhampshire_jpg.rf.dc4f04343ad103ac58fdc50dbe62fb85.jpg\n",
            "        Pselliopus_-_Assassin_Bug_02_jpg.rf.7a2abe8c8e9e1704b0c2bb3e109650d1.jpg\n",
            "        pulgas_26694_0_600_jpg.rf.0d6ddcdfbcfd5b4c7f1cf7fcc289d442.jpg\n",
            "        arana-roja-caracteristicas_webp.rf.d722e6cfe8dea98185b344d9946a0a49.jpg\n",
            "        imagen_147_jpg.rf.774c27fb37e8dc1e12e5b366376d20a5.jpg\n",
            "        25_png.rf.9d201d2ef273d8ab676d11acf32a9403.jpg\n",
            "        cantharidaejtann-1_webp.rf.eca023ec5b8af57195b8b6650b3d800f.jpg\n",
            "        37_jpg.rf.a20087d261befca276015e6b9e8f1c59.jpg\n",
            "        Assassin_Bug_Nymph_-_Flickr_-_treegrow_-8-_jpg.rf.960386bbc786bd5f75b9c7b7ad2a356e.jpg\n",
            "        27_png.rf.0c566242999482f6584e4c36269e3f6c.jpg\n",
            "        garrapata7_jpg.rf.ab6287f09981f7cad648ca7cb88c7c5c.jpg\n",
            "        imagen_323_jpg.rf.cfb0a48bac067c0ffcce60fe8cc75920.jpg\n",
            "        imagen_204_jpg.rf.ea643a0317c52e4476bc177d06182928.jpg\n",
            "        32_jpg.rf.bceef276acfdeba5c65ef82167556a1c.jpg\n",
            "        mordedura-arana_jpg.rf.a1467cefc59e24c642e9f3831e92d23c.jpg\n",
            "        Exophthalmus_pulverulentus_01_jpg.rf.b51d4c298aac0b1758e708243c8358c6.jpg\n",
            "        chinche_asiatica_o_hedionda_53979_4_600_jpg.rf.17d7015567e458f8b2d4070bcfe5efa6.jpg\n",
            "        imagen_147_jpg.rf.092e316b232e673b01e977676546dd90.jpg\n",
            "        arana44_jpg.rf.947097b2429f531616a75f584b7d23cd.jpg\n",
            "        imagen_21_jpg.rf.564eacb1c11e4514ab9e77d898feb3d6.jpg\n",
            "        pulga1_jpg.rf.0d32ef567f84d8236bd2a11309d75976.jpg\n",
            "        images-8-_jpg.rf.e5eec7257729b3a460897be7ead4a593.jpg\n",
            "        redflourbeetle_webp.rf.02bc22bb32ca73251c8f8ed5684b1663.jpg\n",
            "        imagen_18_jpg.rf.f21401443fb6363fec449ec7e86df742.jpg\n",
            "        chinche20_jpg.rf.8b9d2c78a161e99d06b10483ff7f0002.jpg\n",
            "        imagen_237_jpg.rf.e294f50484d8438102ef5aed365a4f6a.jpg\n",
            "        chinche5_jpg.rf.aac4de079b0628e6daf0254a4b5bbfa7.jpg\n",
            "        imagen_228_jpg.rf.de7e5e778b357a81d19b26c335390580.jpg\n",
            "        imagen_74_jpg.rf.f792a423b7b295ae122fa36e9fdc35ef.jpg\n",
            "        Pristhesancus_plagipennis_nymph_jpg.rf.6624db5d013876dc8f066a3dec345ea5.jpg\n",
            "        imagen_207_jpg.rf.eb9ed5640bec053a098230c90a7c9513.jpg\n",
            "        garrapata9_jpg.rf.0c4bbc1ab01148c12fd269989fda8c99.jpg\n",
            "        chinche24_jpg.rf.498a7b8e919b44a1f2e0fd7905f4b757.jpg\n",
            "        Firebug_jpg.rf.d1c879ea24596a2740e224019aa29cb2.jpg\n",
            "        imagen_146_jpg.rf.220394a696b4bbfb2c449928b94d1dd6.jpg\n",
            "        Waterkever-Coleoptera-waterinsecten-1024x419_webp.rf.fb6b1013c2265c44a379903311cab3e3.jpg\n",
            "        imagen_19_jpg.rf.14be6f31196889524df4abd1dbc70e6f.jpg\n",
            "        640px-Assassin_bug_of_some_kind_-43869093162-_jpg.rf.bd50c62013c71dfb5fee94a81d2207ed.jpg\n",
            "        27_png.rf.b7f1927fb404eaf319574bd5ef00d1cb.jpg\n",
            "        20902451-dos-de-jardin-escarabajo-de-tierra-de-carabus-hortensis-negro-sobre-fondo-blanco_jpg.rf.089ad8630133c1ee3024470aab887fa6.jpg\n",
            "        imagen_220_jpg.rf.0b7902d0b7d9a9f2753f20be64e81255.jpg\n",
            "        imagen_74_jpg.rf.1c57958a1336c7c5964db330ea819627.jpg\n",
            "        arana44_jpg.rf.e414bd5185457279f178342b7fcc2e4a.jpg\n",
            "        imagen_209_jpg.rf.7b6b5e55ea6b35d556767cac60a7bdff.jpg\n",
            "        imagen_250_jpg.rf.3cb4392d8d163095210e329ddf3363cf.jpg\n",
            "        Assassin_Bug_-Oncocephalus_annulipes-_-12885347564-_jpg.rf.a45ca7e5b628b96f048a8ab4ee659781.jpg\n",
            "        13_png.rf.6f7552ec920ac7b147654c8055a48544.jpg\n",
            "        images-11-_jpg.rf.559dcb526bedd55e33070f5d2492ae2e.jpg\n",
            "        Red_Assassin_Bug_-Antilochus_coquebertii-_-8678432802-_jpg.rf.82a96a0b07f008eeea25c5e12ab7528d.jpg\n",
            "        imagen_135_jpg.rf.ae1f2002ed6d972f2a27204b740e8de1.jpg\n",
            "        2_png.rf.373861fd107cae5481bebbd796b7112d.jpg\n",
            "        imagen_201_jpg.rf.ca7ce98a292e60b02ca74bb80020076e.jpg\n",
            "        DirkvdM_Assassin_Bug-1-_jpg.rf.6b6d7bf89fc24cf207be38312cdb2c64.jpg\n",
            "        images-2-_jpg.rf.044c478b88e5522d8b5acd08306e4611.jpg\n",
            "        imagen_25_jpg.rf.7c79d6652b991ab930c622e59961939b.jpg\n",
            "        imagen_103_jpg.rf.2841dbe5c04261bba2e6c3e55d37ae9a.jpg\n",
            "        nacerdes-melanura-03_jpg.rf.1735db5c35eae9e901647d982b206180.jpg\n",
            "        escarabajos-de-madera_webp.rf.77e6024f7df9efdced2e520327ddfe6c.jpg\n",
            "        imagen_219_jpg.rf.8132d354ef336e1ab8f16854b050cea7.jpg\n",
            "        arana31_webp.rf.aaea8c988dc3f83fa78c86961bc20f78.jpg\n",
            "        153407409992237093_webp.rf.c3c0f70bc2b233662915175c6319c3ad.jpg\n",
            "        38_png.rf.06f5544edbc1d31f1dfe669addb6b262.jpg\n",
            "        Assassin_Bug_-Oncocephalus_annulipes-_-12885347564-_jpg.rf.fd13c95193d9c0b15af760aa8b547186.jpg\n",
            "        chinche11_jpg.rf.f6df43dd4bdebc704a06bf624b782256.jpg\n",
            "        imagen_220_jpg.rf.39d2976f63966a49bd674dd020847fb4.jpg\n",
            "        redflourbeetle_webp.rf.7a1f7b9514afbf5f773e627ee6b37a4b.jpg\n",
            "        Assassin_Bug_-Reduviidae-_-13965741853-_jpg.rf.bc8f2567fe9fbaf0fd3c0f6991cd6ac5.jpg\n",
            "        chinche6_jpg.rf.fd0b8beca02e842b6cae5c8799b53c34.jpg\n",
            "        37_jpg.rf.8aec5df87ebe55ec703f50bdc65a190d.jpg\n",
            "        chinche_asiatica_o_hedionda_53979_4_600_jpg.rf.fd2f958df6fa7a68ee44879134f21812.jpg\n",
            "        imagen_140_jpg.rf.2b224e7863fdf9ea55d275847a1ee03e.jpg\n",
            "        5_png.rf.5e1bd352966cb4722788a60e5fd5c71b.jpg\n",
            "        imagen_195_jpg.rf.39287d36a663ba29b0d002120c58a511.jpg\n",
            "        Leptoglossus_phyllopus_Pat_Porter_jpg.rf.600a0701ffcf6aeaeb7174c7883d0182.jpg\n",
            "        images-12-_jpg.rf.475116436a1e2ba043d34a12b002004f.jpg\n",
            "        38_png.rf.76e3b22d255d30884a21d64cac0a270b.jpg\n",
            "        images-1-_jpg.rf.ce75e2f23cd42fd189ae26853d1db3bc.jpg\n",
            "        medium_jpg.rf.613ec069bf9c6041092f162d738e5b4c.jpg\n",
            "        DirkvdM_Assassin_Bug-1-_jpg.rf.3ffc9f5841aa89781f8f12ed18625e9e.jpg\n",
            "        imagen_155_jpg.rf.e6f4dc6ada138e25d182550c1a1f6bef.jpg\n",
            "        1_png.rf.3d510d5a4411683a69e3f67c7f95e89d.jpg\n",
            "        39_png.rf.5158536b6b020941071b5e4e7bbea7a0.jpg\n",
            "        Assassin_Bug_Nymph_-_Flickr_-_treegrow_-10-_jpg.rf.deca2cf7c3fa988b6a8087299eebf0cb.jpg\n",
            "        images-11-_jpg.rf.3b793b928fb0549bdf5e86a1fb700241.jpg\n",
            "        35_jpg.rf.764911a7cd22e9d34aafe35479d9a6de.jpg\n",
            "        chinche21_jpg.rf.ee9ff6bff394b4fe79c9d02a562cdf6d.jpg\n",
            "        hqdefault_jpg.rf.79c4353ee119912b362a01777e955eb9.jpg\n",
            "        23_jpg.rf.bdc8bf1623812adc7a2da4755a9b3dda.jpg\n",
            "        imagen_230_jpg.rf.5c943f221e3c80c7fd8d26340006bbf8.jpg\n",
            "        imagen_276_jpg.rf.a1b45c06ae0b30050e8d4a874bd4e6c5.jpg\n",
            "        Triatoma_infestans_jpg.rf.e9ff6db82b81e86116a18846557cefd7.jpg\n",
            "        garrapata13_jpg.rf.441c444a2024eb70a77c33e5a85a1ff7.jpg\n",
            "        imagen_315_jpg.rf.5b2cb6401cf546eed57281870b2262b9.jpg\n",
            "        imagen_135_jpg.rf.e87dcf8568e0452c0d7ee1331187661e.jpg\n",
            "        imagen_271_jpg.rf.fb709e88882f66da0aa07fca82011e03.jpg\n",
            "        chinche11_jpg.rf.600bb8be50c5f957fb5482cf2683c468.jpg\n",
            "        Red_Assassin_Bug_-Antilochus_coquebertii-_-8678432802-_jpg.rf.004aaf32f2ec70bf3e9d6017256e0875.jpg\n",
            "        descarga_webp.rf.91c5cf7753cdfd0e761de66f09383831.jpg\n",
            "        garrapata9_jpg.rf.45da5ee9ff618918614dccc46e62bd7e.jpg\n",
            "        images-3-_jpg.rf.a1511e74b7ae8a422b18875eb488a85c.jpg\n",
            "        imagen_230_jpg.rf.53904277277ea351034a286ac574c354.jpg\n",
            "        2016-09-10_21-50-04_IMG_7928_-_Flickr_-_andrey_zharkikh_jpg.rf.5afa124011d25d0f401cd0d68bb68c4d.jpg\n",
            "        1_png.rf.ffd566b1603d5593aa950662388fdba7.jpg\n",
            "        nacerdes-melanura-03_jpg.rf.917599ce3feb9ed73f3da425087bbbb3.jpg\n",
            "        imagen_159_jpg.rf.aff265f25c50fce0e1e62ecedc2795fc.jpg\n",
            "        escrabajo-20160909_jpg.rf.540b8459668e8602fa6d5238b79d442b.jpg\n",
            "        f960x540-111240_185315_5050_webp.rf.468e7f24d2ec4129385fd073186c3574.jpg\n",
            "        imagen_219_jpg.rf.644972773ea722568eac6a87314596e2.jpg\n",
            "        imagen_159_jpg.rf.8a37cadb6aa441674e05c56287da4756.jpg\n",
            "        39_png.rf.7a587a512bb8ff8b803cfa58b6a8bd95.jpg\n",
            "        imagen_148_jpg.rf.7c9426151f9b7aac55ed3907ffa8f87a.jpg\n",
            "        4_png.rf.b8f3e175cc63a50cd9f2da9a3f46dd57.jpg\n",
            "        imagen_215_jpg.rf.8c3b31045bf63211e87afaf925080ffd.jpg\n",
            "        pulga1_jpg.rf.6ae5637befb7bf87a322b30ae3c85466.jpg\n",
            "        images_jpg.rf.6b8b4cb79359b2940ddb7a8923aa20d3.jpg\n",
            "        pulgas_26694_0_600_jpg.rf.8212fd68a9950d2a9f368e66767577cd.jpg\n",
            "        garrapata19_png.rf.a350485596c3c08864aea717d59c7cb8.jpg\n",
            "        imagen_232_jpg.rf.f30f7680ac313435622c5e0c6d298112.jpg\n",
            "        arana44_jpg.rf.4e886f09dd16d8c4adf7ae90c29eb946.jpg\n",
            "        imagen_24_jpg.rf.6e5bae56b8da2774a00eeb1eda791a17.jpg\n",
            "        imagen_258_jpg.rf.67ef0aeebf921b89b5dd0e665f3d79c5.jpg\n",
            "        Assassin_Bug_-_Zelus_luridis-_SERC-_Edgewater-_Maryland_jpg.rf.86d3ca2fc331cad35db876b7f3b3e764.jpg\n",
            "        images-13-_jpg.rf.96e7aca13e38011050403321e17a3153.jpg\n",
            "        imagen_240_jpg.rf.e28a4b50817d92a1cf118180ebed1dd9.jpg\n",
            "        chinche28_jpg.rf.44f0ed7fc4df413d68f6c712437518b4.jpg\n",
            "        Red_Assassin_Bug_-Antilochus_coquebertii-_-8678432802-_jpg.rf.32867a7b19491ca2ff0c7d44d3b6a938.jpg\n",
            "        imagen_215_jpg.rf.f10a68d8170aba00d46b911f3777e969.jpg\n",
            "        curso-ilustracion-insectos-grafito_jpg.rf.b1ad56c4f85dde4fc869da772c2ff31e.jpg\n",
            "        chinche5_jpg.rf.2a754400fd8b53ab15969e309aabe87c.jpg\n",
            "        39_png.rf.9b006ccc2e9754dc30081f40b12524b3.jpg\n",
            "        garrapata7_jpg.rf.214035fcf3ddace1ce3830956eb2a23d.jpg\n",
            "        chinche25_jpg.rf.eba486b94f4eea6752b1710224bd1310.jpg\n",
            "        chinche24_jpg.rf.ad850571bd3b1ee730756b7868736674.jpg\n",
            "        arana_png.rf.abd87e757afbb3a7bd0e6c25a4e2ed98.jpg\n",
            "        imagen_212_jpg.rf.70ca5ea849fdd20a98c024989017ee14.jpg\n",
            "        arana31_webp.rf.0c11a9d1bdb6baeca05739af6acedf14.jpg\n",
            "        chinche20_jpg.rf.1235e64d3c652f12cf8f49085e8324f8.jpg\n",
            "        chinche8_jpg.rf.30e16f95deb467b900be550ee11fb9d1.jpg\n",
            "        640px-Assassin_bug_of_some_kind_-43869093162-_jpg.rf.2459212494d38f243e9601efffff4afb.jpg\n",
            "        imagen_18_jpg.rf.c7a3a4a5c2fa13df115491d5521d00dc.jpg\n",
            "        imagen_220_jpg.rf.8649a54be4e7c513d741649a13c10e08.jpg\n",
            "        Pygolampis_striata_-10-3897-BDJ-9-e63695-_Figure_3_b_jpg.rf.9b94b372936b4ae0e99044e683087c11.jpg\n",
            "        images-8-_jpg.rf.bf44fb8ee644efceb5f279843a0f5591.jpg\n",
            "        garrapata9_jpg.rf.9cb08a05355223d30e99bb9e9cd899c3.jpg\n",
            "        imagen_203_jpg.rf.ed8929d8aac298e44e488e3603b8e6c0.jpg\n",
            "        imagen_195_jpg.rf.0f15ea41ea8f2064cbe8ad875a3d7b39.jpg\n",
            "        chinche10_jpg.rf.0e3bd1fe006b48dc0b92d0cfe11bf9f7.jpg\n",
            "        Milkweed_Assassin_Bug_jpg.rf.ad04f8386b1768277564a969c4d4bd97.jpg\n",
            "        chinche21_jpg.rf.e448abef7f66c70248f981cf8f1afdb8.jpg\n",
            "        Assassin_Bug_Nymph_-_Flickr_-_treegrow_-8-_jpg.rf.4e503bb481f36f74a81f0779c042a3dc.jpg\n",
            "        arana30_png.rf.49b18d1cd2d14ca65c93ecb499359710.jpg\n",
            "        imagen_64_jpg.rf.6c8bbb5ff93205554415d9562c484c54.jpg\n",
            "        images-2-_jpg.rf.8c271978d618b4b9a10442a0f8404cba.jpg\n",
            "        garrapata17_jpg.rf.86cfdd3923122c6902e930e20c413903.jpg\n",
            "        Little_Assassin_Bug_-_Flickr_-_pinemikey_jpg.rf.ea0e6ec69fd744b45b553b8d25354895.jpg\n",
            "        imagen_264_jpg.rf.dee16657f105e1bc5bbded07a1af7d10.jpg\n",
            "        imagen_51_jpg.rf.811a3a1b42fff8e813533166926d002f.jpg\n",
            "        ih90t7Yt-_2000x1500__1_jpg.rf.75cf0cde8e5ea4390566a00b5c163ea8.jpg\n",
            "        imagen_221_jpg.rf.8bc55b12380c0a874e29ac19b4594bc3.jpg\n",
            "        Assassin_bug_front_2-tif_jpg.rf.de885b9a3fe0db913db3b56ccce9b872.jpg\n",
            "        Reduvid_May_2014-1_jpg.rf.94e93a45fbf4d0e15f5aac0377716f5a.jpg\n",
            "        garrapata15_jpg.rf.6e3b7c931842a6bce4b3c45eeb8ec3f8.jpg\n",
            "        3_png.rf.87592faa76c791014c0f702912164128.jpg\n",
            "        arana_jpg.rf.3526e327795207ef9e06f2ffd6c2c11b.jpg\n",
            "        cantharidaejtann-1_webp.rf.ee2e93980d16f4e0931b91f3faccc368.jpg\n",
            "        chinche27_jpg.rf.b58a0d24e08d22b7d23ca16c60d265f0.jpg\n",
            "        3_png.rf.0a926d81b1a21ca28a4241cc9a896a00.jpg\n",
            "        garrapata17_jpg.rf.30e1f9b778596e65ec353b3bf1280609.jpg\n",
            "        35_jpg.rf.ebb62581201e73f198fee55cb0bf6958.jpg\n",
            "        imagen_135_jpg.rf.a090282565d5f4a9598bf22a6b1419e7.jpg\n",
            "        Assassin_Bug_-Reduviidae-_-15315406737-_jpg.rf.d529b726610461008037e7a88da226a5.jpg\n",
            "        Assassin_Bug_-Reduviidae-_-13965741853-_jpg.rf.ac57f680d9f25a87ede103bfe89e5bf6.jpg\n",
            "        imagen_24_jpg.rf.eab0d6837f8f0555a027c09a39dd2023.jpg\n",
            "        8_jpg.rf.0dbc692c2e674cbd02a75b6e958a7606.jpg\n",
            "        imagen_136_jpg.rf.985977cc8df837025ed6db976e717c4e.jpg\n",
            "        chinche13_jpg.rf.73f2953f02a64182ca7d1ff5d4e735bb.jpg\n",
            "        imagen_271_jpg.rf.5ce6801de236cda8d6a014b409344fef.jpg\n",
            "        imagen_143_jpg.rf.d7912c0e3ee924b28be718ab8078cd9c.jpg\n",
            "        crw67680_jpg.rf.e2dc87fd12c17b99e7561ec502cfcae1.jpg\n",
            "        640px-Zelurus_sp-_-12911326493-_jpg.rf.8761e3ed85e0455140102f608e3c9530.jpg\n",
            "        imagen_51_jpg.rf.bdedfbcf5cf1a2cc32d7adbdedeefa2a.jpg\n",
            "        chinche6_jpg.rf.2787fe28a0c33ef6b92e7281d4d0b918.jpg\n",
            "        Leptoglossus_phyllopus_Pat_Porter_jpg.rf.b17b79830929ab99dfcac0f9e67eb94d.jpg\n",
            "        imagen_136_jpg.rf.353dae1ea54bb03bf299dd6ffbf49c34.jpg\n",
            "        Arilus_cristatus_-_Wheel_Bug_-_Assassin_Bug_-42674125980-_jpg.rf.6f5fe4677a8127ea20f317858624c006.jpg\n",
            "        chinche2_jpg.rf.ae6262aaf2d8d439836f46341be31747.jpg\n",
            "        Tegea_atropicta_45315973_jpg.rf.7374404f2e2ba3f3290d72ebfea93d2b.jpg\n",
            "        640px-Zelurus_sp-_-12911326493-_jpg.rf.6416062d27a18ec6f16271011a07cae1.jpg\n",
            "        Ground-Beetle_jpg.rf.e9c3d73857338784a323ffe47b0d7091.jpg\n",
            "        imagen_145_jpg.rf.7f5c9f3cf784f82f049492772acde254.jpg\n",
            "        chinche16_png.rf.22c155892922c1bf855ccf108374ef76.jpg\n",
            "        imagen_298_jpg.rf.8539e6150ab36dfe0f35bb8c8be11d80.jpg\n",
            "        escarabajo-e1583723107229_jpg.rf.d0ddd14f70038f5968379b99e19e6272.jpg\n",
            "        imagen_72_jpg.rf.b613f8aa6dd55b5760dfc0604bf8b270.jpg\n",
            "        crw67680_jpg.rf.c69a83ebfbe2e42d538d8ad166f6fdbd.jpg\n",
            "        pulga4_jpg.rf.6a366bd6a540afa5d94f2df2d256ecf0.jpg\n",
            "        chinche8_jpg.rf.b3cb0d18bfab02bb0926fafd083b0ff0.jpg\n",
            "        6143JTBn3JL_jpg.rf.f3142f6e0924aa17ff4f971281073052.jpg\n",
            "        DirkvdM_Assassin_Bug-1-_jpg.rf.d16ff1d8312315b374551733908972f3.jpg\n",
            "        arana-roja-caracteristicas_webp.rf.6026d00f51094989d33ecf1d4c7db520.jpg\n",
            "        imagen_315_jpg.rf.0531d059ef1f354bfb08b7214e6fba8e.jpg\n",
            "        Assassin_bug_front_2-tif_jpg.rf.d710418ed409ccaa1b7707c55dedfd9f.jpg\n",
            "        imagen_232_jpg.rf.6b5c07667e8bdf1f3ac63aa375b15061.jpg\n",
            "        imagen_232_jpg.rf.84050dc4e50eeb9401ae1191d409cb07.jpg\n",
            "        17_png.rf.5d6514c66e257de8f324bfe1a7d0cd96.jpg\n",
            "        imagen_108_jpg.rf.fc7e55731458ec443afda5939e1182a9.jpg\n",
            "        escarabajo-e1583723107229_jpg.rf.466b7804ad84f9c14834d025aa79d159.jpg\n",
            "        32_jpg.rf.198075dbd4f1817779c4c042b0f5c3a8.jpg\n",
            "        imagen_208_jpg.rf.cd1dfae48d19a61494fb54a7125fa028.jpg\n",
            "        imagen_315_jpg.rf.e89a1f5c7652f0e44259a043ac887690.jpg\n",
            "        Assassin_Bug_-Oncocephalus_annulipes-_-12885347564-_jpg.rf.61d879364a143fa6e545fe219a614b74.jpg\n",
            "        -asda_webp.rf.3c4f6977b58cbe48372bf4ff8d5d37ea.jpg\n",
            "        imagen_323_jpg.rf.634a4d7c852c7cba2f558bcf41a58f4c.jpg\n",
            "        imagen_134_jpg.rf.0a99a6f476bb35e222fccf8074863494.jpg\n",
            "        153407409992237093_webp.rf.c354708adf80dbfce832f0626cd49f58.jpg\n",
            "        Pygolampis_striata_-10-3897-BDJ-9-e63695-_Figure_3_b_jpg.rf.7a2fbcb3dc9680f5aaa8d238bae7044b.jpg\n",
            "        imagen_205_jpg.rf.daa369976f45e1389fd0e2c7fb100fef.jpg\n",
            "        garrapata10_jpg.rf.26dbfec33d770852217b009b68f7d894.jpg\n",
            "        chinche2_jpg.rf.399d474550303d14560bd6d072c10622.jpg\n",
            "        2015-06-05_13-30-57_IMG_2590a_-_Flickr_-_andrey_zharkikh_jpg.rf.107ac2e9bdb371e9d3dc4bf004400921.jpg\n",
            "        19_jpg.rf.cd63c5f8e9eafd6c427db20a5424f7ff.jpg\n",
            "        garrapata15_jpg.rf.8c0aaac04d772f0ba8f58488d7f68e9b.jpg\n",
            "        2_png.rf.fcce04759033ca3e87a7e5c00841e5b4.jpg\n",
            "        garrapata10_jpg.rf.4d7e5e13a7ec378eeb14381fc2c71812.jpg\n",
            "        chinche17_PNG.rf.981ff0f186a0401a31aab8a8285216a0.jpg\n",
            "        mordedura-arana_jpg.rf.341fdf445eaf279ec8839f73ca212fb8.jpg\n",
            "        chinche19_png.rf.8e0eaf27ce1332c9424abf426fdbcc95.jpg\n",
            "        Ant-eating_assassin_bug_nymph_-15031835754-_jpg.rf.6f2a0c18f11e65a349cf22b3bb9ec187.jpg\n",
            "        5_png.rf.39447bd50642fc9a55eb9052648cd9de.jpg\n",
            "        imagen_51_jpg.rf.c6a4574c45add1aa9ed3009ac9ee9c57.jpg\n",
            "        2015-06-05_13-30-57_IMG_2590a_-_Flickr_-_andrey_zharkikh_jpg.rf.06ae6b7c4eac715820a721bd6a5f1e39.jpg\n",
            "        redflourbeetle_webp.rf.f1a5cbe607be51b8527063f0e790b838.jpg\n",
            "        escarabajos-de-madera_webp.rf.2232eefc618c2db6dadbabab9f88d792.jpg\n",
            "        imagen_253_jpg.rf.cff43ad03bcec1956c322def2e26e5aa.jpg\n",
            "        19_jpg.rf.a95648e943af9896d9db00251d196d90.jpg\n",
            "        escrabajo-20160909_jpg.rf.75bea5db9ab57b79670d47706f8da390.jpg\n",
            "        Arana-lobo_webp.rf.c16936cbba499976170245ee7909b566.jpg\n",
            "        Assassin_Bug_Nymph_-_Flickr_-_treegrow_-8-_jpg.rf.b0af4ef72ee850a593d9dbf44fc7c2de.jpg\n",
            "        pulga4_jpg.rf.655cdc046fa106aa20df41718619f5c2.jpg\n",
            "        37_jpg.rf.ab963891c0d4ea219773527dd83e3b3d.jpg\n",
            "        garrapata19_png.rf.5dc3b8dec6b59cdf34a27a3c82c27c9f.jpg\n",
            "        imagen_249_jpg.rf.e98127d2b33b4fda2e082ebb0bc01337.jpg\n",
            "        imagen_145_jpg.rf.d680d88b03f73d58a3fef0fd2c0f253a.jpg\n",
            "        imagen_253_jpg.rf.0f59aac69bb41ac3ad76d02907e0e850.jpg\n",
            "        imagen_250_jpg.rf.e7a88d1bdb79539c2eb684a358a2881f.jpg\n",
            "        13_png.rf.1ffd1a0ea551757e91bf06415b198221.jpg\n",
            "        imagen_201_jpg.rf.1dbeb49ae8aba336d01576c4bdfafae5.jpg\n",
            "        Assassin_Bug_-_Zelus_luridis-_SERC-_Edgewater-_Maryland_jpg.rf.1a07425734b4f146d895679d745407e5.jpg\n",
            "        5_png.rf.fb645e547ac9f317e02bf6eaead827f5.jpg\n",
            "        Arana-lobo_webp.rf.cc063f743c8a45b9885c41b84cbe16d3.jpg\n",
            "        Milkweed_Assassin_Bug_jpg.rf.9739b52f0499a96680208e8db4d969f7.jpg\n",
            "        imagen_24_jpg.rf.6e2060dc56902a18213c0c389813277c.jpg\n",
            "        Pristhesancus_plagipennis_243709472_jpg.rf.10885a0f78bb9b233cb0a606fe27a22f.jpg\n",
            "        garrapata16_jpg.rf.671381d5776bdf4f97df2efa80ca44af.jpg\n",
            "        Melanolestes_picipes_-_Black_Corsair_-_assassin_bug_-ID_thanks_to_Ashley_Bradford-_-42934548600-_jpg.rf.9e82a66b86cb88a5897397be3e0781bc.jpg\n",
            "        imagen_148_jpg.rf.19586714f6d045357d3669b06ecff5fc.jpg\n",
            "        imagen_140_jpg.rf.ae8b7e7b97c6fdffbc81cc5d1d210bb1.jpg\n",
            "        images-7-_jpg.rf.b96a26ee8a19c3f3710fa2d11476531b.jpg\n",
            "        imagen_218_jpg.rf.31e100339a4a81d30cfc624c081b1acb.jpg\n",
            "        imagen_218_jpg.rf.af11cb8ae9689da45ff446d0358b4987.jpg\n",
            "        640px-Assassin_Bug-_Salyavatinae-_-_Lisarda_erecta_-_-_-_Flickr_-_gailhampshire_jpg.rf.0b98e326ee632b9926b42c249a0906c2.jpg\n",
            "        28_jpg.rf.8c37104519cd41d3647af110d6180365.jpg\n",
            "        10_jpg.rf.857e1bdbbb9fe1df8e213851975abc85.jpg\n",
            "        imagen_103_jpg.rf.4a5beb048327f70c139c0097c25f1a3e.jpg\n",
            "        20902451-dos-de-jardin-escarabajo-de-tierra-de-carabus-hortensis-negro-sobre-fondo-blanco_jpg.rf.d0a1ee9e8efcb125b91d165fd6a8fb2b.jpg\n",
            "        garrapata7_jpg.rf.c29ad329fa6cef0093c1168d27ab8599.jpg\n",
            "        153407409992237093_webp.rf.e0ba034007b1767904963009989d0633.jpg\n",
            "        imagen_230_jpg.rf.920f73b9a907e2ff0901a6b499786307.jpg\n",
            "        chinche18_png.rf.22aa8ab5167385996371c93102f68cb2.jpg\n",
            "        18_png.rf.09b43a779884b6d73a072883a0493642.jpg\n",
            "        10_jpg.rf.3232ae2c42d0d33e31a9b1201b953da9.jpg\n",
            "        imagen_172_jpg.rf.a915fd9cb2de2fdd7274970a16d309c6.jpg\n",
            "        imagen_195_jpg.rf.f41102460c528af68b4da19c61f15328.jpg\n",
            "        f960x540-111240_185315_5050_webp.rf.0282e881406316f591fb282ea61ad054.jpg\n",
            "        imagen_254_jpg.rf.7a1ee2f6de398ed113fcb6a1ccfac4c6.jpg\n",
            "        imagen_54_jpg.rf.0e2864549cfc51d4c21b4da7f74e71a1.jpg\n",
            "        Pristhesancus_plagipennis_nymph_jpg.rf.c4a3093533663da7438454c32896eae1.jpg\n",
            "        images-7-_jpg.rf.40de04d720c93fbe561beb119ae2f465.jpg\n",
            "        imagen_103_jpg.rf.db98d80fa002472f1a973c4694dc541b.jpg\n",
            "        imagen_254_jpg.rf.f8f55ca396a323ed37fdcca502ef149a.jpg\n",
            "        640px-Red_Assassin_bug_03978_jpg.rf.de77cf073b82c379c69e240e3b7e2e11.jpg\n",
            "        2015-06-05_13-30-57_IMG_2590a_-_Flickr_-_andrey_zharkikh_jpg.rf.5f9902f45d68da7105e4c06d2a2dcc22.jpg\n",
            "        640px-Orange_Assassin_Bug_-_Flickr_-_treegrow_jpg.rf.6dcdd43ecc2429c2c23fdd60295376d3.jpg\n",
            "        chinche12_jpg.rf.95b9e5a6f5233ca9fb4ed9c175c17958.jpg\n",
            "        chinche10_jpg.rf.1b077bc6f7c47a4e9e1084e341f37cc7.jpg\n",
            "        Arilus_cristatus_-_Wheel_Bug_-_Assassin_Bug_-42674125980-_jpg.rf.ef7e3439bf1244b76d4e77aa91169b55.jpg\n",
            "        Spider_assassin_-18396334843-_jpg.rf.f0a4239659a5ff4cec5bc6544434eb8e.jpg\n",
            "        640px-Orange_Assassin_Bug_-_Flickr_-_treegrow_jpg.rf.ba6c5e0886ed32edf9e75d6d7180b0ea.jpg\n",
            "        cucarachas-humedades_jpg.rf.37eb213770f70c3517459bce1a703e17.jpg\n",
            "        f960x540-111240_185315_5050_webp.rf.3ab995ad707fa3998ddb3dbd30fdd987.jpg\n",
            "        640px-Red_Assassin_bug_03978_jpg.rf.f3d4b6bc2b6cde432f6c6b56905c78d4.jpg\n",
            "        escarabajo_c_webp.rf.3b91113fb608a9fd6c2d4e5be09d44de.jpg\n",
            "        20_jpg.rf.c72e2a165f1c312e3c2bbd84af10573c.jpg\n",
            "        35_jpg.rf.2cf3c9197bc5cb38f5fe666902e104b6.jpg\n",
            "        23_jpg.rf.5dcf814dc781d403c7d4dbb244c98a83.jpg\n",
            "        cucarachas-humedades_jpg.rf.8961b97c693a6f84d48f476a2a872d8c.jpg\n",
            "        26_png.rf.b4863aa8ea0292eaebf62154325ab6a7.jpg\n",
            "        imagen_19_jpg.rf.2718a896bc0fde40ba319ea24f8cb4e1.jpg\n",
            "        27_png.rf.4928804c5ba4660fab4d40bd9a957204.jpg\n",
            "        12_png.rf.baceebd42eb0fd7d6067553f79d0054e.jpg\n",
            "        pulga2_jpg.rf.89a9e87c33388b9fc2752a5a88b36528.jpg\n",
            "        12_png.rf.d591ae30e1d423a50014750909619863.jpg\n",
            "        chinche10_jpg.rf.f183ef70b7c399e20446f14b5b7246df.jpg\n",
            "        Spotted-Cucumber-Beetle-feeding_jpg.rf.311587df31b81a5382cfcfa6c27aa084.jpg\n",
            "        aran-a-rincon_jpg.rf.5912eed008d89421a2dd03d63f15c7e1.jpg\n",
            "        chinche20_jpg.rf.3d9b37519fa1edc32e6da1e0eb80437e.jpg\n",
            "        imagen_25_jpg.rf.e6feb0ad29d03b2d79cb9626917e823b.jpg\n",
            "        Waterkever-Coleoptera-waterinsecten-1024x419_webp.rf.ecb7629f97b594752f2ed848c9e0f45d.jpg\n",
            "        medium_jpg.rf.15dc64a355d782020aef87ef343a04bf.jpg\n",
            "        imagen_206_jpg.rf.2d71ac4cf0d250ac16b12ee54e50c94f.jpg\n",
            "        imagen_241_jpg.rf.c7f8d20337f6a31a04428db24e4ddd2c.jpg\n",
            "        chinche5_jpg.rf.09c473b936d5f6c24c65ae8cdef87161.jpg\n",
            "        images-8-_jpg.rf.75b799c0c820a998ff963f37c149ea8b.jpg\n",
            "        chinche28_jpg.rf.d5894e6f738f59e4db0bc37bb394e13e.jpg\n",
            "        Pristhesancus_plagipennis_371345611_jpg.rf.110d1b98082e5741531ec5ce8e9334a9.jpg\n",
            "        31_jpg.rf.3a78911752a497ea03b08f8254d194b3.jpg\n",
            "        chinche17_PNG.rf.49fb37909ab492ded63a35511d042a72.jpg\n",
            "        25_png.rf.8b6f75ac1f110bd4659bad1a201f5ebe.jpg\n",
            "        imagen_145_jpg.rf.7a8c611f6ad8b19149e5c8fe2fdb8d8c.jpg\n",
            "        Assassin_Bug_-Reduviidae-_-13965741853-_jpg.rf.43fac6df65944dbafcefb2adec0760e2.jpg\n",
            "        imagen_235_jpg.rf.31d6349f87e628221ad191642197f5dc.jpg\n",
            "        escarabajo_arana_subfamilia_ptininae_4667_5_600_jpg.rf.0ec4d6a540aca21e356209ef5b5073ed.jpg\n",
            "        640px-Orange_Assassin_Bug_-_Flickr_-_treegrow_jpg.rf.94da719036173236bccf30c0248f2116.jpg\n",
            "        chinche18_png.rf.ae7ae7ec770e99baa8bcdd495bfb120a.jpg\n",
            "        chinche22_jpg.rf.5a15d218be5fec0129fb56f7654171fe.jpg\n",
            "        chinche21_jpg.rf.0196eeab7d604cd8a0bd831f17141c67.jpg\n",
            "        imagen_126_jpg.rf.e0660b5b58526eb53ee907be42957832.jpg\n",
            "        chinche12_jpg.rf.0f75a7fe2ac7a404c2f29bdaac74ba0c.jpg\n",
            "        chinche22_jpg.rf.425b221776667ebff6a2452365a74834.jpg\n",
            "        images-3-_jpg.rf.a40a445124ca5fa39c756800e378fded.jpg\n",
            "        ih90t7Yt-_2000x1500__1_jpg.rf.a1d7a90005973c8a8545249077a05f4c.jpg\n",
            "        Tegea_atropicta_45315973_jpg.rf.98f9ea4f52ab7d40385f66f71613c35b.jpg\n",
            "        imagen_126_jpg.rf.17967914a17d4dad875d55942a5a41e4.jpg\n",
            "        imagen_205_jpg.rf.9a43b83a86a774ee1b578a3bfc204f78.jpg\n",
            "        imagen_207_jpg.rf.ffa6bb3749247f93c077fc40f973091f.jpg\n",
            "        imagen_209_jpg.rf.1576ee6b6d7bce16ab0cd2a5fbd03415.jpg\n",
            "        9_jpg.rf.be322894b6a5d81ff625ae08e214acda.jpg\n",
            "        Triatoma_infestans_jpg.rf.50d51b5d498e76c70667290956d63617.jpg\n",
            "        chinche24_jpg.rf.b9a64978c50a8821e5acbb186c266f61.jpg\n",
            "        chinche2_jpg.rf.c118bedccd35d0ce45693f0bac29cc57.jpg\n",
            "        Ant-eating_assassin_bug_nymph_-15031835754-_jpg.rf.ad6602512ea8ed2eb7ddfcb3e8225a9d.jpg\n",
            "        arana-roja-caracteristicas_webp.rf.e3543bb9e94e868b4cab485cdab26d86.jpg\n",
            "        imagen_215_jpg.rf.bb0b8d4a54e07d3ee249915c26ccef6c.jpg\n",
            "        chinche_asiatica_o_hedionda_53979_4_600_jpg.rf.98d651323acb0fe4229ca6eadb4c8e49.jpg\n",
            "        Pristhesancus_plagipennis_243709472_jpg.rf.480c85e0c93653b1d78f713827241e33.jpg\n",
            "        images_jpg.rf.d4594f9d140410a655ce0b372ddf92ad.jpg\n",
            "        Assassin_Bug_-Reduviidae-_-15315406737-_jpg.rf.9efe9c21fa4f707591b95106c54ade16.jpg\n",
            "        chinche6_jpg.rf.1b7f8cb07affb9f0b34c62345c5394a2.jpg\n",
            "        images/\n",
            "            chinche19_png.rf.dc38da360251f1a905a8a4d65dd2f99a.jpg\n",
            "            imagen_90_jpg.rf.ea52d32627e35ef802a37229fa0acad1.jpg\n",
            "            imagen_190_jpg.rf.84e2752c70b7836c33493df7958153cb.jpg\n",
            "            imagen_64_jpg.rf.9f530e95ffc37b228018b00cb8d90a22.jpg\n",
            "            imagen_146_jpg.rf.48623305ac84cd2bbd924ec82ee401f1.jpg\n",
            "            chinche19_jpg.rf.73bbb02678ab19afc81a1ddf8179e312.jpg\n",
            "            images-1-_jpg.rf.a3600c7a28e2ff92154ea0174fb0330f.jpg\n",
            "            2016-09-10_21-50-04_IMG_7928_-_Flickr_-_andrey_zharkikh_jpg.rf.efcc80b2640c6326b97d7e3dbd32e1b0.jpg\n",
            "            Spotted-Cucumber-Beetle-feeding_jpg.rf.19daaa307fc13618776c1d6d532e6168.jpg\n",
            "            Pselliopus_-_Assassin_Bug_02_jpg.rf.3a85ab039ea1cbae20423e176f1328ec.jpg\n",
            "            images-3-_jpg.rf.c60e5519a6f6d4a7a835c3fdf12cf79c.jpg\n",
            "            Pristhesancus_plagipennis_371345611_jpg.rf.b9e8b8d515202571d789f4a0022e239a.jpg\n",
            "            imagen_250_jpg.rf.80786bc01da78bd74691541d4de3e64c.jpg\n",
            "            imagen_72_jpg.rf.90e7403d559b1e370037a6b6b2d67843.jpg\n",
            "            imagen_172_jpg.rf.54171de9a999a0928493ad5dd726fc80.jpg\n",
            "            imagen_203_jpg.rf.a96e9c2adb60da69306bec74883abce7.jpg\n",
            "            28_jpg.rf.002913cab86893c3714ac6dbc735ecaa.jpg\n",
            "            31_jpg.rf.35d505a6573eee203d470da60c3de5bb.jpg\n",
            "            7J7JA2UGI5ETRLYLS53CMBK3IQ_png.rf.00c4ab7a3b8fa71a22f908ca11f75aa1.jpg\n",
            "            20_jpg.rf.bb4872425b81b7e2dffce4480a11f41d.jpg\n",
            "            chinche11_jpg.rf.0849e67375fb8b6623de5f7f2d0a55ba.jpg\n",
            "            imagen_54_jpg.rf.166ed55f6a176dd00b0fcb3895c2b2fb.jpg\n",
            "            escarabajos-de-madera_webp.rf.ddabc2a52144fab9a8c50e8e8344bea9.jpg\n",
            "            imagen_155_jpg.rf.f8b13d26d221501fdb2a3f4f45c37bb3.jpg\n",
            "            garrapata19_png.rf.81ae368c0967542b93bb3a2258e9b9fa.jpg\n",
            "            imagen_190_jpg.rf.78f2bc93f20ac5d35d48049456a20c2b.jpg\n",
            "            imagen_62_jpg.rf.21e2d6f433227512aaa21caf5c27ac51.jpg\n",
            "            38_png.rf.9f04fbdc2f061e842e8aec2cc4f99d45.jpg\n",
            "            curso-ilustracion-insectos-grafito_jpg.rf.b9fb73a042e46c52d1218a42fef2c978.jpg\n",
            "            12_png.rf.0a773ed9c55dc15d25234cc7fff5e008.jpg\n",
            "            chinche19_png.rf.4214d455925778120d550c528e3d9180.jpg\n",
            "            chinche13_jpg.rf.22f319e08af7556a9ad73acf717811da.jpg\n",
            "            640px-Assassin_bug_of_some_kind_-43869093162-_jpg.rf.b82b009ce96356c646a29b74c2534ff2.jpg\n",
            "            22_jpg.rf.2db574b19c237d82c53e817ba85ce062.jpg\n",
            "            23_jpg.rf.d4b23041880f10fb1118648f1591900b.jpg\n",
            "            nacerdes-melanura-03_jpg.rf.5c7fcba84fa3b9976fe567d6d33c4969.jpg\n",
            "            640px-Zelurus_sp-_-12911326493-_jpg.rf.aee810cc5d87db3f60f41fcce5f10b16.jpg\n",
            "            8_jpg.rf.af05f067cb4989b7b3bec6ff7184656c.jpg\n",
            "            descarga_webp.rf.d73b2a77b1bd6c0d871d32369892ccb1.jpg\n",
            "            cucarachas-humedades_jpg.rf.ec8abe2a86547ec1841901b8e55ffedb.jpg\n",
            "            imagen_62_jpg.rf.a0d5658e9a5af24a9c0ed7a241d3afd5.jpg\n",
            "            aran-a-rincon_jpg.rf.6f2605ff560fdb09cf3b474d7199a1d7.jpg\n",
            "            imagen_204_jpg.rf.0ee2986fe784abc54893ac30c9bbd8f0.jpg\n",
            "            1_png.rf.eb345a8e3304d722d82051987555369c.jpg\n",
            "            31_jpg.rf.2204af1578a58a0c055fa8e994163284.jpg\n",
            "            Waterkever-Coleoptera-waterinsecten-1024x419_webp.rf.6abc0a98feb39f7519e19a86b178c231.jpg\n",
            "            8_jpg.rf.5379ea4d2620cbcccf6fe4e1330b6f0b.jpg\n",
            "            Firebug_jpg.rf.48c2fa83d593081ede999d1d30488729.jpg\n",
            "            Zelus_renardii_-Reduviidae-_II_jpg.rf.bf2eb0bc2d129372ce47e3353829642d.jpg\n",
            "            Zelus_renardii_-Reduviidae-_II_jpg.rf.f7b4a98172308e37c32af02300192231.jpg\n",
            "            imagen_126_jpg.rf.d9fb79d6bfa4387b80f635e97e2f5d61.jpg\n",
            "            escarabajo-e1583723107229_jpg.rf.5794810e79f9efc75e58c84745d11f95.jpg\n",
            "            garrapata5_jpg.rf.fd9bb4d385f0029034a275e8eaadfa1a.jpg\n",
            "            cantharidaejtann-1_webp.rf.02f6c86636c0f5b876cab057826729ef.jpg\n",
            "            arana_png.rf.4f77b5c13d36b2d2f5464e5558d27254.jpg\n",
            "            chinche16_png.rf.03db3f9ef11b91d5d350b41baced4a3b.jpg\n",
            "            imagen_323_jpg.rf.d1e0009a9d777751fe879b8e5e9b046b.jpg\n",
            "            leptura-sobre-una-hoja-wikipedia-commons-by-guido-gerding_jpg.rf.1fde93b86b7e0c493e216424df9eb8e3.jpg\n",
            "            imagen_21_jpg.rf.4ff78eb3ea6bce29de8ea96adc815180.jpg\n",
            "            4_png.rf.d4350ee56e469758d24a31100df57dd4.jpg\n",
            "            imagen_133_jpg.rf.bf265e5bcd247c87e39837c25e12f114.jpg\n",
            "            pulga2_jpg.rf.24d34c13066bd2854bd910563bd83c40.jpg\n",
            "            imagen_253_jpg.rf.0c5dbe095ff06513ac70b2d7aa689354.jpg\n",
            "            Tegea_atropicta_45315973_jpg.rf.ff0fa239df069d00827de91f702b292b.jpg\n",
            "            imagen_271_jpg.rf.5d8c9beff68a2904dcfed587d6cfa71d.jpg\n",
            "            imagen_180_jpg.rf.f5ce00964d808209a52f90ff260d1f38.jpg\n",
            "            arana31_webp.rf.1c5be1c870033728847864e453675602.jpg\n",
            "            imagen_249_jpg.rf.334b2a0d42559ed7acc7bd6654f060dc.jpg\n",
            "            2016-09-10_21-50-04_IMG_7928_-_Flickr_-_andrey_zharkikh_jpg.rf.e7c2fe271fb6d5b95361e8fe01ae52a7.jpg\n",
            "            Assassin_Bug_-Reduviidae-_-15315406737-_jpg.rf.75d1319c25dbaa8616e33e542d116d0c.jpg\n",
            "            640px-Black_Corsair_Assassin_Bug_-_Melanolestes_picipes-_Meadowood_Farm_SRMA-_Mason_Neck-_Virginia_-40486058372-_jpg.rf.392d8bd47aed598096de65dcb0d4d13b.jpg\n",
            "            images-13-_jpg.rf.7878889bbc3f07e1b99958ed1b05aac6.jpg\n",
            "            chinche27_jpg.rf.76393a2e2ae1f11770cf18b5543d55e0.jpg\n",
            "            Reduvid_May_2014-1_jpg.rf.e3323f33b38ac15f7d191a7e89987e3e.jpg\n",
            "            insectos-eleconomista_jpg.rf.1117b963c951cd72babfed29d00e956e.jpg\n",
            "            1200x675_cmsv2_514767dc-8344-56c0-9880-a3f296f852bd-8379100_webp.rf.06ae5559e83c4296e4bd7661e138a44f.jpg\n",
            "            imagen_179_jpg.rf.fc7980f41f4578685cfd9eccf8f2c8d2.jpg\n",
            "            Ground-Beetle_jpg.rf.fd17b9b4f59fa34f182ad66fac69fb84.jpg\n",
            "            28_jpg.rf.de992cc4c0a1d2a24cdf8cde24a9a587.jpg\n",
            "            imagen_179_jpg.rf.75075ccf21e10a1cf188c629898ecc2b.jpg\n",
            "            chinche29_jpg.rf.cd5cc1ed22f1b229834ddd7a6c43e3b9.jpg\n",
            "            Assassin_Bug_Nymph_-_Flickr_-_treegrow_-10-_jpg.rf.30d02d13b7de4605bc6d46af7d8e71a1.jpg\n",
            "            imagen_25_jpg.rf.1b2de9f108a35b3949ef9bb10780fd9f.jpg\n",
            "            32_jpg.rf.b16aebfd96e4732d3b3d268effa39167.jpg\n",
            "            imagen_228_jpg.rf.f39c4d3a80a99d8ef96b3d8497c4d01c.jpg\n",
            "            imagen_258_jpg.rf.ebd9d757049a8a98636cd688ffa99c6a.jpg\n",
            "            imagen_142_jpg.rf.b36d48bbc5f39688ef2845fc01527f57.jpg\n",
            "            garrapata10_jpg.rf.dcc64c5b5486c11ebac88da156b536d1.jpg\n",
            "            Milkweed_Assassin_Bug_jpg.rf.245783162ca094d7c7159cbfdf1053b6.jpg\n",
            "            images-6-_jpg.rf.9bf5e495ba276a6759d88f5659ead6f7.jpg\n",
            "            imagen_190_jpg.rf.50ff3bea7b44090b534462b7281e2eb6.jpg\n",
            "            crw67680_jpg.rf.6e46a610de4a51b378e051d4f20e6e2e.jpg\n",
            "            chinche20_png.rf.b79b172b7fd149a17e6af92c7a7c1cb6.jpg\n",
            "            Little_Assassin_Bug_-_Flickr_-_pinemikey_jpg.rf.a961368be9daee8d03041fbf2fe43dc5.jpg\n",
            "            Pristhesancus_plagipennis_243709472_jpg.rf.ab89ca457af262e222ea0ebc1920a28f.jpg\n",
            "            chinche8_jpg.rf.e77d490d6b20dd7cc8b9ce480214c1ef.jpg\n",
            "            imagen_240_jpg.rf.caef979a2754177ff2ae5cc3fc67169f.jpg\n",
            "            images-1-_jpg.rf.e3d1304c2fa9b64fa7f1e7a0b5d171c9.jpg\n",
            "            chinche20_png.rf.99d63ff8fcc13d3d3ba03a2c08ab68c3.jpg\n",
            "            Spider_assassin_-18396334843-_jpg.rf.8980c48d6aeee6474374999f47f11ab8.jpg\n",
            "            imagen_121_jpg.rf.0485b069257a4081a6e92f8e4eac3008.jpg\n",
            "            imagen_208_jpg.rf.fc27f68aff5c8fe279b9b2d84f5ce985.jpg\n",
            "            Ground-Beetle_jpg.rf.8b3678a36dca5add2816be6b729c77dd.jpg\n",
            "            imagen_7_jpg.rf.d2d692431a5125424754e572a292635e.jpg\n",
            "            imagen_218_jpg.rf.24d2681d7c8be67bbddf839ba2c5a0f2.jpg\n",
            "            6143JTBn3JL_jpg.rf.5fccd71e8e2e363d36be28d5d1dccd53.jpg\n",
            "            imagen_19_jpg.rf.99e46182247adebf689778b97ffbe714.jpg\n",
            "            Melanolestes_picipes_-_Black_Corsair_-_assassin_bug_-ID_thanks_to_Ashley_Bradford-_-42934548600-_jpg.rf.5ebba3de26a718ebd5c72610a8872cbc.jpg\n",
            "            escarabajo_c_webp.rf.8b077de67080e9d1dcf6d9e0e37f1ed7.jpg\n",
            "            insectos-eleconomista_jpg.rf.431d0ecc9c4f19574e4712161ca23744.jpg\n",
            "            imagen_140_jpg.rf.62669b4215f2799f2cc241bcc88a19bb.jpg\n",
            "            22_jpg.rf.c1a642ec49c3faf934f5292dc234ae9a.jpg\n",
            "            imagen_54_jpg.rf.8903af637e7f7ee6460ec4f102c283cd.jpg\n",
            "            -asda_webp.rf.77a6a326ef8b8d834ed7728c5b1f091a.jpg\n",
            "            insectos-eleconomista_jpg.rf.ac444f075f34bb238e3b9a0ea2e1f126.jpg\n",
            "            leptura-sobre-una-hoja-wikipedia-commons-by-guido-gerding_jpg.rf.6a2e10aad17620023df30a215e2a9fbc.jpg\n",
            "            chinche25_jpg.rf.3599111d622b3b2a8f4715a4171bc3aa.jpg\n",
            "            chinche19_jpg.rf.f4fa293ac8f911dbd1fbfa87cba23776.jpg\n",
            "            images-6-_jpg.rf.d0034369e8249446f110da8bd4c991e7.jpg\n",
            "            chinche13_jpg.rf.dba6ce664e441ac03e088d4912ddff60.jpg\n",
            "            10_jpg.rf.102df5319293195d49be66edb598a660.jpg\n",
            "            18_png.rf.91a16687f6148e1257e2a5426bd4c6c0.jpg\n",
            "            7J7JA2UGI5ETRLYLS53CMBK3IQ_png.rf.0aa7bd0f650db44cc2360c6101ad7306.jpg\n",
            "            Exophthalmus_pulverulentus_01_jpg.rf.a1f08da29809adfb65eb130f91c926b9.jpg\n",
            "            Assassin_Bug_-Reduviidae-_-7079902129-_jpg.rf.30bce0b85d5c74b6547821cbfbcbe86b.jpg\n",
            "            chinche20_png.rf.5708391196dc7c3d364068b3f26fa3d3.jpg\n",
            "            Pselliopus_-_Assassin_Bug_02_jpg.rf.460a15d0145194b4a2ddf63006c219ea.jpg\n",
            "            20902451-dos-de-jardin-escarabajo-de-tierra-de-carabus-hortensis-negro-sobre-fondo-blanco_jpg.rf.cfbfb8b67e214ca56c6bc09b449398d8.jpg\n",
            "            images-13-_jpg.rf.a9b2bec823cb2298c6aed39a008397c5.jpg\n",
            "            imagen_147_jpg.rf.ec20353341c91b1ff23a8a0d553997f9.jpg\n",
            "            imagen_133_jpg.rf.d91f4b3ecd4eaddc283c514de67cc672.jpg\n",
            "            imagen_142_jpg.rf.425e8cef5344804cccc683611569f487.jpg\n",
            "            chinche25_jpg.rf.3554d0bb0de213894448e4ea5a51cd07.jpg\n",
            "            imagen_254_jpg.rf.e8f8a12752288f5944434629c13ed01a.jpg\n",
            "            arana30_png.rf.222719576ad434f5d5798d672750ebf0.jpg\n",
            "            imagen_205_jpg.rf.5bf5e46a5bcb946cb8312519304a9522.jpg\n",
            "            imagen_206_jpg.rf.61898affa59cf08cd373751bdd7b9c1e.jpg\n",
            "            garrapata13_jpg.rf.03175ea856c5a4efa98dea9d8efc8e9a.jpg\n",
            "            Ant-eating_assassin_bug_nymph_-15031835754-_jpg.rf.3b45fd59cbdcca559cdaf94667047e1c.jpg\n",
            "            hqdefault_jpg.rf.ff56cb25baa622c467625bc8d1bf2535.jpg\n",
            "            26_png.rf.a32cf4fb03962a5b2715ea123cf9a70d.jpg\n",
            "            images-6-_jpg.rf.6add7d3b62da8dc41c9fa4aa4e99418b.jpg\n",
            "            imagen_121_jpg.rf.12628fa175b5d28d3f91e6053e7704c3.jpg\n",
            "            Assassin_Bug_-Reduviidae-_-13966021573-_jpg.rf.ed80984593f06be35261be93a499e230.jpg\n",
            "            imagen_146_jpg.rf.27e48d2c217d8c8f3a36814cd2ef0900.jpg\n",
            "            pulga4_jpg.rf.0ce940a0565600554f74ea9996ddaf43.jpg\n",
            "            garrapata5_jpg.rf.3e8b141690f037e466946347c2ecb4f3.jpg\n",
            "            medium_jpg.rf.70c89b0c3d296750ce5272d4d755346c.jpg\n",
            "            imagen_90_jpg.rf.7e8d9c56d8a9f3b0875eb2b71ca4dde7.jpg\n",
            "            imagen_20_jpg.rf.bfb1188d95ac208d3107b30b1d7ab6be.jpg\n",
            "            pulga1_jpg.rf.e57617d907061660de2251051c393800.jpg\n",
            "            imagen_219_jpg.rf.6e94a4dfe8a503f9d9f485e450748021.jpg\n",
            "            Firebug_jpg.rf.75572ad50882ca9a05622ee4eabb7e83.jpg\n",
            "            1200x675_cmsv2_514767dc-8344-56c0-9880-a3f296f852bd-8379100_webp.rf.f44a05785e0213c3a9948d127c706ca7.jpg\n",
            "            Assassin_bug_front_2-tif_jpg.rf.020b06732742def6751072cc36a0a1a1.jpg\n",
            "            imagen_20_jpg.rf.94bbe18f3116ac8d9f8ed1782c51f58f.jpg\n",
            "            images-7-_jpg.rf.879c676235881fed08c98a92c52a2cb1.jpg\n",
            "            imagen_264_jpg.rf.713a19291b3418bc315cc7f2f81ae70e.jpg\n",
            "            images-12-_jpg.rf.bb495b2c007b3df3378c53f8e627aeeb.jpg\n",
            "            escrabajo-20160909_jpg.rf.baeefb7d5fc5a7344b6d0bc832c2cbd1.jpg\n",
            "            chinche19_jpg.rf.8361275bb4bda47094bc4161ddfcc827.jpg\n",
            "            chinche12_jpg.rf.d80baf6f43edbb5686d7c33cbd138840.jpg\n",
            "            640px-Red_Assassin_bug_03978_jpg.rf.948e0adb28c51ed132c1a2e9c5c79658.jpg\n",
            "            imagen_298_jpg.rf.05514328bd46ca3c24b0e082016d7e62.jpg\n",
            "            images-2-_jpg.rf.5f565beb442c19bf6ccc7f84d9168270.jpg\n",
            "            imagen_235_jpg.rf.0b8ba43c570aa7dc3a688a09bc3b90d2.jpg\n",
            "            imagen_264_jpg.rf.fad7cc3bff056b1a2ff84b824a63d1e1.jpg\n",
            "            20_jpg.rf.074f92010912d7cb6e8e25ecf8b8a338.jpg\n",
            "            imagen_228_jpg.rf.6c3ea2926e137a8cbeb329555d75c26e.jpg\n",
            "            imagen_18_jpg.rf.93d1dcff5900e38ed000aee46886f96a.jpg\n",
            "            imagen_298_jpg.rf.5da6eb436b3728dd42bffa6627964711.jpg\n",
            "            chinche17_PNG.rf.0a79ccec79560cd22ff6154fd6fd6670.jpg\n",
            "            imagen_172_jpg.rf.f8e548ab4735d1cf053b03ca91540827.jpg\n",
            "            imagen_180_jpg.rf.45f8a83e80badad21e9ab7a38bfd2759.jpg\n",
            "            arana30_png.rf.2ced1b65ffbf6d472aa92d04fd537bdc.jpg\n",
            "            640px-Assassin_Bug-_Salyavatinae-_-_Lisarda_erecta_-_-_-_Flickr_-_gailhampshire_jpg.rf.1b6906760c7c77b45bee126f1bb981f2.jpg\n",
            "            imagen_134_jpg.rf.c1971c9c345fa7c5c23ebb061d3e9dfb.jpg\n",
            "            Melanolestes_picipes_-_Black_Corsair_-_assassin_bug_-ID_thanks_to_Ashley_Bradford-_-42934548600-_jpg.rf.0fdbab82c86166c5800157a375c26b92.jpg\n",
            "            7J7JA2UGI5ETRLYLS53CMBK3IQ_png.rf.a3186a376ae3b35a398b3e0045f1d7ca.jpg\n",
            "            imagen_241_jpg.rf.20e1a170ae2c0c0d042aaafe093eb05d.jpg\n",
            "            4_png.rf.d1b0a2193ad1b92631ab84b56af63e2a.jpg\n",
            "            chinche7_jpg.rf.600a2ab99d99cad7296d15105c1ef9b2.jpg\n",
            "            640px-Black_Corsair_Assassin_Bug_-_Melanolestes_picipes-_Meadowood_Farm_SRMA-_Mason_Neck-_Virginia_-40486058372-_jpg.rf.ef6e7d37bd201198f390de235db3c111.jpg\n",
            "            imagen_240_jpg.rf.aa49f380178ebe51aedd4113012989a6.jpg\n",
            "            imagen_143_jpg.rf.e64a2864d66e763a1fa05112dc469de3.jpg\n",
            "            Pristhesancus_plagipennis_nymph_jpg.rf.9e66e0e93714c63c8f5123c9e4b56368.jpg\n",
            "            imagen_258_jpg.rf.fafedaaefc75a67554e02817e2beaa70.jpg\n",
            "            imagen_155_jpg.rf.5c87740030b7d1af29a8fe754194ceb9.jpg\n",
            "            imagen_221_jpg.rf.7fba1122d0fc353c7e2307872f0d399a.jpg\n",
            "            Pygolampis_striata_-10-3897-BDJ-9-e63695-_Figure_3_b_jpg.rf.15d26dca811a17937f7242fd00c7a6c0.jpg\n",
            "            imagen_121_jpg.rf.384bc059bc8310cf08fe80d0d0e92246.jpg\n",
            "            chinche16_png.rf.f0c687717c9ffded73890c33aefe3b9f.jpg\n",
            "            imagen_295_jpg.rf.d6edc6d5fc27f6148cba5d2c3f7348b7.jpg\n",
            "            18_png.rf.d58323a887150c531c9b2e3df360a1d5.jpg\n",
            "            imagen_249_jpg.rf.af047ad84f6b01fd8fcadd6905d9772d.jpg\n",
            "            imagen_207_jpg.rf.4b8757efd58f243ac588480fa20709df.jpg\n",
            "            Arilus_cristatus_-_Wheel_Bug_-_Assassin_Bug_-42674125980-_jpg.rf.b68ce77507a5bc31285420f4645f062f.jpg\n",
            "            Assassin_Bug_-Reduviidae-_-13966021573-_jpg.rf.c663e835c626ceb5ded98ea5fd0273df.jpg\n",
            "            imagen_90_jpg.rf.18c0c923d65b218d1e693f9080bacd94.jpg\n",
            "            Exophthalmus_pulverulentus_01_jpg.rf.526663cafa83cd6269c11d8ae78fb9fa.jpg\n",
            "            imagen_276_jpg.rf.ee9b7cfa1fadd5acc4683065d2c1c66b.jpg\n",
            "            pulga3_jpg.rf.5e173e245d7661aa4ddac16b8391665c.jpg\n",
            "            Spotted-Cucumber-Beetle-feeding_jpg.rf.323392b054b9599378125859e69d0694.jpg\n",
            "            9_jpg.rf.ede3da33adaefebfcb42634686b23974.jpg\n",
            "            imagen_276_jpg.rf.dd43aac9fef44fcb101abefc71a583f6.jpg\n",
            "            Triatoma_infestans_jpg.rf.373038499846874905d3bb60d204c10b.jpg\n",
            "            chinche27_jpg.rf.1fca3d4b2de3231ca0cfd23a954fe27b.jpg\n",
            "            imagen_221_jpg.rf.6884da42fc012134139669923fc09640.jpg\n",
            "            imagen_237_jpg.rf.14019e1b4472969499cf10789c46f8b3.jpg\n",
            "            imagen_203_jpg.rf.450b845a8bbe303a0576772a55df73b0.jpg\n",
            "            pulga3_jpg.rf.728c66f259cda06475581d5fe576e8f7.jpg\n",
            "            imagen_7_jpg.rf.ace63a4d62e1ccb0b88c62c3d95cf5a9.jpg\n",
            "            imagen_136_jpg.rf.a791b98a5878ef815d05e19c47b19879.jpg\n",
            "            26_png.rf.3069dc7d6eab67aff1fdb47c2128e0c8.jpg\n",
            "            images-12-_jpg.rf.2a5c97ace969006e9a2758eeb707e519.jpg\n",
            "            pulga3_jpg.rf.afc4fc5bd6a033dfb6016a7ae7d64148.jpg\n",
            "            imagen_180_jpg.rf.6fa436abb471cd31323a75f268ccbde9.jpg\n",
            "            imagen_108_jpg.rf.a3bf38310e0b1142bf02dbf8a592b778.jpg\n",
            "            chinche7_jpg.rf.26cfc1e63427171679ca2fb23fc9f21d.jpg\n",
            "            pulga2_jpg.rf.e2d559a20a997f5ee7861cc03111e076.jpg\n",
            "            imagen_133_jpg.rf.c5daafdb2047196e308c3f10b6f0d839.jpg\n",
            "            Assassin_Bug_Nymph_-_Flickr_-_treegrow_-10-_jpg.rf.d376491173791a0d65eebdcff0bab5db.jpg\n",
            "            imagen_204_jpg.rf.86b12a5e16eff7c6163c07836ba95927.jpg\n",
            "            garrapata15_jpg.rf.5416f9f74d9f3f1405fb3b1c3601db4c.jpg\n",
            "            arana_jpg.rf.31d4e6642161446133bf95b4272443e4.jpg\n",
            "            imagen_179_jpg.rf.fc8f1b8cbafae14a376853b2ba40a371.jpg\n",
            "            garrapata16_jpg.rf.4782737b9d5943eecc7565e2f725542e.jpg\n",
            "            imagen_142_jpg.rf.5f2d2edfce2bc5c85dc296cb9143b2fe.jpg\n",
            "            garrapata5_jpg.rf.94ab50d7e15ecf4f34114eced250248a.jpg\n",
            "            arana_png.rf.ae2b0a761098ae0615e6e62bf5c3f67a.jpg\n",
            "            imagen_143_jpg.rf.a84ffe7dd4cecedfa837ba4a9f7ab64f.jpg\n",
            "            imagen_295_jpg.rf.b28c430c47fb59a7fbe05aee5ff6b2bb.jpg\n",
            "            17_png.rf.a837e13cc3d8dc439d85a38f49164c01.jpg\n",
            "            imagen_212_jpg.rf.ff8c774a2b71206bd17c539e215bdff4.jpg\n",
            "            6143JTBn3JL_jpg.rf.b039cf27b34225b5f7570a0328dc5359.jpg\n",
            "            17_png.rf.1fcd27336569c6bbedc5964b9829ceb9.jpg\n",
            "            mordedura-arana_jpg.rf.af996460dae162bca2f4bd6747d8cb76.jpg\n",
            "            images-11-_jpg.rf.9338bd7a6c87ed42d43b21265b2c28dd.jpg\n",
            "            curso-ilustracion-insectos-grafito_jpg.rf.de2df700e1a3913ec6b53a66d0b7c587.jpg\n",
            "            imagen_134_jpg.rf.522f3fc850f33a477c4b3a260cace0d8.jpg\n",
            "            imagen_201_jpg.rf.b347560db6d6239203d281c4ec33e844.jpg\n",
            "            Spider_assassin_-18396334843-_jpg.rf.2c228332aa6db910bd371178e3a4665e.jpg\n",
            "            Zelus_renardii_-Reduviidae-_II_jpg.rf.b849584c67383611aae219b0b9563d0c.jpg\n",
            "            Pristhesancus_plagipennis_371345611_jpg.rf.262cc7ff7edc160b96096f9175507747.jpg\n",
            "            imagen_72_jpg.rf.54563103cc0b76c62919a1612f626384.jpg\n",
            "            imagen_64_jpg.rf.7a19bd0103e52cb2928aa5e52b50e73c.jpg\n",
            "            chinche29_jpg.rf.1ba74c1dfe3ff55c39864e224a400add.jpg\n",
            "            images_jpg.rf.a7cc31508d7a222bd2e5011221b5f629.jpg\n",
            "            escarabajo_arana_subfamilia_ptininae_4667_5_600_jpg.rf.b69011ffdb42f1c6718868baa0c988ba.jpg\n",
            "            imagen_208_jpg.rf.f520c20c9ee2de287d3d666295c5d398.jpg\n",
            "            imagen_295_jpg.rf.aa8a003e8bcbd82782d1262a23bfdeaf.jpg\n",
            "            Assassin_Bug_-Reduviidae-_-7079902129-_jpg.rf.498da11eab808141ea1bc3fa64c5523c.jpg\n",
            "            imagen_74_jpg.rf.3279690baa24e088c6facc6867e9760e.jpg\n",
            "            chinche7_jpg.rf.d4f64b32c0fee542e12231a633f1a9e1.jpg\n",
            "            escarabajo_c_webp.rf.da44e2a632e3ad072d603dcc0f2e5153.jpg\n",
            "            Reduvid_May_2014-1_jpg.rf.60dedd08d436f303d98d854a605d8623.jpg\n",
            "            hqdefault_jpg.rf.1f0c0d4ba6b6356dfb8d49353be4029d.jpg\n",
            "            chinche18_png.rf.d9c044e28fd2707717833d7c2c44ade5.jpg\n",
            "            imagen_235_jpg.rf.b2433362f3ca731674bbd63729af1a3b.jpg\n",
            "            garrapata16_jpg.rf.1af7d7aa5446fbdef959cb7ca6b312a6.jpg\n",
            "            imagen_159_jpg.rf.4151d15829735beffdabea3e3f4cd2e6.jpg\n",
            "            25_png.rf.6a68797aa996f9e5d1bb41c8ac065993.jpg\n",
            "            2_png.rf.b9890c0683dc6c2f0d2c55e71a19a812.jpg\n",
            "            1200x675_cmsv2_514767dc-8344-56c0-9880-a3f296f852bd-8379100_webp.rf.b9404a74d5f3b785997696bf2701130d.jpg\n",
            "            imagen_237_jpg.rf.60c5c083ce389de023b2fd1350298c88.jpg\n",
            "            imagen_209_jpg.rf.0d077e655fd31b9e66a22d53ad8aad38.jpg\n",
            "            Assassin_Bug_-Reduviidae-_-7079902129-_jpg.rf.59eda7f9a87f073d56a075f07e6c7b22.jpg\n",
            "            640px-Black_Corsair_Assassin_Bug_-_Melanolestes_picipes-_Meadowood_Farm_SRMA-_Mason_Neck-_Virginia_-40486058372-_jpg.rf.fd1dd4a1a08a75533827a961bd41d96d.jpg\n",
            "            22_jpg.rf.e4f9f92cd010ca76747e3f347f138f08.jpg\n",
            "            19_jpg.rf.bb251e991edbc07ed885bcaa7d4262fe.jpg\n",
            "            descarga_webp.rf.c2373ea23f681ff681385100308353a0.jpg\n",
            "            imagen_62_jpg.rf.e234e603e865642469104f302b8ccdc9.jpg\n",
            "            13_png.rf.eb036c003e171f60074b28c48d7fbdf7.jpg\n",
            "            pulgas_26694_0_600_jpg.rf.d3ce5eecf35437cc2c68e56e63cea4ad.jpg\n",
            "            imagen_7_jpg.rf.43e88a4e1842cc2fc1beb9d1cd8a8a1e.jpg\n",
            "            chinche22_jpg.rf.02895c332c8529134e4818deb21ef029.jpg\n",
            "            chinche28_jpg.rf.30ddc92a8a19aafb4cd9433a28f3df94.jpg\n",
            "            imagen_21_jpg.rf.b6dfd0804d5d539585394a1092b9a3b9.jpg\n",
            "            -asda_webp.rf.12f8a7c6e3a0d77f7ca85712cbed3715.jpg\n",
            "            garrapata17_jpg.rf.c93080b7f17d3a2b6414a6358a92b2c6.jpg\n",
            "            aran-a-rincon_jpg.rf.e10b6519fdb89537dd4c6bfada9fdd1a.jpg\n",
            "            Leptoglossus_phyllopus_Pat_Porter_jpg.rf.e64fde7bb89e5f641009cf27d8cb73a2.jpg\n",
            "            chinche29_jpg.rf.64ee6763d0c83fc7df9fef67ab4bea57.jpg\n",
            "            imagen_206_jpg.rf.852132123845b14ac05dca868d4bee41.jpg\n",
            "            Assassin_Bug_-_Zelus_luridis-_SERC-_Edgewater-_Maryland_jpg.rf.7b6987dbd116b3981bab64c2aa77d004.jpg\n",
            "            Little_Assassin_Bug_-_Flickr_-_pinemikey_jpg.rf.a8c25dae6574f0c345106b46f4f6189e.jpg\n",
            "            imagen_108_jpg.rf.8854c604642a65638455406bee7092e9.jpg\n",
            "            imagen_212_jpg.rf.5c73601f9ef3eafdac1a60944e121cac.jpg\n",
            "            Arana-lobo_webp.rf.833cbb3c517466f63d3b6bd3b0cb94a8.jpg\n",
            "            garrapata13_jpg.rf.27452bfc5ad027bb03c2692f69693cdc.jpg\n",
            "            escarabajo_arana_subfamilia_ptininae_4667_5_600_jpg.rf.f8579f1334751fcba73abad567c7117c.jpg\n",
            "            3_png.rf.ea58893d5ca73087c0dbd923897ba453.jpg\n",
            "            ih90t7Yt-_2000x1500__1_jpg.rf.94f5ad634a4f91d5b24c2481da36803c.jpg\n",
            "            imagen_241_jpg.rf.2d00d324201956205e0c31064ce8b4fc.jpg\n",
            "            imagen_148_jpg.rf.b849a1f8c79a3aeb6fb577f54d56e15d.jpg\n",
            "            arana_jpg.rf.c80a378c53f6f743676825793014b562.jpg\n",
            "            Assassin_Bug_-Reduviidae-_-13966021573-_jpg.rf.d3e8d8a22f385e6bbb8e5dfa622f197c.jpg\n",
            "            9_jpg.rf.f5ab73709f7852d3d2d183a9d5fa88bc.jpg\n",
            "            imagen_20_jpg.rf.91d53d09f867e66419c8a62024120eee.jpg\n",
            "            leptura-sobre-una-hoja-wikipedia-commons-by-guido-gerding_jpg.rf.f804e527be70bcded1febc0ae39354b4.jpg\n",
            "            640px-Assassin_Bug-_Salyavatinae-_-_Lisarda_erecta_-_-_-_Flickr_-_gailhampshire_jpg.rf.dc4f04343ad103ac58fdc50dbe62fb85.jpg\n",
            "            Pselliopus_-_Assassin_Bug_02_jpg.rf.7a2abe8c8e9e1704b0c2bb3e109650d1.jpg\n",
            "            pulgas_26694_0_600_jpg.rf.0d6ddcdfbcfd5b4c7f1cf7fcc289d442.jpg\n",
            "            arana-roja-caracteristicas_webp.rf.d722e6cfe8dea98185b344d9946a0a49.jpg\n",
            "            imagen_147_jpg.rf.774c27fb37e8dc1e12e5b366376d20a5.jpg\n",
            "            25_png.rf.9d201d2ef273d8ab676d11acf32a9403.jpg\n",
            "            cantharidaejtann-1_webp.rf.eca023ec5b8af57195b8b6650b3d800f.jpg\n",
            "            37_jpg.rf.a20087d261befca276015e6b9e8f1c59.jpg\n",
            "            Assassin_Bug_Nymph_-_Flickr_-_treegrow_-8-_jpg.rf.960386bbc786bd5f75b9c7b7ad2a356e.jpg\n",
            "            27_png.rf.0c566242999482f6584e4c36269e3f6c.jpg\n",
            "            garrapata7_jpg.rf.ab6287f09981f7cad648ca7cb88c7c5c.jpg\n",
            "            imagen_323_jpg.rf.cfb0a48bac067c0ffcce60fe8cc75920.jpg\n",
            "            imagen_204_jpg.rf.ea643a0317c52e4476bc177d06182928.jpg\n",
            "            32_jpg.rf.bceef276acfdeba5c65ef82167556a1c.jpg\n",
            "            mordedura-arana_jpg.rf.a1467cefc59e24c642e9f3831e92d23c.jpg\n",
            "            Exophthalmus_pulverulentus_01_jpg.rf.b51d4c298aac0b1758e708243c8358c6.jpg\n",
            "            chinche_asiatica_o_hedionda_53979_4_600_jpg.rf.17d7015567e458f8b2d4070bcfe5efa6.jpg\n",
            "            imagen_147_jpg.rf.092e316b232e673b01e977676546dd90.jpg\n",
            "            arana44_jpg.rf.947097b2429f531616a75f584b7d23cd.jpg\n",
            "            imagen_21_jpg.rf.564eacb1c11e4514ab9e77d898feb3d6.jpg\n",
            "            pulga1_jpg.rf.0d32ef567f84d8236bd2a11309d75976.jpg\n",
            "            images-8-_jpg.rf.e5eec7257729b3a460897be7ead4a593.jpg\n",
            "            redflourbeetle_webp.rf.02bc22bb32ca73251c8f8ed5684b1663.jpg\n",
            "            imagen_18_jpg.rf.f21401443fb6363fec449ec7e86df742.jpg\n",
            "            chinche20_jpg.rf.8b9d2c78a161e99d06b10483ff7f0002.jpg\n",
            "            imagen_237_jpg.rf.e294f50484d8438102ef5aed365a4f6a.jpg\n",
            "            chinche5_jpg.rf.aac4de079b0628e6daf0254a4b5bbfa7.jpg\n",
            "            imagen_228_jpg.rf.de7e5e778b357a81d19b26c335390580.jpg\n",
            "            imagen_74_jpg.rf.f792a423b7b295ae122fa36e9fdc35ef.jpg\n",
            "            Pristhesancus_plagipennis_nymph_jpg.rf.6624db5d013876dc8f066a3dec345ea5.jpg\n",
            "            imagen_207_jpg.rf.eb9ed5640bec053a098230c90a7c9513.jpg\n",
            "            garrapata9_jpg.rf.0c4bbc1ab01148c12fd269989fda8c99.jpg\n",
            "            chinche24_jpg.rf.498a7b8e919b44a1f2e0fd7905f4b757.jpg\n",
            "            Firebug_jpg.rf.d1c879ea24596a2740e224019aa29cb2.jpg\n",
            "            imagen_146_jpg.rf.220394a696b4bbfb2c449928b94d1dd6.jpg\n",
            "            Waterkever-Coleoptera-waterinsecten-1024x419_webp.rf.fb6b1013c2265c44a379903311cab3e3.jpg\n",
            "            imagen_19_jpg.rf.14be6f31196889524df4abd1dbc70e6f.jpg\n",
            "            640px-Assassin_bug_of_some_kind_-43869093162-_jpg.rf.bd50c62013c71dfb5fee94a81d2207ed.jpg\n",
            "            27_png.rf.b7f1927fb404eaf319574bd5ef00d1cb.jpg\n",
            "            20902451-dos-de-jardin-escarabajo-de-tierra-de-carabus-hortensis-negro-sobre-fondo-blanco_jpg.rf.089ad8630133c1ee3024470aab887fa6.jpg\n",
            "            imagen_220_jpg.rf.0b7902d0b7d9a9f2753f20be64e81255.jpg\n",
            "            imagen_74_jpg.rf.1c57958a1336c7c5964db330ea819627.jpg\n",
            "            arana44_jpg.rf.e414bd5185457279f178342b7fcc2e4a.jpg\n",
            "            imagen_209_jpg.rf.7b6b5e55ea6b35d556767cac60a7bdff.jpg\n",
            "            imagen_250_jpg.rf.3cb4392d8d163095210e329ddf3363cf.jpg\n",
            "            Assassin_Bug_-Oncocephalus_annulipes-_-12885347564-_jpg.rf.a45ca7e5b628b96f048a8ab4ee659781.jpg\n",
            "            13_png.rf.6f7552ec920ac7b147654c8055a48544.jpg\n",
            "            images-11-_jpg.rf.559dcb526bedd55e33070f5d2492ae2e.jpg\n",
            "            Red_Assassin_Bug_-Antilochus_coquebertii-_-8678432802-_jpg.rf.82a96a0b07f008eeea25c5e12ab7528d.jpg\n",
            "            imagen_135_jpg.rf.ae1f2002ed6d972f2a27204b740e8de1.jpg\n",
            "            2_png.rf.373861fd107cae5481bebbd796b7112d.jpg\n",
            "            imagen_201_jpg.rf.ca7ce98a292e60b02ca74bb80020076e.jpg\n",
            "            DirkvdM_Assassin_Bug-1-_jpg.rf.6b6d7bf89fc24cf207be38312cdb2c64.jpg\n",
            "            images-2-_jpg.rf.044c478b88e5522d8b5acd08306e4611.jpg\n",
            "            imagen_25_jpg.rf.7c79d6652b991ab930c622e59961939b.jpg\n",
            "            imagen_103_jpg.rf.2841dbe5c04261bba2e6c3e55d37ae9a.jpg\n",
            "            nacerdes-melanura-03_jpg.rf.1735db5c35eae9e901647d982b206180.jpg\n",
            "            escarabajos-de-madera_webp.rf.77e6024f7df9efdced2e520327ddfe6c.jpg\n",
            "            imagen_219_jpg.rf.8132d354ef336e1ab8f16854b050cea7.jpg\n",
            "            arana31_webp.rf.aaea8c988dc3f83fa78c86961bc20f78.jpg\n",
            "            153407409992237093_webp.rf.c3c0f70bc2b233662915175c6319c3ad.jpg\n",
            "            38_png.rf.06f5544edbc1d31f1dfe669addb6b262.jpg\n",
            "            Assassin_Bug_-Oncocephalus_annulipes-_-12885347564-_jpg.rf.fd13c95193d9c0b15af760aa8b547186.jpg\n",
            "            chinche11_jpg.rf.f6df43dd4bdebc704a06bf624b782256.jpg\n",
            "            imagen_220_jpg.rf.39d2976f63966a49bd674dd020847fb4.jpg\n",
            "            redflourbeetle_webp.rf.7a1f7b9514afbf5f773e627ee6b37a4b.jpg\n",
            "            Assassin_Bug_-Reduviidae-_-13965741853-_jpg.rf.bc8f2567fe9fbaf0fd3c0f6991cd6ac5.jpg\n",
            "            chinche6_jpg.rf.fd0b8beca02e842b6cae5c8799b53c34.jpg\n",
            "            37_jpg.rf.8aec5df87ebe55ec703f50bdc65a190d.jpg\n",
            "            chinche_asiatica_o_hedionda_53979_4_600_jpg.rf.fd2f958df6fa7a68ee44879134f21812.jpg\n",
            "            imagen_140_jpg.rf.2b224e7863fdf9ea55d275847a1ee03e.jpg\n",
            "            5_png.rf.5e1bd352966cb4722788a60e5fd5c71b.jpg\n",
            "            imagen_195_jpg.rf.39287d36a663ba29b0d002120c58a511.jpg\n",
            "            Leptoglossus_phyllopus_Pat_Porter_jpg.rf.600a0701ffcf6aeaeb7174c7883d0182.jpg\n",
            "            images-12-_jpg.rf.475116436a1e2ba043d34a12b002004f.jpg\n",
            "            38_png.rf.76e3b22d255d30884a21d64cac0a270b.jpg\n",
            "            images-1-_jpg.rf.ce75e2f23cd42fd189ae26853d1db3bc.jpg\n",
            "            medium_jpg.rf.613ec069bf9c6041092f162d738e5b4c.jpg\n",
            "            DirkvdM_Assassin_Bug-1-_jpg.rf.3ffc9f5841aa89781f8f12ed18625e9e.jpg\n",
            "            imagen_155_jpg.rf.e6f4dc6ada138e25d182550c1a1f6bef.jpg\n",
            "            1_png.rf.3d510d5a4411683a69e3f67c7f95e89d.jpg\n",
            "            39_png.rf.5158536b6b020941071b5e4e7bbea7a0.jpg\n",
            "            Assassin_Bug_Nymph_-_Flickr_-_treegrow_-10-_jpg.rf.deca2cf7c3fa988b6a8087299eebf0cb.jpg\n",
            "            images-11-_jpg.rf.3b793b928fb0549bdf5e86a1fb700241.jpg\n",
            "            35_jpg.rf.764911a7cd22e9d34aafe35479d9a6de.jpg\n",
            "            chinche21_jpg.rf.ee9ff6bff394b4fe79c9d02a562cdf6d.jpg\n",
            "            hqdefault_jpg.rf.79c4353ee119912b362a01777e955eb9.jpg\n",
            "            23_jpg.rf.bdc8bf1623812adc7a2da4755a9b3dda.jpg\n",
            "            imagen_230_jpg.rf.5c943f221e3c80c7fd8d26340006bbf8.jpg\n",
            "            imagen_276_jpg.rf.a1b45c06ae0b30050e8d4a874bd4e6c5.jpg\n",
            "            Triatoma_infestans_jpg.rf.e9ff6db82b81e86116a18846557cefd7.jpg\n",
            "            garrapata13_jpg.rf.441c444a2024eb70a77c33e5a85a1ff7.jpg\n",
            "            imagen_315_jpg.rf.5b2cb6401cf546eed57281870b2262b9.jpg\n",
            "            imagen_135_jpg.rf.e87dcf8568e0452c0d7ee1331187661e.jpg\n",
            "            imagen_271_jpg.rf.fb709e88882f66da0aa07fca82011e03.jpg\n",
            "            chinche11_jpg.rf.600bb8be50c5f957fb5482cf2683c468.jpg\n",
            "            Red_Assassin_Bug_-Antilochus_coquebertii-_-8678432802-_jpg.rf.004aaf32f2ec70bf3e9d6017256e0875.jpg\n",
            "            descarga_webp.rf.91c5cf7753cdfd0e761de66f09383831.jpg\n",
            "            garrapata9_jpg.rf.45da5ee9ff618918614dccc46e62bd7e.jpg\n",
            "            images-3-_jpg.rf.a1511e74b7ae8a422b18875eb488a85c.jpg\n",
            "            imagen_230_jpg.rf.53904277277ea351034a286ac574c354.jpg\n",
            "            2016-09-10_21-50-04_IMG_7928_-_Flickr_-_andrey_zharkikh_jpg.rf.5afa124011d25d0f401cd0d68bb68c4d.jpg\n",
            "            1_png.rf.ffd566b1603d5593aa950662388fdba7.jpg\n",
            "            nacerdes-melanura-03_jpg.rf.917599ce3feb9ed73f3da425087bbbb3.jpg\n",
            "            imagen_159_jpg.rf.aff265f25c50fce0e1e62ecedc2795fc.jpg\n",
            "            escrabajo-20160909_jpg.rf.540b8459668e8602fa6d5238b79d442b.jpg\n",
            "            f960x540-111240_185315_5050_webp.rf.468e7f24d2ec4129385fd073186c3574.jpg\n",
            "            imagen_219_jpg.rf.644972773ea722568eac6a87314596e2.jpg\n",
            "            imagen_159_jpg.rf.8a37cadb6aa441674e05c56287da4756.jpg\n",
            "            39_png.rf.7a587a512bb8ff8b803cfa58b6a8bd95.jpg\n",
            "            imagen_148_jpg.rf.7c9426151f9b7aac55ed3907ffa8f87a.jpg\n",
            "            4_png.rf.b8f3e175cc63a50cd9f2da9a3f46dd57.jpg\n",
            "            imagen_215_jpg.rf.8c3b31045bf63211e87afaf925080ffd.jpg\n",
            "            pulga1_jpg.rf.6ae5637befb7bf87a322b30ae3c85466.jpg\n",
            "            images_jpg.rf.6b8b4cb79359b2940ddb7a8923aa20d3.jpg\n",
            "            pulgas_26694_0_600_jpg.rf.8212fd68a9950d2a9f368e66767577cd.jpg\n",
            "            garrapata19_png.rf.a350485596c3c08864aea717d59c7cb8.jpg\n",
            "            imagen_232_jpg.rf.f30f7680ac313435622c5e0c6d298112.jpg\n",
            "            arana44_jpg.rf.4e886f09dd16d8c4adf7ae90c29eb946.jpg\n",
            "            imagen_24_jpg.rf.6e5bae56b8da2774a00eeb1eda791a17.jpg\n",
            "            imagen_258_jpg.rf.67ef0aeebf921b89b5dd0e665f3d79c5.jpg\n",
            "            Assassin_Bug_-_Zelus_luridis-_SERC-_Edgewater-_Maryland_jpg.rf.86d3ca2fc331cad35db876b7f3b3e764.jpg\n",
            "            images-13-_jpg.rf.96e7aca13e38011050403321e17a3153.jpg\n",
            "            imagen_240_jpg.rf.e28a4b50817d92a1cf118180ebed1dd9.jpg\n",
            "            chinche28_jpg.rf.44f0ed7fc4df413d68f6c712437518b4.jpg\n",
            "            Red_Assassin_Bug_-Antilochus_coquebertii-_-8678432802-_jpg.rf.32867a7b19491ca2ff0c7d44d3b6a938.jpg\n",
            "            imagen_215_jpg.rf.f10a68d8170aba00d46b911f3777e969.jpg\n",
            "            curso-ilustracion-insectos-grafito_jpg.rf.b1ad56c4f85dde4fc869da772c2ff31e.jpg\n",
            "            chinche5_jpg.rf.2a754400fd8b53ab15969e309aabe87c.jpg\n",
            "            39_png.rf.9b006ccc2e9754dc30081f40b12524b3.jpg\n",
            "            garrapata7_jpg.rf.214035fcf3ddace1ce3830956eb2a23d.jpg\n",
            "            chinche25_jpg.rf.eba486b94f4eea6752b1710224bd1310.jpg\n",
            "            chinche24_jpg.rf.ad850571bd3b1ee730756b7868736674.jpg\n",
            "            arana_png.rf.abd87e757afbb3a7bd0e6c25a4e2ed98.jpg\n",
            "            imagen_212_jpg.rf.70ca5ea849fdd20a98c024989017ee14.jpg\n",
            "            arana31_webp.rf.0c11a9d1bdb6baeca05739af6acedf14.jpg\n",
            "            chinche20_jpg.rf.1235e64d3c652f12cf8f49085e8324f8.jpg\n",
            "            chinche8_jpg.rf.30e16f95deb467b900be550ee11fb9d1.jpg\n",
            "            640px-Assassin_bug_of_some_kind_-43869093162-_jpg.rf.2459212494d38f243e9601efffff4afb.jpg\n",
            "            imagen_18_jpg.rf.c7a3a4a5c2fa13df115491d5521d00dc.jpg\n",
            "            imagen_220_jpg.rf.8649a54be4e7c513d741649a13c10e08.jpg\n",
            "            Pygolampis_striata_-10-3897-BDJ-9-e63695-_Figure_3_b_jpg.rf.9b94b372936b4ae0e99044e683087c11.jpg\n",
            "            images-8-_jpg.rf.bf44fb8ee644efceb5f279843a0f5591.jpg\n",
            "            garrapata9_jpg.rf.9cb08a05355223d30e99bb9e9cd899c3.jpg\n",
            "            imagen_203_jpg.rf.ed8929d8aac298e44e488e3603b8e6c0.jpg\n",
            "            imagen_195_jpg.rf.0f15ea41ea8f2064cbe8ad875a3d7b39.jpg\n",
            "            chinche10_jpg.rf.0e3bd1fe006b48dc0b92d0cfe11bf9f7.jpg\n",
            "            Milkweed_Assassin_Bug_jpg.rf.ad04f8386b1768277564a969c4d4bd97.jpg\n",
            "            chinche21_jpg.rf.e448abef7f66c70248f981cf8f1afdb8.jpg\n",
            "            Assassin_Bug_Nymph_-_Flickr_-_treegrow_-8-_jpg.rf.4e503bb481f36f74a81f0779c042a3dc.jpg\n",
            "            arana30_png.rf.49b18d1cd2d14ca65c93ecb499359710.jpg\n",
            "            imagen_64_jpg.rf.6c8bbb5ff93205554415d9562c484c54.jpg\n",
            "            images-2-_jpg.rf.8c271978d618b4b9a10442a0f8404cba.jpg\n",
            "            garrapata17_jpg.rf.86cfdd3923122c6902e930e20c413903.jpg\n",
            "            Little_Assassin_Bug_-_Flickr_-_pinemikey_jpg.rf.ea0e6ec69fd744b45b553b8d25354895.jpg\n",
            "            imagen_264_jpg.rf.dee16657f105e1bc5bbded07a1af7d10.jpg\n",
            "            imagen_51_jpg.rf.811a3a1b42fff8e813533166926d002f.jpg\n",
            "            ih90t7Yt-_2000x1500__1_jpg.rf.75cf0cde8e5ea4390566a00b5c163ea8.jpg\n",
            "            imagen_221_jpg.rf.8bc55b12380c0a874e29ac19b4594bc3.jpg\n",
            "            Assassin_bug_front_2-tif_jpg.rf.de885b9a3fe0db913db3b56ccce9b872.jpg\n",
            "            Reduvid_May_2014-1_jpg.rf.94e93a45fbf4d0e15f5aac0377716f5a.jpg\n",
            "            garrapata15_jpg.rf.6e3b7c931842a6bce4b3c45eeb8ec3f8.jpg\n",
            "            3_png.rf.87592faa76c791014c0f702912164128.jpg\n",
            "            arana_jpg.rf.3526e327795207ef9e06f2ffd6c2c11b.jpg\n",
            "            cantharidaejtann-1_webp.rf.ee2e93980d16f4e0931b91f3faccc368.jpg\n",
            "            chinche27_jpg.rf.b58a0d24e08d22b7d23ca16c60d265f0.jpg\n",
            "            3_png.rf.0a926d81b1a21ca28a4241cc9a896a00.jpg\n",
            "            garrapata17_jpg.rf.30e1f9b778596e65ec353b3bf1280609.jpg\n",
            "            35_jpg.rf.ebb62581201e73f198fee55cb0bf6958.jpg\n",
            "            imagen_135_jpg.rf.a090282565d5f4a9598bf22a6b1419e7.jpg\n",
            "            Assassin_Bug_-Reduviidae-_-15315406737-_jpg.rf.d529b726610461008037e7a88da226a5.jpg\n",
            "            Assassin_Bug_-Reduviidae-_-13965741853-_jpg.rf.ac57f680d9f25a87ede103bfe89e5bf6.jpg\n",
            "            imagen_24_jpg.rf.eab0d6837f8f0555a027c09a39dd2023.jpg\n",
            "            8_jpg.rf.0dbc692c2e674cbd02a75b6e958a7606.jpg\n",
            "            imagen_136_jpg.rf.985977cc8df837025ed6db976e717c4e.jpg\n",
            "            chinche13_jpg.rf.73f2953f02a64182ca7d1ff5d4e735bb.jpg\n",
            "            imagen_271_jpg.rf.5ce6801de236cda8d6a014b409344fef.jpg\n",
            "            imagen_143_jpg.rf.d7912c0e3ee924b28be718ab8078cd9c.jpg\n",
            "            crw67680_jpg.rf.e2dc87fd12c17b99e7561ec502cfcae1.jpg\n",
            "            640px-Zelurus_sp-_-12911326493-_jpg.rf.8761e3ed85e0455140102f608e3c9530.jpg\n",
            "            imagen_51_jpg.rf.bdedfbcf5cf1a2cc32d7adbdedeefa2a.jpg\n",
            "            chinche6_jpg.rf.2787fe28a0c33ef6b92e7281d4d0b918.jpg\n",
            "            Leptoglossus_phyllopus_Pat_Porter_jpg.rf.b17b79830929ab99dfcac0f9e67eb94d.jpg\n",
            "            imagen_136_jpg.rf.353dae1ea54bb03bf299dd6ffbf49c34.jpg\n",
            "            Arilus_cristatus_-_Wheel_Bug_-_Assassin_Bug_-42674125980-_jpg.rf.6f5fe4677a8127ea20f317858624c006.jpg\n",
            "            chinche2_jpg.rf.ae6262aaf2d8d439836f46341be31747.jpg\n",
            "            Tegea_atropicta_45315973_jpg.rf.7374404f2e2ba3f3290d72ebfea93d2b.jpg\n",
            "            640px-Zelurus_sp-_-12911326493-_jpg.rf.6416062d27a18ec6f16271011a07cae1.jpg\n",
            "            Ground-Beetle_jpg.rf.e9c3d73857338784a323ffe47b0d7091.jpg\n",
            "            imagen_145_jpg.rf.7f5c9f3cf784f82f049492772acde254.jpg\n",
            "            chinche16_png.rf.22c155892922c1bf855ccf108374ef76.jpg\n",
            "            imagen_298_jpg.rf.8539e6150ab36dfe0f35bb8c8be11d80.jpg\n",
            "            escarabajo-e1583723107229_jpg.rf.d0ddd14f70038f5968379b99e19e6272.jpg\n",
            "            imagen_72_jpg.rf.b613f8aa6dd55b5760dfc0604bf8b270.jpg\n",
            "            crw67680_jpg.rf.c69a83ebfbe2e42d538d8ad166f6fdbd.jpg\n",
            "            pulga4_jpg.rf.6a366bd6a540afa5d94f2df2d256ecf0.jpg\n",
            "            chinche8_jpg.rf.b3cb0d18bfab02bb0926fafd083b0ff0.jpg\n",
            "            6143JTBn3JL_jpg.rf.f3142f6e0924aa17ff4f971281073052.jpg\n",
            "            DirkvdM_Assassin_Bug-1-_jpg.rf.d16ff1d8312315b374551733908972f3.jpg\n",
            "            arana-roja-caracteristicas_webp.rf.6026d00f51094989d33ecf1d4c7db520.jpg\n",
            "            imagen_315_jpg.rf.0531d059ef1f354bfb08b7214e6fba8e.jpg\n",
            "            Assassin_bug_front_2-tif_jpg.rf.d710418ed409ccaa1b7707c55dedfd9f.jpg\n",
            "            imagen_232_jpg.rf.6b5c07667e8bdf1f3ac63aa375b15061.jpg\n",
            "            imagen_232_jpg.rf.84050dc4e50eeb9401ae1191d409cb07.jpg\n",
            "            17_png.rf.5d6514c66e257de8f324bfe1a7d0cd96.jpg\n",
            "            imagen_108_jpg.rf.fc7e55731458ec443afda5939e1182a9.jpg\n",
            "            escarabajo-e1583723107229_jpg.rf.466b7804ad84f9c14834d025aa79d159.jpg\n",
            "            32_jpg.rf.198075dbd4f1817779c4c042b0f5c3a8.jpg\n",
            "            imagen_208_jpg.rf.cd1dfae48d19a61494fb54a7125fa028.jpg\n",
            "            imagen_315_jpg.rf.e89a1f5c7652f0e44259a043ac887690.jpg\n",
            "            Assassin_Bug_-Oncocephalus_annulipes-_-12885347564-_jpg.rf.61d879364a143fa6e545fe219a614b74.jpg\n",
            "            -asda_webp.rf.3c4f6977b58cbe48372bf4ff8d5d37ea.jpg\n",
            "            imagen_323_jpg.rf.634a4d7c852c7cba2f558bcf41a58f4c.jpg\n",
            "            imagen_134_jpg.rf.0a99a6f476bb35e222fccf8074863494.jpg\n",
            "            153407409992237093_webp.rf.c354708adf80dbfce832f0626cd49f58.jpg\n",
            "            Pygolampis_striata_-10-3897-BDJ-9-e63695-_Figure_3_b_jpg.rf.7a2fbcb3dc9680f5aaa8d238bae7044b.jpg\n",
            "            imagen_205_jpg.rf.daa369976f45e1389fd0e2c7fb100fef.jpg\n",
            "            garrapata10_jpg.rf.26dbfec33d770852217b009b68f7d894.jpg\n",
            "            chinche2_jpg.rf.399d474550303d14560bd6d072c10622.jpg\n",
            "            2015-06-05_13-30-57_IMG_2590a_-_Flickr_-_andrey_zharkikh_jpg.rf.107ac2e9bdb371e9d3dc4bf004400921.jpg\n",
            "            19_jpg.rf.cd63c5f8e9eafd6c427db20a5424f7ff.jpg\n",
            "            garrapata15_jpg.rf.8c0aaac04d772f0ba8f58488d7f68e9b.jpg\n",
            "            2_png.rf.fcce04759033ca3e87a7e5c00841e5b4.jpg\n",
            "            garrapata10_jpg.rf.4d7e5e13a7ec378eeb14381fc2c71812.jpg\n",
            "            chinche17_PNG.rf.981ff0f186a0401a31aab8a8285216a0.jpg\n",
            "            mordedura-arana_jpg.rf.341fdf445eaf279ec8839f73ca212fb8.jpg\n",
            "            chinche19_png.rf.8e0eaf27ce1332c9424abf426fdbcc95.jpg\n",
            "            Ant-eating_assassin_bug_nymph_-15031835754-_jpg.rf.6f2a0c18f11e65a349cf22b3bb9ec187.jpg\n",
            "            5_png.rf.39447bd50642fc9a55eb9052648cd9de.jpg\n",
            "            imagen_51_jpg.rf.c6a4574c45add1aa9ed3009ac9ee9c57.jpg\n",
            "            2015-06-05_13-30-57_IMG_2590a_-_Flickr_-_andrey_zharkikh_jpg.rf.06ae6b7c4eac715820a721bd6a5f1e39.jpg\n",
            "            redflourbeetle_webp.rf.f1a5cbe607be51b8527063f0e790b838.jpg\n",
            "            escarabajos-de-madera_webp.rf.2232eefc618c2db6dadbabab9f88d792.jpg\n",
            "            imagen_253_jpg.rf.cff43ad03bcec1956c322def2e26e5aa.jpg\n",
            "            19_jpg.rf.a95648e943af9896d9db00251d196d90.jpg\n",
            "            escrabajo-20160909_jpg.rf.75bea5db9ab57b79670d47706f8da390.jpg\n",
            "            Arana-lobo_webp.rf.c16936cbba499976170245ee7909b566.jpg\n",
            "            Assassin_Bug_Nymph_-_Flickr_-_treegrow_-8-_jpg.rf.b0af4ef72ee850a593d9dbf44fc7c2de.jpg\n",
            "            pulga4_jpg.rf.655cdc046fa106aa20df41718619f5c2.jpg\n",
            "            37_jpg.rf.ab963891c0d4ea219773527dd83e3b3d.jpg\n",
            "            garrapata19_png.rf.5dc3b8dec6b59cdf34a27a3c82c27c9f.jpg\n",
            "            imagen_249_jpg.rf.e98127d2b33b4fda2e082ebb0bc01337.jpg\n",
            "            imagen_145_jpg.rf.d680d88b03f73d58a3fef0fd2c0f253a.jpg\n",
            "            imagen_253_jpg.rf.0f59aac69bb41ac3ad76d02907e0e850.jpg\n",
            "            imagen_250_jpg.rf.e7a88d1bdb79539c2eb684a358a2881f.jpg\n",
            "            13_png.rf.1ffd1a0ea551757e91bf06415b198221.jpg\n",
            "            imagen_201_jpg.rf.1dbeb49ae8aba336d01576c4bdfafae5.jpg\n",
            "            Assassin_Bug_-_Zelus_luridis-_SERC-_Edgewater-_Maryland_jpg.rf.1a07425734b4f146d895679d745407e5.jpg\n",
            "            5_png.rf.fb645e547ac9f317e02bf6eaead827f5.jpg\n",
            "            Arana-lobo_webp.rf.cc063f743c8a45b9885c41b84cbe16d3.jpg\n",
            "            Milkweed_Assassin_Bug_jpg.rf.9739b52f0499a96680208e8db4d969f7.jpg\n",
            "            imagen_24_jpg.rf.6e2060dc56902a18213c0c389813277c.jpg\n",
            "            Pristhesancus_plagipennis_243709472_jpg.rf.10885a0f78bb9b233cb0a606fe27a22f.jpg\n",
            "            garrapata16_jpg.rf.671381d5776bdf4f97df2efa80ca44af.jpg\n",
            "            Melanolestes_picipes_-_Black_Corsair_-_assassin_bug_-ID_thanks_to_Ashley_Bradford-_-42934548600-_jpg.rf.9e82a66b86cb88a5897397be3e0781bc.jpg\n",
            "            imagen_148_jpg.rf.19586714f6d045357d3669b06ecff5fc.jpg\n",
            "            imagen_140_jpg.rf.ae8b7e7b97c6fdffbc81cc5d1d210bb1.jpg\n",
            "            images-7-_jpg.rf.b96a26ee8a19c3f3710fa2d11476531b.jpg\n",
            "            imagen_218_jpg.rf.31e100339a4a81d30cfc624c081b1acb.jpg\n",
            "            imagen_218_jpg.rf.af11cb8ae9689da45ff446d0358b4987.jpg\n",
            "            640px-Assassin_Bug-_Salyavatinae-_-_Lisarda_erecta_-_-_-_Flickr_-_gailhampshire_jpg.rf.0b98e326ee632b9926b42c249a0906c2.jpg\n",
            "            28_jpg.rf.8c37104519cd41d3647af110d6180365.jpg\n",
            "            10_jpg.rf.857e1bdbbb9fe1df8e213851975abc85.jpg\n",
            "            imagen_103_jpg.rf.4a5beb048327f70c139c0097c25f1a3e.jpg\n",
            "            20902451-dos-de-jardin-escarabajo-de-tierra-de-carabus-hortensis-negro-sobre-fondo-blanco_jpg.rf.d0a1ee9e8efcb125b91d165fd6a8fb2b.jpg\n",
            "            garrapata7_jpg.rf.c29ad329fa6cef0093c1168d27ab8599.jpg\n",
            "            153407409992237093_webp.rf.e0ba034007b1767904963009989d0633.jpg\n",
            "            imagen_230_jpg.rf.920f73b9a907e2ff0901a6b499786307.jpg\n",
            "            chinche18_png.rf.22aa8ab5167385996371c93102f68cb2.jpg\n",
            "            18_png.rf.09b43a779884b6d73a072883a0493642.jpg\n",
            "            10_jpg.rf.3232ae2c42d0d33e31a9b1201b953da9.jpg\n",
            "            imagen_172_jpg.rf.a915fd9cb2de2fdd7274970a16d309c6.jpg\n",
            "            imagen_195_jpg.rf.f41102460c528af68b4da19c61f15328.jpg\n",
            "            f960x540-111240_185315_5050_webp.rf.0282e881406316f591fb282ea61ad054.jpg\n",
            "            imagen_254_jpg.rf.7a1ee2f6de398ed113fcb6a1ccfac4c6.jpg\n",
            "            imagen_54_jpg.rf.0e2864549cfc51d4c21b4da7f74e71a1.jpg\n",
            "            Pristhesancus_plagipennis_nymph_jpg.rf.c4a3093533663da7438454c32896eae1.jpg\n",
            "            images-7-_jpg.rf.40de04d720c93fbe561beb119ae2f465.jpg\n",
            "            imagen_103_jpg.rf.db98d80fa002472f1a973c4694dc541b.jpg\n",
            "            imagen_254_jpg.rf.f8f55ca396a323ed37fdcca502ef149a.jpg\n",
            "            640px-Red_Assassin_bug_03978_jpg.rf.de77cf073b82c379c69e240e3b7e2e11.jpg\n",
            "            2015-06-05_13-30-57_IMG_2590a_-_Flickr_-_andrey_zharkikh_jpg.rf.5f9902f45d68da7105e4c06d2a2dcc22.jpg\n",
            "            640px-Orange_Assassin_Bug_-_Flickr_-_treegrow_jpg.rf.6dcdd43ecc2429c2c23fdd60295376d3.jpg\n",
            "            chinche12_jpg.rf.95b9e5a6f5233ca9fb4ed9c175c17958.jpg\n",
            "            chinche10_jpg.rf.1b077bc6f7c47a4e9e1084e341f37cc7.jpg\n",
            "            Arilus_cristatus_-_Wheel_Bug_-_Assassin_Bug_-42674125980-_jpg.rf.ef7e3439bf1244b76d4e77aa91169b55.jpg\n",
            "            Spider_assassin_-18396334843-_jpg.rf.f0a4239659a5ff4cec5bc6544434eb8e.jpg\n",
            "            640px-Orange_Assassin_Bug_-_Flickr_-_treegrow_jpg.rf.ba6c5e0886ed32edf9e75d6d7180b0ea.jpg\n",
            "            cucarachas-humedades_jpg.rf.37eb213770f70c3517459bce1a703e17.jpg\n",
            "            f960x540-111240_185315_5050_webp.rf.3ab995ad707fa3998ddb3dbd30fdd987.jpg\n",
            "            640px-Red_Assassin_bug_03978_jpg.rf.f3d4b6bc2b6cde432f6c6b56905c78d4.jpg\n",
            "            escarabajo_c_webp.rf.3b91113fb608a9fd6c2d4e5be09d44de.jpg\n",
            "            20_jpg.rf.c72e2a165f1c312e3c2bbd84af10573c.jpg\n",
            "            35_jpg.rf.2cf3c9197bc5cb38f5fe666902e104b6.jpg\n",
            "            23_jpg.rf.5dcf814dc781d403c7d4dbb244c98a83.jpg\n",
            "            cucarachas-humedades_jpg.rf.8961b97c693a6f84d48f476a2a872d8c.jpg\n",
            "            26_png.rf.b4863aa8ea0292eaebf62154325ab6a7.jpg\n",
            "            imagen_19_jpg.rf.2718a896bc0fde40ba319ea24f8cb4e1.jpg\n",
            "            27_png.rf.4928804c5ba4660fab4d40bd9a957204.jpg\n",
            "            12_png.rf.baceebd42eb0fd7d6067553f79d0054e.jpg\n",
            "            pulga2_jpg.rf.89a9e87c33388b9fc2752a5a88b36528.jpg\n",
            "            12_png.rf.d591ae30e1d423a50014750909619863.jpg\n",
            "            chinche10_jpg.rf.f183ef70b7c399e20446f14b5b7246df.jpg\n",
            "            Spotted-Cucumber-Beetle-feeding_jpg.rf.311587df31b81a5382cfcfa6c27aa084.jpg\n",
            "            aran-a-rincon_jpg.rf.5912eed008d89421a2dd03d63f15c7e1.jpg\n",
            "            chinche20_jpg.rf.3d9b37519fa1edc32e6da1e0eb80437e.jpg\n",
            "            imagen_25_jpg.rf.e6feb0ad29d03b2d79cb9626917e823b.jpg\n",
            "            Waterkever-Coleoptera-waterinsecten-1024x419_webp.rf.ecb7629f97b594752f2ed848c9e0f45d.jpg\n",
            "            medium_jpg.rf.15dc64a355d782020aef87ef343a04bf.jpg\n",
            "            imagen_206_jpg.rf.2d71ac4cf0d250ac16b12ee54e50c94f.jpg\n",
            "            imagen_241_jpg.rf.c7f8d20337f6a31a04428db24e4ddd2c.jpg\n",
            "            chinche5_jpg.rf.09c473b936d5f6c24c65ae8cdef87161.jpg\n",
            "            images-8-_jpg.rf.75b799c0c820a998ff963f37c149ea8b.jpg\n",
            "            chinche28_jpg.rf.d5894e6f738f59e4db0bc37bb394e13e.jpg\n",
            "            Pristhesancus_plagipennis_371345611_jpg.rf.110d1b98082e5741531ec5ce8e9334a9.jpg\n",
            "            31_jpg.rf.3a78911752a497ea03b08f8254d194b3.jpg\n",
            "            chinche17_PNG.rf.49fb37909ab492ded63a35511d042a72.jpg\n",
            "            25_png.rf.8b6f75ac1f110bd4659bad1a201f5ebe.jpg\n",
            "            imagen_145_jpg.rf.7a8c611f6ad8b19149e5c8fe2fdb8d8c.jpg\n",
            "            Assassin_Bug_-Reduviidae-_-13965741853-_jpg.rf.43fac6df65944dbafcefb2adec0760e2.jpg\n",
            "            imagen_235_jpg.rf.31d6349f87e628221ad191642197f5dc.jpg\n",
            "            escarabajo_arana_subfamilia_ptininae_4667_5_600_jpg.rf.0ec4d6a540aca21e356209ef5b5073ed.jpg\n",
            "            640px-Orange_Assassin_Bug_-_Flickr_-_treegrow_jpg.rf.94da719036173236bccf30c0248f2116.jpg\n",
            "            chinche18_png.rf.ae7ae7ec770e99baa8bcdd495bfb120a.jpg\n",
            "            chinche22_jpg.rf.5a15d218be5fec0129fb56f7654171fe.jpg\n",
            "            chinche21_jpg.rf.0196eeab7d604cd8a0bd831f17141c67.jpg\n",
            "            imagen_126_jpg.rf.e0660b5b58526eb53ee907be42957832.jpg\n",
            "            chinche12_jpg.rf.0f75a7fe2ac7a404c2f29bdaac74ba0c.jpg\n",
            "            chinche22_jpg.rf.425b221776667ebff6a2452365a74834.jpg\n",
            "            images-3-_jpg.rf.a40a445124ca5fa39c756800e378fded.jpg\n",
            "            ih90t7Yt-_2000x1500__1_jpg.rf.a1d7a90005973c8a8545249077a05f4c.jpg\n",
            "            Tegea_atropicta_45315973_jpg.rf.98f9ea4f52ab7d40385f66f71613c35b.jpg\n",
            "            imagen_126_jpg.rf.17967914a17d4dad875d55942a5a41e4.jpg\n",
            "            imagen_205_jpg.rf.9a43b83a86a774ee1b578a3bfc204f78.jpg\n",
            "            imagen_207_jpg.rf.ffa6bb3749247f93c077fc40f973091f.jpg\n",
            "            imagen_209_jpg.rf.1576ee6b6d7bce16ab0cd2a5fbd03415.jpg\n",
            "            9_jpg.rf.be322894b6a5d81ff625ae08e214acda.jpg\n",
            "            Triatoma_infestans_jpg.rf.50d51b5d498e76c70667290956d63617.jpg\n",
            "            chinche24_jpg.rf.b9a64978c50a8821e5acbb186c266f61.jpg\n",
            "            chinche2_jpg.rf.c118bedccd35d0ce45693f0bac29cc57.jpg\n",
            "            Ant-eating_assassin_bug_nymph_-15031835754-_jpg.rf.ad6602512ea8ed2eb7ddfcb3e8225a9d.jpg\n",
            "            arana-roja-caracteristicas_webp.rf.e3543bb9e94e868b4cab485cdab26d86.jpg\n",
            "            imagen_215_jpg.rf.bb0b8d4a54e07d3ee249915c26ccef6c.jpg\n",
            "            chinche_asiatica_o_hedionda_53979_4_600_jpg.rf.98d651323acb0fe4229ca6eadb4c8e49.jpg\n",
            "            Pristhesancus_plagipennis_243709472_jpg.rf.480c85e0c93653b1d78f713827241e33.jpg\n",
            "            images_jpg.rf.d4594f9d140410a655ce0b372ddf92ad.jpg\n",
            "            Assassin_Bug_-Reduviidae-_-15315406737-_jpg.rf.9efe9c21fa4f707591b95106c54ade16.jpg\n",
            "            chinche6_jpg.rf.1b7f8cb07affb9f0b34c62345c5394a2.jpg\n",
            "        labels/\n",
            "            chinche11_jpg.rf.0849e67375fb8b6623de5f7f2d0a55ba.txt\n",
            "            chinche19_png.rf.dc38da360251f1a905a8a4d65dd2f99a.txt\n",
            "            640px-Orange_Assassin_Bug_-_Flickr_-_treegrow_jpg.rf.6dcdd43ecc2429c2c23fdd60295376d3.txt\n",
            "            12_png.rf.0a773ed9c55dc15d25234cc7fff5e008.txt\n",
            "            imagen_108_jpg.rf.8854c604642a65638455406bee7092e9.txt\n",
            "            Assassin_Bug_-Reduviidae-_-13966021573-_jpg.rf.c663e835c626ceb5ded98ea5fd0273df.txt\n",
            "            imagen_108_jpg.rf.a3bf38310e0b1142bf02dbf8a592b778.txt\n",
            "            chinche17_PNG.rf.0a79ccec79560cd22ff6154fd6fd6670.txt\n",
            "            Milkweed_Assassin_Bug_jpg.rf.245783162ca094d7c7159cbfdf1053b6.txt\n",
            "            pulga4_jpg.rf.6a366bd6a540afa5d94f2df2d256ecf0.txt\n",
            "            imagen_220_jpg.rf.39d2976f63966a49bd674dd020847fb4.txt\n",
            "            chinche7_jpg.rf.600a2ab99d99cad7296d15105c1ef9b2.txt\n",
            "            imagen_64_jpg.rf.7a19bd0103e52cb2928aa5e52b50e73c.txt\n",
            "            Assassin_Bug_-Reduviidae-_-13966021573-_jpg.rf.d3e8d8a22f385e6bbb8e5dfa622f197c.txt\n",
            "            39_png.rf.9b006ccc2e9754dc30081f40b12524b3.txt\n",
            "            imagen_51_jpg.rf.811a3a1b42fff8e813533166926d002f.txt\n",
            "            Milkweed_Assassin_Bug_jpg.rf.ad04f8386b1768277564a969c4d4bd97.txt\n",
            "            images-13-_jpg.rf.96e7aca13e38011050403321e17a3153.txt\n",
            "            imagen_208_jpg.rf.cd1dfae48d19a61494fb54a7125fa028.txt\n",
            "            imagen_155_jpg.rf.f8b13d26d221501fdb2a3f4f45c37bb3.txt\n",
            "            imagen_159_jpg.rf.4151d15829735beffdabea3e3f4cd2e6.txt\n",
            "            Pristhesancus_plagipennis_243709472_jpg.rf.480c85e0c93653b1d78f713827241e33.txt\n",
            "            escarabajo-e1583723107229_jpg.rf.5794810e79f9efc75e58c84745d11f95.txt\n",
            "            imagen_315_jpg.rf.e89a1f5c7652f0e44259a043ac887690.txt\n",
            "            imagen_25_jpg.rf.e6feb0ad29d03b2d79cb9626917e823b.txt\n",
            "            imagen_221_jpg.rf.6884da42fc012134139669923fc09640.txt\n",
            "            images-2-_jpg.rf.044c478b88e5522d8b5acd08306e4611.txt\n",
            "            7J7JA2UGI5ETRLYLS53CMBK3IQ_png.rf.0aa7bd0f650db44cc2360c6101ad7306.txt\n",
            "            chinche21_jpg.rf.e448abef7f66c70248f981cf8f1afdb8.txt\n",
            "            escarabajo_c_webp.rf.da44e2a632e3ad072d603dcc0f2e5153.txt\n",
            "            imagen_258_jpg.rf.ebd9d757049a8a98636cd688ffa99c6a.txt\n",
            "            13_png.rf.eb036c003e171f60074b28c48d7fbdf7.txt\n",
            "            640px-Red_Assassin_bug_03978_jpg.rf.948e0adb28c51ed132c1a2e9c5c79658.txt\n",
            "            garrapata9_jpg.rf.0c4bbc1ab01148c12fd269989fda8c99.txt\n",
            "            chinche6_jpg.rf.2787fe28a0c33ef6b92e7281d4d0b918.txt\n",
            "            Melanolestes_picipes_-_Black_Corsair_-_assassin_bug_-ID_thanks_to_Ashley_Bradford-_-42934548600-_jpg.rf.9e82a66b86cb88a5897397be3e0781bc.txt\n",
            "            images-3-_jpg.rf.a40a445124ca5fa39c756800e378fded.txt\n",
            "            32_jpg.rf.b16aebfd96e4732d3b3d268effa39167.txt\n",
            "            Assassin_Bug_-Reduviidae-_-13965741853-_jpg.rf.bc8f2567fe9fbaf0fd3c0f6991cd6ac5.txt\n",
            "            imagen_230_jpg.rf.920f73b9a907e2ff0901a6b499786307.txt\n",
            "            f960x540-111240_185315_5050_webp.rf.0282e881406316f591fb282ea61ad054.txt\n",
            "            garrapata16_jpg.rf.4782737b9d5943eecc7565e2f725542e.txt\n",
            "            2_png.rf.373861fd107cae5481bebbd796b7112d.txt\n",
            "            chinche24_jpg.rf.ad850571bd3b1ee730756b7868736674.txt\n",
            "            cantharidaejtann-1_webp.rf.ee2e93980d16f4e0931b91f3faccc368.txt\n",
            "            imagen_201_jpg.rf.ca7ce98a292e60b02ca74bb80020076e.txt\n",
            "            imagen_264_jpg.rf.fad7cc3bff056b1a2ff84b824a63d1e1.txt\n",
            "            Reduvid_May_2014-1_jpg.rf.94e93a45fbf4d0e15f5aac0377716f5a.txt\n",
            "            640px-Black_Corsair_Assassin_Bug_-_Melanolestes_picipes-_Meadowood_Farm_SRMA-_Mason_Neck-_Virginia_-40486058372-_jpg.rf.fd1dd4a1a08a75533827a961bd41d96d.txt\n",
            "            cantharidaejtann-1_webp.rf.eca023ec5b8af57195b8b6650b3d800f.txt\n",
            "            imagen_54_jpg.rf.166ed55f6a176dd00b0fcb3895c2b2fb.txt\n",
            "            640px-Orange_Assassin_Bug_-_Flickr_-_treegrow_jpg.rf.ba6c5e0886ed32edf9e75d6d7180b0ea.txt\n",
            "            imagen_315_jpg.rf.5b2cb6401cf546eed57281870b2262b9.txt\n",
            "            25_png.rf.8b6f75ac1f110bd4659bad1a201f5ebe.txt\n",
            "            arana-roja-caracteristicas_webp.rf.d722e6cfe8dea98185b344d9946a0a49.txt\n",
            "            12_png.rf.baceebd42eb0fd7d6067553f79d0054e.txt\n",
            "            -asda_webp.rf.12f8a7c6e3a0d77f7ca85712cbed3715.txt\n",
            "            garrapata5_jpg.rf.fd9bb4d385f0029034a275e8eaadfa1a.txt\n",
            "            DirkvdM_Assassin_Bug-1-_jpg.rf.d16ff1d8312315b374551733908972f3.txt\n",
            "            9_jpg.rf.be322894b6a5d81ff625ae08e214acda.txt\n",
            "            chinche13_jpg.rf.dba6ce664e441ac03e088d4912ddff60.txt\n",
            "            pulga2_jpg.rf.24d34c13066bd2854bd910563bd83c40.txt\n",
            "            Assassin_Bug_-_Zelus_luridis-_SERC-_Edgewater-_Maryland_jpg.rf.7b6987dbd116b3981bab64c2aa77d004.txt\n",
            "            ih90t7Yt-_2000x1500__1_jpg.rf.75cf0cde8e5ea4390566a00b5c163ea8.txt\n",
            "            1200x675_cmsv2_514767dc-8344-56c0-9880-a3f296f852bd-8379100_webp.rf.06ae5559e83c4296e4bd7661e138a44f.txt\n",
            "            arana31_webp.rf.aaea8c988dc3f83fa78c86961bc20f78.txt\n",
            "            images_jpg.rf.a7cc31508d7a222bd2e5011221b5f629.txt\n",
            "            chinche22_jpg.rf.425b221776667ebff6a2452365a74834.txt\n",
            "            Ground-Beetle_jpg.rf.fd17b9b4f59fa34f182ad66fac69fb84.txt\n",
            "            imagen_203_jpg.rf.ed8929d8aac298e44e488e3603b8e6c0.txt\n",
            "            imagen_241_jpg.rf.c7f8d20337f6a31a04428db24e4ddd2c.txt\n",
            "            escrabajo-20160909_jpg.rf.540b8459668e8602fa6d5238b79d442b.txt\n",
            "            Firebug_jpg.rf.75572ad50882ca9a05622ee4eabb7e83.txt\n",
            "            chinche17_PNG.rf.981ff0f186a0401a31aab8a8285216a0.txt\n",
            "            Melanolestes_picipes_-_Black_Corsair_-_assassin_bug_-ID_thanks_to_Ashley_Bradford-_-42934548600-_jpg.rf.0fdbab82c86166c5800157a375c26b92.txt\n",
            "            imagen_254_jpg.rf.7a1ee2f6de398ed113fcb6a1ccfac4c6.txt\n",
            "            chinche19_png.rf.4214d455925778120d550c528e3d9180.txt\n",
            "            pulgas_26694_0_600_jpg.rf.8212fd68a9950d2a9f368e66767577cd.txt\n",
            "            Zelus_renardii_-Reduviidae-_II_jpg.rf.f7b4a98172308e37c32af02300192231.txt\n",
            "            garrapata19_png.rf.81ae368c0967542b93bb3a2258e9b9fa.txt\n",
            "            chinche25_jpg.rf.3599111d622b3b2a8f4715a4171bc3aa.txt\n",
            "            1_png.rf.eb345a8e3304d722d82051987555369c.txt\n",
            "            22_jpg.rf.c1a642ec49c3faf934f5292dc234ae9a.txt\n",
            "            imagen_90_jpg.rf.18c0c923d65b218d1e693f9080bacd94.txt\n",
            "            chinche6_jpg.rf.1b7f8cb07affb9f0b34c62345c5394a2.txt\n",
            "            imagen_219_jpg.rf.6e94a4dfe8a503f9d9f485e450748021.txt\n",
            "            arana30_png.rf.2ced1b65ffbf6d472aa92d04fd537bdc.txt\n",
            "            Reduvid_May_2014-1_jpg.rf.e3323f33b38ac15f7d191a7e89987e3e.txt\n",
            "            images_jpg.rf.d4594f9d140410a655ce0b372ddf92ad.txt\n",
            "            imagen_209_jpg.rf.7b6b5e55ea6b35d556767cac60a7bdff.txt\n",
            "            Pygolampis_striata_-10-3897-BDJ-9-e63695-_Figure_3_b_jpg.rf.9b94b372936b4ae0e99044e683087c11.txt\n",
            "            chinche28_jpg.rf.44f0ed7fc4df413d68f6c712437518b4.txt\n",
            "            imagen_140_jpg.rf.62669b4215f2799f2cc241bcc88a19bb.txt\n",
            "            imagen_228_jpg.rf.de7e5e778b357a81d19b26c335390580.txt\n",
            "            Pristhesancus_plagipennis_371345611_jpg.rf.110d1b98082e5741531ec5ce8e9334a9.txt\n",
            "            Assassin_bug_front_2-tif_jpg.rf.de885b9a3fe0db913db3b56ccce9b872.txt\n",
            "            chinche6_jpg.rf.fd0b8beca02e842b6cae5c8799b53c34.txt\n",
            "            Triatoma_infestans_jpg.rf.50d51b5d498e76c70667290956d63617.txt\n",
            "            garrapata10_jpg.rf.26dbfec33d770852217b009b68f7d894.txt\n",
            "            garrapata17_jpg.rf.86cfdd3923122c6902e930e20c413903.txt\n",
            "            37_jpg.rf.ab963891c0d4ea219773527dd83e3b3d.txt\n",
            "            insectos-eleconomista_jpg.rf.1117b963c951cd72babfed29d00e956e.txt\n",
            "            Assassin_Bug_-Reduviidae-_-7079902129-_jpg.rf.59eda7f9a87f073d56a075f07e6c7b22.txt\n",
            "            8_jpg.rf.0dbc692c2e674cbd02a75b6e958a7606.txt\n",
            "            imagen_250_jpg.rf.80786bc01da78bd74691541d4de3e64c.txt\n",
            "            chinche11_jpg.rf.f6df43dd4bdebc704a06bf624b782256.txt\n",
            "            imagen_103_jpg.rf.2841dbe5c04261bba2e6c3e55d37ae9a.txt\n",
            "            chinche25_jpg.rf.3554d0bb0de213894448e4ea5a51cd07.txt\n",
            "            Assassin_Bug_-Reduviidae-_-13965741853-_jpg.rf.ac57f680d9f25a87ede103bfe89e5bf6.txt\n",
            "            imagen_276_jpg.rf.dd43aac9fef44fcb101abefc71a583f6.txt\n",
            "            imagen_232_jpg.rf.6b5c07667e8bdf1f3ac63aa375b15061.txt\n",
            "            2_png.rf.b9890c0683dc6c2f0d2c55e71a19a812.txt\n",
            "            Arilus_cristatus_-_Wheel_Bug_-_Assassin_Bug_-42674125980-_jpg.rf.b68ce77507a5bc31285420f4645f062f.txt\n",
            "            hqdefault_jpg.rf.79c4353ee119912b362a01777e955eb9.txt\n",
            "            arana_png.rf.4f77b5c13d36b2d2f5464e5558d27254.txt\n",
            "            chinche8_jpg.rf.30e16f95deb467b900be550ee11fb9d1.txt\n",
            "            32_jpg.rf.bceef276acfdeba5c65ef82167556a1c.txt\n",
            "            Assassin_Bug_-Reduviidae-_-15315406737-_jpg.rf.d529b726610461008037e7a88da226a5.txt\n",
            "            pulgas_26694_0_600_jpg.rf.d3ce5eecf35437cc2c68e56e63cea4ad.txt\n",
            "            chinche28_jpg.rf.d5894e6f738f59e4db0bc37bb394e13e.txt\n",
            "            Ground-Beetle_jpg.rf.e9c3d73857338784a323ffe47b0d7091.txt\n",
            "            imagen_190_jpg.rf.84e2752c70b7836c33493df7958153cb.txt\n",
            "            pulga4_jpg.rf.655cdc046fa106aa20df41718619f5c2.txt\n",
            "            arana_jpg.rf.3526e327795207ef9e06f2ffd6c2c11b.txt\n",
            "            Pristhesancus_plagipennis_nymph_jpg.rf.c4a3093533663da7438454c32896eae1.txt\n",
            "            2016-09-10_21-50-04_IMG_7928_-_Flickr_-_andrey_zharkikh_jpg.rf.e7c2fe271fb6d5b95361e8fe01ae52a7.txt\n",
            "            arana30_png.rf.49b18d1cd2d14ca65c93ecb499359710.txt\n",
            "            4_png.rf.d4350ee56e469758d24a31100df57dd4.txt\n",
            "            chinche22_jpg.rf.5a15d218be5fec0129fb56f7654171fe.txt\n",
            "            escarabajo_arana_subfamilia_ptininae_4667_5_600_jpg.rf.b69011ffdb42f1c6718868baa0c988ba.txt\n",
            "            37_jpg.rf.a20087d261befca276015e6b9e8f1c59.txt\n",
            "            chinche_asiatica_o_hedionda_53979_4_600_jpg.rf.fd2f958df6fa7a68ee44879134f21812.txt\n",
            "            Assassin_bug_front_2-tif_jpg.rf.d710418ed409ccaa1b7707c55dedfd9f.txt\n",
            "            20902451-dos-de-jardin-escarabajo-de-tierra-de-carabus-hortensis-negro-sobre-fondo-blanco_jpg.rf.089ad8630133c1ee3024470aab887fa6.txt\n",
            "            3_png.rf.0a926d81b1a21ca28a4241cc9a896a00.txt\n",
            "            imagen_146_jpg.rf.27e48d2c217d8c8f3a36814cd2ef0900.txt\n",
            "            imagen_136_jpg.rf.353dae1ea54bb03bf299dd6ffbf49c34.txt\n",
            "            imagen_62_jpg.rf.21e2d6f433227512aaa21caf5c27ac51.txt\n",
            "            imagen_249_jpg.rf.af047ad84f6b01fd8fcadd6905d9772d.txt\n",
            "            chinche5_jpg.rf.aac4de079b0628e6daf0254a4b5bbfa7.txt\n",
            "            imagen_212_jpg.rf.70ca5ea849fdd20a98c024989017ee14.txt\n",
            "            Spider_assassin_-18396334843-_jpg.rf.2c228332aa6db910bd371178e3a4665e.txt\n",
            "            imagen_7_jpg.rf.ace63a4d62e1ccb0b88c62c3d95cf5a9.txt\n",
            "            2015-06-05_13-30-57_IMG_2590a_-_Flickr_-_andrey_zharkikh_jpg.rf.06ae6b7c4eac715820a721bd6a5f1e39.txt\n",
            "            chinche20_png.rf.b79b172b7fd149a17e6af92c7a7c1cb6.txt\n",
            "            imagen_18_jpg.rf.93d1dcff5900e38ed000aee46886f96a.txt\n",
            "            pulga1_jpg.rf.e57617d907061660de2251051c393800.txt\n",
            "            escarabajos-de-madera_webp.rf.ddabc2a52144fab9a8c50e8e8344bea9.txt\n",
            "            chinche20_jpg.rf.3d9b37519fa1edc32e6da1e0eb80437e.txt\n",
            "            imagen_204_jpg.rf.ea643a0317c52e4476bc177d06182928.txt\n",
            "            chinche13_jpg.rf.22f319e08af7556a9ad73acf717811da.txt\n",
            "            imagen_201_jpg.rf.b347560db6d6239203d281c4ec33e844.txt\n",
            "            Melanolestes_picipes_-_Black_Corsair_-_assassin_bug_-ID_thanks_to_Ashley_Bradford-_-42934548600-_jpg.rf.5ebba3de26a718ebd5c72610a8872cbc.txt\n",
            "            redflourbeetle_webp.rf.7a1f7b9514afbf5f773e627ee6b37a4b.txt\n",
            "            garrapata5_jpg.rf.3e8b141690f037e466946347c2ecb4f3.txt\n",
            "            imagen_258_jpg.rf.67ef0aeebf921b89b5dd0e665f3d79c5.txt\n",
            "            10_jpg.rf.3232ae2c42d0d33e31a9b1201b953da9.txt\n",
            "            medium_jpg.rf.613ec069bf9c6041092f162d738e5b4c.txt\n",
            "            -asda_webp.rf.77a6a326ef8b8d834ed7728c5b1f091a.txt\n",
            "            imagen_208_jpg.rf.f520c20c9ee2de287d3d666295c5d398.txt\n",
            "            imagen_140_jpg.rf.ae8b7e7b97c6fdffbc81cc5d1d210bb1.txt\n",
            "            imagen_143_jpg.rf.a84ffe7dd4cecedfa837ba4a9f7ab64f.txt\n",
            "            imagen_240_jpg.rf.caef979a2754177ff2ae5cc3fc67169f.txt\n",
            "            images-8-_jpg.rf.bf44fb8ee644efceb5f279843a0f5591.txt\n",
            "            8_jpg.rf.af05f067cb4989b7b3bec6ff7184656c.txt\n",
            "            chinche25_jpg.rf.eba486b94f4eea6752b1710224bd1310.txt\n",
            "            17_png.rf.5d6514c66e257de8f324bfe1a7d0cd96.txt\n",
            "            imagen_121_jpg.rf.12628fa175b5d28d3f91e6053e7704c3.txt\n",
            "            Leptoglossus_phyllopus_Pat_Porter_jpg.rf.b17b79830929ab99dfcac0f9e67eb94d.txt\n",
            "            arana31_webp.rf.1c5be1c870033728847864e453675602.txt\n",
            "            imagen_159_jpg.rf.aff265f25c50fce0e1e62ecedc2795fc.txt\n",
            "            imagen_295_jpg.rf.d6edc6d5fc27f6148cba5d2c3f7348b7.txt\n",
            "            aran-a-rincon_jpg.rf.6f2605ff560fdb09cf3b474d7199a1d7.txt\n",
            "            imagen_209_jpg.rf.1576ee6b6d7bce16ab0cd2a5fbd03415.txt\n",
            "            Triatoma_infestans_jpg.rf.e9ff6db82b81e86116a18846557cefd7.txt\n",
            "            arana44_jpg.rf.4e886f09dd16d8c4adf7ae90c29eb946.txt\n",
            "            imagen_146_jpg.rf.48623305ac84cd2bbd924ec82ee401f1.txt\n",
            "            2_png.rf.fcce04759033ca3e87a7e5c00841e5b4.txt\n",
            "            Pristhesancus_plagipennis_371345611_jpg.rf.262cc7ff7edc160b96096f9175507747.txt\n",
            "            6143JTBn3JL_jpg.rf.f3142f6e0924aa17ff4f971281073052.txt\n",
            "            640px-Assassin_bug_of_some_kind_-43869093162-_jpg.rf.2459212494d38f243e9601efffff4afb.txt\n",
            "            imagen_135_jpg.rf.a090282565d5f4a9598bf22a6b1419e7.txt\n",
            "            imagen_140_jpg.rf.2b224e7863fdf9ea55d275847a1ee03e.txt\n",
            "            imagen_51_jpg.rf.bdedfbcf5cf1a2cc32d7adbdedeefa2a.txt\n",
            "            35_jpg.rf.2cf3c9197bc5cb38f5fe666902e104b6.txt\n",
            "            31_jpg.rf.2204af1578a58a0c055fa8e994163284.txt\n",
            "            5_png.rf.5e1bd352966cb4722788a60e5fd5c71b.txt\n",
            "            pulga1_jpg.rf.0d32ef567f84d8236bd2a11309d75976.txt\n",
            "            garrapata17_jpg.rf.30e1f9b778596e65ec353b3bf1280609.txt\n",
            "            20902451-dos-de-jardin-escarabajo-de-tierra-de-carabus-hortensis-negro-sobre-fondo-blanco_jpg.rf.cfbfb8b67e214ca56c6bc09b449398d8.txt\n",
            "            chinche27_jpg.rf.b58a0d24e08d22b7d23ca16c60d265f0.txt\n",
            "            Assassin_Bug_-Reduviidae-_-7079902129-_jpg.rf.30bce0b85d5c74b6547821cbfbcbe86b.txt\n",
            "            chinche12_jpg.rf.95b9e5a6f5233ca9fb4ed9c175c17958.txt\n",
            "            Assassin_Bug_-Oncocephalus_annulipes-_-12885347564-_jpg.rf.61d879364a143fa6e545fe219a614b74.txt\n",
            "            garrapata9_jpg.rf.9cb08a05355223d30e99bb9e9cd899c3.txt\n",
            "            imagen_72_jpg.rf.90e7403d559b1e370037a6b6b2d67843.txt\n",
            "            5_png.rf.fb645e547ac9f317e02bf6eaead827f5.txt\n",
            "            Waterkever-Coleoptera-waterinsecten-1024x419_webp.rf.fb6b1013c2265c44a379903311cab3e3.txt\n",
            "            imagen_240_jpg.rf.aa49f380178ebe51aedd4113012989a6.txt\n",
            "            640px-Black_Corsair_Assassin_Bug_-_Melanolestes_picipes-_Meadowood_Farm_SRMA-_Mason_Neck-_Virginia_-40486058372-_jpg.rf.ef6e7d37bd201198f390de235db3c111.txt\n",
            "            22_jpg.rf.2db574b19c237d82c53e817ba85ce062.txt\n",
            "            Spider_assassin_-18396334843-_jpg.rf.8980c48d6aeee6474374999f47f11ab8.txt\n",
            "            insectos-eleconomista_jpg.rf.ac444f075f34bb238e3b9a0ea2e1f126.txt\n",
            "            imagen_195_jpg.rf.0f15ea41ea8f2064cbe8ad875a3d7b39.txt\n",
            "            medium_jpg.rf.15dc64a355d782020aef87ef343a04bf.txt\n",
            "            escarabajo-e1583723107229_jpg.rf.d0ddd14f70038f5968379b99e19e6272.txt\n",
            "            chinche20_png.rf.5708391196dc7c3d364068b3f26fa3d3.txt\n",
            "            Zelus_renardii_-Reduviidae-_II_jpg.rf.b849584c67383611aae219b0b9563d0c.txt\n",
            "            escrabajo-20160909_jpg.rf.baeefb7d5fc5a7344b6d0bc832c2cbd1.txt\n",
            "            garrapata19_png.rf.5dc3b8dec6b59cdf34a27a3c82c27c9f.txt\n",
            "            Tegea_atropicta_45315973_jpg.rf.ff0fa239df069d00827de91f702b292b.txt\n",
            "            Assassin_Bug_Nymph_-_Flickr_-_treegrow_-10-_jpg.rf.d376491173791a0d65eebdcff0bab5db.txt\n",
            "            imagen_134_jpg.rf.c1971c9c345fa7c5c23ebb061d3e9dfb.txt\n",
            "            imagen_219_jpg.rf.644972773ea722568eac6a87314596e2.txt\n",
            "            31_jpg.rf.35d505a6573eee203d470da60c3de5bb.txt\n",
            "            imagen_7_jpg.rf.d2d692431a5125424754e572a292635e.txt\n",
            "            arana30_png.rf.222719576ad434f5d5798d672750ebf0.txt\n",
            "            chinche29_jpg.rf.1ba74c1dfe3ff55c39864e224a400add.txt\n",
            "            nacerdes-melanura-03_jpg.rf.1735db5c35eae9e901647d982b206180.txt\n",
            "            arana44_jpg.rf.e414bd5185457279f178342b7fcc2e4a.txt\n",
            "            imagen_145_jpg.rf.d680d88b03f73d58a3fef0fd2c0f253a.txt\n",
            "            chinche10_jpg.rf.0e3bd1fe006b48dc0b92d0cfe11bf9f7.txt\n",
            "            imagen_207_jpg.rf.ffa6bb3749247f93c077fc40f973091f.txt\n",
            "            23_jpg.rf.d4b23041880f10fb1118648f1591900b.txt\n",
            "            1_png.rf.3d510d5a4411683a69e3f67c7f95e89d.txt\n",
            "            descarga_webp.rf.91c5cf7753cdfd0e761de66f09383831.txt\n",
            "            chinche8_jpg.rf.e77d490d6b20dd7cc8b9ce480214c1ef.txt\n",
            "            arana-roja-caracteristicas_webp.rf.e3543bb9e94e868b4cab485cdab26d86.txt\n",
            "            imagen_232_jpg.rf.f30f7680ac313435622c5e0c6d298112.txt\n",
            "            Assassin_bug_front_2-tif_jpg.rf.020b06732742def6751072cc36a0a1a1.txt\n",
            "            hqdefault_jpg.rf.ff56cb25baa622c467625bc8d1bf2535.txt\n",
            "            39_png.rf.5158536b6b020941071b5e4e7bbea7a0.txt\n",
            "            arana_jpg.rf.31d4e6642161446133bf95b4272443e4.txt\n",
            "            17_png.rf.1fcd27336569c6bbedc5964b9829ceb9.txt\n",
            "            garrapata16_jpg.rf.1af7d7aa5446fbdef959cb7ca6b312a6.txt\n",
            "            imagen_24_jpg.rf.6e5bae56b8da2774a00eeb1eda791a17.txt\n",
            "            crw67680_jpg.rf.e2dc87fd12c17b99e7561ec502cfcae1.txt\n",
            "            Reduvid_May_2014-1_jpg.rf.60dedd08d436f303d98d854a605d8623.txt\n",
            "            escarabajos-de-madera_webp.rf.2232eefc618c2db6dadbabab9f88d792.txt\n",
            "            Pristhesancus_plagipennis_nymph_jpg.rf.6624db5d013876dc8f066a3dec345ea5.txt\n",
            "            Ground-Beetle_jpg.rf.8b3678a36dca5add2816be6b729c77dd.txt\n",
            "            imagen_179_jpg.rf.fc7980f41f4578685cfd9eccf8f2c8d2.txt\n",
            "            arana-roja-caracteristicas_webp.rf.6026d00f51094989d33ecf1d4c7db520.txt\n",
            "            garrapata15_jpg.rf.8c0aaac04d772f0ba8f58488d7f68e9b.txt\n",
            "            imagen_240_jpg.rf.e28a4b50817d92a1cf118180ebed1dd9.txt\n",
            "            imagen_133_jpg.rf.c5daafdb2047196e308c3f10b6f0d839.txt\n",
            "            garrapata7_jpg.rf.ab6287f09981f7cad648ca7cb88c7c5c.txt\n",
            "            Assassin_Bug_Nymph_-_Flickr_-_treegrow_-8-_jpg.rf.b0af4ef72ee850a593d9dbf44fc7c2de.txt\n",
            "            pulga2_jpg.rf.89a9e87c33388b9fc2752a5a88b36528.txt\n",
            "            640px-Black_Corsair_Assassin_Bug_-_Melanolestes_picipes-_Meadowood_Farm_SRMA-_Mason_Neck-_Virginia_-40486058372-_jpg.rf.392d8bd47aed598096de65dcb0d4d13b.txt\n",
            "            Pristhesancus_plagipennis_371345611_jpg.rf.b9e8b8d515202571d789f4a0022e239a.txt\n",
            "            imagen_206_jpg.rf.2d71ac4cf0d250ac16b12ee54e50c94f.txt\n",
            "            imagen_148_jpg.rf.b849a1f8c79a3aeb6fb577f54d56e15d.txt\n",
            "            Arilus_cristatus_-_Wheel_Bug_-_Assassin_Bug_-42674125980-_jpg.rf.6f5fe4677a8127ea20f317858624c006.txt\n",
            "            imagen_253_jpg.rf.cff43ad03bcec1956c322def2e26e5aa.txt\n",
            "            38_png.rf.76e3b22d255d30884a21d64cac0a270b.txt\n",
            "            Assassin_Bug_-Reduviidae-_-13965741853-_jpg.rf.43fac6df65944dbafcefb2adec0760e2.txt\n",
            "            9_jpg.rf.f5ab73709f7852d3d2d183a9d5fa88bc.txt\n",
            "            Spotted-Cucumber-Beetle-feeding_jpg.rf.323392b054b9599378125859e69d0694.txt\n",
            "            imagen_18_jpg.rf.f21401443fb6363fec449ec7e86df742.txt\n",
            "            imagen_215_jpg.rf.f10a68d8170aba00d46b911f3777e969.txt\n",
            "            1200x675_cmsv2_514767dc-8344-56c0-9880-a3f296f852bd-8379100_webp.rf.f44a05785e0213c3a9948d127c706ca7.txt\n",
            "            18_png.rf.d58323a887150c531c9b2e3df360a1d5.txt\n",
            "            imagen_126_jpg.rf.17967914a17d4dad875d55942a5a41e4.txt\n",
            "            descarga_webp.rf.d73b2a77b1bd6c0d871d32369892ccb1.txt\n",
            "            garrapata15_jpg.rf.5416f9f74d9f3f1405fb3b1c3601db4c.txt\n",
            "            Pselliopus_-_Assassin_Bug_02_jpg.rf.7a2abe8c8e9e1704b0c2bb3e109650d1.txt\n",
            "            Red_Assassin_Bug_-Antilochus_coquebertii-_-8678432802-_jpg.rf.82a96a0b07f008eeea25c5e12ab7528d.txt\n",
            "            imagen_253_jpg.rf.0f59aac69bb41ac3ad76d02907e0e850.txt\n",
            "            imagen_208_jpg.rf.fc27f68aff5c8fe279b9b2d84f5ce985.txt\n",
            "            chinche28_jpg.rf.30ddc92a8a19aafb4cd9433a28f3df94.txt\n",
            "            imagen_249_jpg.rf.e98127d2b33b4fda2e082ebb0bc01337.txt\n",
            "            imagen_64_jpg.rf.6c8bbb5ff93205554415d9562c484c54.txt\n",
            "            imagen_135_jpg.rf.e87dcf8568e0452c0d7ee1331187661e.txt\n",
            "            23_jpg.rf.bdc8bf1623812adc7a2da4755a9b3dda.txt\n",
            "            imagen_136_jpg.rf.a791b98a5878ef815d05e19c47b19879.txt\n",
            "            Arana-lobo_webp.rf.833cbb3c517466f63d3b6bd3b0cb94a8.txt\n",
            "            Zelus_renardii_-Reduviidae-_II_jpg.rf.bf2eb0bc2d129372ce47e3353829642d.txt\n",
            "            chinche20_png.rf.99d63ff8fcc13d3d3ba03a2c08ab68c3.txt\n",
            "            imagen_258_jpg.rf.fafedaaefc75a67554e02817e2beaa70.txt\n",
            "            640px-Assassin_Bug-_Salyavatinae-_-_Lisarda_erecta_-_-_-_Flickr_-_gailhampshire_jpg.rf.0b98e326ee632b9926b42c249a0906c2.txt\n",
            "            images-12-_jpg.rf.2a5c97ace969006e9a2758eeb707e519.txt\n",
            "            31_jpg.rf.3a78911752a497ea03b08f8254d194b3.txt\n",
            "            images-2-_jpg.rf.5f565beb442c19bf6ccc7f84d9168270.txt\n",
            "            arana31_webp.rf.0c11a9d1bdb6baeca05739af6acedf14.txt\n",
            "            Leptoglossus_phyllopus_Pat_Porter_jpg.rf.e64fde7bb89e5f641009cf27d8cb73a2.txt\n",
            "            imagen_220_jpg.rf.0b7902d0b7d9a9f2753f20be64e81255.txt\n",
            "            images-3-_jpg.rf.c60e5519a6f6d4a7a835c3fdf12cf79c.txt\n",
            "            imagen_209_jpg.rf.0d077e655fd31b9e66a22d53ad8aad38.txt\n",
            "            Spotted-Cucumber-Beetle-feeding_jpg.rf.311587df31b81a5382cfcfa6c27aa084.txt\n",
            "            imagen_190_jpg.rf.78f2bc93f20ac5d35d48049456a20c2b.txt\n",
            "            hqdefault_jpg.rf.1f0c0d4ba6b6356dfb8d49353be4029d.txt\n",
            "            27_png.rf.b7f1927fb404eaf319574bd5ef00d1cb.txt\n",
            "            leptura-sobre-una-hoja-wikipedia-commons-by-guido-gerding_jpg.rf.f804e527be70bcded1febc0ae39354b4.txt\n",
            "            chinche8_jpg.rf.b3cb0d18bfab02bb0926fafd083b0ff0.txt\n",
            "            17_png.rf.a837e13cc3d8dc439d85a38f49164c01.txt\n",
            "            garrapata16_jpg.rf.671381d5776bdf4f97df2efa80ca44af.txt\n",
            "            images-13-_jpg.rf.a9b2bec823cb2298c6aed39a008397c5.txt\n",
            "            imagen_230_jpg.rf.5c943f221e3c80c7fd8d26340006bbf8.txt\n",
            "            20_jpg.rf.074f92010912d7cb6e8e25ecf8b8a338.txt\n",
            "            curso-ilustracion-insectos-grafito_jpg.rf.de2df700e1a3913ec6b53a66d0b7c587.txt\n",
            "            images-12-_jpg.rf.bb495b2c007b3df3378c53f8e627aeeb.txt\n",
            "            chinche21_jpg.rf.0196eeab7d604cd8a0bd831f17141c67.txt\n",
            "            chinche27_jpg.rf.1fca3d4b2de3231ca0cfd23a954fe27b.txt\n",
            "            Pselliopus_-_Assassin_Bug_02_jpg.rf.3a85ab039ea1cbae20423e176f1328ec.txt\n",
            "            chinche19_png.rf.8e0eaf27ce1332c9424abf426fdbcc95.txt\n",
            "            Milkweed_Assassin_Bug_jpg.rf.9739b52f0499a96680208e8db4d969f7.txt\n",
            "            imagen_206_jpg.rf.852132123845b14ac05dca868d4bee41.txt\n",
            "            37_jpg.rf.8aec5df87ebe55ec703f50bdc65a190d.txt\n",
            "            aran-a-rincon_jpg.rf.e10b6519fdb89537dd4c6bfada9fdd1a.txt\n",
            "            6143JTBn3JL_jpg.rf.b039cf27b34225b5f7570a0328dc5359.txt\n",
            "            imagen_205_jpg.rf.5bf5e46a5bcb946cb8312519304a9522.txt\n",
            "            153407409992237093_webp.rf.c3c0f70bc2b233662915175c6319c3ad.txt\n",
            "            f960x540-111240_185315_5050_webp.rf.3ab995ad707fa3998ddb3dbd30fdd987.txt\n",
            "            imagen_271_jpg.rf.5ce6801de236cda8d6a014b409344fef.txt\n",
            "            Assassin_Bug_Nymph_-_Flickr_-_treegrow_-10-_jpg.rf.30d02d13b7de4605bc6d46af7d8e71a1.txt\n",
            "            32_jpg.rf.198075dbd4f1817779c4c042b0f5c3a8.txt\n",
            "            imagen_21_jpg.rf.b6dfd0804d5d539585394a1092b9a3b9.txt\n",
            "            2015-06-05_13-30-57_IMG_2590a_-_Flickr_-_andrey_zharkikh_jpg.rf.107ac2e9bdb371e9d3dc4bf004400921.txt\n",
            "            Red_Assassin_Bug_-Antilochus_coquebertii-_-8678432802-_jpg.rf.004aaf32f2ec70bf3e9d6017256e0875.txt\n",
            "            chinche24_jpg.rf.b9a64978c50a8821e5acbb186c266f61.txt\n",
            "            imagen_276_jpg.rf.ee9b7cfa1fadd5acc4683065d2c1c66b.txt\n",
            "            imagen_298_jpg.rf.05514328bd46ca3c24b0e082016d7e62.txt\n",
            "            leptura-sobre-una-hoja-wikipedia-commons-by-guido-gerding_jpg.rf.1fde93b86b7e0c493e216424df9eb8e3.txt\n",
            "            5_png.rf.39447bd50642fc9a55eb9052648cd9de.txt\n",
            "            Firebug_jpg.rf.48c2fa83d593081ede999d1d30488729.txt\n",
            "            garrapata17_jpg.rf.c93080b7f17d3a2b6414a6358a92b2c6.txt\n",
            "            chinche12_jpg.rf.0f75a7fe2ac7a404c2f29bdaac74ba0c.txt\n",
            "            imagen_215_jpg.rf.bb0b8d4a54e07d3ee249915c26ccef6c.txt\n",
            "            chinche10_jpg.rf.f183ef70b7c399e20446f14b5b7246df.txt\n",
            "            imagen_298_jpg.rf.5da6eb436b3728dd42bffa6627964711.txt\n",
            "            imagen_145_jpg.rf.7f5c9f3cf784f82f049492772acde254.txt\n",
            "            Pristhesancus_plagipennis_243709472_jpg.rf.ab89ca457af262e222ea0ebc1920a28f.txt\n",
            "            Little_Assassin_Bug_-_Flickr_-_pinemikey_jpg.rf.a8c25dae6574f0c345106b46f4f6189e.txt\n",
            "            garrapata13_jpg.rf.27452bfc5ad027bb03c2692f69693cdc.txt\n",
            "            imagen_212_jpg.rf.5c73601f9ef3eafdac1a60944e121cac.txt\n",
            "            imagen_155_jpg.rf.5c87740030b7d1af29a8fe754194ceb9.txt\n",
            "            medium_jpg.rf.70c89b0c3d296750ce5272d4d755346c.txt\n",
            "            imagen_145_jpg.rf.7a8c611f6ad8b19149e5c8fe2fdb8d8c.txt\n",
            "            Assassin_Bug_-Reduviidae-_-13966021573-_jpg.rf.ed80984593f06be35261be93a499e230.txt\n",
            "            4_png.rf.d1b0a2193ad1b92631ab84b56af63e2a.txt\n",
            "            imagen_212_jpg.rf.ff8c774a2b71206bd17c539e215bdff4.txt\n",
            "            Pygolampis_striata_-10-3897-BDJ-9-e63695-_Figure_3_b_jpg.rf.15d26dca811a17937f7242fd00c7a6c0.txt\n",
            "            28_jpg.rf.002913cab86893c3714ac6dbc735ecaa.txt\n",
            "            imagen_155_jpg.rf.e6f4dc6ada138e25d182550c1a1f6bef.txt\n",
            "            images-8-_jpg.rf.75b799c0c820a998ff963f37c149ea8b.txt\n",
            "            22_jpg.rf.e4f9f92cd010ca76747e3f347f138f08.txt\n",
            "            imagen_228_jpg.rf.6c3ea2926e137a8cbeb329555d75c26e.txt\n",
            "            640px-Assassin_Bug-_Salyavatinae-_-_Lisarda_erecta_-_-_-_Flickr_-_gailhampshire_jpg.rf.1b6906760c7c77b45bee126f1bb981f2.txt\n",
            "            imagen_295_jpg.rf.aa8a003e8bcbd82782d1262a23bfdeaf.txt\n",
            "            chinche29_jpg.rf.cd5cc1ed22f1b229834ddd7a6c43e3b9.txt\n",
            "            images-1-_jpg.rf.ce75e2f23cd42fd189ae26853d1db3bc.txt\n",
            "            arana_png.rf.abd87e757afbb3a7bd0e6c25a4e2ed98.txt\n",
            "            chinche2_jpg.rf.ae6262aaf2d8d439836f46341be31747.txt\n",
            "            imagen_204_jpg.rf.0ee2986fe784abc54893ac30c9bbd8f0.txt\n",
            "            Assassin_Bug_Nymph_-_Flickr_-_treegrow_-8-_jpg.rf.960386bbc786bd5f75b9c7b7ad2a356e.txt\n",
            "            imagen_206_jpg.rf.61898affa59cf08cd373751bdd7b9c1e.txt\n",
            "            imagen_237_jpg.rf.60c5c083ce389de023b2fd1350298c88.txt\n",
            "            imagen_142_jpg.rf.425e8cef5344804cccc683611569f487.txt\n",
            "            imagen_20_jpg.rf.94bbe18f3116ac8d9f8ed1782c51f58f.txt\n",
            "            chinche18_png.rf.ae7ae7ec770e99baa8bcdd495bfb120a.txt\n",
            "            imagen_179_jpg.rf.fc8f1b8cbafae14a376853b2ba40a371.txt\n",
            "            28_jpg.rf.8c37104519cd41d3647af110d6180365.txt\n",
            "            imagen_180_jpg.rf.f5ce00964d808209a52f90ff260d1f38.txt\n",
            "            imagen_271_jpg.rf.fb709e88882f66da0aa07fca82011e03.txt\n",
            "            6143JTBn3JL_jpg.rf.5fccd71e8e2e363d36be28d5d1dccd53.txt\n",
            "            19_jpg.rf.a95648e943af9896d9db00251d196d90.txt\n",
            "            imagen_64_jpg.rf.9f530e95ffc37b228018b00cb8d90a22.txt\n",
            "            imagen_276_jpg.rf.a1b45c06ae0b30050e8d4a874bd4e6c5.txt\n",
            "            imagen_180_jpg.rf.6fa436abb471cd31323a75f268ccbde9.txt\n",
            "            redflourbeetle_webp.rf.02bc22bb32ca73251c8f8ed5684b1663.txt\n",
            "            imagen_207_jpg.rf.eb9ed5640bec053a098230c90a7c9513.txt\n",
            "            imagen_298_jpg.rf.8539e6150ab36dfe0f35bb8c8be11d80.txt\n",
            "            images-11-_jpg.rf.3b793b928fb0549bdf5e86a1fb700241.txt\n",
            "            pulga1_jpg.rf.6ae5637befb7bf87a322b30ae3c85466.txt\n",
            "            640px-Assassin_Bug-_Salyavatinae-_-_Lisarda_erecta_-_-_-_Flickr_-_gailhampshire_jpg.rf.dc4f04343ad103ac58fdc50dbe62fb85.txt\n",
            "            Pselliopus_-_Assassin_Bug_02_jpg.rf.460a15d0145194b4a2ddf63006c219ea.txt\n",
            "            18_png.rf.09b43a779884b6d73a072883a0493642.txt\n",
            "            imagen_172_jpg.rf.54171de9a999a0928493ad5dd726fc80.txt\n",
            "            imagen_90_jpg.rf.7e8d9c56d8a9f3b0875eb2b71ca4dde7.txt\n",
            "            garrapata9_jpg.rf.45da5ee9ff618918614dccc46e62bd7e.txt\n",
            "            escarabajo_c_webp.rf.8b077de67080e9d1dcf6d9e0e37f1ed7.txt\n",
            "            Ant-eating_assassin_bug_nymph_-15031835754-_jpg.rf.ad6602512ea8ed2eb7ddfcb3e8225a9d.txt\n",
            "            imagen_204_jpg.rf.86b12a5e16eff7c6163c07836ba95927.txt\n",
            "            chinche_asiatica_o_hedionda_53979_4_600_jpg.rf.98d651323acb0fe4229ca6eadb4c8e49.txt\n",
            "            imagen_264_jpg.rf.713a19291b3418bc315cc7f2f81ae70e.txt\n",
            "            chinche20_jpg.rf.1235e64d3c652f12cf8f49085e8324f8.txt\n",
            "            Spider_assassin_-18396334843-_jpg.rf.f0a4239659a5ff4cec5bc6544434eb8e.txt\n",
            "            imagen_126_jpg.rf.d9fb79d6bfa4387b80f635e97e2f5d61.txt\n",
            "            pulga3_jpg.rf.5e173e245d7661aa4ddac16b8391665c.txt\n",
            "            imagen_103_jpg.rf.db98d80fa002472f1a973c4694dc541b.txt\n",
            "            imagen_179_jpg.rf.75075ccf21e10a1cf188c629898ecc2b.txt\n",
            "            images-7-_jpg.rf.b96a26ee8a19c3f3710fa2d11476531b.txt\n",
            "            imagen_21_jpg.rf.564eacb1c11e4514ab9e77d898feb3d6.txt\n",
            "            chinche19_jpg.rf.f4fa293ac8f911dbd1fbfa87cba23776.txt\n",
            "            chinche24_jpg.rf.498a7b8e919b44a1f2e0fd7905f4b757.txt\n",
            "            images-7-_jpg.rf.879c676235881fed08c98a92c52a2cb1.txt\n",
            "            imagen_72_jpg.rf.b613f8aa6dd55b5760dfc0604bf8b270.txt\n",
            "            DirkvdM_Assassin_Bug-1-_jpg.rf.6b6d7bf89fc24cf207be38312cdb2c64.txt\n",
            "            imagen_90_jpg.rf.ea52d32627e35ef802a37229fa0acad1.txt\n",
            "            Red_Assassin_Bug_-Antilochus_coquebertii-_-8678432802-_jpg.rf.32867a7b19491ca2ff0c7d44d3b6a938.txt\n",
            "            images-6-_jpg.rf.d0034369e8249446f110da8bd4c991e7.txt\n",
            "            imagen_250_jpg.rf.3cb4392d8d163095210e329ddf3363cf.txt\n",
            "            ih90t7Yt-_2000x1500__1_jpg.rf.a1d7a90005973c8a8545249077a05f4c.txt\n",
            "            imagen_253_jpg.rf.0c5dbe095ff06513ac70b2d7aa689354.txt\n",
            "            insectos-eleconomista_jpg.rf.431d0ecc9c4f19574e4712161ca23744.txt\n",
            "            imagen_237_jpg.rf.14019e1b4472969499cf10789c46f8b3.txt\n",
            "            pulga3_jpg.rf.afc4fc5bd6a033dfb6016a7ae7d64148.txt\n",
            "            chinche7_jpg.rf.26cfc1e63427171679ca2fb23fc9f21d.txt\n",
            "            4_png.rf.b8f3e175cc63a50cd9f2da9a3f46dd57.txt\n",
            "            imagen_72_jpg.rf.54563103cc0b76c62919a1612f626384.txt\n",
            "            2016-09-10_21-50-04_IMG_7928_-_Flickr_-_andrey_zharkikh_jpg.rf.efcc80b2640c6326b97d7e3dbd32e1b0.txt\n",
            "            curso-ilustracion-insectos-grafito_jpg.rf.b9fb73a042e46c52d1218a42fef2c978.txt\n",
            "            descarga_webp.rf.c2373ea23f681ff681385100308353a0.txt\n",
            "            imagen_142_jpg.rf.b36d48bbc5f39688ef2845fc01527f57.txt\n",
            "            imagen_195_jpg.rf.39287d36a663ba29b0d002120c58a511.txt\n",
            "            640px-Red_Assassin_bug_03978_jpg.rf.f3d4b6bc2b6cde432f6c6b56905c78d4.txt\n",
            "            redflourbeetle_webp.rf.f1a5cbe607be51b8527063f0e790b838.txt\n",
            "            Waterkever-Coleoptera-waterinsecten-1024x419_webp.rf.6abc0a98feb39f7519e19a86b178c231.txt\n",
            "            Arana-lobo_webp.rf.c16936cbba499976170245ee7909b566.txt\n",
            "            Assassin_Bug_-Reduviidae-_-15315406737-_jpg.rf.75d1319c25dbaa8616e33e542d116d0c.txt\n",
            "            Assassin_Bug_Nymph_-_Flickr_-_treegrow_-8-_jpg.rf.4e503bb481f36f74a81f0779c042a3dc.txt\n",
            "            imagen_18_jpg.rf.c7a3a4a5c2fa13df115491d5521d00dc.txt\n",
            "            19_jpg.rf.bb251e991edbc07ed885bcaa7d4262fe.txt\n",
            "            images-6-_jpg.rf.6add7d3b62da8dc41c9fa4aa4e99418b.txt\n",
            "            imagen_74_jpg.rf.1c57958a1336c7c5964db330ea819627.txt\n",
            "            imagen_159_jpg.rf.8a37cadb6aa441674e05c56287da4756.txt\n",
            "            imagen_295_jpg.rf.b28c430c47fb59a7fbe05aee5ff6b2bb.txt\n",
            "            Arilus_cristatus_-_Wheel_Bug_-_Assassin_Bug_-42674125980-_jpg.rf.ef7e3439bf1244b76d4e77aa91169b55.txt\n",
            "            images-2-_jpg.rf.8c271978d618b4b9a10442a0f8404cba.txt\n",
            "            Assassin_Bug_-Oncocephalus_annulipes-_-12885347564-_jpg.rf.fd13c95193d9c0b15af760aa8b547186.txt\n",
            "            20_jpg.rf.c72e2a165f1c312e3c2bbd84af10573c.txt\n",
            "            images-3-_jpg.rf.a1511e74b7ae8a422b18875eb488a85c.txt\n",
            "            Exophthalmus_pulverulentus_01_jpg.rf.b51d4c298aac0b1758e708243c8358c6.txt\n",
            "            Firebug_jpg.rf.d1c879ea24596a2740e224019aa29cb2.txt\n",
            "            images-6-_jpg.rf.9bf5e495ba276a6759d88f5659ead6f7.txt\n",
            "            imagen_103_jpg.rf.4a5beb048327f70c139c0097c25f1a3e.txt\n",
            "            chinche19_jpg.rf.73bbb02678ab19afc81a1ddf8179e312.txt\n",
            "            imagen_143_jpg.rf.d7912c0e3ee924b28be718ab8078cd9c.txt\n",
            "            imagen_323_jpg.rf.d1e0009a9d777751fe879b8e5e9b046b.txt\n",
            "            crw67680_jpg.rf.c69a83ebfbe2e42d538d8ad166f6fdbd.txt\n",
            "            imagen_135_jpg.rf.ae1f2002ed6d972f2a27204b740e8de1.txt\n",
            "            imagen_108_jpg.rf.fc7e55731458ec443afda5939e1182a9.txt\n",
            "            imagen_264_jpg.rf.dee16657f105e1bc5bbded07a1af7d10.txt\n",
            "            640px-Zelurus_sp-_-12911326493-_jpg.rf.8761e3ed85e0455140102f608e3c9530.txt\n",
            "            imagen_7_jpg.rf.43e88a4e1842cc2fc1beb9d1cd8a8a1e.txt\n",
            "            images-7-_jpg.rf.40de04d720c93fbe561beb119ae2f465.txt\n",
            "            imagen_147_jpg.rf.ec20353341c91b1ff23a8a0d553997f9.txt\n",
            "            13_png.rf.6f7552ec920ac7b147654c8055a48544.txt\n",
            "            imagen_249_jpg.rf.334b2a0d42559ed7acc7bd6654f060dc.txt\n",
            "            Assassin_Bug_-Reduviidae-_-15315406737-_jpg.rf.9efe9c21fa4f707591b95106c54ade16.txt\n",
            "            aran-a-rincon_jpg.rf.5912eed008d89421a2dd03d63f15c7e1.txt\n",
            "            images-12-_jpg.rf.475116436a1e2ba043d34a12b002004f.txt\n",
            "            Assassin_Bug_-_Zelus_luridis-_SERC-_Edgewater-_Maryland_jpg.rf.1a07425734b4f146d895679d745407e5.txt\n",
            "            imagen_143_jpg.rf.e64a2864d66e763a1fa05112dc469de3.txt\n",
            "            38_png.rf.06f5544edbc1d31f1dfe669addb6b262.txt\n",
            "            imagen_195_jpg.rf.f41102460c528af68b4da19c61f15328.txt\n",
            "            mordedura-arana_jpg.rf.a1467cefc59e24c642e9f3831e92d23c.txt\n",
            "            escarabajo_c_webp.rf.3b91113fb608a9fd6c2d4e5be09d44de.txt\n",
            "            imagen_24_jpg.rf.eab0d6837f8f0555a027c09a39dd2023.txt\n",
            "            imagen_20_jpg.rf.bfb1188d95ac208d3107b30b1d7ab6be.txt\n",
            "            imagen_121_jpg.rf.384bc059bc8310cf08fe80d0d0e92246.txt\n",
            "            chinche22_jpg.rf.02895c332c8529134e4818deb21ef029.txt\n",
            "            cantharidaejtann-1_webp.rf.02f6c86636c0f5b876cab057826729ef.txt\n",
            "            imagen_323_jpg.rf.cfb0a48bac067c0ffcce60fe8cc75920.txt\n",
            "            imagen_172_jpg.rf.a915fd9cb2de2fdd7274970a16d309c6.txt\n",
            "            garrapata13_jpg.rf.441c444a2024eb70a77c33e5a85a1ff7.txt\n",
            "            imagen_218_jpg.rf.24d2681d7c8be67bbddf839ba2c5a0f2.txt\n",
            "            imagen_148_jpg.rf.7c9426151f9b7aac55ed3907ffa8f87a.txt\n",
            "            chinche7_jpg.rf.d4f64b32c0fee542e12231a633f1a9e1.txt\n",
            "            images-1-_jpg.rf.e3d1304c2fa9b64fa7f1e7a0b5d171c9.txt\n",
            "            13_png.rf.1ffd1a0ea551757e91bf06415b198221.txt\n",
            "            chinche18_png.rf.22aa8ab5167385996371c93102f68cb2.txt\n",
            "            chinche16_png.rf.03db3f9ef11b91d5d350b41baced4a3b.txt\n",
            "            imagen_134_jpg.rf.522f3fc850f33a477c4b3a260cace0d8.txt\n",
            "            imagen_21_jpg.rf.4ff78eb3ea6bce29de8ea96adc815180.txt\n",
            "            cucarachas-humedades_jpg.rf.8961b97c693a6f84d48f476a2a872d8c.txt\n",
            "            escrabajo-20160909_jpg.rf.75bea5db9ab57b79670d47706f8da390.txt\n",
            "            imagen_180_jpg.rf.45f8a83e80badad21e9ab7a38bfd2759.txt\n",
            "            10_jpg.rf.857e1bdbbb9fe1df8e213851975abc85.txt\n",
            "            640px-Assassin_bug_of_some_kind_-43869093162-_jpg.rf.b82b009ce96356c646a29b74c2534ff2.txt\n",
            "            imagen_136_jpg.rf.985977cc8df837025ed6db976e717c4e.txt\n",
            "            640px-Zelurus_sp-_-12911326493-_jpg.rf.6416062d27a18ec6f16271011a07cae1.txt\n",
            "            images-11-_jpg.rf.9338bd7a6c87ed42d43b21265b2c28dd.txt\n",
            "            imagen_133_jpg.rf.d91f4b3ecd4eaddc283c514de67cc672.txt\n",
            "            chinche19_jpg.rf.8361275bb4bda47094bc4161ddfcc827.txt\n",
            "            153407409992237093_webp.rf.c354708adf80dbfce832f0626cd49f58.txt\n",
            "            imagen_228_jpg.rf.f39c4d3a80a99d8ef96b3d8497c4d01c.txt\n",
            "            garrapata19_png.rf.a350485596c3c08864aea717d59c7cb8.txt\n",
            "            chinche16_png.rf.22c155892922c1bf855ccf108374ef76.txt\n",
            "            9_jpg.rf.ede3da33adaefebfcb42634686b23974.txt\n",
            "            imagen_51_jpg.rf.c6a4574c45add1aa9ed3009ac9ee9c57.txt\n",
            "            chinche17_PNG.rf.49fb37909ab492ded63a35511d042a72.txt\n",
            "            chinche12_jpg.rf.d80baf6f43edbb5686d7c33cbd138840.txt\n",
            "            pulgas_26694_0_600_jpg.rf.0d6ddcdfbcfd5b4c7f1cf7fcc289d442.txt\n",
            "            Assassin_Bug_-_Zelus_luridis-_SERC-_Edgewater-_Maryland_jpg.rf.86d3ca2fc331cad35db876b7f3b3e764.txt\n",
            "            pulga4_jpg.rf.0ce940a0565600554f74ea9996ddaf43.txt\n",
            "            ih90t7Yt-_2000x1500__1_jpg.rf.94f5ad634a4f91d5b24c2481da36803c.txt\n",
            "            chinche2_jpg.rf.399d474550303d14560bd6d072c10622.txt\n",
            "            crw67680_jpg.rf.6e46a610de4a51b378e051d4f20e6e2e.txt\n",
            "            27_png.rf.0c566242999482f6584e4c36269e3f6c.txt\n",
            "            Triatoma_infestans_jpg.rf.373038499846874905d3bb60d204c10b.txt\n",
            "            Waterkever-Coleoptera-waterinsecten-1024x419_webp.rf.ecb7629f97b594752f2ed848c9e0f45d.txt\n",
            "            imagen_126_jpg.rf.e0660b5b58526eb53ee907be42957832.txt\n",
            "            Little_Assassin_Bug_-_Flickr_-_pinemikey_jpg.rf.a961368be9daee8d03041fbf2fe43dc5.txt\n",
            "            imagen_219_jpg.rf.8132d354ef336e1ab8f16854b050cea7.txt\n",
            "            imagen_54_jpg.rf.8903af637e7f7ee6460ec4f102c283cd.txt\n",
            "            Pristhesancus_plagipennis_243709472_jpg.rf.10885a0f78bb9b233cb0a606fe27a22f.txt\n",
            "            imagen_147_jpg.rf.774c27fb37e8dc1e12e5b366376d20a5.txt\n",
            "            DirkvdM_Assassin_Bug-1-_jpg.rf.3ffc9f5841aa89781f8f12ed18625e9e.txt\n",
            "            imagen_254_jpg.rf.e8f8a12752288f5944434629c13ed01a.txt\n",
            "            escarabajo_arana_subfamilia_ptininae_4667_5_600_jpg.rf.0ec4d6a540aca21e356209ef5b5073ed.txt\n",
            "            19_jpg.rf.cd63c5f8e9eafd6c427db20a5424f7ff.txt\n",
            "            imagen_241_jpg.rf.20e1a170ae2c0c0d042aaafe093eb05d.txt\n",
            "            640px-Assassin_bug_of_some_kind_-43869093162-_jpg.rf.bd50c62013c71dfb5fee94a81d2207ed.txt\n",
            "            nacerdes-melanura-03_jpg.rf.5c7fcba84fa3b9976fe567d6d33c4969.txt\n",
            "            Exophthalmus_pulverulentus_01_jpg.rf.a1f08da29809adfb65eb130f91c926b9.txt\n",
            "            imagen_203_jpg.rf.450b845a8bbe303a0576772a55df73b0.txt\n",
            "            -asda_webp.rf.3c4f6977b58cbe48372bf4ff8d5d37ea.txt\n",
            "            imagen_146_jpg.rf.220394a696b4bbfb2c449928b94d1dd6.txt\n",
            "            Pristhesancus_plagipennis_nymph_jpg.rf.9e66e0e93714c63c8f5123c9e4b56368.txt\n",
            "            arana_jpg.rf.c80a378c53f6f743676825793014b562.txt\n",
            "            imagen_142_jpg.rf.5f2d2edfce2bc5c85dc296cb9143b2fe.txt\n",
            "            imagen_203_jpg.rf.a96e9c2adb60da69306bec74883abce7.txt\n",
            "            leptura-sobre-una-hoja-wikipedia-commons-by-guido-gerding_jpg.rf.6a2e10aad17620023df30a215e2a9fbc.txt\n",
            "            escarabajo-e1583723107229_jpg.rf.466b7804ad84f9c14834d025aa79d159.txt\n",
            "            chinche2_jpg.rf.c118bedccd35d0ce45693f0bac29cc57.txt\n",
            "            18_png.rf.91a16687f6148e1257e2a5426bd4c6c0.txt\n",
            "            Ant-eating_assassin_bug_nymph_-15031835754-_jpg.rf.3b45fd59cbdcca559cdaf94667047e1c.txt\n",
            "            escarabajos-de-madera_webp.rf.77e6024f7df9efdced2e520327ddfe6c.txt\n",
            "            garrapata10_jpg.rf.4d7e5e13a7ec378eeb14381fc2c71812.txt\n",
            "            chinche5_jpg.rf.2a754400fd8b53ab15969e309aabe87c.txt\n",
            "            imagen_201_jpg.rf.1dbeb49ae8aba336d01576c4bdfafae5.txt\n",
            "            Tegea_atropicta_45315973_jpg.rf.7374404f2e2ba3f3290d72ebfea93d2b.txt\n",
            "            2015-06-05_13-30-57_IMG_2590a_-_Flickr_-_andrey_zharkikh_jpg.rf.5f9902f45d68da7105e4c06d2a2dcc22.txt\n",
            "            23_jpg.rf.5dcf814dc781d403c7d4dbb244c98a83.txt\n",
            "            imagen_205_jpg.rf.daa369976f45e1389fd0e2c7fb100fef.txt\n",
            "            Exophthalmus_pulverulentus_01_jpg.rf.526663cafa83cd6269c11d8ae78fb9fa.txt\n",
            "            7J7JA2UGI5ETRLYLS53CMBK3IQ_png.rf.00c4ab7a3b8fa71a22f908ca11f75aa1.txt\n",
            "            chinche13_jpg.rf.73f2953f02a64182ca7d1ff5d4e735bb.txt\n",
            "            imagen_24_jpg.rf.6e2060dc56902a18213c0c389813277c.txt\n",
            "            imagen_271_jpg.rf.5d8c9beff68a2904dcfed587d6cfa71d.txt\n",
            "            chinche21_jpg.rf.ee9ff6bff394b4fe79c9d02a562cdf6d.txt\n",
            "            garrapata5_jpg.rf.94ab50d7e15ecf4f34114eced250248a.txt\n",
            "            garrapata7_jpg.rf.c29ad329fa6cef0093c1168d27ab8599.txt\n",
            "            imagen_54_jpg.rf.0e2864549cfc51d4c21b4da7f74e71a1.txt\n",
            "            20_jpg.rf.bb4872425b81b7e2dffce4480a11f41d.txt\n",
            "            Arana-lobo_webp.rf.cc063f743c8a45b9885c41b84cbe16d3.txt\n",
            "            chinche29_jpg.rf.64ee6763d0c83fc7df9fef67ab4bea57.txt\n",
            "            imagen_148_jpg.rf.19586714f6d045357d3669b06ecff5fc.txt\n",
            "            imagen_133_jpg.rf.bf265e5bcd247c87e39837c25e12f114.txt\n",
            "            chinche16_png.rf.f0c687717c9ffded73890c33aefe3b9f.txt\n",
            "            imagen_25_jpg.rf.1b2de9f108a35b3949ef9bb10780fd9f.txt\n",
            "            25_png.rf.6a68797aa996f9e5d1bb41c8ac065993.txt\n",
            "            35_jpg.rf.ebb62581201e73f198fee55cb0bf6958.txt\n",
            "            640px-Zelurus_sp-_-12911326493-_jpg.rf.aee810cc5d87db3f60f41fcce5f10b16.txt\n",
            "            25_png.rf.9d201d2ef273d8ab676d11acf32a9403.txt\n",
            "            pulga3_jpg.rf.728c66f259cda06475581d5fe576e8f7.txt\n",
            "            cucarachas-humedades_jpg.rf.37eb213770f70c3517459bce1a703e17.txt\n",
            "            imagen_62_jpg.rf.a0d5658e9a5af24a9c0ed7a241d3afd5.txt\n",
            "            imagen_74_jpg.rf.3279690baa24e088c6facc6867e9760e.txt\n",
            "            imagen_250_jpg.rf.e7a88d1bdb79539c2eb684a358a2881f.txt\n",
            "            imagen_19_jpg.rf.99e46182247adebf689778b97ffbe714.txt\n",
            "            imagen_221_jpg.rf.7fba1122d0fc353c7e2307872f0d399a.txt\n",
            "            mordedura-arana_jpg.rf.341fdf445eaf279ec8839f73ca212fb8.txt\n",
            "            garrapata15_jpg.rf.6e3b7c931842a6bce4b3c45eeb8ec3f8.txt\n",
            "            images-11-_jpg.rf.559dcb526bedd55e33070f5d2492ae2e.txt\n",
            "            arana44_jpg.rf.947097b2429f531616a75f584b7d23cd.txt\n",
            "            garrapata13_jpg.rf.03175ea856c5a4efa98dea9d8efc8e9a.txt\n",
            "            8_jpg.rf.5379ea4d2620cbcccf6fe4e1330b6f0b.txt\n",
            "            imagen_19_jpg.rf.2718a896bc0fde40ba319ea24f8cb4e1.txt\n",
            "            26_png.rf.b4863aa8ea0292eaebf62154325ab6a7.txt\n",
            "            chinche11_jpg.rf.600bb8be50c5f957fb5482cf2683c468.txt\n",
            "            7J7JA2UGI5ETRLYLS53CMBK3IQ_png.rf.a3186a376ae3b35a398b3e0045f1d7ca.txt\n",
            "            chinche20_jpg.rf.8b9d2c78a161e99d06b10483ff7f0002.txt\n",
            "            imagen_20_jpg.rf.91d53d09f867e66419c8a62024120eee.txt\n",
            "            images_jpg.rf.6b8b4cb79359b2940ddb7a8923aa20d3.txt\n",
            "            imagen_25_jpg.rf.7c79d6652b991ab930c622e59961939b.txt\n",
            "            imagen_74_jpg.rf.f792a423b7b295ae122fa36e9fdc35ef.txt\n",
            "            imagen_235_jpg.rf.b2433362f3ca731674bbd63729af1a3b.txt\n",
            "            Tegea_atropicta_45315973_jpg.rf.98f9ea4f52ab7d40385f66f71613c35b.txt\n",
            "            20902451-dos-de-jardin-escarabajo-de-tierra-de-carabus-hortensis-negro-sobre-fondo-blanco_jpg.rf.d0a1ee9e8efcb125b91d165fd6a8fb2b.txt\n",
            "            10_jpg.rf.102df5319293195d49be66edb598a660.txt\n",
            "            imagen_230_jpg.rf.53904277277ea351034a286ac574c354.txt\n",
            "            imagen_241_jpg.rf.2d00d324201956205e0c31064ce8b4fc.txt\n",
            "            imagen_237_jpg.rf.e294f50484d8438102ef5aed365a4f6a.txt\n",
            "            imagen_121_jpg.rf.0485b069257a4081a6e92f8e4eac3008.txt\n",
            "            curso-ilustracion-insectos-grafito_jpg.rf.b1ad56c4f85dde4fc869da772c2ff31e.txt\n",
            "            26_png.rf.a32cf4fb03962a5b2715ea123cf9a70d.txt\n",
            "            27_png.rf.4928804c5ba4660fab4d40bd9a957204.txt\n",
            "            imagen_19_jpg.rf.14be6f31196889524df4abd1dbc70e6f.txt\n",
            "            3_png.rf.ea58893d5ca73087c0dbd923897ba453.txt\n",
            "            mordedura-arana_jpg.rf.af996460dae162bca2f4bd6747d8cb76.txt\n",
            "            chinche5_jpg.rf.09c473b936d5f6c24c65ae8cdef87161.txt\n",
            "            imagen_207_jpg.rf.4b8757efd58f243ac588480fa20709df.txt\n",
            "            images-13-_jpg.rf.7878889bbc3f07e1b99958ed1b05aac6.txt\n",
            "            imagen_62_jpg.rf.e234e603e865642469104f302b8ccdc9.txt\n",
            "            1200x675_cmsv2_514767dc-8344-56c0-9880-a3f296f852bd-8379100_webp.rf.b9404a74d5f3b785997696bf2701130d.txt\n",
            "            26_png.rf.3069dc7d6eab67aff1fdb47c2128e0c8.txt\n",
            "            imagen_134_jpg.rf.0a99a6f476bb35e222fccf8074863494.txt\n",
            "            640px-Red_Assassin_bug_03978_jpg.rf.de77cf073b82c379c69e240e3b7e2e11.txt\n",
            "            imagen_190_jpg.rf.50ff3bea7b44090b534462b7281e2eb6.txt\n",
            "            153407409992237093_webp.rf.e0ba034007b1767904963009989d0633.txt\n",
            "            chinche18_png.rf.d9c044e28fd2707717833d7c2c44ade5.txt\n",
            "            imagen_221_jpg.rf.8bc55b12380c0a874e29ac19b4594bc3.txt\n",
            "            Assassin_Bug_Nymph_-_Flickr_-_treegrow_-10-_jpg.rf.deca2cf7c3fa988b6a8087299eebf0cb.txt\n",
            "            35_jpg.rf.764911a7cd22e9d34aafe35479d9a6de.txt\n",
            "            imagen_232_jpg.rf.84050dc4e50eeb9401ae1191d409cb07.txt\n",
            "            imagen_215_jpg.rf.8c3b31045bf63211e87afaf925080ffd.txt\n",
            "            Assassin_Bug_-Oncocephalus_annulipes-_-12885347564-_jpg.rf.a45ca7e5b628b96f048a8ab4ee659781.txt\n",
            "            imagen_147_jpg.rf.092e316b232e673b01e977676546dd90.txt\n",
            "            images-8-_jpg.rf.e5eec7257729b3a460897be7ead4a593.txt\n",
            "            imagen_172_jpg.rf.f8e548ab4735d1cf053b03ca91540827.txt\n",
            "            1_png.rf.ffd566b1603d5593aa950662388fdba7.txt\n",
            "            28_jpg.rf.de992cc4c0a1d2a24cdf8cde24a9a587.txt\n",
            "            imagen_235_jpg.rf.0b8ba43c570aa7dc3a688a09bc3b90d2.txt\n",
            "            Little_Assassin_Bug_-_Flickr_-_pinemikey_jpg.rf.ea0e6ec69fd744b45b553b8d25354895.txt\n",
            "            garrapata7_jpg.rf.214035fcf3ddace1ce3830956eb2a23d.txt\n",
            "            38_png.rf.9f04fbdc2f061e842e8aec2cc4f99d45.txt\n",
            "            imagen_205_jpg.rf.9a43b83a86a774ee1b578a3bfc204f78.txt\n",
            "            f960x540-111240_185315_5050_webp.rf.468e7f24d2ec4129385fd073186c3574.txt\n",
            "            imagen_218_jpg.rf.af11cb8ae9689da45ff446d0358b4987.txt\n",
            "            12_png.rf.d591ae30e1d423a50014750909619863.txt\n",
            "            Leptoglossus_phyllopus_Pat_Porter_jpg.rf.600a0701ffcf6aeaeb7174c7883d0182.txt\n",
            "            imagen_315_jpg.rf.0531d059ef1f354bfb08b7214e6fba8e.txt\n",
            "            imagen_220_jpg.rf.8649a54be4e7c513d741649a13c10e08.txt\n",
            "            images-1-_jpg.rf.a3600c7a28e2ff92154ea0174fb0330f.txt\n",
            "            imagen_235_jpg.rf.31d6349f87e628221ad191642197f5dc.txt\n",
            "            2016-09-10_21-50-04_IMG_7928_-_Flickr_-_andrey_zharkikh_jpg.rf.5afa124011d25d0f401cd0d68bb68c4d.txt\n",
            "            garrapata10_jpg.rf.dcc64c5b5486c11ebac88da156b536d1.txt\n",
            "            escarabajo_arana_subfamilia_ptininae_4667_5_600_jpg.rf.f8579f1334751fcba73abad567c7117c.txt\n",
            "            chinche_asiatica_o_hedionda_53979_4_600_jpg.rf.17d7015567e458f8b2d4070bcfe5efa6.txt\n",
            "            Ant-eating_assassin_bug_nymph_-15031835754-_jpg.rf.6f2a0c18f11e65a349cf22b3bb9ec187.txt\n",
            "            cucarachas-humedades_jpg.rf.ec8abe2a86547ec1841901b8e55ffedb.txt\n",
            "            chinche10_jpg.rf.1b077bc6f7c47a4e9e1084e341f37cc7.txt\n",
            "            pulga2_jpg.rf.e2d559a20a997f5ee7861cc03111e076.txt\n",
            "            Pygolampis_striata_-10-3897-BDJ-9-e63695-_Figure_3_b_jpg.rf.7a2fbcb3dc9680f5aaa8d238bae7044b.txt\n",
            "            imagen_323_jpg.rf.634a4d7c852c7cba2f558bcf41a58f4c.txt\n",
            "            arana_png.rf.ae2b0a761098ae0615e6e62bf5c3f67a.txt\n",
            "            39_png.rf.7a587a512bb8ff8b803cfa58b6a8bd95.txt\n",
            "            chinche27_jpg.rf.76393a2e2ae1f11770cf18b5543d55e0.txt\n",
            "            3_png.rf.87592faa76c791014c0f702912164128.txt\n",
            "            Assassin_Bug_-Reduviidae-_-7079902129-_jpg.rf.498da11eab808141ea1bc3fa64c5523c.txt\n",
            "            640px-Orange_Assassin_Bug_-_Flickr_-_treegrow_jpg.rf.94da719036173236bccf30c0248f2116.txt\n",
            "            nacerdes-melanura-03_jpg.rf.917599ce3feb9ed73f3da425087bbbb3.txt\n",
            "            imagen_254_jpg.rf.f8f55ca396a323ed37fdcca502ef149a.txt\n",
            "            Spotted-Cucumber-Beetle-feeding_jpg.rf.19daaa307fc13618776c1d6d532e6168.txt\n",
            "            imagen_218_jpg.rf.31e100339a4a81d30cfc624c081b1acb.txt\n"
          ]
        }
      ],
      "source": [
        "import zipfile\n",
        "import os\n",
        "\n",
        "# Ruta del archivo ZIP\n",
        "\n",
        "zip_path = \"/content/chinche_segmentado.v3i.yolov11 (1).zip\"  # Ruta al archivo ZIP (ajústalo si está en otra ubicación)\n",
        "extract_path = \"/content/extracted_files\"  # Carpeta donde se extraerán los archivos\n",
        "\n",
        "# Extraer el archivo ZIP\n",
        "with zipfile.ZipFile(zip_path, 'r') as zip_ref:\n",
        "    zip_ref.extractall(extract_path)\n",
        "\n",
        "print(f\"Archivo extraído correctamente en: {extract_path}\")\n",
        "\n",
        "# Mostrar la estructura de las carpetas extraídas\n",
        "for root, dirs, files in os.walk(extract_path):\n",
        "    level = root.replace(extract_path, \"\").count(os.sep)\n",
        "    indent = \" \" * 4 * level\n",
        "    print(f\"{indent}{os.path.basename(root)}/\")\n",
        "    sub_indent = \" \" * 4 * (level + 1)\n",
        "    for file in files:\n",
        "        print(f\"{sub_indent}{file}\")"
      ]
    },
    {
      "cell_type": "code",
      "execution_count": null,
      "metadata": {
        "colab": {
          "base_uri": "https://localhost:8080/"
        },
        "id": "tHtkQT4KO2tg",
        "outputId": "8a90c6b5-3c95-4fc4-9a1c-fb49f67d12f3"
      },
      "outputs": [
        {
          "output_type": "stream",
          "name": "stdout",
          "text": [
            "Ultralytics 8.3.78 🚀 Python-3.11.11 torch-2.5.1+cu124 CUDA:0 (Tesla T4, 15095MiB)\n",
            "Setup complete ✅ (2 CPUs, 12.7 GB RAM, 33.4/112.6 GB disk)\n"
          ]
        }
      ],
      "source": [
        "%pip install ultralytics\n",
        "import ultralytics\n",
        "ultralytics.checks()"
      ]
    },
    {
      "cell_type": "code",
      "execution_count": null,
      "metadata": {
        "colab": {
          "base_uri": "https://localhost:8080/"
        },
        "id": "0KZdYKoZPmg-",
        "outputId": "6709f16e-4eb9-46db-8460-39d39e7c0703"
      },
      "outputs": [
        {
          "name": "stdout",
          "output_type": "stream",
          "text": [
            "Downloading https://github.com/ultralytics/assets/releases/download/v8.3.0/yolo11m.pt to 'yolo11m.pt'...\n",
            "100% 38.8M/38.8M [00:00<00:00, 181MB/s]\n",
            "Ultralytics 8.3.77 🚀 Python-3.11.11 torch-2.5.1+cu124 CPU (Intel Xeon 2.20GHz)\n",
            "YOLO11m summary (fused): 125 layers, 20,091,712 parameters, 0 gradients, 68.0 GFLOPs\n",
            "\n",
            "Found https://ultralytics.com/images/zidane.jpg locally at zidane.jpg\n",
            "image 1/1 /content/zidane.jpg: 384x640 2 persons, 3 ties, 948.5ms\n",
            "Speed: 2.7ms preprocess, 948.5ms inference, 1.8ms postprocess per image at shape (1, 3, 384, 640)\n",
            "Results saved to \u001b[1mruns/detect/predict2\u001b[0m\n",
            "💡 Learn more at https://docs.ultralytics.com/modes/predict\n"
          ]
        }
      ],
      "source": [
        "!yolo predict model=yolo11m.pt source='https://ultralytics.com/images/zidane.jpg'"
      ]
    },
    {
      "cell_type": "code",
      "execution_count": null,
      "metadata": {
        "colab": {
          "base_uri": "https://localhost:8080/"
        },
        "id": "T6-xf6KLP8il",
        "outputId": "cbc3d002-7f70-4744-aaf2-b42c05e3f46e"
      },
      "outputs": [
        {
          "metadata": {
            "tags": null
          },
          "name": "stdout",
          "output_type": "stream",
          "text": [
            "Downloading https://github.com/ultralytics/assets/releases/download/v8.3.0/yolo11m.pt to 'yolo11m.pt'...\n"
          ]
        },
        {
          "metadata": {
            "tags": null
          },
          "name": "stderr",
          "output_type": "stream",
          "text": [
            "100%|██████████| 38.8M/38.8M [00:00<00:00, 501MB/s]\n"
          ]
        },
        {
          "metadata": {
            "tags": null
          },
          "name": "stdout",
          "output_type": "stream",
          "text": [
            "Ultralytics 8.3.78 🚀 Python-3.11.11 torch-2.5.1+cu124 CUDA:0 (Tesla T4, 15095MiB)\n",
            "\u001b[34m\u001b[1mengine/trainer: \u001b[0mtask=detect, mode=train, model=yolo11m.pt, data=/content/extracted_files/chinche_segmentado.v3i.yolov12 (1)/data.yaml, epochs=200, time=None, patience=100, batch=8, imgsz=640, save=True, save_period=-1, cache=False, device=None, workers=8, project=None, name=train, exist_ok=False, pretrained=True, optimizer=auto, verbose=True, seed=0, deterministic=True, single_cls=False, rect=False, cos_lr=False, close_mosaic=10, resume=False, amp=True, fraction=1.0, profile=False, freeze=None, multi_scale=False, overlap_mask=True, mask_ratio=4, dropout=0.0, val=True, split=val, save_json=False, save_hybrid=False, conf=None, iou=0.7, max_det=300, half=False, dnn=False, plots=True, source=None, vid_stride=1, stream_buffer=False, visualize=False, augment=False, agnostic_nms=False, classes=None, retina_masks=False, embed=None, show=False, save_frames=False, save_txt=False, save_conf=False, save_crop=False, show_labels=True, show_conf=True, show_boxes=True, line_width=None, format=torchscript, keras=False, optimize=False, int8=False, dynamic=False, simplify=True, opset=None, workspace=None, nms=False, lr0=0.01, lrf=0.01, momentum=0.937, weight_decay=0.0005, warmup_epochs=3.0, warmup_momentum=0.8, warmup_bias_lr=0.1, box=7.5, cls=0.5, dfl=1.5, pose=12.0, kobj=1.0, nbs=64, hsv_h=0.015, hsv_s=0.7, hsv_v=0.4, degrees=0.0, translate=0.1, scale=0.5, shear=0.0, perspective=0.0, flipud=0.0, fliplr=0.5, bgr=0.0, mosaic=1.0, mixup=0.0, copy_paste=0.0, copy_paste_mode=flip, auto_augment=randaugment, erasing=0.4, crop_fraction=1.0, cfg=None, tracker=botsort.yaml, save_dir=runs/detect/train\n",
            "Downloading https://ultralytics.com/assets/Arial.ttf to '/root/.config/Ultralytics/Arial.ttf'...\n"
          ]
        },
        {
          "metadata": {
            "tags": null
          },
          "name": "stderr",
          "output_type": "stream",
          "text": [
            "100%|██████████| 755k/755k [00:00<00:00, 89.4MB/s]\n"
          ]
        },
        {
          "metadata": {
            "tags": null
          },
          "name": "stdout",
          "output_type": "stream",
          "text": [
            "Overriding model.yaml nc=80 with nc=2\n",
            "\n",
            "                   from  n    params  module                                       arguments                     \n",
            "  0                  -1  1      1856  ultralytics.nn.modules.conv.Conv             [3, 64, 3, 2]                 \n",
            "  1                  -1  1     73984  ultralytics.nn.modules.conv.Conv             [64, 128, 3, 2]               \n",
            "  2                  -1  1    111872  ultralytics.nn.modules.block.C3k2            [128, 256, 1, True, 0.25]     \n",
            "  3                  -1  1    590336  ultralytics.nn.modules.conv.Conv             [256, 256, 3, 2]              \n",
            "  4                  -1  1    444928  ultralytics.nn.modules.block.C3k2            [256, 512, 1, True, 0.25]     \n",
            "  5                  -1  1   2360320  ultralytics.nn.modules.conv.Conv             [512, 512, 3, 2]              \n",
            "  6                  -1  1   1380352  ultralytics.nn.modules.block.C3k2            [512, 512, 1, True]           \n",
            "  7                  -1  1   2360320  ultralytics.nn.modules.conv.Conv             [512, 512, 3, 2]              \n",
            "  8                  -1  1   1380352  ultralytics.nn.modules.block.C3k2            [512, 512, 1, True]           \n",
            "  9                  -1  1    656896  ultralytics.nn.modules.block.SPPF            [512, 512, 5]                 \n",
            " 10                  -1  1    990976  ultralytics.nn.modules.block.C2PSA           [512, 512, 1]                 \n",
            " 11                  -1  1         0  torch.nn.modules.upsampling.Upsample         [None, 2, 'nearest']          \n",
            " 12             [-1, 6]  1         0  ultralytics.nn.modules.conv.Concat           [1]                           \n",
            " 13                  -1  1   1642496  ultralytics.nn.modules.block.C3k2            [1024, 512, 1, True]          \n",
            " 14                  -1  1         0  torch.nn.modules.upsampling.Upsample         [None, 2, 'nearest']          \n",
            " 15             [-1, 4]  1         0  ultralytics.nn.modules.conv.Concat           [1]                           \n",
            " 16                  -1  1    542720  ultralytics.nn.modules.block.C3k2            [1024, 256, 1, True]          \n",
            " 17                  -1  1    590336  ultralytics.nn.modules.conv.Conv             [256, 256, 3, 2]              \n",
            " 18            [-1, 13]  1         0  ultralytics.nn.modules.conv.Concat           [1]                           \n",
            " 19                  -1  1   1511424  ultralytics.nn.modules.block.C3k2            [768, 512, 1, True]           \n",
            " 20                  -1  1   2360320  ultralytics.nn.modules.conv.Conv             [512, 512, 3, 2]              \n",
            " 21            [-1, 10]  1         0  ultralytics.nn.modules.conv.Concat           [1]                           \n",
            " 22                  -1  1   1642496  ultralytics.nn.modules.block.C3k2            [1024, 512, 1, True]          \n",
            " 23        [16, 19, 22]  1   1412566  ultralytics.nn.modules.head.Detect           [2, [256, 512, 512]]          \n",
            "YOLO11m summary: 231 layers, 20,054,550 parameters, 20,054,534 gradients, 68.2 GFLOPs\n",
            "\n",
            "Transferred 643/649 items from pretrained weights\n",
            "\u001b[34m\u001b[1mTensorBoard: \u001b[0mStart with 'tensorboard --logdir runs/detect/train', view at http://localhost:6006/\n",
            "Freezing layer 'model.23.dfl.conv.weight'\n",
            "\u001b[34m\u001b[1mAMP: \u001b[0mrunning Automatic Mixed Precision (AMP) checks...\n",
            "Downloading https://github.com/ultralytics/assets/releases/download/v8.3.0/yolo11n.pt to 'yolo11n.pt'...\n"
          ]
        },
        {
          "metadata": {
            "tags": null
          },
          "name": "stderr",
          "output_type": "stream",
          "text": [
            "100%|██████████| 5.35M/5.35M [00:00<00:00, 318MB/s]\n"
          ]
        },
        {
          "metadata": {
            "tags": null
          },
          "name": "stdout",
          "output_type": "stream",
          "text": [
            "\u001b[34m\u001b[1mAMP: \u001b[0mchecks passed ✅\n"
          ]
        },
        {
          "metadata": {
            "tags": null
          },
          "name": "stderr",
          "output_type": "stream",
          "text": [
            "\u001b[34m\u001b[1mtrain: \u001b[0mScanning /content/extracted_files/train/labels... 648 images, 24 backgrounds, 0 corrupt: 100%|██████████| 648/648 [00:00<00:00, 1415.33it/s]"
          ]
        },
        {
          "metadata": {
            "tags": null
          },
          "name": "stdout",
          "output_type": "stream",
          "text": [
            "\u001b[34m\u001b[1mtrain: \u001b[0mNew cache created: /content/extracted_files/train/labels.cache\n"
          ]
        },
        {
          "metadata": {
            "tags": null
          },
          "name": "stderr",
          "output_type": "stream",
          "text": [
            "\n"
          ]
        },
        {
          "metadata": {
            "tags": null
          },
          "name": "stdout",
          "output_type": "stream",
          "text": [
            "\u001b[34m\u001b[1malbumentations: \u001b[0mBlur(p=0.01, blur_limit=(3, 7)), MedianBlur(p=0.01, blur_limit=(3, 7)), ToGray(p=0.01, num_output_channels=3, method='weighted_average'), CLAHE(p=0.01, clip_limit=(1.0, 4.0), tile_grid_size=(8, 8))\n"
          ]
        },
        {
          "metadata": {
            "tags": null
          },
          "name": "stderr",
          "output_type": "stream",
          "text": [
            "\u001b[34m\u001b[1mval: \u001b[0mScanning /content/extracted_files/valid/labels... 93 images, 1 backgrounds, 0 corrupt: 100%|██████████| 93/93 [00:00<00:00, 422.48it/s]"
          ]
        },
        {
          "metadata": {
            "tags": null
          },
          "name": "stdout",
          "output_type": "stream",
          "text": [
            "\u001b[34m\u001b[1mval: \u001b[0mNew cache created: /content/extracted_files/valid/labels.cache\n"
          ]
        },
        {
          "metadata": {
            "tags": null
          },
          "name": "stderr",
          "output_type": "stream",
          "text": [
            "\n"
          ]
        },
        {
          "metadata": {
            "tags": null
          },
          "name": "stdout",
          "output_type": "stream",
          "text": [
            "Plotting labels to runs/detect/train/labels.jpg... \n",
            "\u001b[34m\u001b[1moptimizer:\u001b[0m 'optimizer=auto' found, ignoring 'lr0=0.01' and 'momentum=0.937' and determining best 'optimizer', 'lr0' and 'momentum' automatically... \n",
            "\u001b[34m\u001b[1moptimizer:\u001b[0m AdamW(lr=0.001667, momentum=0.9) with parameter groups 106 weight(decay=0.0), 113 weight(decay=0.0005), 112 bias(decay=0.0)\n",
            "\u001b[34m\u001b[1mTensorBoard: \u001b[0mmodel graph visualization added ✅\n",
            "Image sizes 640 train, 640 val\n",
            "Using 2 dataloader workers\n",
            "Logging results to \u001b[1mruns/detect/train\u001b[0m\n",
            "Starting training for 200 epochs...\n",
            "\n",
            "      Epoch    GPU_mem   box_loss   cls_loss   dfl_loss  Instances       Size\n"
          ]
        },
        {
          "metadata": {
            "tags": null
          },
          "name": "stderr",
          "output_type": "stream",
          "text": [
            "      1/200      4.35G       1.49       2.59      1.819         48        640: 100%|██████████| 81/81 [00:26<00:00,  3.03it/s]\n",
            "                 Class     Images  Instances      Box(P          R      mAP50  mAP50-95): 100%|██████████| 6/6 [00:02<00:00,  2.32it/s]"
          ]
        },
        {
          "metadata": {
            "tags": null
          },
          "name": "stdout",
          "output_type": "stream",
          "text": [
            "                   all         93        107     0.0154      0.164     0.0101    0.00323\n"
          ]
        },
        {
          "metadata": {
            "tags": null
          },
          "name": "stderr",
          "output_type": "stream",
          "text": [
            "\n"
          ]
        },
        {
          "metadata": {
            "tags": null
          },
          "name": "stdout",
          "output_type": "stream",
          "text": [
            "\n",
            "      Epoch    GPU_mem   box_loss   cls_loss   dfl_loss  Instances       Size\n"
          ]
        },
        {
          "metadata": {
            "tags": null
          },
          "name": "stderr",
          "output_type": "stream",
          "text": [
            "      2/200      4.31G      1.832      2.448      2.063         20        640: 100%|██████████| 81/81 [00:24<00:00,  3.26it/s]\n",
            "                 Class     Images  Instances      Box(P          R      mAP50  mAP50-95): 100%|██████████| 6/6 [00:01<00:00,  4.36it/s]"
          ]
        },
        {
          "metadata": {
            "tags": null
          },
          "name": "stdout",
          "output_type": "stream",
          "text": [
            "                   all         93        107     0.0553      0.292     0.0484     0.0123\n"
          ]
        },
        {
          "metadata": {
            "tags": null
          },
          "name": "stderr",
          "output_type": "stream",
          "text": [
            "\n"
          ]
        },
        {
          "metadata": {
            "tags": null
          },
          "name": "stdout",
          "output_type": "stream",
          "text": [
            "\n",
            "      Epoch    GPU_mem   box_loss   cls_loss   dfl_loss  Instances       Size\n"
          ]
        },
        {
          "metadata": {
            "tags": null
          },
          "name": "stderr",
          "output_type": "stream",
          "text": [
            "      3/200      4.27G       1.87      2.473      2.073         24        640: 100%|██████████| 81/81 [00:24<00:00,  3.27it/s]\n",
            "                 Class     Images  Instances      Box(P          R      mAP50  mAP50-95): 100%|██████████| 6/6 [00:01<00:00,  4.28it/s]"
          ]
        },
        {
          "metadata": {
            "tags": null
          },
          "name": "stdout",
          "output_type": "stream",
          "text": [
            "                   all         93        107      0.551     0.0902     0.0356    0.00893\n"
          ]
        },
        {
          "metadata": {
            "tags": null
          },
          "name": "stderr",
          "output_type": "stream",
          "text": [
            "\n"
          ]
        },
        {
          "metadata": {
            "tags": null
          },
          "name": "stdout",
          "output_type": "stream",
          "text": [
            "\n",
            "      Epoch    GPU_mem   box_loss   cls_loss   dfl_loss  Instances       Size\n"
          ]
        },
        {
          "metadata": {
            "tags": null
          },
          "name": "stderr",
          "output_type": "stream",
          "text": [
            "      4/200      4.32G      1.851      2.464      2.094         24        640: 100%|██████████| 81/81 [00:24<00:00,  3.26it/s]\n",
            "                 Class     Images  Instances      Box(P          R      mAP50  mAP50-95): 100%|██████████| 6/6 [00:01<00:00,  4.15it/s]"
          ]
        },
        {
          "metadata": {
            "tags": null
          },
          "name": "stdout",
          "output_type": "stream",
          "text": [
            "                   all         93        107     0.0178     0.0355    0.00471     0.0013\n"
          ]
        },
        {
          "metadata": {
            "tags": null
          },
          "name": "stderr",
          "output_type": "stream",
          "text": [
            "\n"
          ]
        },
        {
          "metadata": {
            "tags": null
          },
          "name": "stdout",
          "output_type": "stream",
          "text": [
            "\n",
            "      Epoch    GPU_mem   box_loss   cls_loss   dfl_loss  Instances       Size\n"
          ]
        },
        {
          "metadata": {
            "tags": null
          },
          "name": "stderr",
          "output_type": "stream",
          "text": [
            "      5/200      4.31G      1.794      2.404      2.065         25        640: 100%|██████████| 81/81 [00:24<00:00,  3.27it/s]\n",
            "                 Class     Images  Instances      Box(P          R      mAP50  mAP50-95): 100%|██████████| 6/6 [00:01<00:00,  3.45it/s]"
          ]
        },
        {
          "metadata": {
            "tags": null
          },
          "name": "stdout",
          "output_type": "stream",
          "text": [
            "                   all         93        107     0.0222      0.281     0.0159    0.00552\n"
          ]
        },
        {
          "metadata": {
            "tags": null
          },
          "name": "stderr",
          "output_type": "stream",
          "text": [
            "\n"
          ]
        },
        {
          "metadata": {
            "tags": null
          },
          "name": "stdout",
          "output_type": "stream",
          "text": [
            "\n",
            "      Epoch    GPU_mem   box_loss   cls_loss   dfl_loss  Instances       Size\n"
          ]
        },
        {
          "metadata": {
            "tags": null
          },
          "name": "stderr",
          "output_type": "stream",
          "text": [
            "      6/200      4.27G      1.656      2.248      1.938         24        640: 100%|██████████| 81/81 [00:24<00:00,  3.27it/s]\n",
            "                 Class     Images  Instances      Box(P          R      mAP50  mAP50-95): 100%|██████████| 6/6 [00:01<00:00,  4.21it/s]"
          ]
        },
        {
          "metadata": {
            "tags": null
          },
          "name": "stdout",
          "output_type": "stream",
          "text": [
            "                   all         93        107     0.0384      0.174       0.02    0.00585\n"
          ]
        },
        {
          "metadata": {
            "tags": null
          },
          "name": "stderr",
          "output_type": "stream",
          "text": [
            "\n"
          ]
        },
        {
          "metadata": {
            "tags": null
          },
          "name": "stdout",
          "output_type": "stream",
          "text": [
            "\n",
            "      Epoch    GPU_mem   box_loss   cls_loss   dfl_loss  Instances       Size\n"
          ]
        },
        {
          "metadata": {
            "tags": null
          },
          "name": "stderr",
          "output_type": "stream",
          "text": [
            "      7/200      4.32G      1.653      2.246      1.921         29        640: 100%|██████████| 81/81 [00:24<00:00,  3.27it/s]\n",
            "                 Class     Images  Instances      Box(P          R      mAP50  mAP50-95): 100%|██████████| 6/6 [00:01<00:00,  4.24it/s]"
          ]
        },
        {
          "metadata": {
            "tags": null
          },
          "name": "stdout",
          "output_type": "stream",
          "text": [
            "                   all         93        107     0.0517      0.165     0.0288     0.0085\n"
          ]
        },
        {
          "metadata": {
            "tags": null
          },
          "name": "stderr",
          "output_type": "stream",
          "text": [
            "\n"
          ]
        },
        {
          "metadata": {
            "tags": null
          },
          "name": "stdout",
          "output_type": "stream",
          "text": [
            "\n",
            "      Epoch    GPU_mem   box_loss   cls_loss   dfl_loss  Instances       Size\n"
          ]
        },
        {
          "metadata": {
            "tags": null
          },
          "name": "stderr",
          "output_type": "stream",
          "text": [
            "      8/200      4.31G      1.677      2.274       1.93         25        640: 100%|██████████| 81/81 [00:24<00:00,  3.26it/s]\n",
            "                 Class     Images  Instances      Box(P          R      mAP50  mAP50-95): 100%|██████████| 6/6 [00:01<00:00,  4.32it/s]"
          ]
        },
        {
          "metadata": {
            "tags": null
          },
          "name": "stdout",
          "output_type": "stream",
          "text": [
            "                   all         93        107      0.245      0.548      0.261     0.0877\n"
          ]
        },
        {
          "metadata": {
            "tags": null
          },
          "name": "stderr",
          "output_type": "stream",
          "text": [
            "\n"
          ]
        },
        {
          "metadata": {
            "tags": null
          },
          "name": "stdout",
          "output_type": "stream",
          "text": [
            "\n",
            "      Epoch    GPU_mem   box_loss   cls_loss   dfl_loss  Instances       Size\n"
          ]
        },
        {
          "metadata": {
            "tags": null
          },
          "name": "stderr",
          "output_type": "stream",
          "text": [
            "      9/200      4.32G        1.6      2.187       1.89         22        640: 100%|██████████| 81/81 [00:24<00:00,  3.26it/s]\n",
            "                 Class     Images  Instances      Box(P          R      mAP50  mAP50-95): 100%|██████████| 6/6 [00:01<00:00,  4.35it/s]"
          ]
        },
        {
          "metadata": {
            "tags": null
          },
          "name": "stdout",
          "output_type": "stream",
          "text": [
            "                   all         93        107      0.245      0.415      0.233      0.096\n"
          ]
        },
        {
          "metadata": {
            "tags": null
          },
          "name": "stderr",
          "output_type": "stream",
          "text": [
            "\n"
          ]
        },
        {
          "metadata": {
            "tags": null
          },
          "name": "stdout",
          "output_type": "stream",
          "text": [
            "\n",
            "      Epoch    GPU_mem   box_loss   cls_loss   dfl_loss  Instances       Size\n"
          ]
        },
        {
          "metadata": {
            "tags": null
          },
          "name": "stderr",
          "output_type": "stream",
          "text": [
            "     10/200      4.32G      1.582      2.117      1.861         22        640: 100%|██████████| 81/81 [00:24<00:00,  3.26it/s]\n",
            "                 Class     Images  Instances      Box(P          R      mAP50  mAP50-95): 100%|██████████| 6/6 [00:01<00:00,  4.24it/s]"
          ]
        },
        {
          "metadata": {
            "tags": null
          },
          "name": "stdout",
          "output_type": "stream",
          "text": [
            "                   all         93        107      0.281      0.461      0.294       0.13\n"
          ]
        },
        {
          "metadata": {
            "tags": null
          },
          "name": "stderr",
          "output_type": "stream",
          "text": [
            "\n"
          ]
        },
        {
          "metadata": {
            "tags": null
          },
          "name": "stdout",
          "output_type": "stream",
          "text": [
            "\n",
            "      Epoch    GPU_mem   box_loss   cls_loss   dfl_loss  Instances       Size\n"
          ]
        },
        {
          "metadata": {
            "tags": null
          },
          "name": "stderr",
          "output_type": "stream",
          "text": [
            "     11/200      4.32G      1.591      2.111      1.857         31        640: 100%|██████████| 81/81 [00:24<00:00,  3.25it/s]\n",
            "                 Class     Images  Instances      Box(P          R      mAP50  mAP50-95): 100%|██████████| 6/6 [00:01<00:00,  3.55it/s]"
          ]
        },
        {
          "metadata": {
            "tags": null
          },
          "name": "stdout",
          "output_type": "stream",
          "text": [
            "                   all         93        107      0.207      0.433      0.182       0.08\n"
          ]
        },
        {
          "metadata": {
            "tags": null
          },
          "name": "stderr",
          "output_type": "stream",
          "text": [
            "\n"
          ]
        },
        {
          "metadata": {
            "tags": null
          },
          "name": "stdout",
          "output_type": "stream",
          "text": [
            "\n",
            "      Epoch    GPU_mem   box_loss   cls_loss   dfl_loss  Instances       Size\n"
          ]
        },
        {
          "metadata": {
            "tags": null
          },
          "name": "stderr",
          "output_type": "stream",
          "text": [
            "     12/200      4.31G      1.475      2.019      1.795         12        640: 100%|██████████| 81/81 [00:24<00:00,  3.27it/s]\n",
            "                 Class     Images  Instances      Box(P          R      mAP50  mAP50-95): 100%|██████████| 6/6 [00:01<00:00,  4.38it/s]"
          ]
        },
        {
          "metadata": {
            "tags": null
          },
          "name": "stdout",
          "output_type": "stream",
          "text": [
            "                   all         93        107       0.37      0.616      0.376      0.193\n"
          ]
        },
        {
          "metadata": {
            "tags": null
          },
          "name": "stderr",
          "output_type": "stream",
          "text": [
            "\n"
          ]
        },
        {
          "metadata": {
            "tags": null
          },
          "name": "stdout",
          "output_type": "stream",
          "text": [
            "\n",
            "      Epoch    GPU_mem   box_loss   cls_loss   dfl_loss  Instances       Size\n"
          ]
        },
        {
          "metadata": {
            "tags": null
          },
          "name": "stderr",
          "output_type": "stream",
          "text": [
            "     13/200      4.32G      1.499      2.048      1.785         24        640: 100%|██████████| 81/81 [00:24<00:00,  3.27it/s]\n",
            "                 Class     Images  Instances      Box(P          R      mAP50  mAP50-95): 100%|██████████| 6/6 [00:01<00:00,  4.32it/s]"
          ]
        },
        {
          "metadata": {
            "tags": null
          },
          "name": "stdout",
          "output_type": "stream",
          "text": [
            "                   all         93        107      0.281      0.526       0.36      0.168\n"
          ]
        },
        {
          "metadata": {
            "tags": null
          },
          "name": "stderr",
          "output_type": "stream",
          "text": [
            "\n"
          ]
        },
        {
          "metadata": {
            "tags": null
          },
          "name": "stdout",
          "output_type": "stream",
          "text": [
            "\n",
            "      Epoch    GPU_mem   box_loss   cls_loss   dfl_loss  Instances       Size\n"
          ]
        },
        {
          "metadata": {
            "tags": null
          },
          "name": "stderr",
          "output_type": "stream",
          "text": [
            "     14/200      4.26G        1.4      1.927      1.718         32        640: 100%|██████████| 81/81 [00:24<00:00,  3.24it/s]\n",
            "                 Class     Images  Instances      Box(P          R      mAP50  mAP50-95): 100%|██████████| 6/6 [00:01<00:00,  4.33it/s]"
          ]
        },
        {
          "metadata": {
            "tags": null
          },
          "name": "stdout",
          "output_type": "stream",
          "text": [
            "                   all         93        107      0.331      0.581      0.336      0.154\n"
          ]
        },
        {
          "metadata": {
            "tags": null
          },
          "name": "stderr",
          "output_type": "stream",
          "text": [
            "\n"
          ]
        },
        {
          "metadata": {
            "tags": null
          },
          "name": "stdout",
          "output_type": "stream",
          "text": [
            "\n",
            "      Epoch    GPU_mem   box_loss   cls_loss   dfl_loss  Instances       Size\n"
          ]
        },
        {
          "metadata": {
            "tags": null
          },
          "name": "stderr",
          "output_type": "stream",
          "text": [
            "     15/200      4.32G       1.47       1.95      1.746         16        640: 100%|██████████| 81/81 [00:24<00:00,  3.26it/s]\n",
            "                 Class     Images  Instances      Box(P          R      mAP50  mAP50-95): 100%|██████████| 6/6 [00:01<00:00,  4.30it/s]"
          ]
        },
        {
          "metadata": {
            "tags": null
          },
          "name": "stdout",
          "output_type": "stream",
          "text": [
            "                   all         93        107      0.415      0.718      0.433      0.188\n"
          ]
        },
        {
          "metadata": {
            "tags": null
          },
          "name": "stderr",
          "output_type": "stream",
          "text": [
            "\n"
          ]
        },
        {
          "metadata": {
            "tags": null
          },
          "name": "stdout",
          "output_type": "stream",
          "text": [
            "\n",
            "      Epoch    GPU_mem   box_loss   cls_loss   dfl_loss  Instances       Size\n"
          ]
        },
        {
          "metadata": {
            "tags": null
          },
          "name": "stderr",
          "output_type": "stream",
          "text": [
            "     16/200      4.32G      1.374       1.89      1.693         32        640: 100%|██████████| 81/81 [00:24<00:00,  3.27it/s]\n",
            "                 Class     Images  Instances      Box(P          R      mAP50  mAP50-95): 100%|██████████| 6/6 [00:01<00:00,  4.34it/s]"
          ]
        },
        {
          "metadata": {
            "tags": null
          },
          "name": "stdout",
          "output_type": "stream",
          "text": [
            "                   all         93        107      0.291       0.57      0.322      0.166\n"
          ]
        },
        {
          "metadata": {
            "tags": null
          },
          "name": "stderr",
          "output_type": "stream",
          "text": [
            "\n"
          ]
        },
        {
          "metadata": {
            "tags": null
          },
          "name": "stdout",
          "output_type": "stream",
          "text": [
            "\n",
            "      Epoch    GPU_mem   box_loss   cls_loss   dfl_loss  Instances       Size\n"
          ]
        },
        {
          "metadata": {
            "tags": null
          },
          "name": "stderr",
          "output_type": "stream",
          "text": [
            "     17/200      4.32G      1.419      1.892      1.729         22        640: 100%|██████████| 81/81 [00:24<00:00,  3.28it/s]\n",
            "                 Class     Images  Instances      Box(P          R      mAP50  mAP50-95): 100%|██████████| 6/6 [00:01<00:00,  3.45it/s]"
          ]
        },
        {
          "metadata": {
            "tags": null
          },
          "name": "stdout",
          "output_type": "stream",
          "text": [
            "                   all         93        107      0.326      0.678      0.381       0.17\n"
          ]
        },
        {
          "metadata": {
            "tags": null
          },
          "name": "stderr",
          "output_type": "stream",
          "text": [
            "\n"
          ]
        },
        {
          "metadata": {
            "tags": null
          },
          "name": "stdout",
          "output_type": "stream",
          "text": [
            "\n",
            "      Epoch    GPU_mem   box_loss   cls_loss   dfl_loss  Instances       Size\n"
          ]
        },
        {
          "metadata": {
            "tags": null
          },
          "name": "stderr",
          "output_type": "stream",
          "text": [
            "     18/200      4.32G      1.414      1.898       1.73         25        640: 100%|██████████| 81/81 [00:24<00:00,  3.25it/s]\n",
            "                 Class     Images  Instances      Box(P          R      mAP50  mAP50-95): 100%|██████████| 6/6 [00:01<00:00,  4.28it/s]"
          ]
        },
        {
          "metadata": {
            "tags": null
          },
          "name": "stdout",
          "output_type": "stream",
          "text": [
            "                   all         93        107      0.339       0.78      0.437      0.204\n"
          ]
        },
        {
          "metadata": {
            "tags": null
          },
          "name": "stderr",
          "output_type": "stream",
          "text": [
            "\n"
          ]
        },
        {
          "metadata": {
            "tags": null
          },
          "name": "stdout",
          "output_type": "stream",
          "text": [
            "\n",
            "      Epoch    GPU_mem   box_loss   cls_loss   dfl_loss  Instances       Size\n"
          ]
        },
        {
          "metadata": {
            "tags": null
          },
          "name": "stderr",
          "output_type": "stream",
          "text": [
            "     19/200      4.32G       1.37      1.825      1.701         23        640: 100%|██████████| 81/81 [00:24<00:00,  3.25it/s]\n",
            "                 Class     Images  Instances      Box(P          R      mAP50  mAP50-95): 100%|██████████| 6/6 [00:01<00:00,  4.31it/s]"
          ]
        },
        {
          "metadata": {
            "tags": null
          },
          "name": "stdout",
          "output_type": "stream",
          "text": [
            "                   all         93        107      0.447      0.713      0.464      0.257\n"
          ]
        },
        {
          "metadata": {
            "tags": null
          },
          "name": "stderr",
          "output_type": "stream",
          "text": [
            "\n"
          ]
        },
        {
          "metadata": {
            "tags": null
          },
          "name": "stdout",
          "output_type": "stream",
          "text": [
            "\n",
            "      Epoch    GPU_mem   box_loss   cls_loss   dfl_loss  Instances       Size\n"
          ]
        },
        {
          "metadata": {
            "tags": null
          },
          "name": "stderr",
          "output_type": "stream",
          "text": [
            "     20/200      4.31G      1.351      1.865      1.671         22        640: 100%|██████████| 81/81 [00:24<00:00,  3.26it/s]\n",
            "                 Class     Images  Instances      Box(P          R      mAP50  mAP50-95): 100%|██████████| 6/6 [00:01<00:00,  4.35it/s]"
          ]
        },
        {
          "metadata": {
            "tags": null
          },
          "name": "stdout",
          "output_type": "stream",
          "text": [
            "                   all         93        107      0.358      0.576       0.43      0.234\n"
          ]
        },
        {
          "metadata": {
            "tags": null
          },
          "name": "stderr",
          "output_type": "stream",
          "text": [
            "\n"
          ]
        },
        {
          "metadata": {
            "tags": null
          },
          "name": "stdout",
          "output_type": "stream",
          "text": [
            "\n",
            "      Epoch    GPU_mem   box_loss   cls_loss   dfl_loss  Instances       Size\n"
          ]
        },
        {
          "metadata": {
            "tags": null
          },
          "name": "stderr",
          "output_type": "stream",
          "text": [
            "     21/200      4.32G      1.353      1.823       1.68         28        640: 100%|██████████| 81/81 [00:24<00:00,  3.26it/s]\n",
            "                 Class     Images  Instances      Box(P          R      mAP50  mAP50-95): 100%|██████████| 6/6 [00:01<00:00,  4.34it/s]"
          ]
        },
        {
          "metadata": {
            "tags": null
          },
          "name": "stdout",
          "output_type": "stream",
          "text": [
            "                   all         93        107      0.353      0.602      0.371      0.188\n"
          ]
        },
        {
          "metadata": {
            "tags": null
          },
          "name": "stderr",
          "output_type": "stream",
          "text": [
            "\n"
          ]
        },
        {
          "metadata": {
            "tags": null
          },
          "name": "stdout",
          "output_type": "stream",
          "text": [
            "\n",
            "      Epoch    GPU_mem   box_loss   cls_loss   dfl_loss  Instances       Size\n"
          ]
        },
        {
          "metadata": {
            "tags": null
          },
          "name": "stderr",
          "output_type": "stream",
          "text": [
            "     22/200      4.27G       1.29      1.747      1.616         18        640: 100%|██████████| 81/81 [00:24<00:00,  3.28it/s]\n",
            "                 Class     Images  Instances      Box(P          R      mAP50  mAP50-95): 100%|██████████| 6/6 [00:01<00:00,  4.37it/s]"
          ]
        },
        {
          "metadata": {
            "tags": null
          },
          "name": "stdout",
          "output_type": "stream",
          "text": [
            "                   all         93        107      0.423       0.73      0.438      0.249\n"
          ]
        },
        {
          "metadata": {
            "tags": null
          },
          "name": "stderr",
          "output_type": "stream",
          "text": [
            "\n"
          ]
        },
        {
          "metadata": {
            "tags": null
          },
          "name": "stdout",
          "output_type": "stream",
          "text": [
            "\n",
            "      Epoch    GPU_mem   box_loss   cls_loss   dfl_loss  Instances       Size\n"
          ]
        },
        {
          "metadata": {
            "tags": null
          },
          "name": "stderr",
          "output_type": "stream",
          "text": [
            "     23/200      4.31G      1.348      1.816       1.68         30        640: 100%|██████████| 81/81 [00:24<00:00,  3.27it/s]\n",
            "                 Class     Images  Instances      Box(P          R      mAP50  mAP50-95): 100%|██████████| 6/6 [00:01<00:00,  4.00it/s]"
          ]
        },
        {
          "metadata": {
            "tags": null
          },
          "name": "stdout",
          "output_type": "stream",
          "text": [
            "                   all         93        107      0.409       0.76      0.455      0.238\n"
          ]
        },
        {
          "metadata": {
            "tags": null
          },
          "name": "stderr",
          "output_type": "stream",
          "text": [
            "\n"
          ]
        },
        {
          "metadata": {
            "tags": null
          },
          "name": "stdout",
          "output_type": "stream",
          "text": [
            "\n",
            "      Epoch    GPU_mem   box_loss   cls_loss   dfl_loss  Instances       Size\n"
          ]
        },
        {
          "metadata": {
            "tags": null
          },
          "name": "stderr",
          "output_type": "stream",
          "text": [
            "     24/200      4.32G      1.282      1.763      1.613         26        640: 100%|██████████| 81/81 [00:24<00:00,  3.29it/s]\n",
            "                 Class     Images  Instances      Box(P          R      mAP50  mAP50-95): 100%|██████████| 6/6 [00:01<00:00,  3.84it/s]"
          ]
        },
        {
          "metadata": {
            "tags": null
          },
          "name": "stdout",
          "output_type": "stream",
          "text": [
            "                   all         93        107      0.421      0.594       0.45      0.249\n"
          ]
        },
        {
          "metadata": {
            "tags": null
          },
          "name": "stderr",
          "output_type": "stream",
          "text": [
            "\n"
          ]
        },
        {
          "metadata": {
            "tags": null
          },
          "name": "stdout",
          "output_type": "stream",
          "text": [
            "\n",
            "      Epoch    GPU_mem   box_loss   cls_loss   dfl_loss  Instances       Size\n"
          ]
        },
        {
          "metadata": {
            "tags": null
          },
          "name": "stderr",
          "output_type": "stream",
          "text": [
            "     25/200      4.31G      1.266      1.743      1.607         23        640: 100%|██████████| 81/81 [00:24<00:00,  3.27it/s]\n",
            "                 Class     Images  Instances      Box(P          R      mAP50  mAP50-95): 100%|██████████| 6/6 [00:01<00:00,  4.33it/s]"
          ]
        },
        {
          "metadata": {
            "tags": null
          },
          "name": "stdout",
          "output_type": "stream",
          "text": [
            "                   all         93        107      0.378       0.73      0.388      0.193\n"
          ]
        },
        {
          "metadata": {
            "tags": null
          },
          "name": "stderr",
          "output_type": "stream",
          "text": [
            "\n"
          ]
        },
        {
          "metadata": {
            "tags": null
          },
          "name": "stdout",
          "output_type": "stream",
          "text": [
            "\n",
            "      Epoch    GPU_mem   box_loss   cls_loss   dfl_loss  Instances       Size\n"
          ]
        },
        {
          "metadata": {
            "tags": null
          },
          "name": "stderr",
          "output_type": "stream",
          "text": [
            "     26/200      4.32G      1.228      1.703      1.576         23        640: 100%|██████████| 81/81 [00:24<00:00,  3.29it/s]\n",
            "                 Class     Images  Instances      Box(P          R      mAP50  mAP50-95): 100%|██████████| 6/6 [00:01<00:00,  4.38it/s]"
          ]
        },
        {
          "metadata": {
            "tags": null
          },
          "name": "stdout",
          "output_type": "stream",
          "text": [
            "                   all         93        107      0.359      0.684       0.42      0.234\n"
          ]
        },
        {
          "metadata": {
            "tags": null
          },
          "name": "stderr",
          "output_type": "stream",
          "text": [
            "\n"
          ]
        },
        {
          "metadata": {
            "tags": null
          },
          "name": "stdout",
          "output_type": "stream",
          "text": [
            "\n",
            "      Epoch    GPU_mem   box_loss   cls_loss   dfl_loss  Instances       Size\n"
          ]
        },
        {
          "metadata": {
            "tags": null
          },
          "name": "stderr",
          "output_type": "stream",
          "text": [
            "     27/200      4.32G      1.291      1.734      1.638         23        640: 100%|██████████| 81/81 [00:24<00:00,  3.30it/s]\n",
            "                 Class     Images  Instances      Box(P          R      mAP50  mAP50-95): 100%|██████████| 6/6 [00:01<00:00,  4.30it/s]"
          ]
        },
        {
          "metadata": {
            "tags": null
          },
          "name": "stdout",
          "output_type": "stream",
          "text": [
            "                   all         93        107      0.427       0.76      0.472      0.258\n"
          ]
        },
        {
          "metadata": {
            "tags": null
          },
          "name": "stderr",
          "output_type": "stream",
          "text": [
            "\n"
          ]
        },
        {
          "metadata": {
            "tags": null
          },
          "name": "stdout",
          "output_type": "stream",
          "text": [
            "\n",
            "      Epoch    GPU_mem   box_loss   cls_loss   dfl_loss  Instances       Size\n"
          ]
        },
        {
          "metadata": {
            "tags": null
          },
          "name": "stderr",
          "output_type": "stream",
          "text": [
            "     28/200      4.32G      1.231      1.706      1.585         21        640: 100%|██████████| 81/81 [00:24<00:00,  3.28it/s]\n",
            "                 Class     Images  Instances      Box(P          R      mAP50  mAP50-95): 100%|██████████| 6/6 [00:01<00:00,  4.36it/s]"
          ]
        },
        {
          "metadata": {
            "tags": null
          },
          "name": "stdout",
          "output_type": "stream",
          "text": [
            "                   all         93        107      0.405      0.717      0.422      0.254\n"
          ]
        },
        {
          "metadata": {
            "tags": null
          },
          "name": "stderr",
          "output_type": "stream",
          "text": [
            "\n"
          ]
        },
        {
          "metadata": {
            "tags": null
          },
          "name": "stdout",
          "output_type": "stream",
          "text": [
            "\n",
            "      Epoch    GPU_mem   box_loss   cls_loss   dfl_loss  Instances       Size\n"
          ]
        },
        {
          "metadata": {
            "tags": null
          },
          "name": "stderr",
          "output_type": "stream",
          "text": [
            "     29/200      4.32G      1.233      1.725      1.596         25        640: 100%|██████████| 81/81 [00:24<00:00,  3.25it/s]\n",
            "                 Class     Images  Instances      Box(P          R      mAP50  mAP50-95): 100%|██████████| 6/6 [00:01<00:00,  4.37it/s]"
          ]
        },
        {
          "metadata": {
            "tags": null
          },
          "name": "stdout",
          "output_type": "stream",
          "text": [
            "                   all         93        107      0.372      0.709       0.46      0.269\n"
          ]
        },
        {
          "metadata": {
            "tags": null
          },
          "name": "stderr",
          "output_type": "stream",
          "text": [
            "\n"
          ]
        },
        {
          "metadata": {
            "tags": null
          },
          "name": "stdout",
          "output_type": "stream",
          "text": [
            "\n",
            "      Epoch    GPU_mem   box_loss   cls_loss   dfl_loss  Instances       Size\n"
          ]
        },
        {
          "metadata": {
            "tags": null
          },
          "name": "stderr",
          "output_type": "stream",
          "text": [
            "     30/200      4.27G      1.199       1.68      1.564         23        640: 100%|██████████| 81/81 [00:24<00:00,  3.27it/s]\n",
            "                 Class     Images  Instances      Box(P          R      mAP50  mAP50-95): 100%|██████████| 6/6 [00:01<00:00,  3.86it/s]"
          ]
        },
        {
          "metadata": {
            "tags": null
          },
          "name": "stdout",
          "output_type": "stream",
          "text": [
            "                   all         93        107      0.368      0.738      0.465      0.277\n"
          ]
        },
        {
          "metadata": {
            "tags": null
          },
          "name": "stderr",
          "output_type": "stream",
          "text": [
            "\n"
          ]
        },
        {
          "metadata": {
            "tags": null
          },
          "name": "stdout",
          "output_type": "stream",
          "text": [
            "\n",
            "      Epoch    GPU_mem   box_loss   cls_loss   dfl_loss  Instances       Size\n"
          ]
        },
        {
          "metadata": {
            "tags": null
          },
          "name": "stderr",
          "output_type": "stream",
          "text": [
            "     31/200      4.32G      1.223      1.694      1.594         20        640: 100%|██████████| 81/81 [00:24<00:00,  3.27it/s]\n",
            "                 Class     Images  Instances      Box(P          R      mAP50  mAP50-95): 100%|██████████| 6/6 [00:01<00:00,  4.39it/s]"
          ]
        },
        {
          "metadata": {
            "tags": null
          },
          "name": "stdout",
          "output_type": "stream",
          "text": [
            "                   all         93        107      0.455      0.755      0.486      0.293\n"
          ]
        },
        {
          "metadata": {
            "tags": null
          },
          "name": "stderr",
          "output_type": "stream",
          "text": [
            "\n"
          ]
        },
        {
          "metadata": {
            "tags": null
          },
          "name": "stdout",
          "output_type": "stream",
          "text": [
            "\n",
            "      Epoch    GPU_mem   box_loss   cls_loss   dfl_loss  Instances       Size\n"
          ]
        },
        {
          "metadata": {
            "tags": null
          },
          "name": "stderr",
          "output_type": "stream",
          "text": [
            "     32/200      4.32G       1.21      1.662      1.585         20        640: 100%|██████████| 81/81 [00:24<00:00,  3.26it/s]\n",
            "                 Class     Images  Instances      Box(P          R      mAP50  mAP50-95): 100%|██████████| 6/6 [00:01<00:00,  4.33it/s]"
          ]
        },
        {
          "metadata": {
            "tags": null
          },
          "name": "stdout",
          "output_type": "stream",
          "text": [
            "                   all         93        107      0.423      0.755      0.473      0.269\n"
          ]
        },
        {
          "metadata": {
            "tags": null
          },
          "name": "stderr",
          "output_type": "stream",
          "text": [
            "\n"
          ]
        },
        {
          "metadata": {
            "tags": null
          },
          "name": "stdout",
          "output_type": "stream",
          "text": [
            "\n",
            "      Epoch    GPU_mem   box_loss   cls_loss   dfl_loss  Instances       Size\n"
          ]
        },
        {
          "metadata": {
            "tags": null
          },
          "name": "stderr",
          "output_type": "stream",
          "text": [
            "     33/200      4.31G      1.211      1.691      1.585         25        640: 100%|██████████| 81/81 [00:24<00:00,  3.27it/s]\n",
            "                 Class     Images  Instances      Box(P          R      mAP50  mAP50-95): 100%|██████████| 6/6 [00:01<00:00,  4.38it/s]"
          ]
        },
        {
          "metadata": {
            "tags": null
          },
          "name": "stdout",
          "output_type": "stream",
          "text": [
            "                   all         93        107      0.437      0.738      0.478      0.262\n"
          ]
        },
        {
          "metadata": {
            "tags": null
          },
          "name": "stderr",
          "output_type": "stream",
          "text": [
            "\n"
          ]
        },
        {
          "metadata": {
            "tags": null
          },
          "name": "stdout",
          "output_type": "stream",
          "text": [
            "\n",
            "      Epoch    GPU_mem   box_loss   cls_loss   dfl_loss  Instances       Size\n"
          ]
        },
        {
          "metadata": {
            "tags": null
          },
          "name": "stderr",
          "output_type": "stream",
          "text": [
            "     34/200      4.32G      1.252      1.693      1.589         14        640: 100%|██████████| 81/81 [00:24<00:00,  3.29it/s]\n",
            "                 Class     Images  Instances      Box(P          R      mAP50  mAP50-95): 100%|██████████| 6/6 [00:01<00:00,  4.41it/s]"
          ]
        },
        {
          "metadata": {
            "tags": null
          },
          "name": "stdout",
          "output_type": "stream",
          "text": [
            "                   all         93        107      0.405      0.828      0.463      0.275\n"
          ]
        },
        {
          "metadata": {
            "tags": null
          },
          "name": "stderr",
          "output_type": "stream",
          "text": [
            "\n"
          ]
        },
        {
          "metadata": {
            "tags": null
          },
          "name": "stdout",
          "output_type": "stream",
          "text": [
            "\n",
            "      Epoch    GPU_mem   box_loss   cls_loss   dfl_loss  Instances       Size\n"
          ]
        },
        {
          "metadata": {
            "tags": null
          },
          "name": "stderr",
          "output_type": "stream",
          "text": [
            "     35/200      4.31G      1.151      1.619      1.516         30        640: 100%|██████████| 81/81 [00:24<00:00,  3.26it/s]\n",
            "                 Class     Images  Instances      Box(P          R      mAP50  mAP50-95): 100%|██████████| 6/6 [00:01<00:00,  4.29it/s]"
          ]
        },
        {
          "metadata": {
            "tags": null
          },
          "name": "stdout",
          "output_type": "stream",
          "text": [
            "                   all         93        107      0.411      0.722      0.428      0.267\n"
          ]
        },
        {
          "metadata": {
            "tags": null
          },
          "name": "stderr",
          "output_type": "stream",
          "text": [
            "\n"
          ]
        },
        {
          "metadata": {
            "tags": null
          },
          "name": "stdout",
          "output_type": "stream",
          "text": [
            "\n",
            "      Epoch    GPU_mem   box_loss   cls_loss   dfl_loss  Instances       Size\n"
          ]
        },
        {
          "metadata": {
            "tags": null
          },
          "name": "stderr",
          "output_type": "stream",
          "text": [
            "     36/200      4.31G      1.133      1.584      1.511         25        640: 100%|██████████| 81/81 [00:24<00:00,  3.29it/s]\n",
            "                 Class     Images  Instances      Box(P          R      mAP50  mAP50-95): 100%|██████████| 6/6 [00:01<00:00,  3.75it/s]"
          ]
        },
        {
          "metadata": {
            "tags": null
          },
          "name": "stdout",
          "output_type": "stream",
          "text": [
            "                   all         93        107      0.399      0.779      0.393      0.233\n"
          ]
        },
        {
          "metadata": {
            "tags": null
          },
          "name": "stderr",
          "output_type": "stream",
          "text": [
            "\n"
          ]
        },
        {
          "metadata": {
            "tags": null
          },
          "name": "stdout",
          "output_type": "stream",
          "text": [
            "\n",
            "      Epoch    GPU_mem   box_loss   cls_loss   dfl_loss  Instances       Size\n"
          ]
        },
        {
          "metadata": {
            "tags": null
          },
          "name": "stderr",
          "output_type": "stream",
          "text": [
            "     37/200      4.32G      1.163       1.59      1.528         18        640: 100%|██████████| 81/81 [00:24<00:00,  3.28it/s]\n",
            "                 Class     Images  Instances      Box(P          R      mAP50  mAP50-95): 100%|██████████| 6/6 [00:01<00:00,  4.36it/s]"
          ]
        },
        {
          "metadata": {
            "tags": null
          },
          "name": "stdout",
          "output_type": "stream",
          "text": [
            "                   all         93        107      0.437      0.842      0.506      0.323\n"
          ]
        },
        {
          "metadata": {
            "tags": null
          },
          "name": "stderr",
          "output_type": "stream",
          "text": [
            "\n"
          ]
        },
        {
          "metadata": {
            "tags": null
          },
          "name": "stdout",
          "output_type": "stream",
          "text": [
            "\n",
            "      Epoch    GPU_mem   box_loss   cls_loss   dfl_loss  Instances       Size\n"
          ]
        },
        {
          "metadata": {
            "tags": null
          },
          "name": "stderr",
          "output_type": "stream",
          "text": [
            "     38/200      4.27G      1.126      1.563      1.515         18        640: 100%|██████████| 81/81 [00:24<00:00,  3.28it/s]\n",
            "                 Class     Images  Instances      Box(P          R      mAP50  mAP50-95): 100%|██████████| 6/6 [00:01<00:00,  4.34it/s]"
          ]
        },
        {
          "metadata": {
            "tags": null
          },
          "name": "stdout",
          "output_type": "stream",
          "text": [
            "                   all         93        107      0.466       0.82       0.48      0.293\n"
          ]
        },
        {
          "metadata": {
            "tags": null
          },
          "name": "stderr",
          "output_type": "stream",
          "text": [
            "\n"
          ]
        },
        {
          "metadata": {
            "tags": null
          },
          "name": "stdout",
          "output_type": "stream",
          "text": [
            "\n",
            "      Epoch    GPU_mem   box_loss   cls_loss   dfl_loss  Instances       Size\n"
          ]
        },
        {
          "metadata": {
            "tags": null
          },
          "name": "stderr",
          "output_type": "stream",
          "text": [
            "     39/200      4.32G      1.176      1.587      1.554         19        640: 100%|██████████| 81/81 [00:24<00:00,  3.28it/s]\n",
            "                 Class     Images  Instances      Box(P          R      mAP50  mAP50-95): 100%|██████████| 6/6 [00:01<00:00,  4.38it/s]"
          ]
        },
        {
          "metadata": {
            "tags": null
          },
          "name": "stdout",
          "output_type": "stream",
          "text": [
            "                   all         93        107      0.416      0.823      0.492      0.305\n"
          ]
        },
        {
          "metadata": {
            "tags": null
          },
          "name": "stderr",
          "output_type": "stream",
          "text": [
            "\n"
          ]
        },
        {
          "metadata": {
            "tags": null
          },
          "name": "stdout",
          "output_type": "stream",
          "text": [
            "\n",
            "      Epoch    GPU_mem   box_loss   cls_loss   dfl_loss  Instances       Size\n"
          ]
        },
        {
          "metadata": {
            "tags": null
          },
          "name": "stderr",
          "output_type": "stream",
          "text": [
            "     40/200      4.31G      1.112      1.575      1.499         21        640: 100%|██████████| 81/81 [00:24<00:00,  3.29it/s]\n",
            "                 Class     Images  Instances      Box(P          R      mAP50  mAP50-95): 100%|██████████| 6/6 [00:01<00:00,  4.40it/s]"
          ]
        },
        {
          "metadata": {
            "tags": null
          },
          "name": "stdout",
          "output_type": "stream",
          "text": [
            "                   all         93        107      0.477      0.783      0.498      0.325\n"
          ]
        },
        {
          "metadata": {
            "tags": null
          },
          "name": "stderr",
          "output_type": "stream",
          "text": [
            "\n"
          ]
        },
        {
          "metadata": {
            "tags": null
          },
          "name": "stdout",
          "output_type": "stream",
          "text": [
            "\n",
            "      Epoch    GPU_mem   box_loss   cls_loss   dfl_loss  Instances       Size\n"
          ]
        },
        {
          "metadata": {
            "tags": null
          },
          "name": "stderr",
          "output_type": "stream",
          "text": [
            "     41/200      4.31G       1.12      1.566      1.508         23        640: 100%|██████████| 81/81 [00:24<00:00,  3.28it/s]\n",
            "                 Class     Images  Instances      Box(P          R      mAP50  mAP50-95): 100%|██████████| 6/6 [00:01<00:00,  4.32it/s]"
          ]
        },
        {
          "metadata": {
            "tags": null
          },
          "name": "stdout",
          "output_type": "stream",
          "text": [
            "                   all         93        107       0.44      0.834      0.504      0.316\n"
          ]
        },
        {
          "metadata": {
            "tags": null
          },
          "name": "stderr",
          "output_type": "stream",
          "text": [
            "\n"
          ]
        },
        {
          "metadata": {
            "tags": null
          },
          "name": "stdout",
          "output_type": "stream",
          "text": [
            "\n",
            "      Epoch    GPU_mem   box_loss   cls_loss   dfl_loss  Instances       Size\n"
          ]
        },
        {
          "metadata": {
            "tags": null
          },
          "name": "stderr",
          "output_type": "stream",
          "text": [
            "     42/200      4.32G      1.131      1.563      1.499         27        640: 100%|██████████| 81/81 [00:24<00:00,  3.27it/s]\n",
            "                 Class     Images  Instances      Box(P          R      mAP50  mAP50-95): 100%|██████████| 6/6 [00:01<00:00,  3.50it/s]"
          ]
        },
        {
          "metadata": {
            "tags": null
          },
          "name": "stdout",
          "output_type": "stream",
          "text": [
            "                   all         93        107      0.459      0.778      0.491      0.318\n"
          ]
        },
        {
          "metadata": {
            "tags": null
          },
          "name": "stderr",
          "output_type": "stream",
          "text": [
            "\n"
          ]
        },
        {
          "metadata": {
            "tags": null
          },
          "name": "stdout",
          "output_type": "stream",
          "text": [
            "\n",
            "      Epoch    GPU_mem   box_loss   cls_loss   dfl_loss  Instances       Size\n"
          ]
        },
        {
          "metadata": {
            "tags": null
          },
          "name": "stderr",
          "output_type": "stream",
          "text": [
            "     43/200      4.32G       1.11      1.559      1.501         31        640: 100%|██████████| 81/81 [00:24<00:00,  3.26it/s]\n",
            "                 Class     Images  Instances      Box(P          R      mAP50  mAP50-95): 100%|██████████| 6/6 [00:01<00:00,  4.36it/s]"
          ]
        },
        {
          "metadata": {
            "tags": null
          },
          "name": "stdout",
          "output_type": "stream",
          "text": [
            "                   all         93        107      0.433      0.845      0.494      0.323\n"
          ]
        },
        {
          "metadata": {
            "tags": null
          },
          "name": "stderr",
          "output_type": "stream",
          "text": [
            "\n"
          ]
        },
        {
          "metadata": {
            "tags": null
          },
          "name": "stdout",
          "output_type": "stream",
          "text": [
            "\n",
            "      Epoch    GPU_mem   box_loss   cls_loss   dfl_loss  Instances       Size\n"
          ]
        },
        {
          "metadata": {
            "tags": null
          },
          "name": "stderr",
          "output_type": "stream",
          "text": [
            "     44/200      4.31G        1.1      1.573      1.469         27        640: 100%|██████████| 81/81 [00:24<00:00,  3.29it/s]\n",
            "                 Class     Images  Instances      Box(P          R      mAP50  mAP50-95): 100%|██████████| 6/6 [00:01<00:00,  4.37it/s]"
          ]
        },
        {
          "metadata": {
            "tags": null
          },
          "name": "stdout",
          "output_type": "stream",
          "text": [
            "                   all         93        107       0.44      0.809      0.505      0.323\n"
          ]
        },
        {
          "metadata": {
            "tags": null
          },
          "name": "stderr",
          "output_type": "stream",
          "text": [
            "\n"
          ]
        },
        {
          "metadata": {
            "tags": null
          },
          "name": "stdout",
          "output_type": "stream",
          "text": [
            "\n",
            "      Epoch    GPU_mem   box_loss   cls_loss   dfl_loss  Instances       Size\n"
          ]
        },
        {
          "metadata": {
            "tags": null
          },
          "name": "stderr",
          "output_type": "stream",
          "text": [
            "     45/200      4.31G      1.094       1.53      1.494         25        640: 100%|██████████| 81/81 [00:24<00:00,  3.26it/s]\n",
            "                 Class     Images  Instances      Box(P          R      mAP50  mAP50-95): 100%|██████████| 6/6 [00:01<00:00,  4.40it/s]"
          ]
        },
        {
          "metadata": {
            "tags": null
          },
          "name": "stdout",
          "output_type": "stream",
          "text": [
            "                   all         93        107      0.493      0.806      0.543      0.357\n"
          ]
        },
        {
          "metadata": {
            "tags": null
          },
          "name": "stderr",
          "output_type": "stream",
          "text": [
            "\n"
          ]
        },
        {
          "metadata": {
            "tags": null
          },
          "name": "stdout",
          "output_type": "stream",
          "text": [
            "\n",
            "      Epoch    GPU_mem   box_loss   cls_loss   dfl_loss  Instances       Size\n"
          ]
        },
        {
          "metadata": {
            "tags": null
          },
          "name": "stderr",
          "output_type": "stream",
          "text": [
            "     46/200      4.26G      1.091      1.528      1.486         18        640: 100%|██████████| 81/81 [00:24<00:00,  3.26it/s]\n",
            "                 Class     Images  Instances      Box(P          R      mAP50  mAP50-95): 100%|██████████| 6/6 [00:01<00:00,  4.37it/s]"
          ]
        },
        {
          "metadata": {
            "tags": null
          },
          "name": "stdout",
          "output_type": "stream",
          "text": [
            "                   all         93        107      0.429      0.809      0.474      0.282\n"
          ]
        },
        {
          "metadata": {
            "tags": null
          },
          "name": "stderr",
          "output_type": "stream",
          "text": [
            "\n"
          ]
        },
        {
          "metadata": {
            "tags": null
          },
          "name": "stdout",
          "output_type": "stream",
          "text": [
            "\n",
            "      Epoch    GPU_mem   box_loss   cls_loss   dfl_loss  Instances       Size\n"
          ]
        },
        {
          "metadata": {
            "tags": null
          },
          "name": "stderr",
          "output_type": "stream",
          "text": [
            "     47/200      4.32G      1.097      1.522      1.482         28        640: 100%|██████████| 81/81 [00:24<00:00,  3.27it/s]\n",
            "                 Class     Images  Instances      Box(P          R      mAP50  mAP50-95): 100%|██████████| 6/6 [00:01<00:00,  4.34it/s]"
          ]
        },
        {
          "metadata": {
            "tags": null
          },
          "name": "stdout",
          "output_type": "stream",
          "text": [
            "                   all         93        107      0.421      0.804      0.498      0.311\n"
          ]
        },
        {
          "metadata": {
            "tags": null
          },
          "name": "stderr",
          "output_type": "stream",
          "text": [
            "\n"
          ]
        },
        {
          "metadata": {
            "tags": null
          },
          "name": "stdout",
          "output_type": "stream",
          "text": [
            "\n",
            "      Epoch    GPU_mem   box_loss   cls_loss   dfl_loss  Instances       Size\n"
          ]
        },
        {
          "metadata": {
            "tags": null
          },
          "name": "stderr",
          "output_type": "stream",
          "text": [
            "     48/200      4.32G      1.041       1.49      1.438         28        640: 100%|██████████| 81/81 [00:24<00:00,  3.29it/s]\n",
            "                 Class     Images  Instances      Box(P          R      mAP50  mAP50-95): 100%|██████████| 6/6 [00:01<00:00,  3.76it/s]"
          ]
        },
        {
          "metadata": {
            "tags": null
          },
          "name": "stdout",
          "output_type": "stream",
          "text": [
            "                   all         93        107      0.421       0.72      0.541      0.354\n"
          ]
        },
        {
          "metadata": {
            "tags": null
          },
          "name": "stderr",
          "output_type": "stream",
          "text": [
            "\n"
          ]
        },
        {
          "metadata": {
            "tags": null
          },
          "name": "stdout",
          "output_type": "stream",
          "text": [
            "\n",
            "      Epoch    GPU_mem   box_loss   cls_loss   dfl_loss  Instances       Size\n"
          ]
        },
        {
          "metadata": {
            "tags": null
          },
          "name": "stderr",
          "output_type": "stream",
          "text": [
            "     49/200      4.31G      1.072      1.488      1.462         29        640: 100%|██████████| 81/81 [00:24<00:00,  3.27it/s]\n",
            "                 Class     Images  Instances      Box(P          R      mAP50  mAP50-95): 100%|██████████| 6/6 [00:01<00:00,  4.29it/s]"
          ]
        },
        {
          "metadata": {
            "tags": null
          },
          "name": "stdout",
          "output_type": "stream",
          "text": [
            "                   all         93        107      0.459      0.789      0.553      0.332\n"
          ]
        },
        {
          "metadata": {
            "tags": null
          },
          "name": "stderr",
          "output_type": "stream",
          "text": [
            "\n"
          ]
        },
        {
          "metadata": {
            "tags": null
          },
          "name": "stdout",
          "output_type": "stream",
          "text": [
            "\n",
            "      Epoch    GPU_mem   box_loss   cls_loss   dfl_loss  Instances       Size\n"
          ]
        },
        {
          "metadata": {
            "tags": null
          },
          "name": "stderr",
          "output_type": "stream",
          "text": [
            "     50/200      4.32G      1.077       1.49      1.463         33        640: 100%|██████████| 81/81 [00:24<00:00,  3.26it/s]\n",
            "                 Class     Images  Instances      Box(P          R      mAP50  mAP50-95): 100%|██████████| 6/6 [00:01<00:00,  4.25it/s]"
          ]
        },
        {
          "metadata": {
            "tags": null
          },
          "name": "stdout",
          "output_type": "stream",
          "text": [
            "                   all         93        107      0.493      0.782      0.502      0.319\n"
          ]
        },
        {
          "metadata": {
            "tags": null
          },
          "name": "stderr",
          "output_type": "stream",
          "text": [
            "\n"
          ]
        },
        {
          "metadata": {
            "tags": null
          },
          "name": "stdout",
          "output_type": "stream",
          "text": [
            "\n",
            "      Epoch    GPU_mem   box_loss   cls_loss   dfl_loss  Instances       Size\n"
          ]
        },
        {
          "metadata": {
            "tags": null
          },
          "name": "stderr",
          "output_type": "stream",
          "text": [
            "     51/200      4.32G      1.063      1.471       1.46         22        640: 100%|██████████| 81/81 [00:25<00:00,  3.23it/s]\n",
            "                 Class     Images  Instances      Box(P          R      mAP50  mAP50-95): 100%|██████████| 6/6 [00:01<00:00,  4.40it/s]"
          ]
        },
        {
          "metadata": {
            "tags": null
          },
          "name": "stdout",
          "output_type": "stream",
          "text": [
            "                   all         93        107      0.447      0.826      0.543      0.352\n"
          ]
        },
        {
          "metadata": {
            "tags": null
          },
          "name": "stderr",
          "output_type": "stream",
          "text": [
            "\n"
          ]
        },
        {
          "metadata": {
            "tags": null
          },
          "name": "stdout",
          "output_type": "stream",
          "text": [
            "\n",
            "      Epoch    GPU_mem   box_loss   cls_loss   dfl_loss  Instances       Size\n"
          ]
        },
        {
          "metadata": {
            "tags": null
          },
          "name": "stderr",
          "output_type": "stream",
          "text": [
            "     52/200      4.32G      1.065      1.516      1.473         37        640: 100%|██████████| 81/81 [00:24<00:00,  3.25it/s]\n",
            "                 Class     Images  Instances      Box(P          R      mAP50  mAP50-95): 100%|██████████| 6/6 [00:01<00:00,  4.32it/s]"
          ]
        },
        {
          "metadata": {
            "tags": null
          },
          "name": "stdout",
          "output_type": "stream",
          "text": [
            "                   all         93        107      0.463      0.725      0.486      0.308\n"
          ]
        },
        {
          "metadata": {
            "tags": null
          },
          "name": "stderr",
          "output_type": "stream",
          "text": [
            "\n"
          ]
        },
        {
          "metadata": {
            "tags": null
          },
          "name": "stdout",
          "output_type": "stream",
          "text": [
            "\n",
            "      Epoch    GPU_mem   box_loss   cls_loss   dfl_loss  Instances       Size\n"
          ]
        },
        {
          "metadata": {
            "tags": null
          },
          "name": "stderr",
          "output_type": "stream",
          "text": [
            "     53/200      4.31G      1.049      1.509      1.438         29        640: 100%|██████████| 81/81 [00:24<00:00,  3.27it/s]\n",
            "                 Class     Images  Instances      Box(P          R      mAP50  mAP50-95): 100%|██████████| 6/6 [00:01<00:00,  4.32it/s]"
          ]
        },
        {
          "metadata": {
            "tags": null
          },
          "name": "stdout",
          "output_type": "stream",
          "text": [
            "                   all         93        107      0.464      0.752      0.463        0.3\n"
          ]
        },
        {
          "metadata": {
            "tags": null
          },
          "name": "stderr",
          "output_type": "stream",
          "text": [
            "\n"
          ]
        },
        {
          "metadata": {
            "tags": null
          },
          "name": "stdout",
          "output_type": "stream",
          "text": [
            "\n",
            "      Epoch    GPU_mem   box_loss   cls_loss   dfl_loss  Instances       Size\n"
          ]
        },
        {
          "metadata": {
            "tags": null
          },
          "name": "stderr",
          "output_type": "stream",
          "text": [
            "     54/200      4.27G      1.015       1.47       1.41         27        640: 100%|██████████| 81/81 [00:24<00:00,  3.28it/s]\n",
            "                 Class     Images  Instances      Box(P          R      mAP50  mAP50-95): 100%|██████████| 6/6 [00:01<00:00,  4.40it/s]"
          ]
        },
        {
          "metadata": {
            "tags": null
          },
          "name": "stdout",
          "output_type": "stream",
          "text": [
            "                   all         93        107      0.461      0.752      0.553      0.371\n"
          ]
        },
        {
          "metadata": {
            "tags": null
          },
          "name": "stderr",
          "output_type": "stream",
          "text": [
            "\n"
          ]
        },
        {
          "metadata": {
            "tags": null
          },
          "name": "stdout",
          "output_type": "stream",
          "text": [
            "\n",
            "      Epoch    GPU_mem   box_loss   cls_loss   dfl_loss  Instances       Size\n"
          ]
        },
        {
          "metadata": {
            "tags": null
          },
          "name": "stderr",
          "output_type": "stream",
          "text": [
            "     55/200      4.32G      1.056      1.453      1.449         22        640: 100%|██████████| 81/81 [00:24<00:00,  3.25it/s]\n",
            "                 Class     Images  Instances      Box(P          R      mAP50  mAP50-95): 100%|██████████| 6/6 [00:01<00:00,  4.05it/s]"
          ]
        },
        {
          "metadata": {
            "tags": null
          },
          "name": "stdout",
          "output_type": "stream",
          "text": [
            "                   all         93        107      0.464      0.723      0.509      0.348\n"
          ]
        },
        {
          "metadata": {
            "tags": null
          },
          "name": "stderr",
          "output_type": "stream",
          "text": [
            "\n"
          ]
        },
        {
          "metadata": {
            "tags": null
          },
          "name": "stdout",
          "output_type": "stream",
          "text": [
            "\n",
            "      Epoch    GPU_mem   box_loss   cls_loss   dfl_loss  Instances       Size\n"
          ]
        },
        {
          "metadata": {
            "tags": null
          },
          "name": "stderr",
          "output_type": "stream",
          "text": [
            "     56/200      4.32G      1.015      1.425      1.417         22        640: 100%|██████████| 81/81 [00:24<00:00,  3.26it/s]\n",
            "                 Class     Images  Instances      Box(P          R      mAP50  mAP50-95): 100%|██████████| 6/6 [00:01<00:00,  4.34it/s]"
          ]
        },
        {
          "metadata": {
            "tags": null
          },
          "name": "stdout",
          "output_type": "stream",
          "text": [
            "                   all         93        107      0.505        0.7      0.542       0.34\n"
          ]
        },
        {
          "metadata": {
            "tags": null
          },
          "name": "stderr",
          "output_type": "stream",
          "text": [
            "\n"
          ]
        },
        {
          "metadata": {
            "tags": null
          },
          "name": "stdout",
          "output_type": "stream",
          "text": [
            "\n",
            "      Epoch    GPU_mem   box_loss   cls_loss   dfl_loss  Instances       Size\n"
          ]
        },
        {
          "metadata": {
            "tags": null
          },
          "name": "stderr",
          "output_type": "stream",
          "text": [
            "     57/200      4.32G      1.035       1.42      1.423         23        640: 100%|██████████| 81/81 [00:24<00:00,  3.30it/s]\n",
            "                 Class     Images  Instances      Box(P          R      mAP50  mAP50-95): 100%|██████████| 6/6 [00:01<00:00,  4.31it/s]"
          ]
        },
        {
          "metadata": {
            "tags": null
          },
          "name": "stdout",
          "output_type": "stream",
          "text": [
            "                   all         93        107      0.475      0.801      0.554       0.36\n"
          ]
        },
        {
          "metadata": {
            "tags": null
          },
          "name": "stderr",
          "output_type": "stream",
          "text": [
            "\n"
          ]
        },
        {
          "metadata": {
            "tags": null
          },
          "name": "stdout",
          "output_type": "stream",
          "text": [
            "\n",
            "      Epoch    GPU_mem   box_loss   cls_loss   dfl_loss  Instances       Size\n"
          ]
        },
        {
          "metadata": {
            "tags": null
          },
          "name": "stderr",
          "output_type": "stream",
          "text": [
            "     58/200      4.31G     0.9829      1.405      1.383         19        640: 100%|██████████| 81/81 [00:24<00:00,  3.26it/s]\n",
            "                 Class     Images  Instances      Box(P          R      mAP50  mAP50-95): 100%|██████████| 6/6 [00:01<00:00,  4.33it/s]"
          ]
        },
        {
          "metadata": {
            "tags": null
          },
          "name": "stdout",
          "output_type": "stream",
          "text": [
            "                   all         93        107      0.475      0.745      0.516      0.342\n"
          ]
        },
        {
          "metadata": {
            "tags": null
          },
          "name": "stderr",
          "output_type": "stream",
          "text": [
            "\n"
          ]
        },
        {
          "metadata": {
            "tags": null
          },
          "name": "stdout",
          "output_type": "stream",
          "text": [
            "\n",
            "      Epoch    GPU_mem   box_loss   cls_loss   dfl_loss  Instances       Size\n"
          ]
        },
        {
          "metadata": {
            "tags": null
          },
          "name": "stderr",
          "output_type": "stream",
          "text": [
            "     59/200      4.32G      1.015      1.451       1.42         26        640: 100%|██████████| 81/81 [00:24<00:00,  3.27it/s]\n",
            "                 Class     Images  Instances      Box(P          R      mAP50  mAP50-95): 100%|██████████| 6/6 [00:01<00:00,  4.33it/s]"
          ]
        },
        {
          "metadata": {
            "tags": null
          },
          "name": "stdout",
          "output_type": "stream",
          "text": [
            "                   all         93        107      0.489      0.782      0.559      0.382\n"
          ]
        },
        {
          "metadata": {
            "tags": null
          },
          "name": "stderr",
          "output_type": "stream",
          "text": [
            "\n"
          ]
        },
        {
          "metadata": {
            "tags": null
          },
          "name": "stdout",
          "output_type": "stream",
          "text": [
            "\n",
            "      Epoch    GPU_mem   box_loss   cls_loss   dfl_loss  Instances       Size\n"
          ]
        },
        {
          "metadata": {
            "tags": null
          },
          "name": "stderr",
          "output_type": "stream",
          "text": [
            "     60/200      4.31G      1.038      1.469      1.436         23        640: 100%|██████████| 81/81 [00:24<00:00,  3.28it/s]\n",
            "                 Class     Images  Instances      Box(P          R      mAP50  mAP50-95): 100%|██████████| 6/6 [00:01<00:00,  4.42it/s]"
          ]
        },
        {
          "metadata": {
            "tags": null
          },
          "name": "stdout",
          "output_type": "stream",
          "text": [
            "                   all         93        107       0.47      0.757      0.556      0.349\n"
          ]
        },
        {
          "metadata": {
            "tags": null
          },
          "name": "stderr",
          "output_type": "stream",
          "text": [
            "\n"
          ]
        },
        {
          "metadata": {
            "tags": null
          },
          "name": "stdout",
          "output_type": "stream",
          "text": [
            "\n",
            "      Epoch    GPU_mem   box_loss   cls_loss   dfl_loss  Instances       Size\n"
          ]
        },
        {
          "output_type": "stream",
          "name": "stderr",
          "text": [
            "     61/200      4.32G      1.013      1.453      1.406         16        640: 100%|██████████| 81/81 [00:24<00:00,  3.27it/s]\n",
            "                 Class     Images  Instances      Box(P          R      mAP50  mAP50-95): 100%|██████████| 6/6 [00:01<00:00,  3.74it/s]"
          ]
        },
        {
          "output_type": "stream",
          "name": "stdout",
          "text": [
            "                   all         93        107       0.48      0.774      0.522      0.372\n"
          ]
        },
        {
          "output_type": "stream",
          "name": "stderr",
          "text": [
            "\n"
          ]
        },
        {
          "output_type": "stream",
          "name": "stdout",
          "text": [
            "\n",
            "      Epoch    GPU_mem   box_loss   cls_loss   dfl_loss  Instances       Size\n"
          ]
        },
        {
          "output_type": "stream",
          "name": "stderr",
          "text": [
            "     62/200      4.27G      0.965      1.342      1.391         19        640: 100%|██████████| 81/81 [00:24<00:00,  3.27it/s]\n",
            "                 Class     Images  Instances      Box(P          R      mAP50  mAP50-95): 100%|██████████| 6/6 [00:01<00:00,  3.94it/s]"
          ]
        },
        {
          "output_type": "stream",
          "name": "stdout",
          "text": [
            "                   all         93        107      0.505      0.749       0.55      0.375\n"
          ]
        },
        {
          "output_type": "stream",
          "name": "stderr",
          "text": [
            "\n"
          ]
        },
        {
          "output_type": "stream",
          "name": "stdout",
          "text": [
            "\n",
            "      Epoch    GPU_mem   box_loss   cls_loss   dfl_loss  Instances       Size\n"
          ]
        },
        {
          "output_type": "stream",
          "name": "stderr",
          "text": [
            "     63/200      4.31G      1.024      1.421      1.427         23        640: 100%|██████████| 81/81 [00:24<00:00,  3.25it/s]\n",
            "                 Class     Images  Instances      Box(P          R      mAP50  mAP50-95): 100%|██████████| 6/6 [00:01<00:00,  4.22it/s]"
          ]
        },
        {
          "output_type": "stream",
          "name": "stdout",
          "text": [
            "                   all         93        107      0.507      0.787      0.572      0.387\n"
          ]
        },
        {
          "output_type": "stream",
          "name": "stderr",
          "text": [
            "\n"
          ]
        },
        {
          "output_type": "stream",
          "name": "stdout",
          "text": [
            "\n",
            "      Epoch    GPU_mem   box_loss   cls_loss   dfl_loss  Instances       Size\n"
          ]
        },
        {
          "output_type": "stream",
          "name": "stderr",
          "text": [
            "     64/200      4.31G     0.9746      1.381      1.394         23        640: 100%|██████████| 81/81 [00:24<00:00,  3.24it/s]\n",
            "                 Class     Images  Instances      Box(P          R      mAP50  mAP50-95): 100%|██████████| 6/6 [00:01<00:00,  4.31it/s]"
          ]
        },
        {
          "output_type": "stream",
          "name": "stdout",
          "text": [
            "                   all         93        107      0.497      0.739      0.556      0.367\n"
          ]
        },
        {
          "output_type": "stream",
          "name": "stderr",
          "text": [
            "\n"
          ]
        },
        {
          "output_type": "stream",
          "name": "stdout",
          "text": [
            "\n",
            "      Epoch    GPU_mem   box_loss   cls_loss   dfl_loss  Instances       Size\n"
          ]
        },
        {
          "output_type": "stream",
          "name": "stderr",
          "text": [
            "     65/200      4.31G     0.9847      1.394      1.389         32        640: 100%|██████████| 81/81 [00:25<00:00,  3.23it/s]\n",
            "                 Class     Images  Instances      Box(P          R      mAP50  mAP50-95): 100%|██████████| 6/6 [00:01<00:00,  4.27it/s]"
          ]
        },
        {
          "output_type": "stream",
          "name": "stdout",
          "text": [
            "                   all         93        107      0.426       0.72      0.582      0.395\n"
          ]
        },
        {
          "output_type": "stream",
          "name": "stderr",
          "text": [
            "\n"
          ]
        },
        {
          "output_type": "stream",
          "name": "stdout",
          "text": [
            "\n",
            "      Epoch    GPU_mem   box_loss   cls_loss   dfl_loss  Instances       Size\n"
          ]
        },
        {
          "output_type": "stream",
          "name": "stderr",
          "text": [
            "     66/200      4.32G      0.959      1.361      1.375         33        640: 100%|██████████| 81/81 [00:24<00:00,  3.26it/s]\n",
            "                 Class     Images  Instances      Box(P          R      mAP50  mAP50-95): 100%|██████████| 6/6 [00:01<00:00,  4.36it/s]"
          ]
        },
        {
          "output_type": "stream",
          "name": "stdout",
          "text": [
            "                   all         93        107      0.502      0.692      0.554      0.383\n"
          ]
        },
        {
          "output_type": "stream",
          "name": "stderr",
          "text": [
            "\n"
          ]
        },
        {
          "output_type": "stream",
          "name": "stdout",
          "text": [
            "\n",
            "      Epoch    GPU_mem   box_loss   cls_loss   dfl_loss  Instances       Size\n"
          ]
        },
        {
          "output_type": "stream",
          "name": "stderr",
          "text": [
            "     67/200      4.31G      1.029      1.399      1.402         24        640: 100%|██████████| 81/81 [00:24<00:00,  3.25it/s]\n",
            "                 Class     Images  Instances      Box(P          R      mAP50  mAP50-95): 100%|██████████| 6/6 [00:01<00:00,  4.35it/s]"
          ]
        },
        {
          "output_type": "stream",
          "name": "stdout",
          "text": [
            "                   all         93        107       0.43      0.738      0.543       0.38\n"
          ]
        },
        {
          "output_type": "stream",
          "name": "stderr",
          "text": [
            "\n"
          ]
        },
        {
          "output_type": "stream",
          "name": "stdout",
          "text": [
            "\n",
            "      Epoch    GPU_mem   box_loss   cls_loss   dfl_loss  Instances       Size\n"
          ]
        },
        {
          "output_type": "stream",
          "name": "stderr",
          "text": [
            "     68/200      4.31G     0.9331      1.352       1.34         25        640: 100%|██████████| 81/81 [00:24<00:00,  3.29it/s]\n",
            "                 Class     Images  Instances      Box(P          R      mAP50  mAP50-95): 100%|██████████| 6/6 [00:01<00:00,  3.44it/s]"
          ]
        },
        {
          "output_type": "stream",
          "name": "stdout",
          "text": [
            "                   all         93        107      0.488      0.755       0.56      0.375\n"
          ]
        },
        {
          "output_type": "stream",
          "name": "stderr",
          "text": [
            "\n"
          ]
        },
        {
          "output_type": "stream",
          "name": "stdout",
          "text": [
            "\n",
            "      Epoch    GPU_mem   box_loss   cls_loss   dfl_loss  Instances       Size\n"
          ]
        },
        {
          "output_type": "stream",
          "name": "stderr",
          "text": [
            "     69/200      4.31G     0.9629      1.338       1.37         24        640: 100%|██████████| 81/81 [00:24<00:00,  3.25it/s]\n",
            "                 Class     Images  Instances      Box(P          R      mAP50  mAP50-95): 100%|██████████| 6/6 [00:01<00:00,  4.35it/s]"
          ]
        },
        {
          "output_type": "stream",
          "name": "stdout",
          "text": [
            "                   all         93        107      0.464      0.793      0.553      0.357\n"
          ]
        },
        {
          "output_type": "stream",
          "name": "stderr",
          "text": [
            "\n"
          ]
        },
        {
          "output_type": "stream",
          "name": "stdout",
          "text": [
            "\n",
            "      Epoch    GPU_mem   box_loss   cls_loss   dfl_loss  Instances       Size\n"
          ]
        },
        {
          "output_type": "stream",
          "name": "stderr",
          "text": [
            "     70/200      4.27G     0.9714      1.347      1.375         29        640: 100%|██████████| 81/81 [00:25<00:00,  3.24it/s]\n",
            "                 Class     Images  Instances      Box(P          R      mAP50  mAP50-95): 100%|██████████| 6/6 [00:01<00:00,  4.35it/s]"
          ]
        },
        {
          "output_type": "stream",
          "name": "stdout",
          "text": [
            "                   all         93        107      0.568      0.653      0.558      0.361\n"
          ]
        },
        {
          "output_type": "stream",
          "name": "stderr",
          "text": [
            "\n"
          ]
        },
        {
          "output_type": "stream",
          "name": "stdout",
          "text": [
            "\n",
            "      Epoch    GPU_mem   box_loss   cls_loss   dfl_loss  Instances       Size\n"
          ]
        },
        {
          "output_type": "stream",
          "name": "stderr",
          "text": [
            "     71/200      4.31G     0.9358      1.354      1.358         26        640: 100%|██████████| 81/81 [00:25<00:00,  3.23it/s]\n",
            "                 Class     Images  Instances      Box(P          R      mAP50  mAP50-95): 100%|██████████| 6/6 [00:01<00:00,  4.36it/s]"
          ]
        },
        {
          "output_type": "stream",
          "name": "stdout",
          "text": [
            "                   all         93        107      0.507      0.801       0.62      0.416\n"
          ]
        },
        {
          "output_type": "stream",
          "name": "stderr",
          "text": [
            "\n"
          ]
        },
        {
          "output_type": "stream",
          "name": "stdout",
          "text": [
            "\n",
            "      Epoch    GPU_mem   box_loss   cls_loss   dfl_loss  Instances       Size\n"
          ]
        },
        {
          "output_type": "stream",
          "name": "stderr",
          "text": [
            "     72/200      4.31G     0.9933      1.391      1.401         30        640: 100%|██████████| 81/81 [00:25<00:00,  3.24it/s]\n",
            "                 Class     Images  Instances      Box(P          R      mAP50  mAP50-95): 100%|██████████| 6/6 [00:01<00:00,  4.31it/s]"
          ]
        },
        {
          "output_type": "stream",
          "name": "stdout",
          "text": [
            "                   all         93        107      0.503      0.749      0.642      0.421\n"
          ]
        },
        {
          "output_type": "stream",
          "name": "stderr",
          "text": [
            "\n"
          ]
        },
        {
          "output_type": "stream",
          "name": "stdout",
          "text": [
            "\n",
            "      Epoch    GPU_mem   box_loss   cls_loss   dfl_loss  Instances       Size\n"
          ]
        },
        {
          "output_type": "stream",
          "name": "stderr",
          "text": [
            "     73/200      4.31G     0.9787      1.386      1.357         21        640: 100%|██████████| 81/81 [00:25<00:00,  3.22it/s]\n",
            "                 Class     Images  Instances      Box(P          R      mAP50  mAP50-95): 100%|██████████| 6/6 [00:01<00:00,  4.36it/s]"
          ]
        },
        {
          "output_type": "stream",
          "name": "stdout",
          "text": [
            "                   all         93        107      0.534      0.742      0.599      0.417\n"
          ]
        },
        {
          "output_type": "stream",
          "name": "stderr",
          "text": [
            "\n"
          ]
        },
        {
          "output_type": "stream",
          "name": "stdout",
          "text": [
            "\n",
            "      Epoch    GPU_mem   box_loss   cls_loss   dfl_loss  Instances       Size\n"
          ]
        },
        {
          "output_type": "stream",
          "name": "stderr",
          "text": [
            "     74/200      4.32G     0.9724      1.367      1.369         17        640: 100%|██████████| 81/81 [00:24<00:00,  3.27it/s]\n",
            "                 Class     Images  Instances      Box(P          R      mAP50  mAP50-95): 100%|██████████| 6/6 [00:01<00:00,  3.72it/s]"
          ]
        },
        {
          "output_type": "stream",
          "name": "stdout",
          "text": [
            "                   all         93        107      0.546      0.732      0.629      0.432\n"
          ]
        },
        {
          "output_type": "stream",
          "name": "stderr",
          "text": [
            "\n"
          ]
        },
        {
          "output_type": "stream",
          "name": "stdout",
          "text": [
            "\n",
            "      Epoch    GPU_mem   box_loss   cls_loss   dfl_loss  Instances       Size\n"
          ]
        },
        {
          "output_type": "stream",
          "name": "stderr",
          "text": [
            "     75/200      4.31G     0.9442      1.297      1.353         20        640: 100%|██████████| 81/81 [00:24<00:00,  3.26it/s]\n",
            "                 Class     Images  Instances      Box(P          R      mAP50  mAP50-95): 100%|██████████| 6/6 [00:01<00:00,  4.36it/s]"
          ]
        },
        {
          "output_type": "stream",
          "name": "stdout",
          "text": [
            "                   all         93        107      0.491       0.73       0.59      0.414\n"
          ]
        },
        {
          "output_type": "stream",
          "name": "stderr",
          "text": [
            "\n"
          ]
        },
        {
          "output_type": "stream",
          "name": "stdout",
          "text": [
            "\n",
            "      Epoch    GPU_mem   box_loss   cls_loss   dfl_loss  Instances       Size\n"
          ]
        },
        {
          "output_type": "stream",
          "name": "stderr",
          "text": [
            "     76/200      4.32G     0.9417      1.326      1.365         21        640: 100%|██████████| 81/81 [00:24<00:00,  3.26it/s]\n",
            "                 Class     Images  Instances      Box(P          R      mAP50  mAP50-95): 100%|██████████| 6/6 [00:01<00:00,  4.34it/s]"
          ]
        },
        {
          "output_type": "stream",
          "name": "stdout",
          "text": [
            "                   all         93        107      0.634        0.7      0.604      0.425\n"
          ]
        },
        {
          "output_type": "stream",
          "name": "stderr",
          "text": [
            "\n"
          ]
        },
        {
          "output_type": "stream",
          "name": "stdout",
          "text": [
            "\n",
            "      Epoch    GPU_mem   box_loss   cls_loss   dfl_loss  Instances       Size\n"
          ]
        },
        {
          "output_type": "stream",
          "name": "stderr",
          "text": [
            "     77/200      4.32G      0.912      1.348      1.334         32        640: 100%|██████████| 81/81 [00:25<00:00,  3.22it/s]\n",
            "                 Class     Images  Instances      Box(P          R      mAP50  mAP50-95): 100%|██████████| 6/6 [00:01<00:00,  4.32it/s]"
          ]
        },
        {
          "output_type": "stream",
          "name": "stdout",
          "text": [
            "                   all         93        107      0.612       0.74      0.623      0.424\n"
          ]
        },
        {
          "output_type": "stream",
          "name": "stderr",
          "text": [
            "\n"
          ]
        },
        {
          "output_type": "stream",
          "name": "stdout",
          "text": [
            "\n",
            "      Epoch    GPU_mem   box_loss   cls_loss   dfl_loss  Instances       Size\n"
          ]
        },
        {
          "output_type": "stream",
          "name": "stderr",
          "text": [
            "     78/200      4.27G     0.9738      1.325      1.372         23        640: 100%|██████████| 81/81 [00:24<00:00,  3.24it/s]\n",
            "                 Class     Images  Instances      Box(P          R      mAP50  mAP50-95): 100%|██████████| 6/6 [00:01<00:00,  4.20it/s]"
          ]
        },
        {
          "output_type": "stream",
          "name": "stdout",
          "text": [
            "                   all         93        107      0.577      0.638      0.615      0.396\n"
          ]
        },
        {
          "output_type": "stream",
          "name": "stderr",
          "text": [
            "\n"
          ]
        },
        {
          "output_type": "stream",
          "name": "stdout",
          "text": [
            "\n",
            "      Epoch    GPU_mem   box_loss   cls_loss   dfl_loss  Instances       Size\n"
          ]
        },
        {
          "output_type": "stream",
          "name": "stderr",
          "text": [
            "     79/200      4.32G     0.9556      1.367      1.366         26        640: 100%|██████████| 81/81 [00:24<00:00,  3.26it/s]\n",
            "                 Class     Images  Instances      Box(P          R      mAP50  mAP50-95): 100%|██████████| 6/6 [00:01<00:00,  4.34it/s]"
          ]
        },
        {
          "output_type": "stream",
          "name": "stdout",
          "text": [
            "                   all         93        107        0.6       0.73      0.597      0.414\n"
          ]
        },
        {
          "output_type": "stream",
          "name": "stderr",
          "text": [
            "\n"
          ]
        },
        {
          "output_type": "stream",
          "name": "stdout",
          "text": [
            "\n",
            "      Epoch    GPU_mem   box_loss   cls_loss   dfl_loss  Instances       Size\n"
          ]
        },
        {
          "output_type": "stream",
          "name": "stderr",
          "text": [
            "     80/200      4.32G     0.9128      1.293      1.339         27        640: 100%|██████████| 81/81 [00:24<00:00,  3.26it/s]\n",
            "                 Class     Images  Instances      Box(P          R      mAP50  mAP50-95): 100%|██████████| 6/6 [00:01<00:00,  4.20it/s]"
          ]
        },
        {
          "output_type": "stream",
          "name": "stdout",
          "text": [
            "                   all         93        107      0.563      0.697      0.573      0.412\n"
          ]
        },
        {
          "output_type": "stream",
          "name": "stderr",
          "text": [
            "\n"
          ]
        },
        {
          "output_type": "stream",
          "name": "stdout",
          "text": [
            "\n",
            "      Epoch    GPU_mem   box_loss   cls_loss   dfl_loss  Instances       Size\n"
          ]
        },
        {
          "output_type": "stream",
          "name": "stderr",
          "text": [
            "     81/200      4.32G     0.9236      1.299      1.348         32        640: 100%|██████████| 81/81 [00:24<00:00,  3.26it/s]\n",
            "                 Class     Images  Instances      Box(P          R      mAP50  mAP50-95): 100%|██████████| 6/6 [00:01<00:00,  3.53it/s]"
          ]
        },
        {
          "output_type": "stream",
          "name": "stdout",
          "text": [
            "                   all         93        107       0.52      0.793      0.619      0.409\n"
          ]
        },
        {
          "output_type": "stream",
          "name": "stderr",
          "text": [
            "\n"
          ]
        },
        {
          "output_type": "stream",
          "name": "stdout",
          "text": [
            "\n",
            "      Epoch    GPU_mem   box_loss   cls_loss   dfl_loss  Instances       Size\n"
          ]
        },
        {
          "output_type": "stream",
          "name": "stderr",
          "text": [
            "     82/200      4.31G     0.9269      1.299      1.354         24        640: 100%|██████████| 81/81 [00:24<00:00,  3.25it/s]\n",
            "                 Class     Images  Instances      Box(P          R      mAP50  mAP50-95): 100%|██████████| 6/6 [00:01<00:00,  4.37it/s]"
          ]
        },
        {
          "output_type": "stream",
          "name": "stdout",
          "text": [
            "                   all         93        107      0.483      0.759      0.594      0.406\n"
          ]
        },
        {
          "output_type": "stream",
          "name": "stderr",
          "text": [
            "\n"
          ]
        },
        {
          "output_type": "stream",
          "name": "stdout",
          "text": [
            "\n",
            "      Epoch    GPU_mem   box_loss   cls_loss   dfl_loss  Instances       Size\n"
          ]
        },
        {
          "output_type": "stream",
          "name": "stderr",
          "text": [
            "     83/200      4.31G     0.9348      1.271      1.353         31        640: 100%|██████████| 81/81 [00:24<00:00,  3.25it/s]\n",
            "                 Class     Images  Instances      Box(P          R      mAP50  mAP50-95): 100%|██████████| 6/6 [00:01<00:00,  4.40it/s]"
          ]
        },
        {
          "output_type": "stream",
          "name": "stdout",
          "text": [
            "                   all         93        107      0.581      0.705      0.553      0.391\n"
          ]
        },
        {
          "output_type": "stream",
          "name": "stderr",
          "text": [
            "\n"
          ]
        },
        {
          "output_type": "stream",
          "name": "stdout",
          "text": [
            "\n",
            "      Epoch    GPU_mem   box_loss   cls_loss   dfl_loss  Instances       Size\n"
          ]
        },
        {
          "output_type": "stream",
          "name": "stderr",
          "text": [
            "     84/200      4.32G     0.9342      1.269      1.343         20        640: 100%|██████████| 81/81 [00:24<00:00,  3.25it/s]\n",
            "                 Class     Images  Instances      Box(P          R      mAP50  mAP50-95): 100%|██████████| 6/6 [00:01<00:00,  4.38it/s]"
          ]
        },
        {
          "output_type": "stream",
          "name": "stdout",
          "text": [
            "                   all         93        107      0.547      0.694      0.587      0.393\n"
          ]
        },
        {
          "output_type": "stream",
          "name": "stderr",
          "text": [
            "\n"
          ]
        },
        {
          "output_type": "stream",
          "name": "stdout",
          "text": [
            "\n",
            "      Epoch    GPU_mem   box_loss   cls_loss   dfl_loss  Instances       Size\n"
          ]
        },
        {
          "output_type": "stream",
          "name": "stderr",
          "text": [
            "     85/200      4.31G     0.9595      1.337      1.347         27        640: 100%|██████████| 81/81 [00:24<00:00,  3.25it/s]\n",
            "                 Class     Images  Instances      Box(P          R      mAP50  mAP50-95): 100%|██████████| 6/6 [00:01<00:00,  4.35it/s]"
          ]
        },
        {
          "output_type": "stream",
          "name": "stdout",
          "text": [
            "                   all         93        107      0.596      0.656      0.582      0.398\n"
          ]
        },
        {
          "output_type": "stream",
          "name": "stderr",
          "text": [
            "\n"
          ]
        },
        {
          "output_type": "stream",
          "name": "stdout",
          "text": [
            "\n",
            "      Epoch    GPU_mem   box_loss   cls_loss   dfl_loss  Instances       Size\n"
          ]
        },
        {
          "output_type": "stream",
          "name": "stderr",
          "text": [
            "     86/200      4.27G     0.9284      1.274      1.334         21        640: 100%|██████████| 81/81 [00:25<00:00,  3.23it/s]\n",
            "                 Class     Images  Instances      Box(P          R      mAP50  mAP50-95): 100%|██████████| 6/6 [00:01<00:00,  4.36it/s]"
          ]
        },
        {
          "output_type": "stream",
          "name": "stdout",
          "text": [
            "                   all         93        107      0.484      0.757      0.533      0.365\n"
          ]
        },
        {
          "output_type": "stream",
          "name": "stderr",
          "text": [
            "\n"
          ]
        },
        {
          "output_type": "stream",
          "name": "stdout",
          "text": [
            "\n",
            "      Epoch    GPU_mem   box_loss   cls_loss   dfl_loss  Instances       Size\n"
          ]
        },
        {
          "output_type": "stream",
          "name": "stderr",
          "text": [
            "     87/200      4.31G     0.8997      1.282      1.318         33        640: 100%|██████████| 81/81 [00:24<00:00,  3.25it/s]\n",
            "                 Class     Images  Instances      Box(P          R      mAP50  mAP50-95): 100%|██████████| 6/6 [00:01<00:00,  4.00it/s]"
          ]
        },
        {
          "output_type": "stream",
          "name": "stdout",
          "text": [
            "                   all         93        107      0.543      0.655      0.589        0.4\n"
          ]
        },
        {
          "output_type": "stream",
          "name": "stderr",
          "text": [
            "\n"
          ]
        },
        {
          "output_type": "stream",
          "name": "stdout",
          "text": [
            "\n",
            "      Epoch    GPU_mem   box_loss   cls_loss   dfl_loss  Instances       Size\n"
          ]
        },
        {
          "output_type": "stream",
          "name": "stderr",
          "text": [
            "     88/200      4.31G     0.8932      1.249      1.331         26        640: 100%|██████████| 81/81 [00:24<00:00,  3.28it/s]\n",
            "                 Class     Images  Instances      Box(P          R      mAP50  mAP50-95): 100%|██████████| 6/6 [00:01<00:00,  3.60it/s]"
          ]
        },
        {
          "output_type": "stream",
          "name": "stdout",
          "text": [
            "                   all         93        107      0.605      0.708      0.634      0.446\n"
          ]
        },
        {
          "output_type": "stream",
          "name": "stderr",
          "text": [
            "\n"
          ]
        },
        {
          "output_type": "stream",
          "name": "stdout",
          "text": [
            "\n",
            "      Epoch    GPU_mem   box_loss   cls_loss   dfl_loss  Instances       Size\n"
          ]
        },
        {
          "output_type": "stream",
          "name": "stderr",
          "text": [
            "     89/200      4.31G     0.8737      1.251       1.31         26        640: 100%|██████████| 81/81 [00:24<00:00,  3.25it/s]\n",
            "                 Class     Images  Instances      Box(P          R      mAP50  mAP50-95): 100%|██████████| 6/6 [00:01<00:00,  4.33it/s]"
          ]
        },
        {
          "output_type": "stream",
          "name": "stdout",
          "text": [
            "                   all         93        107       0.61      0.722      0.699      0.468\n"
          ]
        },
        {
          "output_type": "stream",
          "name": "stderr",
          "text": [
            "\n"
          ]
        },
        {
          "output_type": "stream",
          "name": "stdout",
          "text": [
            "\n",
            "      Epoch    GPU_mem   box_loss   cls_loss   dfl_loss  Instances       Size\n"
          ]
        },
        {
          "output_type": "stream",
          "name": "stderr",
          "text": [
            "     90/200      4.31G     0.8953      1.262      1.332         35        640: 100%|██████████| 81/81 [00:25<00:00,  3.23it/s]\n",
            "                 Class     Images  Instances      Box(P          R      mAP50  mAP50-95): 100%|██████████| 6/6 [00:01<00:00,  4.34it/s]"
          ]
        },
        {
          "output_type": "stream",
          "name": "stdout",
          "text": [
            "                   all         93        107      0.645      0.741      0.643      0.439\n"
          ]
        },
        {
          "output_type": "stream",
          "name": "stderr",
          "text": [
            "\n"
          ]
        },
        {
          "output_type": "stream",
          "name": "stdout",
          "text": [
            "\n",
            "      Epoch    GPU_mem   box_loss   cls_loss   dfl_loss  Instances       Size\n"
          ]
        },
        {
          "output_type": "stream",
          "name": "stderr",
          "text": [
            "     91/200      4.31G     0.9076       1.24      1.312         29        640: 100%|██████████| 81/81 [00:24<00:00,  3.24it/s]\n",
            "                 Class     Images  Instances      Box(P          R      mAP50  mAP50-95): 100%|██████████| 6/6 [00:01<00:00,  4.35it/s]"
          ]
        },
        {
          "output_type": "stream",
          "name": "stdout",
          "text": [
            "                   all         93        107      0.552      0.727      0.584      0.413\n"
          ]
        },
        {
          "output_type": "stream",
          "name": "stderr",
          "text": [
            "\n"
          ]
        },
        {
          "output_type": "stream",
          "name": "stdout",
          "text": [
            "\n",
            "      Epoch    GPU_mem   box_loss   cls_loss   dfl_loss  Instances       Size\n"
          ]
        },
        {
          "output_type": "stream",
          "name": "stderr",
          "text": [
            "     92/200      4.32G     0.8942      1.224      1.306         41        640: 100%|██████████| 81/81 [00:25<00:00,  3.23it/s]\n",
            "                 Class     Images  Instances      Box(P          R      mAP50  mAP50-95): 100%|██████████| 6/6 [00:01<00:00,  4.30it/s]"
          ]
        },
        {
          "output_type": "stream",
          "name": "stdout",
          "text": [
            "                   all         93        107      0.552      0.689      0.613      0.425\n"
          ]
        },
        {
          "output_type": "stream",
          "name": "stderr",
          "text": [
            "\n"
          ]
        },
        {
          "output_type": "stream",
          "name": "stdout",
          "text": [
            "\n",
            "      Epoch    GPU_mem   box_loss   cls_loss   dfl_loss  Instances       Size\n"
          ]
        },
        {
          "output_type": "stream",
          "name": "stderr",
          "text": [
            "     93/200      4.31G     0.8761      1.197      1.291         25        640: 100%|██████████| 81/81 [00:25<00:00,  3.22it/s]\n",
            "                 Class     Images  Instances      Box(P          R      mAP50  mAP50-95): 100%|██████████| 6/6 [00:01<00:00,  4.32it/s]"
          ]
        },
        {
          "output_type": "stream",
          "name": "stdout",
          "text": [
            "                   all         93        107      0.647      0.693      0.636      0.435\n"
          ]
        },
        {
          "output_type": "stream",
          "name": "stderr",
          "text": [
            "\n"
          ]
        },
        {
          "output_type": "stream",
          "name": "stdout",
          "text": [
            "\n",
            "      Epoch    GPU_mem   box_loss   cls_loss   dfl_loss  Instances       Size\n"
          ]
        },
        {
          "output_type": "stream",
          "name": "stderr",
          "text": [
            "     94/200      4.27G      0.905      1.207      1.321         23        640: 100%|██████████| 81/81 [00:24<00:00,  3.24it/s]\n",
            "                 Class     Images  Instances      Box(P          R      mAP50  mAP50-95): 100%|██████████| 6/6 [00:01<00:00,  3.48it/s]"
          ]
        },
        {
          "output_type": "stream",
          "name": "stdout",
          "text": [
            "                   all         93        107      0.639      0.735      0.693      0.487\n"
          ]
        },
        {
          "output_type": "stream",
          "name": "stderr",
          "text": [
            "\n"
          ]
        },
        {
          "output_type": "stream",
          "name": "stdout",
          "text": [
            "\n",
            "      Epoch    GPU_mem   box_loss   cls_loss   dfl_loss  Instances       Size\n"
          ]
        },
        {
          "output_type": "stream",
          "name": "stderr",
          "text": [
            "     95/200      4.32G     0.8823      1.216      1.306         21        640: 100%|██████████| 81/81 [00:24<00:00,  3.26it/s]\n",
            "                 Class     Images  Instances      Box(P          R      mAP50  mAP50-95): 100%|██████████| 6/6 [00:01<00:00,  4.25it/s]"
          ]
        },
        {
          "output_type": "stream",
          "name": "stdout",
          "text": [
            "                   all         93        107      0.561      0.828      0.675      0.467\n"
          ]
        },
        {
          "output_type": "stream",
          "name": "stderr",
          "text": [
            "\n"
          ]
        },
        {
          "output_type": "stream",
          "name": "stdout",
          "text": [
            "\n",
            "      Epoch    GPU_mem   box_loss   cls_loss   dfl_loss  Instances       Size\n"
          ]
        },
        {
          "output_type": "stream",
          "name": "stderr",
          "text": [
            "     96/200      4.32G       0.84      1.176      1.283         17        640: 100%|██████████| 81/81 [00:25<00:00,  3.24it/s]\n",
            "                 Class     Images  Instances      Box(P          R      mAP50  mAP50-95): 100%|██████████| 6/6 [00:01<00:00,  4.39it/s]"
          ]
        },
        {
          "output_type": "stream",
          "name": "stdout",
          "text": [
            "                   all         93        107      0.682       0.69      0.692      0.483\n"
          ]
        },
        {
          "output_type": "stream",
          "name": "stderr",
          "text": [
            "\n"
          ]
        },
        {
          "output_type": "stream",
          "name": "stdout",
          "text": [
            "\n",
            "      Epoch    GPU_mem   box_loss   cls_loss   dfl_loss  Instances       Size\n"
          ]
        },
        {
          "output_type": "stream",
          "name": "stderr",
          "text": [
            "     97/200      4.31G      0.846       1.16      1.284         21        640: 100%|██████████| 81/81 [00:25<00:00,  3.22it/s]\n",
            "                 Class     Images  Instances      Box(P          R      mAP50  mAP50-95): 100%|██████████| 6/6 [00:01<00:00,  4.33it/s]"
          ]
        },
        {
          "output_type": "stream",
          "name": "stdout",
          "text": [
            "                   all         93        107       0.61      0.722      0.686      0.474\n"
          ]
        },
        {
          "output_type": "stream",
          "name": "stderr",
          "text": [
            "\n"
          ]
        },
        {
          "output_type": "stream",
          "name": "stdout",
          "text": [
            "\n",
            "      Epoch    GPU_mem   box_loss   cls_loss   dfl_loss  Instances       Size\n"
          ]
        },
        {
          "output_type": "stream",
          "name": "stderr",
          "text": [
            "     98/200      4.32G     0.8588      1.191      1.295         31        640: 100%|██████████| 81/81 [00:25<00:00,  3.22it/s]\n",
            "                 Class     Images  Instances      Box(P          R      mAP50  mAP50-95): 100%|██████████| 6/6 [00:01<00:00,  4.31it/s]"
          ]
        },
        {
          "output_type": "stream",
          "name": "stdout",
          "text": [
            "                   all         93        107      0.593      0.667      0.637      0.446\n"
          ]
        },
        {
          "output_type": "stream",
          "name": "stderr",
          "text": [
            "\n"
          ]
        },
        {
          "output_type": "stream",
          "name": "stdout",
          "text": [
            "\n",
            "      Epoch    GPU_mem   box_loss   cls_loss   dfl_loss  Instances       Size\n"
          ]
        },
        {
          "output_type": "stream",
          "name": "stderr",
          "text": [
            "     99/200      4.31G     0.8759       1.17      1.299         19        640: 100%|██████████| 81/81 [00:25<00:00,  3.22it/s]\n",
            "                 Class     Images  Instances      Box(P          R      mAP50  mAP50-95): 100%|██████████| 6/6 [00:01<00:00,  4.25it/s]"
          ]
        },
        {
          "output_type": "stream",
          "name": "stdout",
          "text": [
            "                   all         93        107      0.683      0.692      0.682      0.474\n"
          ]
        },
        {
          "output_type": "stream",
          "name": "stderr",
          "text": [
            "\n"
          ]
        },
        {
          "output_type": "stream",
          "name": "stdout",
          "text": [
            "\n",
            "      Epoch    GPU_mem   box_loss   cls_loss   dfl_loss  Instances       Size\n"
          ]
        },
        {
          "output_type": "stream",
          "name": "stderr",
          "text": [
            "    100/200      4.32G     0.8418      1.151      1.293         18        640: 100%|██████████| 81/81 [00:24<00:00,  3.25it/s]\n",
            "                 Class     Images  Instances      Box(P          R      mAP50  mAP50-95): 100%|██████████| 6/6 [00:01<00:00,  3.40it/s]"
          ]
        },
        {
          "output_type": "stream",
          "name": "stdout",
          "text": [
            "                   all         93        107      0.526      0.762      0.621       0.43\n"
          ]
        },
        {
          "output_type": "stream",
          "name": "stderr",
          "text": [
            "\n"
          ]
        },
        {
          "output_type": "stream",
          "name": "stdout",
          "text": [
            "\n",
            "      Epoch    GPU_mem   box_loss   cls_loss   dfl_loss  Instances       Size\n"
          ]
        },
        {
          "output_type": "stream",
          "name": "stderr",
          "text": [
            "    101/200      4.32G      0.877      1.156      1.299         30        640: 100%|██████████| 81/81 [00:24<00:00,  3.25it/s]\n",
            "                 Class     Images  Instances      Box(P          R      mAP50  mAP50-95): 100%|██████████| 6/6 [00:01<00:00,  4.32it/s]"
          ]
        },
        {
          "output_type": "stream",
          "name": "stdout",
          "text": [
            "                   all         93        107      0.549       0.72       0.64      0.451\n"
          ]
        },
        {
          "output_type": "stream",
          "name": "stderr",
          "text": [
            "\n"
          ]
        },
        {
          "output_type": "stream",
          "name": "stdout",
          "text": [
            "\n",
            "      Epoch    GPU_mem   box_loss   cls_loss   dfl_loss  Instances       Size\n"
          ]
        },
        {
          "output_type": "stream",
          "name": "stderr",
          "text": [
            "    102/200      4.27G     0.8916      1.181      1.309         15        640: 100%|██████████| 81/81 [00:25<00:00,  3.24it/s]\n",
            "                 Class     Images  Instances      Box(P          R      mAP50  mAP50-95): 100%|██████████| 6/6 [00:01<00:00,  4.32it/s]"
          ]
        },
        {
          "output_type": "stream",
          "name": "stdout",
          "text": [
            "                   all         93        107      0.636      0.619       0.59      0.425\n"
          ]
        },
        {
          "output_type": "stream",
          "name": "stderr",
          "text": [
            "\n"
          ]
        },
        {
          "output_type": "stream",
          "name": "stdout",
          "text": [
            "\n",
            "      Epoch    GPU_mem   box_loss   cls_loss   dfl_loss  Instances       Size\n"
          ]
        },
        {
          "output_type": "stream",
          "name": "stderr",
          "text": [
            "    103/200      4.32G     0.8718       1.19      1.294         19        640: 100%|██████████| 81/81 [00:24<00:00,  3.26it/s]\n",
            "                 Class     Images  Instances      Box(P          R      mAP50  mAP50-95): 100%|██████████| 6/6 [00:01<00:00,  4.38it/s]"
          ]
        },
        {
          "output_type": "stream",
          "name": "stdout",
          "text": [
            "                   all         93        107      0.566      0.709      0.636      0.446\n"
          ]
        },
        {
          "output_type": "stream",
          "name": "stderr",
          "text": [
            "\n"
          ]
        },
        {
          "output_type": "stream",
          "name": "stdout",
          "text": [
            "\n",
            "      Epoch    GPU_mem   box_loss   cls_loss   dfl_loss  Instances       Size\n"
          ]
        },
        {
          "output_type": "stream",
          "name": "stderr",
          "text": [
            "    104/200      4.32G     0.8576      1.165      1.294         18        640: 100%|██████████| 81/81 [00:25<00:00,  3.23it/s]\n",
            "                 Class     Images  Instances      Box(P          R      mAP50  mAP50-95): 100%|██████████| 6/6 [00:01<00:00,  4.36it/s]"
          ]
        },
        {
          "output_type": "stream",
          "name": "stdout",
          "text": [
            "                   all         93        107      0.519      0.747      0.672      0.477\n"
          ]
        },
        {
          "output_type": "stream",
          "name": "stderr",
          "text": [
            "\n"
          ]
        },
        {
          "output_type": "stream",
          "name": "stdout",
          "text": [
            "\n",
            "      Epoch    GPU_mem   box_loss   cls_loss   dfl_loss  Instances       Size\n"
          ]
        },
        {
          "output_type": "stream",
          "name": "stderr",
          "text": [
            "    105/200      4.32G     0.8582      1.154      1.272         52        640: 100%|██████████| 81/81 [00:24<00:00,  3.25it/s]\n",
            "                 Class     Images  Instances      Box(P          R      mAP50  mAP50-95): 100%|██████████| 6/6 [00:01<00:00,  4.29it/s]"
          ]
        },
        {
          "output_type": "stream",
          "name": "stdout",
          "text": [
            "                   all         93        107      0.531      0.728       0.61      0.437\n"
          ]
        },
        {
          "output_type": "stream",
          "name": "stderr",
          "text": [
            "\n"
          ]
        },
        {
          "output_type": "stream",
          "name": "stdout",
          "text": [
            "\n",
            "      Epoch    GPU_mem   box_loss   cls_loss   dfl_loss  Instances       Size\n"
          ]
        },
        {
          "output_type": "stream",
          "name": "stderr",
          "text": [
            "    106/200      4.31G     0.8375      1.137      1.271         25        640: 100%|██████████| 81/81 [00:24<00:00,  3.24it/s]\n",
            "                 Class     Images  Instances      Box(P          R      mAP50  mAP50-95): 100%|██████████| 6/6 [00:01<00:00,  4.18it/s]"
          ]
        },
        {
          "output_type": "stream",
          "name": "stdout",
          "text": [
            "                   all         93        107      0.664      0.731      0.699      0.477\n"
          ]
        },
        {
          "output_type": "stream",
          "name": "stderr",
          "text": [
            "\n"
          ]
        },
        {
          "output_type": "stream",
          "name": "stdout",
          "text": [
            "\n",
            "      Epoch    GPU_mem   box_loss   cls_loss   dfl_loss  Instances       Size\n"
          ]
        },
        {
          "output_type": "stream",
          "name": "stderr",
          "text": [
            "    107/200      4.32G     0.8233      1.123      1.267         20        640: 100%|██████████| 81/81 [00:24<00:00,  3.26it/s]\n",
            "                 Class     Images  Instances      Box(P          R      mAP50  mAP50-95): 100%|██████████| 6/6 [00:01<00:00,  3.51it/s]"
          ]
        },
        {
          "output_type": "stream",
          "name": "stdout",
          "text": [
            "                   all         93        107      0.655      0.669      0.655      0.455\n"
          ]
        },
        {
          "output_type": "stream",
          "name": "stderr",
          "text": [
            "\n"
          ]
        },
        {
          "output_type": "stream",
          "name": "stdout",
          "text": [
            "\n",
            "      Epoch    GPU_mem   box_loss   cls_loss   dfl_loss  Instances       Size\n"
          ]
        },
        {
          "output_type": "stream",
          "name": "stderr",
          "text": [
            "    108/200      4.32G     0.8245      1.085      1.268         21        640: 100%|██████████| 81/81 [00:24<00:00,  3.26it/s]\n",
            "                 Class     Images  Instances      Box(P          R      mAP50  mAP50-95): 100%|██████████| 6/6 [00:01<00:00,  4.41it/s]"
          ]
        },
        {
          "output_type": "stream",
          "name": "stdout",
          "text": [
            "                   all         93        107       0.72      0.697      0.709      0.484\n"
          ]
        },
        {
          "output_type": "stream",
          "name": "stderr",
          "text": [
            "\n"
          ]
        },
        {
          "output_type": "stream",
          "name": "stdout",
          "text": [
            "\n",
            "      Epoch    GPU_mem   box_loss   cls_loss   dfl_loss  Instances       Size\n"
          ]
        },
        {
          "output_type": "stream",
          "name": "stderr",
          "text": [
            "    109/200      4.32G     0.8312      1.085      1.268         17        640: 100%|██████████| 81/81 [00:25<00:00,  3.24it/s]\n",
            "                 Class     Images  Instances      Box(P          R      mAP50  mAP50-95): 100%|██████████| 6/6 [00:01<00:00,  4.35it/s]"
          ]
        },
        {
          "output_type": "stream",
          "name": "stdout",
          "text": [
            "                   all         93        107      0.581      0.697      0.629      0.439\n"
          ]
        },
        {
          "output_type": "stream",
          "name": "stderr",
          "text": [
            "\n"
          ]
        },
        {
          "output_type": "stream",
          "name": "stdout",
          "text": [
            "\n",
            "      Epoch    GPU_mem   box_loss   cls_loss   dfl_loss  Instances       Size\n"
          ]
        },
        {
          "output_type": "stream",
          "name": "stderr",
          "text": [
            "    110/200      4.27G     0.8078      1.088      1.241         16        640: 100%|██████████| 81/81 [00:25<00:00,  3.23it/s]\n",
            "                 Class     Images  Instances      Box(P          R      mAP50  mAP50-95): 100%|██████████| 6/6 [00:01<00:00,  4.34it/s]"
          ]
        },
        {
          "output_type": "stream",
          "name": "stdout",
          "text": [
            "                   all         93        107      0.563      0.734       0.65      0.462\n"
          ]
        },
        {
          "output_type": "stream",
          "name": "stderr",
          "text": [
            "\n"
          ]
        },
        {
          "output_type": "stream",
          "name": "stdout",
          "text": [
            "\n",
            "      Epoch    GPU_mem   box_loss   cls_loss   dfl_loss  Instances       Size\n"
          ]
        },
        {
          "output_type": "stream",
          "name": "stderr",
          "text": [
            "    111/200      4.32G       0.81      1.054      1.252         34        640: 100%|██████████| 81/81 [00:25<00:00,  3.22it/s]\n",
            "                 Class     Images  Instances      Box(P          R      mAP50  mAP50-95): 100%|██████████| 6/6 [00:01<00:00,  4.41it/s]"
          ]
        },
        {
          "output_type": "stream",
          "name": "stdout",
          "text": [
            "                   all         93        107      0.638      0.728      0.695      0.489\n"
          ]
        },
        {
          "output_type": "stream",
          "name": "stderr",
          "text": [
            "\n"
          ]
        },
        {
          "output_type": "stream",
          "name": "stdout",
          "text": [
            "\n",
            "      Epoch    GPU_mem   box_loss   cls_loss   dfl_loss  Instances       Size\n"
          ]
        },
        {
          "output_type": "stream",
          "name": "stderr",
          "text": [
            "    112/200      4.31G     0.8349      1.108      1.269         25        640: 100%|██████████| 81/81 [00:25<00:00,  3.24it/s]\n",
            "                 Class     Images  Instances      Box(P          R      mAP50  mAP50-95): 100%|██████████| 6/6 [00:01<00:00,  4.35it/s]"
          ]
        },
        {
          "output_type": "stream",
          "name": "stdout",
          "text": [
            "                   all         93        107      0.602      0.741      0.649      0.477\n"
          ]
        },
        {
          "output_type": "stream",
          "name": "stderr",
          "text": [
            "\n"
          ]
        },
        {
          "output_type": "stream",
          "name": "stdout",
          "text": [
            "\n",
            "      Epoch    GPU_mem   box_loss   cls_loss   dfl_loss  Instances       Size\n"
          ]
        },
        {
          "output_type": "stream",
          "name": "stderr",
          "text": [
            "    113/200      4.31G       0.84      1.123      1.264         22        640: 100%|██████████| 81/81 [00:24<00:00,  3.24it/s]\n",
            "                 Class     Images  Instances      Box(P          R      mAP50  mAP50-95): 100%|██████████| 6/6 [00:01<00:00,  3.76it/s]"
          ]
        },
        {
          "output_type": "stream",
          "name": "stdout",
          "text": [
            "                   all         93        107      0.592      0.711      0.672      0.466\n"
          ]
        },
        {
          "output_type": "stream",
          "name": "stderr",
          "text": [
            "\n"
          ]
        },
        {
          "output_type": "stream",
          "name": "stdout",
          "text": [
            "\n",
            "      Epoch    GPU_mem   box_loss   cls_loss   dfl_loss  Instances       Size\n"
          ]
        },
        {
          "output_type": "stream",
          "name": "stderr",
          "text": [
            "    114/200      4.32G     0.8311      1.091      1.269         23        640: 100%|██████████| 81/81 [00:24<00:00,  3.24it/s]\n",
            "                 Class     Images  Instances      Box(P          R      mAP50  mAP50-95): 100%|██████████| 6/6 [00:01<00:00,  4.08it/s]"
          ]
        },
        {
          "output_type": "stream",
          "name": "stdout",
          "text": [
            "                   all         93        107      0.582      0.755      0.682      0.484\n"
          ]
        },
        {
          "output_type": "stream",
          "name": "stderr",
          "text": [
            "\n"
          ]
        },
        {
          "output_type": "stream",
          "name": "stdout",
          "text": [
            "\n",
            "      Epoch    GPU_mem   box_loss   cls_loss   dfl_loss  Instances       Size\n"
          ]
        },
        {
          "output_type": "stream",
          "name": "stderr",
          "text": [
            "    115/200      4.32G     0.7937      1.074      1.239         28        640: 100%|██████████| 81/81 [00:25<00:00,  3.23it/s]\n",
            "                 Class     Images  Instances      Box(P          R      mAP50  mAP50-95): 100%|██████████| 6/6 [00:01<00:00,  4.30it/s]"
          ]
        },
        {
          "output_type": "stream",
          "name": "stdout",
          "text": [
            "                   all         93        107      0.682      0.705      0.651      0.473\n"
          ]
        },
        {
          "output_type": "stream",
          "name": "stderr",
          "text": [
            "\n"
          ]
        },
        {
          "output_type": "stream",
          "name": "stdout",
          "text": [
            "\n",
            "      Epoch    GPU_mem   box_loss   cls_loss   dfl_loss  Instances       Size\n"
          ]
        },
        {
          "output_type": "stream",
          "name": "stderr",
          "text": [
            "    116/200      4.32G     0.8346      1.032      1.266         24        640: 100%|██████████| 81/81 [00:24<00:00,  3.24it/s]\n",
            "                 Class     Images  Instances      Box(P          R      mAP50  mAP50-95): 100%|██████████| 6/6 [00:01<00:00,  4.33it/s]"
          ]
        },
        {
          "output_type": "stream",
          "name": "stdout",
          "text": [
            "                   all         93        107      0.645      0.747      0.649       0.47\n"
          ]
        },
        {
          "output_type": "stream",
          "name": "stderr",
          "text": [
            "\n"
          ]
        },
        {
          "output_type": "stream",
          "name": "stdout",
          "text": [
            "\n",
            "      Epoch    GPU_mem   box_loss   cls_loss   dfl_loss  Instances       Size\n"
          ]
        },
        {
          "output_type": "stream",
          "name": "stderr",
          "text": [
            "    117/200      4.31G     0.8198      1.022       1.25         20        640: 100%|██████████| 81/81 [00:25<00:00,  3.24it/s]\n",
            "                 Class     Images  Instances      Box(P          R      mAP50  mAP50-95): 100%|██████████| 6/6 [00:01<00:00,  4.36it/s]"
          ]
        },
        {
          "output_type": "stream",
          "name": "stdout",
          "text": [
            "                   all         93        107      0.721      0.676      0.723      0.534\n"
          ]
        },
        {
          "output_type": "stream",
          "name": "stderr",
          "text": [
            "\n"
          ]
        },
        {
          "output_type": "stream",
          "name": "stdout",
          "text": [
            "\n",
            "      Epoch    GPU_mem   box_loss   cls_loss   dfl_loss  Instances       Size\n"
          ]
        },
        {
          "output_type": "stream",
          "name": "stderr",
          "text": [
            "    118/200      4.27G     0.7945      1.021      1.255         23        640: 100%|██████████| 81/81 [00:24<00:00,  3.24it/s]\n",
            "                 Class     Images  Instances      Box(P          R      mAP50  mAP50-95): 100%|██████████| 6/6 [00:01<00:00,  4.30it/s]"
          ]
        },
        {
          "output_type": "stream",
          "name": "stdout",
          "text": [
            "                   all         93        107      0.753      0.713      0.709      0.513\n"
          ]
        },
        {
          "output_type": "stream",
          "name": "stderr",
          "text": [
            "\n"
          ]
        },
        {
          "output_type": "stream",
          "name": "stdout",
          "text": [
            "\n",
            "      Epoch    GPU_mem   box_loss   cls_loss   dfl_loss  Instances       Size\n"
          ]
        },
        {
          "output_type": "stream",
          "name": "stderr",
          "text": [
            "    119/200      4.32G      0.806      1.031      1.248         25        640: 100%|██████████| 81/81 [00:25<00:00,  3.23it/s]\n",
            "                 Class     Images  Instances      Box(P          R      mAP50  mAP50-95): 100%|██████████| 6/6 [00:01<00:00,  4.30it/s]"
          ]
        },
        {
          "output_type": "stream",
          "name": "stdout",
          "text": [
            "                   all         93        107      0.535      0.704       0.64       0.48\n"
          ]
        },
        {
          "output_type": "stream",
          "name": "stderr",
          "text": [
            "\n"
          ]
        },
        {
          "output_type": "stream",
          "name": "stdout",
          "text": [
            "\n",
            "      Epoch    GPU_mem   box_loss   cls_loss   dfl_loss  Instances       Size\n"
          ]
        },
        {
          "output_type": "stream",
          "name": "stderr",
          "text": [
            "    120/200      4.32G     0.7635      1.011      1.212         23        640: 100%|██████████| 81/81 [00:25<00:00,  3.23it/s]\n",
            "                 Class     Images  Instances      Box(P          R      mAP50  mAP50-95): 100%|██████████| 6/6 [00:01<00:00,  3.43it/s]"
          ]
        },
        {
          "output_type": "stream",
          "name": "stdout",
          "text": [
            "                   all         93        107      0.621      0.763      0.659      0.475\n"
          ]
        },
        {
          "output_type": "stream",
          "name": "stderr",
          "text": [
            "\n"
          ]
        },
        {
          "output_type": "stream",
          "name": "stdout",
          "text": [
            "\n",
            "      Epoch    GPU_mem   box_loss   cls_loss   dfl_loss  Instances       Size\n"
          ]
        },
        {
          "output_type": "stream",
          "name": "stderr",
          "text": [
            "    121/200      4.31G     0.8044      1.015      1.248         21        640: 100%|██████████| 81/81 [00:24<00:00,  3.25it/s]\n",
            "                 Class     Images  Instances      Box(P          R      mAP50  mAP50-95): 100%|██████████| 6/6 [00:01<00:00,  3.99it/s]"
          ]
        },
        {
          "output_type": "stream",
          "name": "stdout",
          "text": [
            "                   all         93        107      0.558      0.797      0.698      0.497\n"
          ]
        },
        {
          "output_type": "stream",
          "name": "stderr",
          "text": [
            "\n"
          ]
        },
        {
          "output_type": "stream",
          "name": "stdout",
          "text": [
            "\n",
            "      Epoch    GPU_mem   box_loss   cls_loss   dfl_loss  Instances       Size\n"
          ]
        },
        {
          "output_type": "stream",
          "name": "stderr",
          "text": [
            "    122/200      4.31G     0.7551     0.9879      1.216         18        640: 100%|██████████| 81/81 [00:25<00:00,  3.24it/s]\n",
            "                 Class     Images  Instances      Box(P          R      mAP50  mAP50-95): 100%|██████████| 6/6 [00:01<00:00,  4.28it/s]"
          ]
        },
        {
          "output_type": "stream",
          "name": "stdout",
          "text": [
            "                   all         93        107      0.708        0.7      0.696      0.498\n"
          ]
        },
        {
          "output_type": "stream",
          "name": "stderr",
          "text": [
            "\n"
          ]
        },
        {
          "output_type": "stream",
          "name": "stdout",
          "text": [
            "\n",
            "      Epoch    GPU_mem   box_loss   cls_loss   dfl_loss  Instances       Size\n"
          ]
        },
        {
          "output_type": "stream",
          "name": "stderr",
          "text": [
            "    123/200      4.32G     0.7555     0.9918      1.206         23        640: 100%|██████████| 81/81 [00:25<00:00,  3.24it/s]\n",
            "                 Class     Images  Instances      Box(P          R      mAP50  mAP50-95): 100%|██████████| 6/6 [00:01<00:00,  4.32it/s]"
          ]
        },
        {
          "output_type": "stream",
          "name": "stdout",
          "text": [
            "                   all         93        107      0.685      0.709      0.685      0.506\n"
          ]
        },
        {
          "output_type": "stream",
          "name": "stderr",
          "text": [
            "\n"
          ]
        },
        {
          "output_type": "stream",
          "name": "stdout",
          "text": [
            "\n",
            "      Epoch    GPU_mem   box_loss   cls_loss   dfl_loss  Instances       Size\n"
          ]
        },
        {
          "output_type": "stream",
          "name": "stderr",
          "text": [
            "    124/200      4.32G     0.7906      1.011      1.249         25        640: 100%|██████████| 81/81 [00:25<00:00,  3.23it/s]\n",
            "                 Class     Images  Instances      Box(P          R      mAP50  mAP50-95): 100%|██████████| 6/6 [00:01<00:00,  4.41it/s]"
          ]
        },
        {
          "output_type": "stream",
          "name": "stdout",
          "text": [
            "                   all         93        107       0.69      0.684      0.649      0.456\n"
          ]
        },
        {
          "output_type": "stream",
          "name": "stderr",
          "text": [
            "\n"
          ]
        },
        {
          "output_type": "stream",
          "name": "stdout",
          "text": [
            "\n",
            "      Epoch    GPU_mem   box_loss   cls_loss   dfl_loss  Instances       Size\n"
          ]
        },
        {
          "output_type": "stream",
          "name": "stderr",
          "text": [
            "    125/200      4.31G     0.7654     0.9907      1.228         28        640: 100%|██████████| 81/81 [00:24<00:00,  3.25it/s]\n",
            "                 Class     Images  Instances      Box(P          R      mAP50  mAP50-95): 100%|██████████| 6/6 [00:01<00:00,  4.30it/s]"
          ]
        },
        {
          "output_type": "stream",
          "name": "stdout",
          "text": [
            "                   all         93        107      0.736      0.719       0.73      0.528\n"
          ]
        },
        {
          "output_type": "stream",
          "name": "stderr",
          "text": [
            "\n"
          ]
        },
        {
          "output_type": "stream",
          "name": "stdout",
          "text": [
            "\n",
            "      Epoch    GPU_mem   box_loss   cls_loss   dfl_loss  Instances       Size\n"
          ]
        },
        {
          "output_type": "stream",
          "name": "stderr",
          "text": [
            "    126/200      4.27G     0.8239     0.9985      1.261         21        640: 100%|██████████| 81/81 [00:25<00:00,  3.22it/s]\n",
            "                 Class     Images  Instances      Box(P          R      mAP50  mAP50-95): 100%|██████████| 6/6 [00:01<00:00,  4.39it/s]"
          ]
        },
        {
          "output_type": "stream",
          "name": "stdout",
          "text": [
            "                   all         93        107      0.641      0.742      0.705       0.52\n"
          ]
        },
        {
          "output_type": "stream",
          "name": "stderr",
          "text": [
            "\n"
          ]
        },
        {
          "output_type": "stream",
          "name": "stdout",
          "text": [
            "\n",
            "      Epoch    GPU_mem   box_loss   cls_loss   dfl_loss  Instances       Size\n"
          ]
        },
        {
          "output_type": "stream",
          "name": "stderr",
          "text": [
            "    127/200      4.32G     0.7806     0.9848      1.214         39        640: 100%|██████████| 81/81 [00:25<00:00,  3.24it/s]\n",
            "                 Class     Images  Instances      Box(P          R      mAP50  mAP50-95): 100%|██████████| 6/6 [00:01<00:00,  3.50it/s]"
          ]
        },
        {
          "output_type": "stream",
          "name": "stdout",
          "text": [
            "                   all         93        107      0.715      0.608      0.673      0.492\n"
          ]
        },
        {
          "output_type": "stream",
          "name": "stderr",
          "text": [
            "\n"
          ]
        },
        {
          "output_type": "stream",
          "name": "stdout",
          "text": [
            "\n",
            "      Epoch    GPU_mem   box_loss   cls_loss   dfl_loss  Instances       Size\n"
          ]
        },
        {
          "output_type": "stream",
          "name": "stderr",
          "text": [
            "    128/200      4.31G     0.7703     0.9623      1.222         21        640: 100%|██████████| 81/81 [00:25<00:00,  3.23it/s]\n",
            "                 Class     Images  Instances      Box(P          R      mAP50  mAP50-95): 100%|██████████| 6/6 [00:01<00:00,  4.29it/s]"
          ]
        },
        {
          "output_type": "stream",
          "name": "stdout",
          "text": [
            "                   all         93        107      0.804      0.734      0.751      0.539\n"
          ]
        },
        {
          "output_type": "stream",
          "name": "stderr",
          "text": [
            "\n"
          ]
        },
        {
          "output_type": "stream",
          "name": "stdout",
          "text": [
            "\n",
            "      Epoch    GPU_mem   box_loss   cls_loss   dfl_loss  Instances       Size\n"
          ]
        },
        {
          "output_type": "stream",
          "name": "stderr",
          "text": [
            "    129/200      4.32G     0.7732     0.9347      1.234         29        640: 100%|██████████| 81/81 [00:24<00:00,  3.25it/s]\n",
            "                 Class     Images  Instances      Box(P          R      mAP50  mAP50-95): 100%|██████████| 6/6 [00:01<00:00,  4.33it/s]"
          ]
        },
        {
          "output_type": "stream",
          "name": "stdout",
          "text": [
            "                   all         93        107      0.779       0.72      0.773      0.566\n"
          ]
        },
        {
          "output_type": "stream",
          "name": "stderr",
          "text": [
            "\n"
          ]
        },
        {
          "output_type": "stream",
          "name": "stdout",
          "text": [
            "\n",
            "      Epoch    GPU_mem   box_loss   cls_loss   dfl_loss  Instances       Size\n"
          ]
        },
        {
          "output_type": "stream",
          "name": "stderr",
          "text": [
            "    130/200      4.31G     0.7339     0.9218      1.203         26        640: 100%|██████████| 81/81 [00:25<00:00,  3.22it/s]\n",
            "                 Class     Images  Instances      Box(P          R      mAP50  mAP50-95): 100%|██████████| 6/6 [00:01<00:00,  4.28it/s]"
          ]
        },
        {
          "output_type": "stream",
          "name": "stdout",
          "text": [
            "                   all         93        107      0.726      0.746      0.758      0.546\n"
          ]
        },
        {
          "output_type": "stream",
          "name": "stderr",
          "text": [
            "\n"
          ]
        },
        {
          "output_type": "stream",
          "name": "stdout",
          "text": [
            "\n",
            "      Epoch    GPU_mem   box_loss   cls_loss   dfl_loss  Instances       Size\n"
          ]
        },
        {
          "output_type": "stream",
          "name": "stderr",
          "text": [
            "    131/200      4.32G     0.7491     0.9353      1.208         14        640: 100%|██████████| 81/81 [00:24<00:00,  3.24it/s]\n",
            "                 Class     Images  Instances      Box(P          R      mAP50  mAP50-95): 100%|██████████| 6/6 [00:01<00:00,  4.31it/s]"
          ]
        },
        {
          "output_type": "stream",
          "name": "stdout",
          "text": [
            "                   all         93        107      0.785      0.759       0.74      0.545\n"
          ]
        },
        {
          "output_type": "stream",
          "name": "stderr",
          "text": [
            "\n"
          ]
        },
        {
          "output_type": "stream",
          "name": "stdout",
          "text": [
            "\n",
            "      Epoch    GPU_mem   box_loss   cls_loss   dfl_loss  Instances       Size\n"
          ]
        },
        {
          "output_type": "stream",
          "name": "stderr",
          "text": [
            "    132/200      4.31G     0.7515     0.9405      1.204         36        640: 100%|██████████| 81/81 [00:25<00:00,  3.21it/s]\n",
            "                 Class     Images  Instances      Box(P          R      mAP50  mAP50-95): 100%|██████████| 6/6 [00:01<00:00,  4.19it/s]"
          ]
        },
        {
          "output_type": "stream",
          "name": "stdout",
          "text": [
            "                   all         93        107      0.772      0.656      0.691      0.522\n"
          ]
        },
        {
          "output_type": "stream",
          "name": "stderr",
          "text": [
            "\n"
          ]
        },
        {
          "output_type": "stream",
          "name": "stdout",
          "text": [
            "\n",
            "      Epoch    GPU_mem   box_loss   cls_loss   dfl_loss  Instances       Size\n"
          ]
        },
        {
          "output_type": "stream",
          "name": "stderr",
          "text": [
            "    133/200      4.31G     0.7607     0.9331      1.228         27        640: 100%|██████████| 81/81 [00:25<00:00,  3.21it/s]\n",
            "                 Class     Images  Instances      Box(P          R      mAP50  mAP50-95): 100%|██████████| 6/6 [00:01<00:00,  3.92it/s]"
          ]
        },
        {
          "output_type": "stream",
          "name": "stdout",
          "text": [
            "                   all         93        107       0.73       0.67      0.698      0.527\n"
          ]
        },
        {
          "output_type": "stream",
          "name": "stderr",
          "text": [
            "\n"
          ]
        },
        {
          "output_type": "stream",
          "name": "stdout",
          "text": [
            "\n",
            "      Epoch    GPU_mem   box_loss   cls_loss   dfl_loss  Instances       Size\n"
          ]
        },
        {
          "output_type": "stream",
          "name": "stderr",
          "text": [
            "    134/200      4.27G     0.7572     0.9577       1.21         25        640: 100%|██████████| 81/81 [00:24<00:00,  3.25it/s]\n",
            "                 Class     Images  Instances      Box(P          R      mAP50  mAP50-95): 100%|██████████| 6/6 [00:01<00:00,  3.76it/s]"
          ]
        },
        {
          "output_type": "stream",
          "name": "stdout",
          "text": [
            "                   all         93        107      0.677      0.681      0.684      0.499\n"
          ]
        },
        {
          "output_type": "stream",
          "name": "stderr",
          "text": [
            "\n"
          ]
        },
        {
          "output_type": "stream",
          "name": "stdout",
          "text": [
            "\n",
            "      Epoch    GPU_mem   box_loss   cls_loss   dfl_loss  Instances       Size\n"
          ]
        },
        {
          "output_type": "stream",
          "name": "stderr",
          "text": [
            "    135/200      4.31G      0.754     0.9287      1.222         23        640: 100%|██████████| 81/81 [00:25<00:00,  3.23it/s]\n",
            "                 Class     Images  Instances      Box(P          R      mAP50  mAP50-95): 100%|██████████| 6/6 [00:01<00:00,  4.34it/s]"
          ]
        },
        {
          "output_type": "stream",
          "name": "stdout",
          "text": [
            "                   all         93        107       0.74      0.736      0.763      0.554\n"
          ]
        },
        {
          "output_type": "stream",
          "name": "stderr",
          "text": [
            "\n"
          ]
        },
        {
          "output_type": "stream",
          "name": "stdout",
          "text": [
            "\n",
            "      Epoch    GPU_mem   box_loss   cls_loss   dfl_loss  Instances       Size\n"
          ]
        },
        {
          "output_type": "stream",
          "name": "stderr",
          "text": [
            "    136/200      4.31G     0.7601     0.9209      1.223         23        640: 100%|██████████| 81/81 [00:25<00:00,  3.22it/s]\n",
            "                 Class     Images  Instances      Box(P          R      mAP50  mAP50-95): 100%|██████████| 6/6 [00:01<00:00,  4.38it/s]"
          ]
        },
        {
          "output_type": "stream",
          "name": "stdout",
          "text": [
            "                   all         93        107      0.726      0.774      0.754      0.568\n"
          ]
        },
        {
          "output_type": "stream",
          "name": "stderr",
          "text": [
            "\n"
          ]
        },
        {
          "output_type": "stream",
          "name": "stdout",
          "text": [
            "\n",
            "      Epoch    GPU_mem   box_loss   cls_loss   dfl_loss  Instances       Size\n"
          ]
        },
        {
          "output_type": "stream",
          "name": "stderr",
          "text": [
            "    137/200      4.32G     0.7689      0.953      1.217         21        640: 100%|██████████| 81/81 [00:25<00:00,  3.23it/s]\n",
            "                 Class     Images  Instances      Box(P          R      mAP50  mAP50-95): 100%|██████████| 6/6 [00:01<00:00,  4.34it/s]"
          ]
        },
        {
          "output_type": "stream",
          "name": "stdout",
          "text": [
            "                   all         93        107      0.783      0.721      0.748      0.551\n"
          ]
        },
        {
          "output_type": "stream",
          "name": "stderr",
          "text": [
            "\n"
          ]
        },
        {
          "output_type": "stream",
          "name": "stdout",
          "text": [
            "\n",
            "      Epoch    GPU_mem   box_loss   cls_loss   dfl_loss  Instances       Size\n"
          ]
        },
        {
          "output_type": "stream",
          "name": "stderr",
          "text": [
            "    138/200      4.32G     0.7269     0.9014      1.199         18        640: 100%|██████████| 81/81 [00:25<00:00,  3.24it/s]\n",
            "                 Class     Images  Instances      Box(P          R      mAP50  mAP50-95): 100%|██████████| 6/6 [00:01<00:00,  4.30it/s]"
          ]
        },
        {
          "output_type": "stream",
          "name": "stdout",
          "text": [
            "                   all         93        107      0.743      0.726      0.712       0.51\n"
          ]
        },
        {
          "output_type": "stream",
          "name": "stderr",
          "text": [
            "\n"
          ]
        },
        {
          "output_type": "stream",
          "name": "stdout",
          "text": [
            "\n",
            "      Epoch    GPU_mem   box_loss   cls_loss   dfl_loss  Instances       Size\n"
          ]
        },
        {
          "output_type": "stream",
          "name": "stderr",
          "text": [
            "    139/200      4.31G      0.745     0.9272      1.217         21        640: 100%|██████████| 81/81 [00:25<00:00,  3.23it/s]\n",
            "                 Class     Images  Instances      Box(P          R      mAP50  mAP50-95): 100%|██████████| 6/6 [00:01<00:00,  4.34it/s]"
          ]
        },
        {
          "output_type": "stream",
          "name": "stdout",
          "text": [
            "                   all         93        107      0.814      0.679      0.737      0.534\n"
          ]
        },
        {
          "output_type": "stream",
          "name": "stderr",
          "text": [
            "\n"
          ]
        },
        {
          "output_type": "stream",
          "name": "stdout",
          "text": [
            "\n",
            "      Epoch    GPU_mem   box_loss   cls_loss   dfl_loss  Instances       Size\n"
          ]
        },
        {
          "output_type": "stream",
          "name": "stderr",
          "text": [
            "    140/200      4.32G     0.6897     0.8508      1.184         36        640: 100%|██████████| 81/81 [00:24<00:00,  3.26it/s]\n",
            "                 Class     Images  Instances      Box(P          R      mAP50  mAP50-95): 100%|██████████| 6/6 [00:01<00:00,  3.66it/s]"
          ]
        },
        {
          "output_type": "stream",
          "name": "stdout",
          "text": [
            "                   all         93        107      0.782      0.667      0.708      0.516\n"
          ]
        },
        {
          "output_type": "stream",
          "name": "stderr",
          "text": [
            "\n"
          ]
        },
        {
          "output_type": "stream",
          "name": "stdout",
          "text": [
            "\n",
            "      Epoch    GPU_mem   box_loss   cls_loss   dfl_loss  Instances       Size\n"
          ]
        },
        {
          "output_type": "stream",
          "name": "stderr",
          "text": [
            "    141/200      4.31G     0.7186     0.8744      1.187         24        640: 100%|██████████| 81/81 [00:25<00:00,  3.22it/s]\n",
            "                 Class     Images  Instances      Box(P          R      mAP50  mAP50-95): 100%|██████████| 6/6 [00:01<00:00,  4.28it/s]"
          ]
        },
        {
          "output_type": "stream",
          "name": "stdout",
          "text": [
            "                   all         93        107      0.711      0.731      0.733      0.518\n"
          ]
        },
        {
          "output_type": "stream",
          "name": "stderr",
          "text": [
            "\n"
          ]
        },
        {
          "output_type": "stream",
          "name": "stdout",
          "text": [
            "\n",
            "      Epoch    GPU_mem   box_loss   cls_loss   dfl_loss  Instances       Size\n"
          ]
        },
        {
          "output_type": "stream",
          "name": "stderr",
          "text": [
            "    142/200      4.27G     0.7367     0.9043      1.201         31        640: 100%|██████████| 81/81 [00:24<00:00,  3.26it/s]\n",
            "                 Class     Images  Instances      Box(P          R      mAP50  mAP50-95): 100%|██████████| 6/6 [00:01<00:00,  4.38it/s]"
          ]
        },
        {
          "output_type": "stream",
          "name": "stdout",
          "text": [
            "                   all         93        107      0.675      0.742      0.717      0.528\n"
          ]
        },
        {
          "output_type": "stream",
          "name": "stderr",
          "text": [
            "\n"
          ]
        },
        {
          "output_type": "stream",
          "name": "stdout",
          "text": [
            "\n",
            "      Epoch    GPU_mem   box_loss   cls_loss   dfl_loss  Instances       Size\n"
          ]
        },
        {
          "output_type": "stream",
          "name": "stderr",
          "text": [
            "    143/200      4.32G     0.7022     0.8559      1.179         32        640: 100%|██████████| 81/81 [00:24<00:00,  3.24it/s]\n",
            "                 Class     Images  Instances      Box(P          R      mAP50  mAP50-95): 100%|██████████| 6/6 [00:01<00:00,  4.40it/s]"
          ]
        },
        {
          "output_type": "stream",
          "name": "stdout",
          "text": [
            "                   all         93        107      0.732      0.727      0.724      0.538\n"
          ]
        },
        {
          "output_type": "stream",
          "name": "stderr",
          "text": [
            "\n"
          ]
        },
        {
          "output_type": "stream",
          "name": "stdout",
          "text": [
            "\n",
            "      Epoch    GPU_mem   box_loss   cls_loss   dfl_loss  Instances       Size\n"
          ]
        },
        {
          "output_type": "stream",
          "name": "stderr",
          "text": [
            "    144/200      4.31G      0.738     0.9146      1.209         23        640: 100%|██████████| 81/81 [00:25<00:00,  3.22it/s]\n",
            "                 Class     Images  Instances      Box(P          R      mAP50  mAP50-95): 100%|██████████| 6/6 [00:01<00:00,  4.34it/s]"
          ]
        },
        {
          "output_type": "stream",
          "name": "stdout",
          "text": [
            "                   all         93        107      0.723      0.755      0.755      0.545\n"
          ]
        },
        {
          "output_type": "stream",
          "name": "stderr",
          "text": [
            "\n"
          ]
        },
        {
          "output_type": "stream",
          "name": "stdout",
          "text": [
            "\n",
            "      Epoch    GPU_mem   box_loss   cls_loss   dfl_loss  Instances       Size\n"
          ]
        },
        {
          "output_type": "stream",
          "name": "stderr",
          "text": [
            "    145/200      4.32G     0.7348      0.875      1.203         21        640: 100%|██████████| 81/81 [00:24<00:00,  3.25it/s]\n",
            "                 Class     Images  Instances      Box(P          R      mAP50  mAP50-95): 100%|██████████| 6/6 [00:01<00:00,  4.39it/s]"
          ]
        },
        {
          "output_type": "stream",
          "name": "stdout",
          "text": [
            "                   all         93        107      0.813      0.725      0.756       0.55\n"
          ]
        },
        {
          "output_type": "stream",
          "name": "stderr",
          "text": [
            "\n"
          ]
        },
        {
          "output_type": "stream",
          "name": "stdout",
          "text": [
            "\n",
            "      Epoch    GPU_mem   box_loss   cls_loss   dfl_loss  Instances       Size\n"
          ]
        },
        {
          "output_type": "stream",
          "name": "stderr",
          "text": [
            "    146/200      4.32G     0.7513     0.8914      1.213         29        640: 100%|██████████| 81/81 [00:24<00:00,  3.26it/s]\n",
            "                 Class     Images  Instances      Box(P          R      mAP50  mAP50-95): 100%|██████████| 6/6 [00:01<00:00,  4.36it/s]"
          ]
        },
        {
          "output_type": "stream",
          "name": "stdout",
          "text": [
            "                   all         93        107        0.8      0.722      0.758      0.528\n"
          ]
        },
        {
          "output_type": "stream",
          "name": "stderr",
          "text": [
            "\n"
          ]
        },
        {
          "output_type": "stream",
          "name": "stdout",
          "text": [
            "\n",
            "      Epoch    GPU_mem   box_loss   cls_loss   dfl_loss  Instances       Size\n"
          ]
        },
        {
          "output_type": "stream",
          "name": "stderr",
          "text": [
            "    147/200      4.31G     0.7159     0.8719      1.199         23        640: 100%|██████████| 81/81 [00:24<00:00,  3.25it/s]\n",
            "                 Class     Images  Instances      Box(P          R      mAP50  mAP50-95): 100%|██████████| 6/6 [00:01<00:00,  3.53it/s]"
          ]
        },
        {
          "output_type": "stream",
          "name": "stdout",
          "text": [
            "                   all         93        107      0.739      0.728      0.768      0.532\n"
          ]
        },
        {
          "output_type": "stream",
          "name": "stderr",
          "text": [
            "\n"
          ]
        },
        {
          "output_type": "stream",
          "name": "stdout",
          "text": [
            "\n",
            "      Epoch    GPU_mem   box_loss   cls_loss   dfl_loss  Instances       Size\n"
          ]
        },
        {
          "output_type": "stream",
          "name": "stderr",
          "text": [
            "    148/200      4.32G     0.7264     0.8812      1.191         20        640: 100%|██████████| 81/81 [00:24<00:00,  3.24it/s]\n",
            "                 Class     Images  Instances      Box(P          R      mAP50  mAP50-95): 100%|██████████| 6/6 [00:01<00:00,  4.31it/s]"
          ]
        },
        {
          "output_type": "stream",
          "name": "stdout",
          "text": [
            "                   all         93        107      0.796      0.763      0.762      0.537\n"
          ]
        },
        {
          "output_type": "stream",
          "name": "stderr",
          "text": [
            "\n"
          ]
        },
        {
          "output_type": "stream",
          "name": "stdout",
          "text": [
            "\n",
            "      Epoch    GPU_mem   box_loss   cls_loss   dfl_loss  Instances       Size\n"
          ]
        },
        {
          "output_type": "stream",
          "name": "stderr",
          "text": [
            "    149/200      4.32G     0.6888     0.8521      1.172         27        640: 100%|██████████| 81/81 [00:25<00:00,  3.22it/s]\n",
            "                 Class     Images  Instances      Box(P          R      mAP50  mAP50-95): 100%|██████████| 6/6 [00:01<00:00,  4.30it/s]"
          ]
        },
        {
          "output_type": "stream",
          "name": "stdout",
          "text": [
            "                   all         93        107       0.72      0.733      0.696      0.508\n"
          ]
        },
        {
          "output_type": "stream",
          "name": "stderr",
          "text": [
            "\n"
          ]
        },
        {
          "output_type": "stream",
          "name": "stdout",
          "text": [
            "\n",
            "      Epoch    GPU_mem   box_loss   cls_loss   dfl_loss  Instances       Size\n"
          ]
        },
        {
          "output_type": "stream",
          "name": "stderr",
          "text": [
            "    150/200      4.27G     0.7149     0.8675      1.192         32        640: 100%|██████████| 81/81 [00:24<00:00,  3.26it/s]\n",
            "                 Class     Images  Instances      Box(P          R      mAP50  mAP50-95): 100%|██████████| 6/6 [00:01<00:00,  4.40it/s]"
          ]
        },
        {
          "output_type": "stream",
          "name": "stdout",
          "text": [
            "                   all         93        107       0.66      0.673      0.706      0.514\n"
          ]
        },
        {
          "output_type": "stream",
          "name": "stderr",
          "text": [
            "\n"
          ]
        },
        {
          "output_type": "stream",
          "name": "stdout",
          "text": [
            "\n",
            "      Epoch    GPU_mem   box_loss   cls_loss   dfl_loss  Instances       Size\n"
          ]
        },
        {
          "output_type": "stream",
          "name": "stderr",
          "text": [
            "    151/200      4.31G     0.6886     0.8412      1.172         23        640: 100%|██████████| 81/81 [00:24<00:00,  3.24it/s]\n",
            "                 Class     Images  Instances      Box(P          R      mAP50  mAP50-95): 100%|██████████| 6/6 [00:01<00:00,  4.29it/s]"
          ]
        },
        {
          "output_type": "stream",
          "name": "stdout",
          "text": [
            "                   all         93        107      0.764      0.711       0.74      0.541\n"
          ]
        },
        {
          "output_type": "stream",
          "name": "stderr",
          "text": [
            "\n"
          ]
        },
        {
          "output_type": "stream",
          "name": "stdout",
          "text": [
            "\n",
            "      Epoch    GPU_mem   box_loss   cls_loss   dfl_loss  Instances       Size\n"
          ]
        },
        {
          "output_type": "stream",
          "name": "stderr",
          "text": [
            "    152/200      4.32G      0.706     0.8433      1.172         30        640: 100%|██████████| 81/81 [00:25<00:00,  3.23it/s]\n",
            "                 Class     Images  Instances      Box(P          R      mAP50  mAP50-95): 100%|██████████| 6/6 [00:01<00:00,  4.29it/s]"
          ]
        },
        {
          "output_type": "stream",
          "name": "stdout",
          "text": [
            "                   all         93        107      0.714      0.725      0.749      0.557\n"
          ]
        },
        {
          "output_type": "stream",
          "name": "stderr",
          "text": [
            "\n"
          ]
        },
        {
          "output_type": "stream",
          "name": "stdout",
          "text": [
            "\n",
            "      Epoch    GPU_mem   box_loss   cls_loss   dfl_loss  Instances       Size\n"
          ]
        },
        {
          "output_type": "stream",
          "name": "stderr",
          "text": [
            "    153/200      4.31G     0.6969     0.8432      1.172         23        640: 100%|██████████| 81/81 [00:24<00:00,  3.26it/s]\n",
            "                 Class     Images  Instances      Box(P          R      mAP50  mAP50-95): 100%|██████████| 6/6 [00:01<00:00,  4.34it/s]"
          ]
        },
        {
          "output_type": "stream",
          "name": "stdout",
          "text": [
            "                   all         93        107      0.618      0.783      0.743      0.563\n"
          ]
        },
        {
          "output_type": "stream",
          "name": "stderr",
          "text": [
            "\n"
          ]
        },
        {
          "output_type": "stream",
          "name": "stdout",
          "text": [
            "\n",
            "      Epoch    GPU_mem   box_loss   cls_loss   dfl_loss  Instances       Size\n"
          ]
        },
        {
          "output_type": "stream",
          "name": "stderr",
          "text": [
            "    154/200      4.32G      0.718     0.8599      1.177         14        640: 100%|██████████| 81/81 [00:24<00:00,  3.25it/s]\n",
            "                 Class     Images  Instances      Box(P          R      mAP50  mAP50-95): 100%|██████████| 6/6 [00:01<00:00,  3.53it/s]"
          ]
        },
        {
          "output_type": "stream",
          "name": "stdout",
          "text": [
            "                   all         93        107      0.789      0.684      0.737      0.536\n"
          ]
        },
        {
          "output_type": "stream",
          "name": "stderr",
          "text": [
            "\n"
          ]
        },
        {
          "output_type": "stream",
          "name": "stdout",
          "text": [
            "\n",
            "      Epoch    GPU_mem   box_loss   cls_loss   dfl_loss  Instances       Size\n"
          ]
        },
        {
          "output_type": "stream",
          "name": "stderr",
          "text": [
            "    155/200      4.31G     0.7073     0.8567       1.19         23        640: 100%|██████████| 81/81 [00:24<00:00,  3.25it/s]\n",
            "                 Class     Images  Instances      Box(P          R      mAP50  mAP50-95): 100%|██████████| 6/6 [00:01<00:00,  4.27it/s]"
          ]
        },
        {
          "output_type": "stream",
          "name": "stdout",
          "text": [
            "                   all         93        107       0.72      0.752      0.739      0.559\n"
          ]
        },
        {
          "output_type": "stream",
          "name": "stderr",
          "text": [
            "\n"
          ]
        },
        {
          "output_type": "stream",
          "name": "stdout",
          "text": [
            "\n",
            "      Epoch    GPU_mem   box_loss   cls_loss   dfl_loss  Instances       Size\n"
          ]
        },
        {
          "output_type": "stream",
          "name": "stderr",
          "text": [
            "    156/200      4.32G     0.7008     0.8405      1.179         24        640: 100%|██████████| 81/81 [00:25<00:00,  3.21it/s]\n",
            "                 Class     Images  Instances      Box(P          R      mAP50  mAP50-95): 100%|██████████| 6/6 [00:01<00:00,  4.35it/s]"
          ]
        },
        {
          "output_type": "stream",
          "name": "stdout",
          "text": [
            "                   all         93        107      0.759      0.766      0.777      0.576\n"
          ]
        },
        {
          "output_type": "stream",
          "name": "stderr",
          "text": [
            "\n"
          ]
        },
        {
          "output_type": "stream",
          "name": "stdout",
          "text": [
            "\n",
            "      Epoch    GPU_mem   box_loss   cls_loss   dfl_loss  Instances       Size\n"
          ]
        },
        {
          "output_type": "stream",
          "name": "stderr",
          "text": [
            "    157/200      4.31G     0.7219     0.8304      1.198         21        640: 100%|██████████| 81/81 [00:25<00:00,  3.24it/s]\n",
            "                 Class     Images  Instances      Box(P          R      mAP50  mAP50-95): 100%|██████████| 6/6 [00:01<00:00,  4.32it/s]"
          ]
        },
        {
          "output_type": "stream",
          "name": "stdout",
          "text": [
            "                   all         93        107      0.811      0.729      0.749       0.57\n"
          ]
        },
        {
          "output_type": "stream",
          "name": "stderr",
          "text": [
            "\n"
          ]
        },
        {
          "output_type": "stream",
          "name": "stdout",
          "text": [
            "\n",
            "      Epoch    GPU_mem   box_loss   cls_loss   dfl_loss  Instances       Size\n"
          ]
        },
        {
          "output_type": "stream",
          "name": "stderr",
          "text": [
            "    158/200      4.27G     0.6984      0.835      1.164         23        640: 100%|██████████| 81/81 [00:25<00:00,  3.22it/s]\n",
            "                 Class     Images  Instances      Box(P          R      mAP50  mAP50-95): 100%|██████████| 6/6 [00:01<00:00,  4.32it/s]"
          ]
        },
        {
          "output_type": "stream",
          "name": "stdout",
          "text": [
            "                   all         93        107      0.713      0.741      0.745      0.554\n"
          ]
        },
        {
          "output_type": "stream",
          "name": "stderr",
          "text": [
            "\n"
          ]
        },
        {
          "output_type": "stream",
          "name": "stdout",
          "text": [
            "\n",
            "      Epoch    GPU_mem   box_loss   cls_loss   dfl_loss  Instances       Size\n"
          ]
        },
        {
          "output_type": "stream",
          "name": "stderr",
          "text": [
            "    159/200      4.32G     0.6828     0.8239      1.156         20        640: 100%|██████████| 81/81 [00:25<00:00,  3.22it/s]\n",
            "                 Class     Images  Instances      Box(P          R      mAP50  mAP50-95): 100%|██████████| 6/6 [00:01<00:00,  4.27it/s]"
          ]
        },
        {
          "output_type": "stream",
          "name": "stdout",
          "text": [
            "                   all         93        107      0.746      0.719      0.748       0.57\n"
          ]
        },
        {
          "output_type": "stream",
          "name": "stderr",
          "text": [
            "\n"
          ]
        },
        {
          "output_type": "stream",
          "name": "stdout",
          "text": [
            "\n",
            "      Epoch    GPU_mem   box_loss   cls_loss   dfl_loss  Instances       Size\n"
          ]
        },
        {
          "output_type": "stream",
          "name": "stderr",
          "text": [
            "    160/200      4.32G     0.6988     0.8326      1.178         33        640: 100%|██████████| 81/81 [00:25<00:00,  3.22it/s]\n",
            "                 Class     Images  Instances      Box(P          R      mAP50  mAP50-95): 100%|██████████| 6/6 [00:01<00:00,  4.37it/s]"
          ]
        },
        {
          "output_type": "stream",
          "name": "stdout",
          "text": [
            "                   all         93        107      0.796      0.754      0.751      0.562\n"
          ]
        },
        {
          "output_type": "stream",
          "name": "stderr",
          "text": [
            "\n"
          ]
        },
        {
          "output_type": "stream",
          "name": "stdout",
          "text": [
            "\n",
            "      Epoch    GPU_mem   box_loss   cls_loss   dfl_loss  Instances       Size\n"
          ]
        },
        {
          "output_type": "stream",
          "name": "stderr",
          "text": [
            "    161/200      4.31G     0.7035     0.8099      1.169         30        640: 100%|██████████| 81/81 [00:24<00:00,  3.26it/s]\n",
            "                 Class     Images  Instances      Box(P          R      mAP50  mAP50-95): 100%|██████████| 6/6 [00:01<00:00,  3.38it/s]"
          ]
        },
        {
          "output_type": "stream",
          "name": "stdout",
          "text": [
            "                   all         93        107      0.796      0.738      0.735      0.547\n"
          ]
        },
        {
          "output_type": "stream",
          "name": "stderr",
          "text": [
            "\n"
          ]
        },
        {
          "output_type": "stream",
          "name": "stdout",
          "text": [
            "\n",
            "      Epoch    GPU_mem   box_loss   cls_loss   dfl_loss  Instances       Size\n"
          ]
        },
        {
          "output_type": "stream",
          "name": "stderr",
          "text": [
            "    162/200      4.31G     0.7103     0.8321      1.187         22        640: 100%|██████████| 81/81 [00:24<00:00,  3.25it/s]\n",
            "                 Class     Images  Instances      Box(P          R      mAP50  mAP50-95): 100%|██████████| 6/6 [00:01<00:00,  4.32it/s]"
          ]
        },
        {
          "output_type": "stream",
          "name": "stdout",
          "text": [
            "                   all         93        107      0.828      0.689      0.748      0.565\n"
          ]
        },
        {
          "output_type": "stream",
          "name": "stderr",
          "text": [
            "\n"
          ]
        },
        {
          "output_type": "stream",
          "name": "stdout",
          "text": [
            "\n",
            "      Epoch    GPU_mem   box_loss   cls_loss   dfl_loss  Instances       Size\n"
          ]
        },
        {
          "output_type": "stream",
          "name": "stderr",
          "text": [
            "    163/200      4.32G     0.6927     0.8024      1.171         22        640: 100%|██████████| 81/81 [00:25<00:00,  3.23it/s]\n",
            "                 Class     Images  Instances      Box(P          R      mAP50  mAP50-95): 100%|██████████| 6/6 [00:01<00:00,  4.37it/s]"
          ]
        },
        {
          "output_type": "stream",
          "name": "stdout",
          "text": [
            "                   all         93        107      0.785      0.718      0.715      0.542\n"
          ]
        },
        {
          "output_type": "stream",
          "name": "stderr",
          "text": [
            "\n"
          ]
        },
        {
          "output_type": "stream",
          "name": "stdout",
          "text": [
            "\n",
            "      Epoch    GPU_mem   box_loss   cls_loss   dfl_loss  Instances       Size\n"
          ]
        },
        {
          "output_type": "stream",
          "name": "stderr",
          "text": [
            "    164/200      4.32G     0.6758     0.8116      1.165         27        640: 100%|██████████| 81/81 [00:25<00:00,  3.20it/s]\n",
            "                 Class     Images  Instances      Box(P          R      mAP50  mAP50-95): 100%|██████████| 6/6 [00:01<00:00,  4.27it/s]"
          ]
        },
        {
          "output_type": "stream",
          "name": "stdout",
          "text": [
            "                   all         93        107      0.732      0.754      0.751      0.551\n"
          ]
        },
        {
          "output_type": "stream",
          "name": "stderr",
          "text": [
            "\n"
          ]
        },
        {
          "output_type": "stream",
          "name": "stdout",
          "text": [
            "\n",
            "      Epoch    GPU_mem   box_loss   cls_loss   dfl_loss  Instances       Size\n"
          ]
        },
        {
          "output_type": "stream",
          "name": "stderr",
          "text": [
            "    165/200      4.31G     0.6782     0.7971      1.163         25        640: 100%|██████████| 81/81 [00:24<00:00,  3.24it/s]\n",
            "                 Class     Images  Instances      Box(P          R      mAP50  mAP50-95): 100%|██████████| 6/6 [00:01<00:00,  4.28it/s]"
          ]
        },
        {
          "output_type": "stream",
          "name": "stdout",
          "text": [
            "                   all         93        107      0.759      0.675      0.706      0.512\n"
          ]
        },
        {
          "output_type": "stream",
          "name": "stderr",
          "text": [
            "\n"
          ]
        },
        {
          "output_type": "stream",
          "name": "stdout",
          "text": [
            "\n",
            "      Epoch    GPU_mem   box_loss   cls_loss   dfl_loss  Instances       Size\n"
          ]
        },
        {
          "output_type": "stream",
          "name": "stderr",
          "text": [
            "    166/200      4.27G     0.6608     0.7866      1.143         31        640: 100%|██████████| 81/81 [00:25<00:00,  3.23it/s]\n",
            "                 Class     Images  Instances      Box(P          R      mAP50  mAP50-95): 100%|██████████| 6/6 [00:01<00:00,  4.30it/s]"
          ]
        },
        {
          "output_type": "stream",
          "name": "stdout",
          "text": [
            "                   all         93        107      0.719      0.669      0.713      0.524\n"
          ]
        },
        {
          "output_type": "stream",
          "name": "stderr",
          "text": [
            "\n"
          ]
        },
        {
          "output_type": "stream",
          "name": "stdout",
          "text": [
            "\n",
            "      Epoch    GPU_mem   box_loss   cls_loss   dfl_loss  Instances       Size\n"
          ]
        },
        {
          "output_type": "stream",
          "name": "stderr",
          "text": [
            "    167/200      4.31G      0.707     0.8069      1.178         23        640: 100%|██████████| 81/81 [00:25<00:00,  3.22it/s]\n",
            "                 Class     Images  Instances      Box(P          R      mAP50  mAP50-95): 100%|██████████| 6/6 [00:01<00:00,  3.87it/s]"
          ]
        },
        {
          "output_type": "stream",
          "name": "stdout",
          "text": [
            "                   all         93        107      0.821      0.697      0.718      0.539\n"
          ]
        },
        {
          "output_type": "stream",
          "name": "stderr",
          "text": [
            "\n"
          ]
        },
        {
          "output_type": "stream",
          "name": "stdout",
          "text": [
            "\n",
            "      Epoch    GPU_mem   box_loss   cls_loss   dfl_loss  Instances       Size\n"
          ]
        },
        {
          "output_type": "stream",
          "name": "stderr",
          "text": [
            "    168/200      4.31G     0.6945     0.7959      1.185         25        640: 100%|██████████| 81/81 [00:24<00:00,  3.27it/s]\n",
            "                 Class     Images  Instances      Box(P          R      mAP50  mAP50-95): 100%|██████████| 6/6 [00:01<00:00,  3.83it/s]"
          ]
        },
        {
          "output_type": "stream",
          "name": "stdout",
          "text": [
            "                   all         93        107      0.674      0.761      0.729      0.545\n"
          ]
        },
        {
          "output_type": "stream",
          "name": "stderr",
          "text": [
            "\n"
          ]
        },
        {
          "output_type": "stream",
          "name": "stdout",
          "text": [
            "\n",
            "      Epoch    GPU_mem   box_loss   cls_loss   dfl_loss  Instances       Size\n"
          ]
        },
        {
          "output_type": "stream",
          "name": "stderr",
          "text": [
            "    169/200      4.32G     0.6642     0.7582       1.14         20        640: 100%|██████████| 81/81 [00:24<00:00,  3.24it/s]\n",
            "                 Class     Images  Instances      Box(P          R      mAP50  mAP50-95): 100%|██████████| 6/6 [00:01<00:00,  4.31it/s]"
          ]
        },
        {
          "output_type": "stream",
          "name": "stdout",
          "text": [
            "                   all         93        107      0.809      0.727      0.759      0.576\n"
          ]
        },
        {
          "output_type": "stream",
          "name": "stderr",
          "text": [
            "\n"
          ]
        },
        {
          "output_type": "stream",
          "name": "stdout",
          "text": [
            "\n",
            "      Epoch    GPU_mem   box_loss   cls_loss   dfl_loss  Instances       Size\n"
          ]
        },
        {
          "output_type": "stream",
          "name": "stderr",
          "text": [
            "    170/200      4.31G     0.6607     0.7722      1.164         32        640: 100%|██████████| 81/81 [00:25<00:00,  3.24it/s]\n",
            "                 Class     Images  Instances      Box(P          R      mAP50  mAP50-95): 100%|██████████| 6/6 [00:01<00:00,  4.30it/s]"
          ]
        },
        {
          "output_type": "stream",
          "name": "stdout",
          "text": [
            "                   all         93        107      0.734      0.742      0.745      0.557\n"
          ]
        },
        {
          "output_type": "stream",
          "name": "stderr",
          "text": [
            "\n"
          ]
        },
        {
          "output_type": "stream",
          "name": "stdout",
          "text": [
            "\n",
            "      Epoch    GPU_mem   box_loss   cls_loss   dfl_loss  Instances       Size\n"
          ]
        },
        {
          "output_type": "stream",
          "name": "stderr",
          "text": [
            "    171/200      4.32G     0.6774     0.7811      1.161         28        640: 100%|██████████| 81/81 [00:24<00:00,  3.25it/s]\n",
            "                 Class     Images  Instances      Box(P          R      mAP50  mAP50-95): 100%|██████████| 6/6 [00:01<00:00,  4.38it/s]\n"
          ]
        },
        {
          "output_type": "stream",
          "name": "stdout",
          "text": [
            "                   all         93        107       0.75      0.752      0.749      0.553\n",
            "\n",
            "      Epoch    GPU_mem   box_loss   cls_loss   dfl_loss  Instances       Size\n"
          ]
        },
        {
          "output_type": "stream",
          "name": "stderr",
          "text": [
            "    172/200      4.32G     0.6717     0.7842      1.169         23        640: 100%|██████████| 81/81 [00:24<00:00,  3.24it/s]\n",
            "                 Class     Images  Instances      Box(P          R      mAP50  mAP50-95): 100%|██████████| 6/6 [00:01<00:00,  4.35it/s]"
          ]
        },
        {
          "output_type": "stream",
          "name": "stdout",
          "text": [
            "                   all         93        107      0.773      0.749      0.775      0.563\n"
          ]
        },
        {
          "output_type": "stream",
          "name": "stderr",
          "text": [
            "\n"
          ]
        },
        {
          "output_type": "stream",
          "name": "stdout",
          "text": [
            "\n",
            "      Epoch    GPU_mem   box_loss   cls_loss   dfl_loss  Instances       Size\n"
          ]
        },
        {
          "output_type": "stream",
          "name": "stderr",
          "text": [
            "    173/200      4.31G     0.6548     0.7481      1.144         15        640: 100%|██████████| 81/81 [00:25<00:00,  3.24it/s]\n",
            "                 Class     Images  Instances      Box(P          R      mAP50  mAP50-95): 100%|██████████| 6/6 [00:01<00:00,  4.37it/s]"
          ]
        },
        {
          "output_type": "stream",
          "name": "stdout",
          "text": [
            "                   all         93        107      0.818       0.77      0.753      0.548\n"
          ]
        },
        {
          "output_type": "stream",
          "name": "stderr",
          "text": [
            "\n"
          ]
        },
        {
          "output_type": "stream",
          "name": "stdout",
          "text": [
            "\n",
            "      Epoch    GPU_mem   box_loss   cls_loss   dfl_loss  Instances       Size\n"
          ]
        },
        {
          "output_type": "stream",
          "name": "stderr",
          "text": [
            "    174/200      4.27G     0.6622     0.7577      1.152         25        640: 100%|██████████| 81/81 [00:24<00:00,  3.25it/s]\n",
            "                 Class     Images  Instances      Box(P          R      mAP50  mAP50-95): 100%|██████████| 6/6 [00:01<00:00,  3.93it/s]"
          ]
        },
        {
          "output_type": "stream",
          "name": "stdout",
          "text": [
            "                   all         93        107      0.779      0.771       0.75      0.561\n"
          ]
        },
        {
          "output_type": "stream",
          "name": "stderr",
          "text": [
            "\n"
          ]
        },
        {
          "output_type": "stream",
          "name": "stdout",
          "text": [
            "\n",
            "      Epoch    GPU_mem   box_loss   cls_loss   dfl_loss  Instances       Size\n"
          ]
        },
        {
          "output_type": "stream",
          "name": "stderr",
          "text": [
            "    175/200      4.32G     0.6496     0.7392      1.151         25        640: 100%|██████████| 81/81 [00:24<00:00,  3.28it/s]\n",
            "                 Class     Images  Instances      Box(P          R      mAP50  mAP50-95): 100%|██████████| 6/6 [00:01<00:00,  3.54it/s]"
          ]
        },
        {
          "output_type": "stream",
          "name": "stdout",
          "text": [
            "                   all         93        107      0.795      0.732      0.732      0.546\n"
          ]
        },
        {
          "output_type": "stream",
          "name": "stderr",
          "text": [
            "\n"
          ]
        },
        {
          "output_type": "stream",
          "name": "stdout",
          "text": [
            "\n",
            "      Epoch    GPU_mem   box_loss   cls_loss   dfl_loss  Instances       Size\n"
          ]
        },
        {
          "output_type": "stream",
          "name": "stderr",
          "text": [
            "    176/200      4.32G     0.6494     0.7311      1.135         26        640: 100%|██████████| 81/81 [00:25<00:00,  3.23it/s]\n",
            "                 Class     Images  Instances      Box(P          R      mAP50  mAP50-95): 100%|██████████| 6/6 [00:01<00:00,  4.36it/s]"
          ]
        },
        {
          "output_type": "stream",
          "name": "stdout",
          "text": [
            "                   all         93        107      0.778      0.751      0.741      0.563\n"
          ]
        },
        {
          "output_type": "stream",
          "name": "stderr",
          "text": [
            "\n"
          ]
        },
        {
          "output_type": "stream",
          "name": "stdout",
          "text": [
            "\n",
            "      Epoch    GPU_mem   box_loss   cls_loss   dfl_loss  Instances       Size\n"
          ]
        },
        {
          "output_type": "stream",
          "name": "stderr",
          "text": [
            "    177/200      4.31G     0.6377     0.7286      1.126         19        640: 100%|██████████| 81/81 [00:24<00:00,  3.25it/s]\n",
            "                 Class     Images  Instances      Box(P          R      mAP50  mAP50-95): 100%|██████████| 6/6 [00:01<00:00,  4.42it/s]"
          ]
        },
        {
          "output_type": "stream",
          "name": "stdout",
          "text": [
            "                   all         93        107      0.809      0.706      0.706      0.523\n"
          ]
        },
        {
          "output_type": "stream",
          "name": "stderr",
          "text": [
            "\n"
          ]
        },
        {
          "output_type": "stream",
          "name": "stdout",
          "text": [
            "\n",
            "      Epoch    GPU_mem   box_loss   cls_loss   dfl_loss  Instances       Size\n"
          ]
        },
        {
          "output_type": "stream",
          "name": "stderr",
          "text": [
            "    178/200      4.31G     0.6504     0.7442      1.135         35        640: 100%|██████████| 81/81 [00:24<00:00,  3.24it/s]\n",
            "                 Class     Images  Instances      Box(P          R      mAP50  mAP50-95): 100%|██████████| 6/6 [00:01<00:00,  4.40it/s]"
          ]
        },
        {
          "output_type": "stream",
          "name": "stdout",
          "text": [
            "                   all         93        107      0.755      0.746      0.728      0.538\n"
          ]
        },
        {
          "output_type": "stream",
          "name": "stderr",
          "text": [
            "\n"
          ]
        },
        {
          "output_type": "stream",
          "name": "stdout",
          "text": [
            "\n",
            "      Epoch    GPU_mem   box_loss   cls_loss   dfl_loss  Instances       Size\n"
          ]
        },
        {
          "output_type": "stream",
          "name": "stderr",
          "text": [
            "    179/200      4.32G     0.6331     0.7069       1.13         26        640: 100%|██████████| 81/81 [00:24<00:00,  3.25it/s]\n",
            "                 Class     Images  Instances      Box(P          R      mAP50  mAP50-95): 100%|██████████| 6/6 [00:01<00:00,  4.35it/s]"
          ]
        },
        {
          "output_type": "stream",
          "name": "stdout",
          "text": [
            "                   all         93        107      0.847      0.671       0.71      0.525\n"
          ]
        },
        {
          "output_type": "stream",
          "name": "stderr",
          "text": [
            "\n"
          ]
        },
        {
          "output_type": "stream",
          "name": "stdout",
          "text": [
            "\n",
            "      Epoch    GPU_mem   box_loss   cls_loss   dfl_loss  Instances       Size\n"
          ]
        },
        {
          "output_type": "stream",
          "name": "stderr",
          "text": [
            "    180/200      4.31G     0.6375     0.7365      1.139         20        640: 100%|██████████| 81/81 [00:24<00:00,  3.24it/s]\n",
            "                 Class     Images  Instances      Box(P          R      mAP50  mAP50-95): 100%|██████████| 6/6 [00:01<00:00,  4.35it/s]"
          ]
        },
        {
          "output_type": "stream",
          "name": "stdout",
          "text": [
            "                   all         93        107      0.771      0.708      0.743       0.54\n"
          ]
        },
        {
          "output_type": "stream",
          "name": "stderr",
          "text": [
            "\n"
          ]
        },
        {
          "output_type": "stream",
          "name": "stdout",
          "text": [
            "\n",
            "      Epoch    GPU_mem   box_loss   cls_loss   dfl_loss  Instances       Size\n"
          ]
        },
        {
          "output_type": "stream",
          "name": "stderr",
          "text": [
            "    181/200      4.32G     0.6232     0.7281      1.122         35        640: 100%|██████████| 81/81 [00:24<00:00,  3.25it/s]\n",
            "                 Class     Images  Instances      Box(P          R      mAP50  mAP50-95): 100%|██████████| 6/6 [00:01<00:00,  3.66it/s]"
          ]
        },
        {
          "output_type": "stream",
          "name": "stdout",
          "text": [
            "                   all         93        107      0.754      0.776      0.751      0.536\n"
          ]
        },
        {
          "output_type": "stream",
          "name": "stderr",
          "text": [
            "\n"
          ]
        },
        {
          "output_type": "stream",
          "name": "stdout",
          "text": [
            "\n",
            "      Epoch    GPU_mem   box_loss   cls_loss   dfl_loss  Instances       Size\n"
          ]
        },
        {
          "output_type": "stream",
          "name": "stderr",
          "text": [
            "    182/200      4.27G     0.6435     0.7139      1.129         23        640: 100%|██████████| 81/81 [00:24<00:00,  3.24it/s]\n",
            "                 Class     Images  Instances      Box(P          R      mAP50  mAP50-95): 100%|██████████| 6/6 [00:01<00:00,  4.31it/s]"
          ]
        },
        {
          "output_type": "stream",
          "name": "stdout",
          "text": [
            "                   all         93        107      0.821       0.74      0.748      0.553\n"
          ]
        },
        {
          "output_type": "stream",
          "name": "stderr",
          "text": [
            "\n"
          ]
        },
        {
          "output_type": "stream",
          "name": "stdout",
          "text": [
            "\n",
            "      Epoch    GPU_mem   box_loss   cls_loss   dfl_loss  Instances       Size\n"
          ]
        },
        {
          "output_type": "stream",
          "name": "stderr",
          "text": [
            "    183/200      4.31G     0.6319     0.7076      1.131         31        640: 100%|██████████| 81/81 [00:24<00:00,  3.25it/s]\n",
            "                 Class     Images  Instances      Box(P          R      mAP50  mAP50-95): 100%|██████████| 6/6 [00:01<00:00,  4.30it/s]"
          ]
        },
        {
          "output_type": "stream",
          "name": "stdout",
          "text": [
            "                   all         93        107      0.734      0.724      0.716      0.534\n"
          ]
        },
        {
          "output_type": "stream",
          "name": "stderr",
          "text": [
            "\n"
          ]
        },
        {
          "output_type": "stream",
          "name": "stdout",
          "text": [
            "\n",
            "      Epoch    GPU_mem   box_loss   cls_loss   dfl_loss  Instances       Size\n"
          ]
        },
        {
          "output_type": "stream",
          "name": "stderr",
          "text": [
            "    184/200      4.32G     0.6358     0.7072      1.132         23        640: 100%|██████████| 81/81 [00:25<00:00,  3.23it/s]\n",
            "                 Class     Images  Instances      Box(P          R      mAP50  mAP50-95): 100%|██████████| 6/6 [00:01<00:00,  4.35it/s]"
          ]
        },
        {
          "output_type": "stream",
          "name": "stdout",
          "text": [
            "                   all         93        107      0.692      0.795      0.736      0.551\n"
          ]
        },
        {
          "output_type": "stream",
          "name": "stderr",
          "text": [
            "\n"
          ]
        },
        {
          "output_type": "stream",
          "name": "stdout",
          "text": [
            "\n",
            "      Epoch    GPU_mem   box_loss   cls_loss   dfl_loss  Instances       Size\n"
          ]
        },
        {
          "output_type": "stream",
          "name": "stderr",
          "text": [
            "    185/200      4.31G     0.6248     0.7102      1.135         29        640: 100%|██████████| 81/81 [00:25<00:00,  3.23it/s]\n",
            "                 Class     Images  Instances      Box(P          R      mAP50  mAP50-95): 100%|██████████| 6/6 [00:01<00:00,  4.29it/s]"
          ]
        },
        {
          "output_type": "stream",
          "name": "stdout",
          "text": [
            "                   all         93        107      0.746      0.769      0.778      0.551\n"
          ]
        },
        {
          "output_type": "stream",
          "name": "stderr",
          "text": [
            "\n"
          ]
        },
        {
          "output_type": "stream",
          "name": "stdout",
          "text": [
            "\n",
            "      Epoch    GPU_mem   box_loss   cls_loss   dfl_loss  Instances       Size\n"
          ]
        },
        {
          "output_type": "stream",
          "name": "stderr",
          "text": [
            "    186/200      4.32G     0.6335     0.7227      1.129         25        640: 100%|██████████| 81/81 [00:24<00:00,  3.26it/s]\n",
            "                 Class     Images  Instances      Box(P          R      mAP50  mAP50-95): 100%|██████████| 6/6 [00:01<00:00,  4.35it/s]"
          ]
        },
        {
          "output_type": "stream",
          "name": "stdout",
          "text": [
            "                   all         93        107       0.83      0.716      0.736      0.542\n"
          ]
        },
        {
          "output_type": "stream",
          "name": "stderr",
          "text": [
            "\n"
          ]
        },
        {
          "output_type": "stream",
          "name": "stdout",
          "text": [
            "\n",
            "      Epoch    GPU_mem   box_loss   cls_loss   dfl_loss  Instances       Size\n"
          ]
        },
        {
          "output_type": "stream",
          "name": "stderr",
          "text": [
            "    187/200      4.32G     0.6296      0.711      1.131         28        640: 100%|██████████| 81/81 [00:24<00:00,  3.26it/s]\n",
            "                 Class     Images  Instances      Box(P          R      mAP50  mAP50-95): 100%|██████████| 6/6 [00:01<00:00,  4.36it/s]"
          ]
        },
        {
          "output_type": "stream",
          "name": "stdout",
          "text": [
            "                   all         93        107      0.726      0.757      0.747      0.548\n"
          ]
        },
        {
          "output_type": "stream",
          "name": "stderr",
          "text": [
            "\n"
          ]
        },
        {
          "output_type": "stream",
          "name": "stdout",
          "text": [
            "\n",
            "      Epoch    GPU_mem   box_loss   cls_loss   dfl_loss  Instances       Size\n"
          ]
        },
        {
          "output_type": "stream",
          "name": "stderr",
          "text": [
            "    188/200      4.32G     0.6383     0.6897      1.135         17        640: 100%|██████████| 81/81 [00:24<00:00,  3.27it/s]\n",
            "                 Class     Images  Instances      Box(P          R      mAP50  mAP50-95): 100%|██████████| 6/6 [00:01<00:00,  3.54it/s]"
          ]
        },
        {
          "output_type": "stream",
          "name": "stdout",
          "text": [
            "                   all         93        107      0.776      0.763      0.739      0.555\n"
          ]
        },
        {
          "output_type": "stream",
          "name": "stderr",
          "text": [
            "\n"
          ]
        },
        {
          "output_type": "stream",
          "name": "stdout",
          "text": [
            "\n",
            "      Epoch    GPU_mem   box_loss   cls_loss   dfl_loss  Instances       Size\n"
          ]
        },
        {
          "output_type": "stream",
          "name": "stderr",
          "text": [
            "    189/200      4.31G     0.6404     0.6999      1.127         22        640: 100%|██████████| 81/81 [00:24<00:00,  3.25it/s]\n",
            "                 Class     Images  Instances      Box(P          R      mAP50  mAP50-95): 100%|██████████| 6/6 [00:01<00:00,  4.28it/s]"
          ]
        },
        {
          "output_type": "stream",
          "name": "stdout",
          "text": [
            "                   all         93        107      0.862      0.697      0.753      0.567\n"
          ]
        },
        {
          "output_type": "stream",
          "name": "stderr",
          "text": [
            "\n"
          ]
        },
        {
          "output_type": "stream",
          "name": "stdout",
          "text": [
            "\n",
            "      Epoch    GPU_mem   box_loss   cls_loss   dfl_loss  Instances       Size\n"
          ]
        },
        {
          "output_type": "stream",
          "name": "stderr",
          "text": [
            "    190/200      4.27G     0.6162     0.7044      1.123         27        640: 100%|██████████| 81/81 [00:24<00:00,  3.26it/s]\n",
            "                 Class     Images  Instances      Box(P          R      mAP50  mAP50-95): 100%|██████████| 6/6 [00:01<00:00,  4.32it/s]"
          ]
        },
        {
          "output_type": "stream",
          "name": "stdout",
          "text": [
            "                   all         93        107      0.851      0.677      0.743      0.555\n"
          ]
        },
        {
          "output_type": "stream",
          "name": "stderr",
          "text": [
            "\n"
          ]
        },
        {
          "output_type": "stream",
          "name": "stdout",
          "text": [
            "Closing dataloader mosaic\n",
            "\u001b[34m\u001b[1malbumentations: \u001b[0mBlur(p=0.01, blur_limit=(3, 7)), MedianBlur(p=0.01, blur_limit=(3, 7)), ToGray(p=0.01, num_output_channels=3, method='weighted_average'), CLAHE(p=0.01, clip_limit=(1.0, 4.0), tile_grid_size=(8, 8))\n",
            "\n",
            "      Epoch    GPU_mem   box_loss   cls_loss   dfl_loss  Instances       Size\n"
          ]
        },
        {
          "output_type": "stream",
          "name": "stderr",
          "text": [
            "    191/200      4.32G     0.5614     0.5697      1.189         16        640: 100%|██████████| 81/81 [00:25<00:00,  3.19it/s]\n",
            "                 Class     Images  Instances      Box(P          R      mAP50  mAP50-95): 100%|██████████| 6/6 [00:01<00:00,  4.37it/s]"
          ]
        },
        {
          "output_type": "stream",
          "name": "stdout",
          "text": [
            "                   all         93        107      0.797       0.72      0.717      0.537\n"
          ]
        },
        {
          "output_type": "stream",
          "name": "stderr",
          "text": [
            "\n"
          ]
        },
        {
          "output_type": "stream",
          "name": "stdout",
          "text": [
            "\n",
            "      Epoch    GPU_mem   box_loss   cls_loss   dfl_loss  Instances       Size\n"
          ]
        },
        {
          "output_type": "stream",
          "name": "stderr",
          "text": [
            "    192/200      4.31G     0.5415     0.5126      1.173          8        640: 100%|██████████| 81/81 [00:24<00:00,  3.25it/s]\n",
            "                 Class     Images  Instances      Box(P          R      mAP50  mAP50-95): 100%|██████████| 6/6 [00:01<00:00,  4.32it/s]"
          ]
        },
        {
          "output_type": "stream",
          "name": "stdout",
          "text": [
            "                   all         93        107      0.867      0.706      0.738      0.551\n"
          ]
        },
        {
          "output_type": "stream",
          "name": "stderr",
          "text": [
            "\n"
          ]
        },
        {
          "output_type": "stream",
          "name": "stdout",
          "text": [
            "\n",
            "      Epoch    GPU_mem   box_loss   cls_loss   dfl_loss  Instances       Size\n"
          ]
        },
        {
          "output_type": "stream",
          "name": "stderr",
          "text": [
            "    193/200      4.32G     0.5145     0.4775      1.138         11        640: 100%|██████████| 81/81 [00:24<00:00,  3.28it/s]\n",
            "                 Class     Images  Instances      Box(P          R      mAP50  mAP50-95): 100%|██████████| 6/6 [00:01<00:00,  4.28it/s]"
          ]
        },
        {
          "output_type": "stream",
          "name": "stdout",
          "text": [
            "                   all         93        107      0.818      0.738      0.755      0.552\n"
          ]
        },
        {
          "output_type": "stream",
          "name": "stderr",
          "text": [
            "\n"
          ]
        },
        {
          "output_type": "stream",
          "name": "stdout",
          "text": [
            "\n",
            "      Epoch    GPU_mem   box_loss   cls_loss   dfl_loss  Instances       Size\n"
          ]
        },
        {
          "output_type": "stream",
          "name": "stderr",
          "text": [
            "    194/200      4.32G     0.5259     0.4946      1.159         10        640: 100%|██████████| 81/81 [00:24<00:00,  3.27it/s]\n",
            "                 Class     Images  Instances      Box(P          R      mAP50  mAP50-95): 100%|██████████| 6/6 [00:01<00:00,  3.88it/s]"
          ]
        },
        {
          "output_type": "stream",
          "name": "stdout",
          "text": [
            "                   all         93        107      0.794      0.742      0.748      0.552\n"
          ]
        },
        {
          "output_type": "stream",
          "name": "stderr",
          "text": [
            "\n"
          ]
        },
        {
          "output_type": "stream",
          "name": "stdout",
          "text": [
            "\n",
            "      Epoch    GPU_mem   box_loss   cls_loss   dfl_loss  Instances       Size\n"
          ]
        },
        {
          "output_type": "stream",
          "name": "stderr",
          "text": [
            "    195/200      4.31G     0.5081     0.5077      1.144          8        640: 100%|██████████| 81/81 [00:24<00:00,  3.27it/s]\n",
            "                 Class     Images  Instances      Box(P          R      mAP50  mAP50-95): 100%|██████████| 6/6 [00:01<00:00,  3.69it/s]"
          ]
        },
        {
          "output_type": "stream",
          "name": "stdout",
          "text": [
            "                   all         93        107      0.748      0.729      0.739       0.55\n"
          ]
        },
        {
          "output_type": "stream",
          "name": "stderr",
          "text": [
            "\n"
          ]
        },
        {
          "output_type": "stream",
          "name": "stdout",
          "text": [
            "\n",
            "      Epoch    GPU_mem   box_loss   cls_loss   dfl_loss  Instances       Size\n"
          ]
        },
        {
          "output_type": "stream",
          "name": "stderr",
          "text": [
            "    196/200      4.32G     0.4946     0.4443      1.118         13        640: 100%|██████████| 81/81 [00:24<00:00,  3.27it/s]\n",
            "                 Class     Images  Instances      Box(P          R      mAP50  mAP50-95): 100%|██████████| 6/6 [00:01<00:00,  4.39it/s]"
          ]
        },
        {
          "output_type": "stream",
          "name": "stdout",
          "text": [
            "                   all         93        107      0.851      0.701      0.752      0.565\n"
          ]
        },
        {
          "output_type": "stream",
          "name": "stderr",
          "text": [
            "\n"
          ]
        },
        {
          "output_type": "stream",
          "name": "stdout",
          "text": [
            "\n",
            "      Epoch    GPU_mem   box_loss   cls_loss   dfl_loss  Instances       Size\n"
          ]
        },
        {
          "output_type": "stream",
          "name": "stderr",
          "text": [
            "    197/200      4.32G     0.4985     0.4711      1.135         20        640: 100%|██████████| 81/81 [00:24<00:00,  3.29it/s]\n",
            "                 Class     Images  Instances      Box(P          R      mAP50  mAP50-95): 100%|██████████| 6/6 [00:01<00:00,  4.27it/s]"
          ]
        },
        {
          "output_type": "stream",
          "name": "stdout",
          "text": [
            "                   all         93        107      0.792      0.722      0.751      0.566\n"
          ]
        },
        {
          "output_type": "stream",
          "name": "stderr",
          "text": [
            "\n"
          ]
        },
        {
          "output_type": "stream",
          "name": "stdout",
          "text": [
            "\n",
            "      Epoch    GPU_mem   box_loss   cls_loss   dfl_loss  Instances       Size\n"
          ]
        },
        {
          "output_type": "stream",
          "name": "stderr",
          "text": [
            "    198/200      4.27G     0.5073     0.4704      1.132         15        640: 100%|██████████| 81/81 [00:24<00:00,  3.26it/s]\n",
            "                 Class     Images  Instances      Box(P          R      mAP50  mAP50-95): 100%|██████████| 6/6 [00:01<00:00,  4.36it/s]"
          ]
        },
        {
          "output_type": "stream",
          "name": "stdout",
          "text": [
            "                   all         93        107      0.782      0.728       0.76      0.559\n"
          ]
        },
        {
          "output_type": "stream",
          "name": "stderr",
          "text": [
            "\n"
          ]
        },
        {
          "output_type": "stream",
          "name": "stdout",
          "text": [
            "\n",
            "      Epoch    GPU_mem   box_loss   cls_loss   dfl_loss  Instances       Size\n"
          ]
        },
        {
          "output_type": "stream",
          "name": "stderr",
          "text": [
            "    199/200      4.31G     0.4928     0.4432      1.114         11        640: 100%|██████████| 81/81 [00:24<00:00,  3.28it/s]\n",
            "                 Class     Images  Instances      Box(P          R      mAP50  mAP50-95): 100%|██████████| 6/6 [00:01<00:00,  4.35it/s]"
          ]
        },
        {
          "output_type": "stream",
          "name": "stdout",
          "text": [
            "                   all         93        107      0.839      0.684       0.75      0.554\n"
          ]
        },
        {
          "output_type": "stream",
          "name": "stderr",
          "text": [
            "\n"
          ]
        },
        {
          "output_type": "stream",
          "name": "stdout",
          "text": [
            "\n",
            "      Epoch    GPU_mem   box_loss   cls_loss   dfl_loss  Instances       Size\n"
          ]
        },
        {
          "output_type": "stream",
          "name": "stderr",
          "text": [
            "    200/200      4.32G     0.4807     0.4592      1.121          9        640: 100%|██████████| 81/81 [00:24<00:00,  3.28it/s]\n",
            "                 Class     Images  Instances      Box(P          R      mAP50  mAP50-95): 100%|██████████| 6/6 [00:01<00:00,  4.39it/s]"
          ]
        },
        {
          "output_type": "stream",
          "name": "stdout",
          "text": [
            "                   all         93        107       0.86      0.701      0.758       0.56\n"
          ]
        },
        {
          "output_type": "stream",
          "name": "stderr",
          "text": [
            "\n"
          ]
        },
        {
          "output_type": "stream",
          "name": "stdout",
          "text": [
            "\n",
            "200 epochs completed in 1.536 hours.\n",
            "Optimizer stripped from runs/detect/train/weights/last.pt, 40.5MB\n",
            "Optimizer stripped from runs/detect/train/weights/best.pt, 40.5MB\n",
            "\n",
            "Validating runs/detect/train/weights/best.pt...\n",
            "Ultralytics 8.3.78 🚀 Python-3.11.11 torch-2.5.1+cu124 CUDA:0 (Tesla T4, 15095MiB)\n",
            "YOLO11m summary (fused): 125 layers, 20,031,574 parameters, 0 gradients, 67.7 GFLOPs\n"
          ]
        },
        {
          "output_type": "stream",
          "name": "stderr",
          "text": [
            "                 Class     Images  Instances      Box(P          R      mAP50  mAP50-95): 100%|██████████| 6/6 [00:03<00:00,  1.88it/s]\n"
          ]
        },
        {
          "output_type": "stream",
          "name": "stdout",
          "text": [
            "                   all         93        107      0.759      0.766      0.778      0.577\n",
            "               chinche         50         61      0.863      0.705      0.817      0.627\n",
            "            no_chinche         42         46      0.656      0.826      0.738      0.526\n",
            "Speed: 0.3ms preprocess, 12.7ms inference, 0.1ms loss, 5.1ms postprocess per image\n",
            "Results saved to \u001b[1mruns/detect/train\u001b[0m\n"
          ]
        },
        {
          "output_type": "execute_result",
          "data": {
            "text/plain": [
              "ultralytics.utils.metrics.DetMetrics object with attributes:\n",
              "\n",
              "ap_class_index: array([0, 1])\n",
              "box: ultralytics.utils.metrics.Metric object\n",
              "confusion_matrix: <ultralytics.utils.metrics.ConfusionMatrix object at 0x7c074b934e90>\n",
              "curves: ['Precision-Recall(B)', 'F1-Confidence(B)', 'Precision-Confidence(B)', 'Recall-Confidence(B)']\n",
              "curves_results: [[array([          0,    0.001001,    0.002002,    0.003003,    0.004004,    0.005005,    0.006006,    0.007007,    0.008008,    0.009009,     0.01001,    0.011011,    0.012012,    0.013013,    0.014014,    0.015015,    0.016016,    0.017017,    0.018018,    0.019019,     0.02002,    0.021021,    0.022022,    0.023023,\n",
              "          0.024024,    0.025025,    0.026026,    0.027027,    0.028028,    0.029029,     0.03003,    0.031031,    0.032032,    0.033033,    0.034034,    0.035035,    0.036036,    0.037037,    0.038038,    0.039039,     0.04004,    0.041041,    0.042042,    0.043043,    0.044044,    0.045045,    0.046046,    0.047047,\n",
              "          0.048048,    0.049049,     0.05005,    0.051051,    0.052052,    0.053053,    0.054054,    0.055055,    0.056056,    0.057057,    0.058058,    0.059059,     0.06006,    0.061061,    0.062062,    0.063063,    0.064064,    0.065065,    0.066066,    0.067067,    0.068068,    0.069069,     0.07007,    0.071071,\n",
              "          0.072072,    0.073073,    0.074074,    0.075075,    0.076076,    0.077077,    0.078078,    0.079079,     0.08008,    0.081081,    0.082082,    0.083083,    0.084084,    0.085085,    0.086086,    0.087087,    0.088088,    0.089089,     0.09009,    0.091091,    0.092092,    0.093093,    0.094094,    0.095095,\n",
              "          0.096096,    0.097097,    0.098098,    0.099099,      0.1001,      0.1011,      0.1021,      0.1031,      0.1041,     0.10511,     0.10611,     0.10711,     0.10811,     0.10911,     0.11011,     0.11111,     0.11211,     0.11311,     0.11411,     0.11512,     0.11612,     0.11712,     0.11812,     0.11912,\n",
              "           0.12012,     0.12112,     0.12212,     0.12312,     0.12412,     0.12513,     0.12613,     0.12713,     0.12813,     0.12913,     0.13013,     0.13113,     0.13213,     0.13313,     0.13413,     0.13514,     0.13614,     0.13714,     0.13814,     0.13914,     0.14014,     0.14114,     0.14214,     0.14314,\n",
              "           0.14414,     0.14515,     0.14615,     0.14715,     0.14815,     0.14915,     0.15015,     0.15115,     0.15215,     0.15315,     0.15415,     0.15516,     0.15616,     0.15716,     0.15816,     0.15916,     0.16016,     0.16116,     0.16216,     0.16316,     0.16416,     0.16517,     0.16617,     0.16717,\n",
              "           0.16817,     0.16917,     0.17017,     0.17117,     0.17217,     0.17317,     0.17417,     0.17518,     0.17618,     0.17718,     0.17818,     0.17918,     0.18018,     0.18118,     0.18218,     0.18318,     0.18418,     0.18519,     0.18619,     0.18719,     0.18819,     0.18919,     0.19019,     0.19119,\n",
              "           0.19219,     0.19319,     0.19419,      0.1952,      0.1962,      0.1972,      0.1982,      0.1992,      0.2002,      0.2012,      0.2022,      0.2032,      0.2042,     0.20521,     0.20621,     0.20721,     0.20821,     0.20921,     0.21021,     0.21121,     0.21221,     0.21321,     0.21421,     0.21522,\n",
              "           0.21622,     0.21722,     0.21822,     0.21922,     0.22022,     0.22122,     0.22222,     0.22322,     0.22422,     0.22523,     0.22623,     0.22723,     0.22823,     0.22923,     0.23023,     0.23123,     0.23223,     0.23323,     0.23423,     0.23524,     0.23624,     0.23724,     0.23824,     0.23924,\n",
              "           0.24024,     0.24124,     0.24224,     0.24324,     0.24424,     0.24525,     0.24625,     0.24725,     0.24825,     0.24925,     0.25025,     0.25125,     0.25225,     0.25325,     0.25425,     0.25526,     0.25626,     0.25726,     0.25826,     0.25926,     0.26026,     0.26126,     0.26226,     0.26326,\n",
              "           0.26426,     0.26527,     0.26627,     0.26727,     0.26827,     0.26927,     0.27027,     0.27127,     0.27227,     0.27327,     0.27427,     0.27528,     0.27628,     0.27728,     0.27828,     0.27928,     0.28028,     0.28128,     0.28228,     0.28328,     0.28428,     0.28529,     0.28629,     0.28729,\n",
              "           0.28829,     0.28929,     0.29029,     0.29129,     0.29229,     0.29329,     0.29429,      0.2953,      0.2963,      0.2973,      0.2983,      0.2993,      0.3003,      0.3013,      0.3023,      0.3033,      0.3043,     0.30531,     0.30631,     0.30731,     0.30831,     0.30931,     0.31031,     0.31131,\n",
              "           0.31231,     0.31331,     0.31431,     0.31532,     0.31632,     0.31732,     0.31832,     0.31932,     0.32032,     0.32132,     0.32232,     0.32332,     0.32432,     0.32533,     0.32633,     0.32733,     0.32833,     0.32933,     0.33033,     0.33133,     0.33233,     0.33333,     0.33433,     0.33534,\n",
              "           0.33634,     0.33734,     0.33834,     0.33934,     0.34034,     0.34134,     0.34234,     0.34334,     0.34434,     0.34535,     0.34635,     0.34735,     0.34835,     0.34935,     0.35035,     0.35135,     0.35235,     0.35335,     0.35435,     0.35536,     0.35636,     0.35736,     0.35836,     0.35936,\n",
              "           0.36036,     0.36136,     0.36236,     0.36336,     0.36436,     0.36537,     0.36637,     0.36737,     0.36837,     0.36937,     0.37037,     0.37137,     0.37237,     0.37337,     0.37437,     0.37538,     0.37638,     0.37738,     0.37838,     0.37938,     0.38038,     0.38138,     0.38238,     0.38338,\n",
              "           0.38438,     0.38539,     0.38639,     0.38739,     0.38839,     0.38939,     0.39039,     0.39139,     0.39239,     0.39339,     0.39439,      0.3954,      0.3964,      0.3974,      0.3984,      0.3994,      0.4004,      0.4014,      0.4024,      0.4034,      0.4044,     0.40541,     0.40641,     0.40741,\n",
              "           0.40841,     0.40941,     0.41041,     0.41141,     0.41241,     0.41341,     0.41441,     0.41542,     0.41642,     0.41742,     0.41842,     0.41942,     0.42042,     0.42142,     0.42242,     0.42342,     0.42442,     0.42543,     0.42643,     0.42743,     0.42843,     0.42943,     0.43043,     0.43143,\n",
              "           0.43243,     0.43343,     0.43443,     0.43544,     0.43644,     0.43744,     0.43844,     0.43944,     0.44044,     0.44144,     0.44244,     0.44344,     0.44444,     0.44545,     0.44645,     0.44745,     0.44845,     0.44945,     0.45045,     0.45145,     0.45245,     0.45345,     0.45445,     0.45546,\n",
              "           0.45646,     0.45746,     0.45846,     0.45946,     0.46046,     0.46146,     0.46246,     0.46346,     0.46446,     0.46547,     0.46647,     0.46747,     0.46847,     0.46947,     0.47047,     0.47147,     0.47247,     0.47347,     0.47447,     0.47548,     0.47648,     0.47748,     0.47848,     0.47948,\n",
              "           0.48048,     0.48148,     0.48248,     0.48348,     0.48448,     0.48549,     0.48649,     0.48749,     0.48849,     0.48949,     0.49049,     0.49149,     0.49249,     0.49349,     0.49449,      0.4955,      0.4965,      0.4975,      0.4985,      0.4995,      0.5005,      0.5015,      0.5025,      0.5035,\n",
              "            0.5045,     0.50551,     0.50651,     0.50751,     0.50851,     0.50951,     0.51051,     0.51151,     0.51251,     0.51351,     0.51451,     0.51552,     0.51652,     0.51752,     0.51852,     0.51952,     0.52052,     0.52152,     0.52252,     0.52352,     0.52452,     0.52553,     0.52653,     0.52753,\n",
              "           0.52853,     0.52953,     0.53053,     0.53153,     0.53253,     0.53353,     0.53453,     0.53554,     0.53654,     0.53754,     0.53854,     0.53954,     0.54054,     0.54154,     0.54254,     0.54354,     0.54454,     0.54555,     0.54655,     0.54755,     0.54855,     0.54955,     0.55055,     0.55155,\n",
              "           0.55255,     0.55355,     0.55455,     0.55556,     0.55656,     0.55756,     0.55856,     0.55956,     0.56056,     0.56156,     0.56256,     0.56356,     0.56456,     0.56557,     0.56657,     0.56757,     0.56857,     0.56957,     0.57057,     0.57157,     0.57257,     0.57357,     0.57457,     0.57558,\n",
              "           0.57658,     0.57758,     0.57858,     0.57958,     0.58058,     0.58158,     0.58258,     0.58358,     0.58458,     0.58559,     0.58659,     0.58759,     0.58859,     0.58959,     0.59059,     0.59159,     0.59259,     0.59359,     0.59459,      0.5956,      0.5966,      0.5976,      0.5986,      0.5996,\n",
              "            0.6006,      0.6016,      0.6026,      0.6036,      0.6046,     0.60561,     0.60661,     0.60761,     0.60861,     0.60961,     0.61061,     0.61161,     0.61261,     0.61361,     0.61461,     0.61562,     0.61662,     0.61762,     0.61862,     0.61962,     0.62062,     0.62162,     0.62262,     0.62362,\n",
              "           0.62462,     0.62563,     0.62663,     0.62763,     0.62863,     0.62963,     0.63063,     0.63163,     0.63263,     0.63363,     0.63463,     0.63564,     0.63664,     0.63764,     0.63864,     0.63964,     0.64064,     0.64164,     0.64264,     0.64364,     0.64464,     0.64565,     0.64665,     0.64765,\n",
              "           0.64865,     0.64965,     0.65065,     0.65165,     0.65265,     0.65365,     0.65465,     0.65566,     0.65666,     0.65766,     0.65866,     0.65966,     0.66066,     0.66166,     0.66266,     0.66366,     0.66466,     0.66567,     0.66667,     0.66767,     0.66867,     0.66967,     0.67067,     0.67167,\n",
              "           0.67267,     0.67367,     0.67467,     0.67568,     0.67668,     0.67768,     0.67868,     0.67968,     0.68068,     0.68168,     0.68268,     0.68368,     0.68468,     0.68569,     0.68669,     0.68769,     0.68869,     0.68969,     0.69069,     0.69169,     0.69269,     0.69369,     0.69469,      0.6957,\n",
              "            0.6967,      0.6977,      0.6987,      0.6997,      0.7007,      0.7017,      0.7027,      0.7037,      0.7047,     0.70571,     0.70671,     0.70771,     0.70871,     0.70971,     0.71071,     0.71171,     0.71271,     0.71371,     0.71471,     0.71572,     0.71672,     0.71772,     0.71872,     0.71972,\n",
              "           0.72072,     0.72172,     0.72272,     0.72372,     0.72472,     0.72573,     0.72673,     0.72773,     0.72873,     0.72973,     0.73073,     0.73173,     0.73273,     0.73373,     0.73473,     0.73574,     0.73674,     0.73774,     0.73874,     0.73974,     0.74074,     0.74174,     0.74274,     0.74374,\n",
              "           0.74474,     0.74575,     0.74675,     0.74775,     0.74875,     0.74975,     0.75075,     0.75175,     0.75275,     0.75375,     0.75475,     0.75576,     0.75676,     0.75776,     0.75876,     0.75976,     0.76076,     0.76176,     0.76276,     0.76376,     0.76476,     0.76577,     0.76677,     0.76777,\n",
              "           0.76877,     0.76977,     0.77077,     0.77177,     0.77277,     0.77377,     0.77477,     0.77578,     0.77678,     0.77778,     0.77878,     0.77978,     0.78078,     0.78178,     0.78278,     0.78378,     0.78478,     0.78579,     0.78679,     0.78779,     0.78879,     0.78979,     0.79079,     0.79179,\n",
              "           0.79279,     0.79379,     0.79479,      0.7958,      0.7968,      0.7978,      0.7988,      0.7998,      0.8008,      0.8018,      0.8028,      0.8038,      0.8048,     0.80581,     0.80681,     0.80781,     0.80881,     0.80981,     0.81081,     0.81181,     0.81281,     0.81381,     0.81481,     0.81582,\n",
              "           0.81682,     0.81782,     0.81882,     0.81982,     0.82082,     0.82182,     0.82282,     0.82382,     0.82482,     0.82583,     0.82683,     0.82783,     0.82883,     0.82983,     0.83083,     0.83183,     0.83283,     0.83383,     0.83483,     0.83584,     0.83684,     0.83784,     0.83884,     0.83984,\n",
              "           0.84084,     0.84184,     0.84284,     0.84384,     0.84484,     0.84585,     0.84685,     0.84785,     0.84885,     0.84985,     0.85085,     0.85185,     0.85285,     0.85385,     0.85485,     0.85586,     0.85686,     0.85786,     0.85886,     0.85986,     0.86086,     0.86186,     0.86286,     0.86386,\n",
              "           0.86486,     0.86587,     0.86687,     0.86787,     0.86887,     0.86987,     0.87087,     0.87187,     0.87287,     0.87387,     0.87487,     0.87588,     0.87688,     0.87788,     0.87888,     0.87988,     0.88088,     0.88188,     0.88288,     0.88388,     0.88488,     0.88589,     0.88689,     0.88789,\n",
              "           0.88889,     0.88989,     0.89089,     0.89189,     0.89289,     0.89389,     0.89489,      0.8959,      0.8969,      0.8979,      0.8989,      0.8999,      0.9009,      0.9019,      0.9029,      0.9039,      0.9049,     0.90591,     0.90691,     0.90791,     0.90891,     0.90991,     0.91091,     0.91191,\n",
              "           0.91291,     0.91391,     0.91491,     0.91592,     0.91692,     0.91792,     0.91892,     0.91992,     0.92092,     0.92192,     0.92292,     0.92392,     0.92492,     0.92593,     0.92693,     0.92793,     0.92893,     0.92993,     0.93093,     0.93193,     0.93293,     0.93393,     0.93493,     0.93594,\n",
              "           0.93694,     0.93794,     0.93894,     0.93994,     0.94094,     0.94194,     0.94294,     0.94394,     0.94494,     0.94595,     0.94695,     0.94795,     0.94895,     0.94995,     0.95095,     0.95195,     0.95295,     0.95395,     0.95495,     0.95596,     0.95696,     0.95796,     0.95896,     0.95996,\n",
              "           0.96096,     0.96196,     0.96296,     0.96396,     0.96496,     0.96597,     0.96697,     0.96797,     0.96897,     0.96997,     0.97097,     0.97197,     0.97297,     0.97397,     0.97497,     0.97598,     0.97698,     0.97798,     0.97898,     0.97998,     0.98098,     0.98198,     0.98298,     0.98398,\n",
              "           0.98498,     0.98599,     0.98699,     0.98799,     0.98899,     0.98999,     0.99099,     0.99199,     0.99299,     0.99399,     0.99499,       0.996,       0.997,       0.998,       0.999,           1]), array([[          1,           1,           1, ...,   0.0017671,  0.00088357,           0],\n",
              "       [          1,           1,           1, ...,   0.0018776,   0.0009388,           0]]), 'Recall', 'Precision'], [array([          0,    0.001001,    0.002002,    0.003003,    0.004004,    0.005005,    0.006006,    0.007007,    0.008008,    0.009009,     0.01001,    0.011011,    0.012012,    0.013013,    0.014014,    0.015015,    0.016016,    0.017017,    0.018018,    0.019019,     0.02002,    0.021021,    0.022022,    0.023023,\n",
              "          0.024024,    0.025025,    0.026026,    0.027027,    0.028028,    0.029029,     0.03003,    0.031031,    0.032032,    0.033033,    0.034034,    0.035035,    0.036036,    0.037037,    0.038038,    0.039039,     0.04004,    0.041041,    0.042042,    0.043043,    0.044044,    0.045045,    0.046046,    0.047047,\n",
              "          0.048048,    0.049049,     0.05005,    0.051051,    0.052052,    0.053053,    0.054054,    0.055055,    0.056056,    0.057057,    0.058058,    0.059059,     0.06006,    0.061061,    0.062062,    0.063063,    0.064064,    0.065065,    0.066066,    0.067067,    0.068068,    0.069069,     0.07007,    0.071071,\n",
              "          0.072072,    0.073073,    0.074074,    0.075075,    0.076076,    0.077077,    0.078078,    0.079079,     0.08008,    0.081081,    0.082082,    0.083083,    0.084084,    0.085085,    0.086086,    0.087087,    0.088088,    0.089089,     0.09009,    0.091091,    0.092092,    0.093093,    0.094094,    0.095095,\n",
              "          0.096096,    0.097097,    0.098098,    0.099099,      0.1001,      0.1011,      0.1021,      0.1031,      0.1041,     0.10511,     0.10611,     0.10711,     0.10811,     0.10911,     0.11011,     0.11111,     0.11211,     0.11311,     0.11411,     0.11512,     0.11612,     0.11712,     0.11812,     0.11912,\n",
              "           0.12012,     0.12112,     0.12212,     0.12312,     0.12412,     0.12513,     0.12613,     0.12713,     0.12813,     0.12913,     0.13013,     0.13113,     0.13213,     0.13313,     0.13413,     0.13514,     0.13614,     0.13714,     0.13814,     0.13914,     0.14014,     0.14114,     0.14214,     0.14314,\n",
              "           0.14414,     0.14515,     0.14615,     0.14715,     0.14815,     0.14915,     0.15015,     0.15115,     0.15215,     0.15315,     0.15415,     0.15516,     0.15616,     0.15716,     0.15816,     0.15916,     0.16016,     0.16116,     0.16216,     0.16316,     0.16416,     0.16517,     0.16617,     0.16717,\n",
              "           0.16817,     0.16917,     0.17017,     0.17117,     0.17217,     0.17317,     0.17417,     0.17518,     0.17618,     0.17718,     0.17818,     0.17918,     0.18018,     0.18118,     0.18218,     0.18318,     0.18418,     0.18519,     0.18619,     0.18719,     0.18819,     0.18919,     0.19019,     0.19119,\n",
              "           0.19219,     0.19319,     0.19419,      0.1952,      0.1962,      0.1972,      0.1982,      0.1992,      0.2002,      0.2012,      0.2022,      0.2032,      0.2042,     0.20521,     0.20621,     0.20721,     0.20821,     0.20921,     0.21021,     0.21121,     0.21221,     0.21321,     0.21421,     0.21522,\n",
              "           0.21622,     0.21722,     0.21822,     0.21922,     0.22022,     0.22122,     0.22222,     0.22322,     0.22422,     0.22523,     0.22623,     0.22723,     0.22823,     0.22923,     0.23023,     0.23123,     0.23223,     0.23323,     0.23423,     0.23524,     0.23624,     0.23724,     0.23824,     0.23924,\n",
              "           0.24024,     0.24124,     0.24224,     0.24324,     0.24424,     0.24525,     0.24625,     0.24725,     0.24825,     0.24925,     0.25025,     0.25125,     0.25225,     0.25325,     0.25425,     0.25526,     0.25626,     0.25726,     0.25826,     0.25926,     0.26026,     0.26126,     0.26226,     0.26326,\n",
              "           0.26426,     0.26527,     0.26627,     0.26727,     0.26827,     0.26927,     0.27027,     0.27127,     0.27227,     0.27327,     0.27427,     0.27528,     0.27628,     0.27728,     0.27828,     0.27928,     0.28028,     0.28128,     0.28228,     0.28328,     0.28428,     0.28529,     0.28629,     0.28729,\n",
              "           0.28829,     0.28929,     0.29029,     0.29129,     0.29229,     0.29329,     0.29429,      0.2953,      0.2963,      0.2973,      0.2983,      0.2993,      0.3003,      0.3013,      0.3023,      0.3033,      0.3043,     0.30531,     0.30631,     0.30731,     0.30831,     0.30931,     0.31031,     0.31131,\n",
              "           0.31231,     0.31331,     0.31431,     0.31532,     0.31632,     0.31732,     0.31832,     0.31932,     0.32032,     0.32132,     0.32232,     0.32332,     0.32432,     0.32533,     0.32633,     0.32733,     0.32833,     0.32933,     0.33033,     0.33133,     0.33233,     0.33333,     0.33433,     0.33534,\n",
              "           0.33634,     0.33734,     0.33834,     0.33934,     0.34034,     0.34134,     0.34234,     0.34334,     0.34434,     0.34535,     0.34635,     0.34735,     0.34835,     0.34935,     0.35035,     0.35135,     0.35235,     0.35335,     0.35435,     0.35536,     0.35636,     0.35736,     0.35836,     0.35936,\n",
              "           0.36036,     0.36136,     0.36236,     0.36336,     0.36436,     0.36537,     0.36637,     0.36737,     0.36837,     0.36937,     0.37037,     0.37137,     0.37237,     0.37337,     0.37437,     0.37538,     0.37638,     0.37738,     0.37838,     0.37938,     0.38038,     0.38138,     0.38238,     0.38338,\n",
              "           0.38438,     0.38539,     0.38639,     0.38739,     0.38839,     0.38939,     0.39039,     0.39139,     0.39239,     0.39339,     0.39439,      0.3954,      0.3964,      0.3974,      0.3984,      0.3994,      0.4004,      0.4014,      0.4024,      0.4034,      0.4044,     0.40541,     0.40641,     0.40741,\n",
              "           0.40841,     0.40941,     0.41041,     0.41141,     0.41241,     0.41341,     0.41441,     0.41542,     0.41642,     0.41742,     0.41842,     0.41942,     0.42042,     0.42142,     0.42242,     0.42342,     0.42442,     0.42543,     0.42643,     0.42743,     0.42843,     0.42943,     0.43043,     0.43143,\n",
              "           0.43243,     0.43343,     0.43443,     0.43544,     0.43644,     0.43744,     0.43844,     0.43944,     0.44044,     0.44144,     0.44244,     0.44344,     0.44444,     0.44545,     0.44645,     0.44745,     0.44845,     0.44945,     0.45045,     0.45145,     0.45245,     0.45345,     0.45445,     0.45546,\n",
              "           0.45646,     0.45746,     0.45846,     0.45946,     0.46046,     0.46146,     0.46246,     0.46346,     0.46446,     0.46547,     0.46647,     0.46747,     0.46847,     0.46947,     0.47047,     0.47147,     0.47247,     0.47347,     0.47447,     0.47548,     0.47648,     0.47748,     0.47848,     0.47948,\n",
              "           0.48048,     0.48148,     0.48248,     0.48348,     0.48448,     0.48549,     0.48649,     0.48749,     0.48849,     0.48949,     0.49049,     0.49149,     0.49249,     0.49349,     0.49449,      0.4955,      0.4965,      0.4975,      0.4985,      0.4995,      0.5005,      0.5015,      0.5025,      0.5035,\n",
              "            0.5045,     0.50551,     0.50651,     0.50751,     0.50851,     0.50951,     0.51051,     0.51151,     0.51251,     0.51351,     0.51451,     0.51552,     0.51652,     0.51752,     0.51852,     0.51952,     0.52052,     0.52152,     0.52252,     0.52352,     0.52452,     0.52553,     0.52653,     0.52753,\n",
              "           0.52853,     0.52953,     0.53053,     0.53153,     0.53253,     0.53353,     0.53453,     0.53554,     0.53654,     0.53754,     0.53854,     0.53954,     0.54054,     0.54154,     0.54254,     0.54354,     0.54454,     0.54555,     0.54655,     0.54755,     0.54855,     0.54955,     0.55055,     0.55155,\n",
              "           0.55255,     0.55355,     0.55455,     0.55556,     0.55656,     0.55756,     0.55856,     0.55956,     0.56056,     0.56156,     0.56256,     0.56356,     0.56456,     0.56557,     0.56657,     0.56757,     0.56857,     0.56957,     0.57057,     0.57157,     0.57257,     0.57357,     0.57457,     0.57558,\n",
              "           0.57658,     0.57758,     0.57858,     0.57958,     0.58058,     0.58158,     0.58258,     0.58358,     0.58458,     0.58559,     0.58659,     0.58759,     0.58859,     0.58959,     0.59059,     0.59159,     0.59259,     0.59359,     0.59459,      0.5956,      0.5966,      0.5976,      0.5986,      0.5996,\n",
              "            0.6006,      0.6016,      0.6026,      0.6036,      0.6046,     0.60561,     0.60661,     0.60761,     0.60861,     0.60961,     0.61061,     0.61161,     0.61261,     0.61361,     0.61461,     0.61562,     0.61662,     0.61762,     0.61862,     0.61962,     0.62062,     0.62162,     0.62262,     0.62362,\n",
              "           0.62462,     0.62563,     0.62663,     0.62763,     0.62863,     0.62963,     0.63063,     0.63163,     0.63263,     0.63363,     0.63463,     0.63564,     0.63664,     0.63764,     0.63864,     0.63964,     0.64064,     0.64164,     0.64264,     0.64364,     0.64464,     0.64565,     0.64665,     0.64765,\n",
              "           0.64865,     0.64965,     0.65065,     0.65165,     0.65265,     0.65365,     0.65465,     0.65566,     0.65666,     0.65766,     0.65866,     0.65966,     0.66066,     0.66166,     0.66266,     0.66366,     0.66466,     0.66567,     0.66667,     0.66767,     0.66867,     0.66967,     0.67067,     0.67167,\n",
              "           0.67267,     0.67367,     0.67467,     0.67568,     0.67668,     0.67768,     0.67868,     0.67968,     0.68068,     0.68168,     0.68268,     0.68368,     0.68468,     0.68569,     0.68669,     0.68769,     0.68869,     0.68969,     0.69069,     0.69169,     0.69269,     0.69369,     0.69469,      0.6957,\n",
              "            0.6967,      0.6977,      0.6987,      0.6997,      0.7007,      0.7017,      0.7027,      0.7037,      0.7047,     0.70571,     0.70671,     0.70771,     0.70871,     0.70971,     0.71071,     0.71171,     0.71271,     0.71371,     0.71471,     0.71572,     0.71672,     0.71772,     0.71872,     0.71972,\n",
              "           0.72072,     0.72172,     0.72272,     0.72372,     0.72472,     0.72573,     0.72673,     0.72773,     0.72873,     0.72973,     0.73073,     0.73173,     0.73273,     0.73373,     0.73473,     0.73574,     0.73674,     0.73774,     0.73874,     0.73974,     0.74074,     0.74174,     0.74274,     0.74374,\n",
              "           0.74474,     0.74575,     0.74675,     0.74775,     0.74875,     0.74975,     0.75075,     0.75175,     0.75275,     0.75375,     0.75475,     0.75576,     0.75676,     0.75776,     0.75876,     0.75976,     0.76076,     0.76176,     0.76276,     0.76376,     0.76476,     0.76577,     0.76677,     0.76777,\n",
              "           0.76877,     0.76977,     0.77077,     0.77177,     0.77277,     0.77377,     0.77477,     0.77578,     0.77678,     0.77778,     0.77878,     0.77978,     0.78078,     0.78178,     0.78278,     0.78378,     0.78478,     0.78579,     0.78679,     0.78779,     0.78879,     0.78979,     0.79079,     0.79179,\n",
              "           0.79279,     0.79379,     0.79479,      0.7958,      0.7968,      0.7978,      0.7988,      0.7998,      0.8008,      0.8018,      0.8028,      0.8038,      0.8048,     0.80581,     0.80681,     0.80781,     0.80881,     0.80981,     0.81081,     0.81181,     0.81281,     0.81381,     0.81481,     0.81582,\n",
              "           0.81682,     0.81782,     0.81882,     0.81982,     0.82082,     0.82182,     0.82282,     0.82382,     0.82482,     0.82583,     0.82683,     0.82783,     0.82883,     0.82983,     0.83083,     0.83183,     0.83283,     0.83383,     0.83483,     0.83584,     0.83684,     0.83784,     0.83884,     0.83984,\n",
              "           0.84084,     0.84184,     0.84284,     0.84384,     0.84484,     0.84585,     0.84685,     0.84785,     0.84885,     0.84985,     0.85085,     0.85185,     0.85285,     0.85385,     0.85485,     0.85586,     0.85686,     0.85786,     0.85886,     0.85986,     0.86086,     0.86186,     0.86286,     0.86386,\n",
              "           0.86486,     0.86587,     0.86687,     0.86787,     0.86887,     0.86987,     0.87087,     0.87187,     0.87287,     0.87387,     0.87487,     0.87588,     0.87688,     0.87788,     0.87888,     0.87988,     0.88088,     0.88188,     0.88288,     0.88388,     0.88488,     0.88589,     0.88689,     0.88789,\n",
              "           0.88889,     0.88989,     0.89089,     0.89189,     0.89289,     0.89389,     0.89489,      0.8959,      0.8969,      0.8979,      0.8989,      0.8999,      0.9009,      0.9019,      0.9029,      0.9039,      0.9049,     0.90591,     0.90691,     0.90791,     0.90891,     0.90991,     0.91091,     0.91191,\n",
              "           0.91291,     0.91391,     0.91491,     0.91592,     0.91692,     0.91792,     0.91892,     0.91992,     0.92092,     0.92192,     0.92292,     0.92392,     0.92492,     0.92593,     0.92693,     0.92793,     0.92893,     0.92993,     0.93093,     0.93193,     0.93293,     0.93393,     0.93493,     0.93594,\n",
              "           0.93694,     0.93794,     0.93894,     0.93994,     0.94094,     0.94194,     0.94294,     0.94394,     0.94494,     0.94595,     0.94695,     0.94795,     0.94895,     0.94995,     0.95095,     0.95195,     0.95295,     0.95395,     0.95495,     0.95596,     0.95696,     0.95796,     0.95896,     0.95996,\n",
              "           0.96096,     0.96196,     0.96296,     0.96396,     0.96496,     0.96597,     0.96697,     0.96797,     0.96897,     0.96997,     0.97097,     0.97197,     0.97297,     0.97397,     0.97497,     0.97598,     0.97698,     0.97798,     0.97898,     0.97998,     0.98098,     0.98198,     0.98298,     0.98398,\n",
              "           0.98498,     0.98599,     0.98699,     0.98799,     0.98899,     0.98999,     0.99099,     0.99199,     0.99299,     0.99399,     0.99499,       0.996,       0.997,       0.998,       0.999,           1]), array([[    0.13413,     0.13413,      0.1985, ...,           0,           0,           0],\n",
              "       [    0.14973,     0.14973,     0.22859, ...,           0,           0,           0]]), 'Confidence', 'F1'], [array([          0,    0.001001,    0.002002,    0.003003,    0.004004,    0.005005,    0.006006,    0.007007,    0.008008,    0.009009,     0.01001,    0.011011,    0.012012,    0.013013,    0.014014,    0.015015,    0.016016,    0.017017,    0.018018,    0.019019,     0.02002,    0.021021,    0.022022,    0.023023,\n",
              "          0.024024,    0.025025,    0.026026,    0.027027,    0.028028,    0.029029,     0.03003,    0.031031,    0.032032,    0.033033,    0.034034,    0.035035,    0.036036,    0.037037,    0.038038,    0.039039,     0.04004,    0.041041,    0.042042,    0.043043,    0.044044,    0.045045,    0.046046,    0.047047,\n",
              "          0.048048,    0.049049,     0.05005,    0.051051,    0.052052,    0.053053,    0.054054,    0.055055,    0.056056,    0.057057,    0.058058,    0.059059,     0.06006,    0.061061,    0.062062,    0.063063,    0.064064,    0.065065,    0.066066,    0.067067,    0.068068,    0.069069,     0.07007,    0.071071,\n",
              "          0.072072,    0.073073,    0.074074,    0.075075,    0.076076,    0.077077,    0.078078,    0.079079,     0.08008,    0.081081,    0.082082,    0.083083,    0.084084,    0.085085,    0.086086,    0.087087,    0.088088,    0.089089,     0.09009,    0.091091,    0.092092,    0.093093,    0.094094,    0.095095,\n",
              "          0.096096,    0.097097,    0.098098,    0.099099,      0.1001,      0.1011,      0.1021,      0.1031,      0.1041,     0.10511,     0.10611,     0.10711,     0.10811,     0.10911,     0.11011,     0.11111,     0.11211,     0.11311,     0.11411,     0.11512,     0.11612,     0.11712,     0.11812,     0.11912,\n",
              "           0.12012,     0.12112,     0.12212,     0.12312,     0.12412,     0.12513,     0.12613,     0.12713,     0.12813,     0.12913,     0.13013,     0.13113,     0.13213,     0.13313,     0.13413,     0.13514,     0.13614,     0.13714,     0.13814,     0.13914,     0.14014,     0.14114,     0.14214,     0.14314,\n",
              "           0.14414,     0.14515,     0.14615,     0.14715,     0.14815,     0.14915,     0.15015,     0.15115,     0.15215,     0.15315,     0.15415,     0.15516,     0.15616,     0.15716,     0.15816,     0.15916,     0.16016,     0.16116,     0.16216,     0.16316,     0.16416,     0.16517,     0.16617,     0.16717,\n",
              "           0.16817,     0.16917,     0.17017,     0.17117,     0.17217,     0.17317,     0.17417,     0.17518,     0.17618,     0.17718,     0.17818,     0.17918,     0.18018,     0.18118,     0.18218,     0.18318,     0.18418,     0.18519,     0.18619,     0.18719,     0.18819,     0.18919,     0.19019,     0.19119,\n",
              "           0.19219,     0.19319,     0.19419,      0.1952,      0.1962,      0.1972,      0.1982,      0.1992,      0.2002,      0.2012,      0.2022,      0.2032,      0.2042,     0.20521,     0.20621,     0.20721,     0.20821,     0.20921,     0.21021,     0.21121,     0.21221,     0.21321,     0.21421,     0.21522,\n",
              "           0.21622,     0.21722,     0.21822,     0.21922,     0.22022,     0.22122,     0.22222,     0.22322,     0.22422,     0.22523,     0.22623,     0.22723,     0.22823,     0.22923,     0.23023,     0.23123,     0.23223,     0.23323,     0.23423,     0.23524,     0.23624,     0.23724,     0.23824,     0.23924,\n",
              "           0.24024,     0.24124,     0.24224,     0.24324,     0.24424,     0.24525,     0.24625,     0.24725,     0.24825,     0.24925,     0.25025,     0.25125,     0.25225,     0.25325,     0.25425,     0.25526,     0.25626,     0.25726,     0.25826,     0.25926,     0.26026,     0.26126,     0.26226,     0.26326,\n",
              "           0.26426,     0.26527,     0.26627,     0.26727,     0.26827,     0.26927,     0.27027,     0.27127,     0.27227,     0.27327,     0.27427,     0.27528,     0.27628,     0.27728,     0.27828,     0.27928,     0.28028,     0.28128,     0.28228,     0.28328,     0.28428,     0.28529,     0.28629,     0.28729,\n",
              "           0.28829,     0.28929,     0.29029,     0.29129,     0.29229,     0.29329,     0.29429,      0.2953,      0.2963,      0.2973,      0.2983,      0.2993,      0.3003,      0.3013,      0.3023,      0.3033,      0.3043,     0.30531,     0.30631,     0.30731,     0.30831,     0.30931,     0.31031,     0.31131,\n",
              "           0.31231,     0.31331,     0.31431,     0.31532,     0.31632,     0.31732,     0.31832,     0.31932,     0.32032,     0.32132,     0.32232,     0.32332,     0.32432,     0.32533,     0.32633,     0.32733,     0.32833,     0.32933,     0.33033,     0.33133,     0.33233,     0.33333,     0.33433,     0.33534,\n",
              "           0.33634,     0.33734,     0.33834,     0.33934,     0.34034,     0.34134,     0.34234,     0.34334,     0.34434,     0.34535,     0.34635,     0.34735,     0.34835,     0.34935,     0.35035,     0.35135,     0.35235,     0.35335,     0.35435,     0.35536,     0.35636,     0.35736,     0.35836,     0.35936,\n",
              "           0.36036,     0.36136,     0.36236,     0.36336,     0.36436,     0.36537,     0.36637,     0.36737,     0.36837,     0.36937,     0.37037,     0.37137,     0.37237,     0.37337,     0.37437,     0.37538,     0.37638,     0.37738,     0.37838,     0.37938,     0.38038,     0.38138,     0.38238,     0.38338,\n",
              "           0.38438,     0.38539,     0.38639,     0.38739,     0.38839,     0.38939,     0.39039,     0.39139,     0.39239,     0.39339,     0.39439,      0.3954,      0.3964,      0.3974,      0.3984,      0.3994,      0.4004,      0.4014,      0.4024,      0.4034,      0.4044,     0.40541,     0.40641,     0.40741,\n",
              "           0.40841,     0.40941,     0.41041,     0.41141,     0.41241,     0.41341,     0.41441,     0.41542,     0.41642,     0.41742,     0.41842,     0.41942,     0.42042,     0.42142,     0.42242,     0.42342,     0.42442,     0.42543,     0.42643,     0.42743,     0.42843,     0.42943,     0.43043,     0.43143,\n",
              "           0.43243,     0.43343,     0.43443,     0.43544,     0.43644,     0.43744,     0.43844,     0.43944,     0.44044,     0.44144,     0.44244,     0.44344,     0.44444,     0.44545,     0.44645,     0.44745,     0.44845,     0.44945,     0.45045,     0.45145,     0.45245,     0.45345,     0.45445,     0.45546,\n",
              "           0.45646,     0.45746,     0.45846,     0.45946,     0.46046,     0.46146,     0.46246,     0.46346,     0.46446,     0.46547,     0.46647,     0.46747,     0.46847,     0.46947,     0.47047,     0.47147,     0.47247,     0.47347,     0.47447,     0.47548,     0.47648,     0.47748,     0.47848,     0.47948,\n",
              "           0.48048,     0.48148,     0.48248,     0.48348,     0.48448,     0.48549,     0.48649,     0.48749,     0.48849,     0.48949,     0.49049,     0.49149,     0.49249,     0.49349,     0.49449,      0.4955,      0.4965,      0.4975,      0.4985,      0.4995,      0.5005,      0.5015,      0.5025,      0.5035,\n",
              "            0.5045,     0.50551,     0.50651,     0.50751,     0.50851,     0.50951,     0.51051,     0.51151,     0.51251,     0.51351,     0.51451,     0.51552,     0.51652,     0.51752,     0.51852,     0.51952,     0.52052,     0.52152,     0.52252,     0.52352,     0.52452,     0.52553,     0.52653,     0.52753,\n",
              "           0.52853,     0.52953,     0.53053,     0.53153,     0.53253,     0.53353,     0.53453,     0.53554,     0.53654,     0.53754,     0.53854,     0.53954,     0.54054,     0.54154,     0.54254,     0.54354,     0.54454,     0.54555,     0.54655,     0.54755,     0.54855,     0.54955,     0.55055,     0.55155,\n",
              "           0.55255,     0.55355,     0.55455,     0.55556,     0.55656,     0.55756,     0.55856,     0.55956,     0.56056,     0.56156,     0.56256,     0.56356,     0.56456,     0.56557,     0.56657,     0.56757,     0.56857,     0.56957,     0.57057,     0.57157,     0.57257,     0.57357,     0.57457,     0.57558,\n",
              "           0.57658,     0.57758,     0.57858,     0.57958,     0.58058,     0.58158,     0.58258,     0.58358,     0.58458,     0.58559,     0.58659,     0.58759,     0.58859,     0.58959,     0.59059,     0.59159,     0.59259,     0.59359,     0.59459,      0.5956,      0.5966,      0.5976,      0.5986,      0.5996,\n",
              "            0.6006,      0.6016,      0.6026,      0.6036,      0.6046,     0.60561,     0.60661,     0.60761,     0.60861,     0.60961,     0.61061,     0.61161,     0.61261,     0.61361,     0.61461,     0.61562,     0.61662,     0.61762,     0.61862,     0.61962,     0.62062,     0.62162,     0.62262,     0.62362,\n",
              "           0.62462,     0.62563,     0.62663,     0.62763,     0.62863,     0.62963,     0.63063,     0.63163,     0.63263,     0.63363,     0.63463,     0.63564,     0.63664,     0.63764,     0.63864,     0.63964,     0.64064,     0.64164,     0.64264,     0.64364,     0.64464,     0.64565,     0.64665,     0.64765,\n",
              "           0.64865,     0.64965,     0.65065,     0.65165,     0.65265,     0.65365,     0.65465,     0.65566,     0.65666,     0.65766,     0.65866,     0.65966,     0.66066,     0.66166,     0.66266,     0.66366,     0.66466,     0.66567,     0.66667,     0.66767,     0.66867,     0.66967,     0.67067,     0.67167,\n",
              "           0.67267,     0.67367,     0.67467,     0.67568,     0.67668,     0.67768,     0.67868,     0.67968,     0.68068,     0.68168,     0.68268,     0.68368,     0.68468,     0.68569,     0.68669,     0.68769,     0.68869,     0.68969,     0.69069,     0.69169,     0.69269,     0.69369,     0.69469,      0.6957,\n",
              "            0.6967,      0.6977,      0.6987,      0.6997,      0.7007,      0.7017,      0.7027,      0.7037,      0.7047,     0.70571,     0.70671,     0.70771,     0.70871,     0.70971,     0.71071,     0.71171,     0.71271,     0.71371,     0.71471,     0.71572,     0.71672,     0.71772,     0.71872,     0.71972,\n",
              "           0.72072,     0.72172,     0.72272,     0.72372,     0.72472,     0.72573,     0.72673,     0.72773,     0.72873,     0.72973,     0.73073,     0.73173,     0.73273,     0.73373,     0.73473,     0.73574,     0.73674,     0.73774,     0.73874,     0.73974,     0.74074,     0.74174,     0.74274,     0.74374,\n",
              "           0.74474,     0.74575,     0.74675,     0.74775,     0.74875,     0.74975,     0.75075,     0.75175,     0.75275,     0.75375,     0.75475,     0.75576,     0.75676,     0.75776,     0.75876,     0.75976,     0.76076,     0.76176,     0.76276,     0.76376,     0.76476,     0.76577,     0.76677,     0.76777,\n",
              "           0.76877,     0.76977,     0.77077,     0.77177,     0.77277,     0.77377,     0.77477,     0.77578,     0.77678,     0.77778,     0.77878,     0.77978,     0.78078,     0.78178,     0.78278,     0.78378,     0.78478,     0.78579,     0.78679,     0.78779,     0.78879,     0.78979,     0.79079,     0.79179,\n",
              "           0.79279,     0.79379,     0.79479,      0.7958,      0.7968,      0.7978,      0.7988,      0.7998,      0.8008,      0.8018,      0.8028,      0.8038,      0.8048,     0.80581,     0.80681,     0.80781,     0.80881,     0.80981,     0.81081,     0.81181,     0.81281,     0.81381,     0.81481,     0.81582,\n",
              "           0.81682,     0.81782,     0.81882,     0.81982,     0.82082,     0.82182,     0.82282,     0.82382,     0.82482,     0.82583,     0.82683,     0.82783,     0.82883,     0.82983,     0.83083,     0.83183,     0.83283,     0.83383,     0.83483,     0.83584,     0.83684,     0.83784,     0.83884,     0.83984,\n",
              "           0.84084,     0.84184,     0.84284,     0.84384,     0.84484,     0.84585,     0.84685,     0.84785,     0.84885,     0.84985,     0.85085,     0.85185,     0.85285,     0.85385,     0.85485,     0.85586,     0.85686,     0.85786,     0.85886,     0.85986,     0.86086,     0.86186,     0.86286,     0.86386,\n",
              "           0.86486,     0.86587,     0.86687,     0.86787,     0.86887,     0.86987,     0.87087,     0.87187,     0.87287,     0.87387,     0.87487,     0.87588,     0.87688,     0.87788,     0.87888,     0.87988,     0.88088,     0.88188,     0.88288,     0.88388,     0.88488,     0.88589,     0.88689,     0.88789,\n",
              "           0.88889,     0.88989,     0.89089,     0.89189,     0.89289,     0.89389,     0.89489,      0.8959,      0.8969,      0.8979,      0.8989,      0.8999,      0.9009,      0.9019,      0.9029,      0.9039,      0.9049,     0.90591,     0.90691,     0.90791,     0.90891,     0.90991,     0.91091,     0.91191,\n",
              "           0.91291,     0.91391,     0.91491,     0.91592,     0.91692,     0.91792,     0.91892,     0.91992,     0.92092,     0.92192,     0.92292,     0.92392,     0.92492,     0.92593,     0.92693,     0.92793,     0.92893,     0.92993,     0.93093,     0.93193,     0.93293,     0.93393,     0.93493,     0.93594,\n",
              "           0.93694,     0.93794,     0.93894,     0.93994,     0.94094,     0.94194,     0.94294,     0.94394,     0.94494,     0.94595,     0.94695,     0.94795,     0.94895,     0.94995,     0.95095,     0.95195,     0.95295,     0.95395,     0.95495,     0.95596,     0.95696,     0.95796,     0.95896,     0.95996,\n",
              "           0.96096,     0.96196,     0.96296,     0.96396,     0.96496,     0.96597,     0.96697,     0.96797,     0.96897,     0.96997,     0.97097,     0.97197,     0.97297,     0.97397,     0.97497,     0.97598,     0.97698,     0.97798,     0.97898,     0.97998,     0.98098,     0.98198,     0.98298,     0.98398,\n",
              "           0.98498,     0.98599,     0.98699,     0.98799,     0.98899,     0.98999,     0.99099,     0.99199,     0.99299,     0.99399,     0.99499,       0.996,       0.997,       0.998,       0.999,           1]), array([[   0.072351,    0.072351,     0.11178, ...,           1,           1,           1],\n",
              "       [   0.081553,    0.081553,     0.13111, ...,           1,           1,           1]]), 'Confidence', 'Precision'], [array([          0,    0.001001,    0.002002,    0.003003,    0.004004,    0.005005,    0.006006,    0.007007,    0.008008,    0.009009,     0.01001,    0.011011,    0.012012,    0.013013,    0.014014,    0.015015,    0.016016,    0.017017,    0.018018,    0.019019,     0.02002,    0.021021,    0.022022,    0.023023,\n",
              "          0.024024,    0.025025,    0.026026,    0.027027,    0.028028,    0.029029,     0.03003,    0.031031,    0.032032,    0.033033,    0.034034,    0.035035,    0.036036,    0.037037,    0.038038,    0.039039,     0.04004,    0.041041,    0.042042,    0.043043,    0.044044,    0.045045,    0.046046,    0.047047,\n",
              "          0.048048,    0.049049,     0.05005,    0.051051,    0.052052,    0.053053,    0.054054,    0.055055,    0.056056,    0.057057,    0.058058,    0.059059,     0.06006,    0.061061,    0.062062,    0.063063,    0.064064,    0.065065,    0.066066,    0.067067,    0.068068,    0.069069,     0.07007,    0.071071,\n",
              "          0.072072,    0.073073,    0.074074,    0.075075,    0.076076,    0.077077,    0.078078,    0.079079,     0.08008,    0.081081,    0.082082,    0.083083,    0.084084,    0.085085,    0.086086,    0.087087,    0.088088,    0.089089,     0.09009,    0.091091,    0.092092,    0.093093,    0.094094,    0.095095,\n",
              "          0.096096,    0.097097,    0.098098,    0.099099,      0.1001,      0.1011,      0.1021,      0.1031,      0.1041,     0.10511,     0.10611,     0.10711,     0.10811,     0.10911,     0.11011,     0.11111,     0.11211,     0.11311,     0.11411,     0.11512,     0.11612,     0.11712,     0.11812,     0.11912,\n",
              "           0.12012,     0.12112,     0.12212,     0.12312,     0.12412,     0.12513,     0.12613,     0.12713,     0.12813,     0.12913,     0.13013,     0.13113,     0.13213,     0.13313,     0.13413,     0.13514,     0.13614,     0.13714,     0.13814,     0.13914,     0.14014,     0.14114,     0.14214,     0.14314,\n",
              "           0.14414,     0.14515,     0.14615,     0.14715,     0.14815,     0.14915,     0.15015,     0.15115,     0.15215,     0.15315,     0.15415,     0.15516,     0.15616,     0.15716,     0.15816,     0.15916,     0.16016,     0.16116,     0.16216,     0.16316,     0.16416,     0.16517,     0.16617,     0.16717,\n",
              "           0.16817,     0.16917,     0.17017,     0.17117,     0.17217,     0.17317,     0.17417,     0.17518,     0.17618,     0.17718,     0.17818,     0.17918,     0.18018,     0.18118,     0.18218,     0.18318,     0.18418,     0.18519,     0.18619,     0.18719,     0.18819,     0.18919,     0.19019,     0.19119,\n",
              "           0.19219,     0.19319,     0.19419,      0.1952,      0.1962,      0.1972,      0.1982,      0.1992,      0.2002,      0.2012,      0.2022,      0.2032,      0.2042,     0.20521,     0.20621,     0.20721,     0.20821,     0.20921,     0.21021,     0.21121,     0.21221,     0.21321,     0.21421,     0.21522,\n",
              "           0.21622,     0.21722,     0.21822,     0.21922,     0.22022,     0.22122,     0.22222,     0.22322,     0.22422,     0.22523,     0.22623,     0.22723,     0.22823,     0.22923,     0.23023,     0.23123,     0.23223,     0.23323,     0.23423,     0.23524,     0.23624,     0.23724,     0.23824,     0.23924,\n",
              "           0.24024,     0.24124,     0.24224,     0.24324,     0.24424,     0.24525,     0.24625,     0.24725,     0.24825,     0.24925,     0.25025,     0.25125,     0.25225,     0.25325,     0.25425,     0.25526,     0.25626,     0.25726,     0.25826,     0.25926,     0.26026,     0.26126,     0.26226,     0.26326,\n",
              "           0.26426,     0.26527,     0.26627,     0.26727,     0.26827,     0.26927,     0.27027,     0.27127,     0.27227,     0.27327,     0.27427,     0.27528,     0.27628,     0.27728,     0.27828,     0.27928,     0.28028,     0.28128,     0.28228,     0.28328,     0.28428,     0.28529,     0.28629,     0.28729,\n",
              "           0.28829,     0.28929,     0.29029,     0.29129,     0.29229,     0.29329,     0.29429,      0.2953,      0.2963,      0.2973,      0.2983,      0.2993,      0.3003,      0.3013,      0.3023,      0.3033,      0.3043,     0.30531,     0.30631,     0.30731,     0.30831,     0.30931,     0.31031,     0.31131,\n",
              "           0.31231,     0.31331,     0.31431,     0.31532,     0.31632,     0.31732,     0.31832,     0.31932,     0.32032,     0.32132,     0.32232,     0.32332,     0.32432,     0.32533,     0.32633,     0.32733,     0.32833,     0.32933,     0.33033,     0.33133,     0.33233,     0.33333,     0.33433,     0.33534,\n",
              "           0.33634,     0.33734,     0.33834,     0.33934,     0.34034,     0.34134,     0.34234,     0.34334,     0.34434,     0.34535,     0.34635,     0.34735,     0.34835,     0.34935,     0.35035,     0.35135,     0.35235,     0.35335,     0.35435,     0.35536,     0.35636,     0.35736,     0.35836,     0.35936,\n",
              "           0.36036,     0.36136,     0.36236,     0.36336,     0.36436,     0.36537,     0.36637,     0.36737,     0.36837,     0.36937,     0.37037,     0.37137,     0.37237,     0.37337,     0.37437,     0.37538,     0.37638,     0.37738,     0.37838,     0.37938,     0.38038,     0.38138,     0.38238,     0.38338,\n",
              "           0.38438,     0.38539,     0.38639,     0.38739,     0.38839,     0.38939,     0.39039,     0.39139,     0.39239,     0.39339,     0.39439,      0.3954,      0.3964,      0.3974,      0.3984,      0.3994,      0.4004,      0.4014,      0.4024,      0.4034,      0.4044,     0.40541,     0.40641,     0.40741,\n",
              "           0.40841,     0.40941,     0.41041,     0.41141,     0.41241,     0.41341,     0.41441,     0.41542,     0.41642,     0.41742,     0.41842,     0.41942,     0.42042,     0.42142,     0.42242,     0.42342,     0.42442,     0.42543,     0.42643,     0.42743,     0.42843,     0.42943,     0.43043,     0.43143,\n",
              "           0.43243,     0.43343,     0.43443,     0.43544,     0.43644,     0.43744,     0.43844,     0.43944,     0.44044,     0.44144,     0.44244,     0.44344,     0.44444,     0.44545,     0.44645,     0.44745,     0.44845,     0.44945,     0.45045,     0.45145,     0.45245,     0.45345,     0.45445,     0.45546,\n",
              "           0.45646,     0.45746,     0.45846,     0.45946,     0.46046,     0.46146,     0.46246,     0.46346,     0.46446,     0.46547,     0.46647,     0.46747,     0.46847,     0.46947,     0.47047,     0.47147,     0.47247,     0.47347,     0.47447,     0.47548,     0.47648,     0.47748,     0.47848,     0.47948,\n",
              "           0.48048,     0.48148,     0.48248,     0.48348,     0.48448,     0.48549,     0.48649,     0.48749,     0.48849,     0.48949,     0.49049,     0.49149,     0.49249,     0.49349,     0.49449,      0.4955,      0.4965,      0.4975,      0.4985,      0.4995,      0.5005,      0.5015,      0.5025,      0.5035,\n",
              "            0.5045,     0.50551,     0.50651,     0.50751,     0.50851,     0.50951,     0.51051,     0.51151,     0.51251,     0.51351,     0.51451,     0.51552,     0.51652,     0.51752,     0.51852,     0.51952,     0.52052,     0.52152,     0.52252,     0.52352,     0.52452,     0.52553,     0.52653,     0.52753,\n",
              "           0.52853,     0.52953,     0.53053,     0.53153,     0.53253,     0.53353,     0.53453,     0.53554,     0.53654,     0.53754,     0.53854,     0.53954,     0.54054,     0.54154,     0.54254,     0.54354,     0.54454,     0.54555,     0.54655,     0.54755,     0.54855,     0.54955,     0.55055,     0.55155,\n",
              "           0.55255,     0.55355,     0.55455,     0.55556,     0.55656,     0.55756,     0.55856,     0.55956,     0.56056,     0.56156,     0.56256,     0.56356,     0.56456,     0.56557,     0.56657,     0.56757,     0.56857,     0.56957,     0.57057,     0.57157,     0.57257,     0.57357,     0.57457,     0.57558,\n",
              "           0.57658,     0.57758,     0.57858,     0.57958,     0.58058,     0.58158,     0.58258,     0.58358,     0.58458,     0.58559,     0.58659,     0.58759,     0.58859,     0.58959,     0.59059,     0.59159,     0.59259,     0.59359,     0.59459,      0.5956,      0.5966,      0.5976,      0.5986,      0.5996,\n",
              "            0.6006,      0.6016,      0.6026,      0.6036,      0.6046,     0.60561,     0.60661,     0.60761,     0.60861,     0.60961,     0.61061,     0.61161,     0.61261,     0.61361,     0.61461,     0.61562,     0.61662,     0.61762,     0.61862,     0.61962,     0.62062,     0.62162,     0.62262,     0.62362,\n",
              "           0.62462,     0.62563,     0.62663,     0.62763,     0.62863,     0.62963,     0.63063,     0.63163,     0.63263,     0.63363,     0.63463,     0.63564,     0.63664,     0.63764,     0.63864,     0.63964,     0.64064,     0.64164,     0.64264,     0.64364,     0.64464,     0.64565,     0.64665,     0.64765,\n",
              "           0.64865,     0.64965,     0.65065,     0.65165,     0.65265,     0.65365,     0.65465,     0.65566,     0.65666,     0.65766,     0.65866,     0.65966,     0.66066,     0.66166,     0.66266,     0.66366,     0.66466,     0.66567,     0.66667,     0.66767,     0.66867,     0.66967,     0.67067,     0.67167,\n",
              "           0.67267,     0.67367,     0.67467,     0.67568,     0.67668,     0.67768,     0.67868,     0.67968,     0.68068,     0.68168,     0.68268,     0.68368,     0.68468,     0.68569,     0.68669,     0.68769,     0.68869,     0.68969,     0.69069,     0.69169,     0.69269,     0.69369,     0.69469,      0.6957,\n",
              "            0.6967,      0.6977,      0.6987,      0.6997,      0.7007,      0.7017,      0.7027,      0.7037,      0.7047,     0.70571,     0.70671,     0.70771,     0.70871,     0.70971,     0.71071,     0.71171,     0.71271,     0.71371,     0.71471,     0.71572,     0.71672,     0.71772,     0.71872,     0.71972,\n",
              "           0.72072,     0.72172,     0.72272,     0.72372,     0.72472,     0.72573,     0.72673,     0.72773,     0.72873,     0.72973,     0.73073,     0.73173,     0.73273,     0.73373,     0.73473,     0.73574,     0.73674,     0.73774,     0.73874,     0.73974,     0.74074,     0.74174,     0.74274,     0.74374,\n",
              "           0.74474,     0.74575,     0.74675,     0.74775,     0.74875,     0.74975,     0.75075,     0.75175,     0.75275,     0.75375,     0.75475,     0.75576,     0.75676,     0.75776,     0.75876,     0.75976,     0.76076,     0.76176,     0.76276,     0.76376,     0.76476,     0.76577,     0.76677,     0.76777,\n",
              "           0.76877,     0.76977,     0.77077,     0.77177,     0.77277,     0.77377,     0.77477,     0.77578,     0.77678,     0.77778,     0.77878,     0.77978,     0.78078,     0.78178,     0.78278,     0.78378,     0.78478,     0.78579,     0.78679,     0.78779,     0.78879,     0.78979,     0.79079,     0.79179,\n",
              "           0.79279,     0.79379,     0.79479,      0.7958,      0.7968,      0.7978,      0.7988,      0.7998,      0.8008,      0.8018,      0.8028,      0.8038,      0.8048,     0.80581,     0.80681,     0.80781,     0.80881,     0.80981,     0.81081,     0.81181,     0.81281,     0.81381,     0.81481,     0.81582,\n",
              "           0.81682,     0.81782,     0.81882,     0.81982,     0.82082,     0.82182,     0.82282,     0.82382,     0.82482,     0.82583,     0.82683,     0.82783,     0.82883,     0.82983,     0.83083,     0.83183,     0.83283,     0.83383,     0.83483,     0.83584,     0.83684,     0.83784,     0.83884,     0.83984,\n",
              "           0.84084,     0.84184,     0.84284,     0.84384,     0.84484,     0.84585,     0.84685,     0.84785,     0.84885,     0.84985,     0.85085,     0.85185,     0.85285,     0.85385,     0.85485,     0.85586,     0.85686,     0.85786,     0.85886,     0.85986,     0.86086,     0.86186,     0.86286,     0.86386,\n",
              "           0.86486,     0.86587,     0.86687,     0.86787,     0.86887,     0.86987,     0.87087,     0.87187,     0.87287,     0.87387,     0.87487,     0.87588,     0.87688,     0.87788,     0.87888,     0.87988,     0.88088,     0.88188,     0.88288,     0.88388,     0.88488,     0.88589,     0.88689,     0.88789,\n",
              "           0.88889,     0.88989,     0.89089,     0.89189,     0.89289,     0.89389,     0.89489,      0.8959,      0.8969,      0.8979,      0.8989,      0.8999,      0.9009,      0.9019,      0.9029,      0.9039,      0.9049,     0.90591,     0.90691,     0.90791,     0.90891,     0.90991,     0.91091,     0.91191,\n",
              "           0.91291,     0.91391,     0.91491,     0.91592,     0.91692,     0.91792,     0.91892,     0.91992,     0.92092,     0.92192,     0.92292,     0.92392,     0.92492,     0.92593,     0.92693,     0.92793,     0.92893,     0.92993,     0.93093,     0.93193,     0.93293,     0.93393,     0.93493,     0.93594,\n",
              "           0.93694,     0.93794,     0.93894,     0.93994,     0.94094,     0.94194,     0.94294,     0.94394,     0.94494,     0.94595,     0.94695,     0.94795,     0.94895,     0.94995,     0.95095,     0.95195,     0.95295,     0.95395,     0.95495,     0.95596,     0.95696,     0.95796,     0.95896,     0.95996,\n",
              "           0.96096,     0.96196,     0.96296,     0.96396,     0.96496,     0.96597,     0.96697,     0.96797,     0.96897,     0.96997,     0.97097,     0.97197,     0.97297,     0.97397,     0.97497,     0.97598,     0.97698,     0.97798,     0.97898,     0.97998,     0.98098,     0.98198,     0.98298,     0.98398,\n",
              "           0.98498,     0.98599,     0.98699,     0.98799,     0.98899,     0.98999,     0.99099,     0.99199,     0.99299,     0.99399,     0.99499,       0.996,       0.997,       0.998,       0.999,           1]), array([[    0.91803,     0.91803,     0.88525, ...,           0,           0,           0],\n",
              "       [    0.91304,     0.91304,      0.8913, ...,           0,           0,           0]]), 'Confidence', 'Recall']]\n",
              "fitness: 0.5967492124621191\n",
              "keys: ['metrics/precision(B)', 'metrics/recall(B)', 'metrics/mAP50(B)', 'metrics/mAP50-95(B)']\n",
              "maps: array([    0.62694,     0.52636])\n",
              "names: {0: 'chinche', 1: 'no_chinche'}\n",
              "plot: True\n",
              "results_dict: {'metrics/precision(B)': 0.7594423455003518, 'metrics/recall(B)': 0.7655024946543122, 'metrics/mAP50(B)': 0.7776177950877339, 'metrics/mAP50-95(B)': 0.5766527032814952, 'fitness': 0.5967492124621191}\n",
              "save_dir: PosixPath('runs/detect/train')\n",
              "speed: {'preprocess': 0.3044569462500838, 'inference': 12.672726430116777, 'loss': 0.07094979568508826, 'postprocess': 5.096479182787832}\n",
              "task: 'detect'"
            ]
          },
          "metadata": {},
          "execution_count": 8
        }
      ],
      "source": [
        "# prompt: como entreno un modelo yolo11m\n",
        "\n",
        "# Importar la biblioteca ultralytics\n",
        "from ultralytics import YOLO\n",
        "\n",
        "model = YOLO('yolo11m.pt')  # load a pretrained YOLO detection model\n",
        "model.train(data='/content/extracted_files/chinche_segmentado.v3i.yolov12 (1)/data.yaml', epochs=200,  imgsz=640,\n",
        "    batch=8,)  # train the model"
      ]
    },
    {
      "cell_type": "markdown",
      "source": [
        "next parametesrs for description"
      ],
      "metadata": {
        "id": "_t0o6RK9BR7B"
      }
    },
    {
      "cell_type": "code",
      "source": [
        "# prompt: como entreno un modelo yolo11m\n",
        "\n",
        "# Importar la biblioteca ultralytics\n",
        "from ultralytics import YOLO\n",
        "\n",
        "model = YOLO('yolo11m.pt')  # load a pretrained YOLO detection model\n",
        "\n",
        "# Entrenar el modelo con hiperparámetros optimizados\n",
        "model.train(\n",
        "    data='/content/extracted_files/data.yaml',  # Ruta al archivo YAML del dataset\n",
        "    epochs=150,             # Más épocas para mejorar generalización\n",
        "    imgsz=640,              # Tamaño de la imagen (ajustado a dataset)\n",
        "    batch=16,               # Tamaño del batch (ajustado a GPU)\n",
        "    lr0=0.002,              # Tasa de aprendizaje inicial (más baja para estabilidad)\n",
        "    lrf=0.1,                # Factor de reducción de LR\n",
        "    momentum=0.937,         # Momento para estabilidad en el entrenamiento\n",
        "    weight_decay=0.0005,    # Penalización L2 para evitar sobreajuste\n",
        "    optimizer='SGD',        # Optimizador más estable (prueba también AdamW)\n",
        "    dropout=0.2,            # Agregado para evitar sobreajuste\n",
        "    warmup_epochs=3,        # Warmup para mejorar convergencia\n",
        "    hsv_h=0.015,            # Aumentación de color (matiz)\n",
        "    hsv_s=0.7,              # Aumentación de saturación\n",
        "    hsv_v=0.4,              # Aumentación de brillo\n",
        "    degrees=0.5,            # Pequeña rotación\n",
        "    translate=0.2,          # Translación\n",
        "    scale=0.5,              # Escalado\n",
        "    shear=0.5,              # Distorsión\n",
        "    flipud=0.01,            # Volteo vertical\n",
        "    fliplr=0.5,             # Volteo horizontal\n",
        "    mosaic=1.0,             # Aumentación con mosaico\n",
        "    mixup=0.2,              # Mezcla de imágenes\n",
        "    patience=50,            # Early stopping si no mejora en 50 epochs\n",
        "    workers=8,              # Uso de múltiples hilos para carga rápida\n",
        "    save_period=20          # Guardar cada 20 epochs\n",
        ")"
      ],
      "metadata": {
        "id": "ZFv2IWyDBWGq"
      },
      "execution_count": null,
      "outputs": []
    }
  ],
  "metadata": {
    "colab": {
      "provenance": [],
      "gpuType": "T4"
    },
    "kernelspec": {
      "display_name": "Python 3",
      "name": "python3"
    },
    "language_info": {
      "name": "python"
    },
    "accelerator": "GPU"
  },
  "nbformat": 4,
  "nbformat_minor": 0
}